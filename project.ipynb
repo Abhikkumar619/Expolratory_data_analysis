{
 "cells": [
  {
   "cell_type": "markdown",
   "metadata": {},
   "source": [
    "## Section 1 : Exploratory Data Analysis"
   ]
  },
  {
   "cell_type": "code",
   "execution_count": 1,
   "metadata": {},
   "outputs": [],
   "source": [
    "import pandas as pd\n",
    "import numpy as np\n",
    "import matplotlib.pyplot as plt\n",
    "import seaborn as sns\n",
    "from warnings import filterwarnings\n",
    "filterwarnings('ignore')"
   ]
  },
  {
   "cell_type": "code",
   "execution_count": 52,
   "metadata": {},
   "outputs": [
    {
     "data": {
      "text/html": [
       "<div>\n",
       "<style scoped>\n",
       "    .dataframe tbody tr th:only-of-type {\n",
       "        vertical-align: middle;\n",
       "    }\n",
       "\n",
       "    .dataframe tbody tr th {\n",
       "        vertical-align: top;\n",
       "    }\n",
       "\n",
       "    .dataframe thead th {\n",
       "        text-align: right;\n",
       "    }\n",
       "</style>\n",
       "<table border=\"1\" class=\"dataframe\">\n",
       "  <thead>\n",
       "    <tr style=\"text-align: right;\">\n",
       "      <th></th>\n",
       "      <th>koala_id</th>\n",
       "      <th>region</th>\n",
       "      <th>habitat</th>\n",
       "      <th>gender</th>\n",
       "      <th>age_in_years</th>\n",
       "      <th>Paw Size</th>\n",
       "      <th>total_length</th>\n",
       "      <th>head_length</th>\n",
       "      <th>ear_size</th>\n",
       "      <th>foot_length</th>\n",
       "      <th>skull_width</th>\n",
       "      <th>eye_diameter</th>\n",
       "      <th>chest_circumference</th>\n",
       "      <th>belly_circumference</th>\n",
       "    </tr>\n",
       "  </thead>\n",
       "  <tbody>\n",
       "    <tr>\n",
       "      <th>0</th>\n",
       "      <td>1</td>\n",
       "      <td>1</td>\n",
       "      <td>VIC</td>\n",
       "      <td>m</td>\n",
       "      <td>8.0</td>\n",
       "      <td>16.0</td>\n",
       "      <td>77.0</td>\n",
       "      <td>19.1</td>\n",
       "      <td>19.5</td>\n",
       "      <td>24.5</td>\n",
       "      <td>15.4</td>\n",
       "      <td>2.2</td>\n",
       "      <td>63.0</td>\n",
       "      <td>61.0</td>\n",
       "    </tr>\n",
       "    <tr>\n",
       "      <th>1</th>\n",
       "      <td>2</td>\n",
       "      <td>1</td>\n",
       "      <td>VIC</td>\n",
       "      <td>f</td>\n",
       "      <td>6.0</td>\n",
       "      <td>16.5</td>\n",
       "      <td>79.5</td>\n",
       "      <td>17.5</td>\n",
       "      <td>16.2</td>\n",
       "      <td>22.5</td>\n",
       "      <td>12.6</td>\n",
       "      <td>3.0</td>\n",
       "      <td>63.5</td>\n",
       "      <td>58.0</td>\n",
       "    </tr>\n",
       "    <tr>\n",
       "      <th>2</th>\n",
       "      <td>3</td>\n",
       "      <td>1</td>\n",
       "      <td>VIC</td>\n",
       "      <td>f</td>\n",
       "      <td>6.0</td>\n",
       "      <td>19.0</td>\n",
       "      <td>83.5</td>\n",
       "      <td>19.0</td>\n",
       "      <td>16.9</td>\n",
       "      <td>25.4</td>\n",
       "      <td>15.0</td>\n",
       "      <td>2.5</td>\n",
       "      <td>65.0</td>\n",
       "      <td>59.0</td>\n",
       "    </tr>\n",
       "    <tr>\n",
       "      <th>3</th>\n",
       "      <td>4</td>\n",
       "      <td>1</td>\n",
       "      <td>VIC</td>\n",
       "      <td>f</td>\n",
       "      <td>6.0</td>\n",
       "      <td>18.0</td>\n",
       "      <td>80.0</td>\n",
       "      <td>18.2</td>\n",
       "      <td>17.2</td>\n",
       "      <td>26.1</td>\n",
       "      <td>12.1</td>\n",
       "      <td>2.2</td>\n",
       "      <td>63.0</td>\n",
       "      <td>59.0</td>\n",
       "    </tr>\n",
       "    <tr>\n",
       "      <th>4</th>\n",
       "      <td>5</td>\n",
       "      <td>1</td>\n",
       "      <td>VIC</td>\n",
       "      <td>f</td>\n",
       "      <td>2.0</td>\n",
       "      <td>16.0</td>\n",
       "      <td>73.5</td>\n",
       "      <td>16.5</td>\n",
       "      <td>18.2</td>\n",
       "      <td>21.0</td>\n",
       "      <td>11.3</td>\n",
       "      <td>2.1</td>\n",
       "      <td>63.5</td>\n",
       "      <td>58.0</td>\n",
       "    </tr>\n",
       "    <tr>\n",
       "      <th>...</th>\n",
       "      <td>...</td>\n",
       "      <td>...</td>\n",
       "      <td>...</td>\n",
       "      <td>...</td>\n",
       "      <td>...</td>\n",
       "      <td>...</td>\n",
       "      <td>...</td>\n",
       "      <td>...</td>\n",
       "      <td>...</td>\n",
       "      <td>...</td>\n",
       "      <td>...</td>\n",
       "      <td>...</td>\n",
       "      <td>...</td>\n",
       "      <td>...</td>\n",
       "    </tr>\n",
       "    <tr>\n",
       "      <th>99</th>\n",
       "      <td>100</td>\n",
       "      <td>7</td>\n",
       "      <td>QLD</td>\n",
       "      <td>m</td>\n",
       "      <td>1.0</td>\n",
       "      <td>16.5</td>\n",
       "      <td>69.5</td>\n",
       "      <td>14.5</td>\n",
       "      <td>11.8</td>\n",
       "      <td>16.0</td>\n",
       "      <td>11.0</td>\n",
       "      <td>1.8</td>\n",
       "      <td>58.0</td>\n",
       "      <td>52.0</td>\n",
       "    </tr>\n",
       "    <tr>\n",
       "      <th>100</th>\n",
       "      <td>101</td>\n",
       "      <td>7</td>\n",
       "      <td>q</td>\n",
       "      <td>m</td>\n",
       "      <td>1.0</td>\n",
       "      <td>19.0</td>\n",
       "      <td>70.5</td>\n",
       "      <td>13.6</td>\n",
       "      <td>13.0</td>\n",
       "      <td>14.4</td>\n",
       "      <td>9.7</td>\n",
       "      <td>1.0</td>\n",
       "      <td>60.0</td>\n",
       "      <td>58.0</td>\n",
       "    </tr>\n",
       "    <tr>\n",
       "      <th>101</th>\n",
       "      <td>102</td>\n",
       "      <td>7</td>\n",
       "      <td>QLD</td>\n",
       "      <td>f</td>\n",
       "      <td>6.0</td>\n",
       "      <td>18.0</td>\n",
       "      <td>77.0</td>\n",
       "      <td>17.4</td>\n",
       "      <td>10.4</td>\n",
       "      <td>13.5</td>\n",
       "      <td>10.0</td>\n",
       "      <td>0.6</td>\n",
       "      <td>60.0</td>\n",
       "      <td>55.0</td>\n",
       "    </tr>\n",
       "    <tr>\n",
       "      <th>102</th>\n",
       "      <td>103</td>\n",
       "      <td>7</td>\n",
       "      <td>QLD</td>\n",
       "      <td>m</td>\n",
       "      <td>4.0</td>\n",
       "      <td>16.5</td>\n",
       "      <td>70.5</td>\n",
       "      <td>16.5</td>\n",
       "      <td>10.9</td>\n",
       "      <td>12.9</td>\n",
       "      <td>10.2</td>\n",
       "      <td>2.4</td>\n",
       "      <td>60.0</td>\n",
       "      <td>54.0</td>\n",
       "    </tr>\n",
       "    <tr>\n",
       "      <th>103</th>\n",
       "      <td>104</td>\n",
       "      <td>7</td>\n",
       "      <td>QLD</td>\n",
       "      <td>f</td>\n",
       "      <td>3.0</td>\n",
       "      <td>20.0</td>\n",
       "      <td>77.0</td>\n",
       "      <td>18.6</td>\n",
       "      <td>11.0</td>\n",
       "      <td>17.6</td>\n",
       "      <td>14.9</td>\n",
       "      <td>1.8</td>\n",
       "      <td>63.5</td>\n",
       "      <td>58.5</td>\n",
       "    </tr>\n",
       "  </tbody>\n",
       "</table>\n",
       "<p>104 rows × 14 columns</p>\n",
       "</div>"
      ],
      "text/plain": [
       "     koala_id  region habitat gender  age_in_years  Paw Size  total_length  \\\n",
       "0           1       1     VIC      m           8.0      16.0          77.0   \n",
       "1           2       1     VIC      f           6.0      16.5          79.5   \n",
       "2           3       1     VIC      f           6.0      19.0          83.5   \n",
       "3           4       1     VIC      f           6.0      18.0          80.0   \n",
       "4           5       1     VIC      f           2.0      16.0          73.5   \n",
       "..        ...     ...     ...    ...           ...       ...           ...   \n",
       "99        100       7     QLD      m           1.0      16.5          69.5   \n",
       "100       101       7       q      m           1.0      19.0          70.5   \n",
       "101       102       7     QLD      f           6.0      18.0          77.0   \n",
       "102       103       7     QLD      m           4.0      16.5          70.5   \n",
       "103       104       7     QLD      f           3.0      20.0          77.0   \n",
       "\n",
       "     head_length  ear_size  foot_length  skull_width  eye_diameter  \\\n",
       "0           19.1      19.5         24.5         15.4           2.2   \n",
       "1           17.5      16.2         22.5         12.6           3.0   \n",
       "2           19.0      16.9         25.4         15.0           2.5   \n",
       "3           18.2      17.2         26.1         12.1           2.2   \n",
       "4           16.5      18.2         21.0         11.3           2.1   \n",
       "..           ...       ...          ...          ...           ...   \n",
       "99          14.5      11.8         16.0         11.0           1.8   \n",
       "100         13.6      13.0         14.4          9.7           1.0   \n",
       "101         17.4      10.4         13.5         10.0           0.6   \n",
       "102         16.5      10.9         12.9         10.2           2.4   \n",
       "103         18.6      11.0         17.6         14.9           1.8   \n",
       "\n",
       "     chest_circumference  belly_circumference  \n",
       "0                   63.0                 61.0  \n",
       "1                   63.5                 58.0  \n",
       "2                   65.0                 59.0  \n",
       "3                   63.0                 59.0  \n",
       "4                   63.5                 58.0  \n",
       "..                   ...                  ...  \n",
       "99                  58.0                 52.0  \n",
       "100                 60.0                 58.0  \n",
       "101                 60.0                 55.0  \n",
       "102                 60.0                 54.0  \n",
       "103                 63.5                 58.5  \n",
       "\n",
       "[104 rows x 14 columns]"
      ]
     },
     "execution_count": 52,
     "metadata": {},
     "output_type": "execute_result"
    }
   ],
   "source": [
    "# Loading the dataset\n",
    "data=pd.read_excel('koalas_dataset.xlsx')\n",
    "data"
   ]
  },
  {
   "cell_type": "code",
   "execution_count": 53,
   "metadata": {},
   "outputs": [
    {
     "data": {
      "text/html": [
       "<div>\n",
       "<style scoped>\n",
       "    .dataframe tbody tr th:only-of-type {\n",
       "        vertical-align: middle;\n",
       "    }\n",
       "\n",
       "    .dataframe tbody tr th {\n",
       "        vertical-align: top;\n",
       "    }\n",
       "\n",
       "    .dataframe thead th {\n",
       "        text-align: right;\n",
       "    }\n",
       "</style>\n",
       "<table border=\"1\" class=\"dataframe\">\n",
       "  <thead>\n",
       "    <tr style=\"text-align: right;\">\n",
       "      <th></th>\n",
       "      <th>koala_id</th>\n",
       "      <th>region</th>\n",
       "      <th>habitat</th>\n",
       "      <th>gender</th>\n",
       "      <th>age_in_years</th>\n",
       "      <th>Paw Size</th>\n",
       "      <th>total_length</th>\n",
       "      <th>head_length</th>\n",
       "      <th>ear_size</th>\n",
       "      <th>foot_length</th>\n",
       "      <th>skull_width</th>\n",
       "      <th>eye_diameter</th>\n",
       "      <th>chest_circumference</th>\n",
       "      <th>belly_circumference</th>\n",
       "    </tr>\n",
       "  </thead>\n",
       "  <tbody>\n",
       "    <tr>\n",
       "      <th>0</th>\n",
       "      <td>1</td>\n",
       "      <td>1</td>\n",
       "      <td>VIC</td>\n",
       "      <td>m</td>\n",
       "      <td>8.0</td>\n",
       "      <td>16.0</td>\n",
       "      <td>77.0</td>\n",
       "      <td>19.1</td>\n",
       "      <td>19.5</td>\n",
       "      <td>24.5</td>\n",
       "      <td>15.4</td>\n",
       "      <td>2.2</td>\n",
       "      <td>63.0</td>\n",
       "      <td>61.0</td>\n",
       "    </tr>\n",
       "    <tr>\n",
       "      <th>1</th>\n",
       "      <td>2</td>\n",
       "      <td>1</td>\n",
       "      <td>VIC</td>\n",
       "      <td>f</td>\n",
       "      <td>6.0</td>\n",
       "      <td>16.5</td>\n",
       "      <td>79.5</td>\n",
       "      <td>17.5</td>\n",
       "      <td>16.2</td>\n",
       "      <td>22.5</td>\n",
       "      <td>12.6</td>\n",
       "      <td>3.0</td>\n",
       "      <td>63.5</td>\n",
       "      <td>58.0</td>\n",
       "    </tr>\n",
       "    <tr>\n",
       "      <th>2</th>\n",
       "      <td>3</td>\n",
       "      <td>1</td>\n",
       "      <td>VIC</td>\n",
       "      <td>f</td>\n",
       "      <td>6.0</td>\n",
       "      <td>19.0</td>\n",
       "      <td>83.5</td>\n",
       "      <td>19.0</td>\n",
       "      <td>16.9</td>\n",
       "      <td>25.4</td>\n",
       "      <td>15.0</td>\n",
       "      <td>2.5</td>\n",
       "      <td>65.0</td>\n",
       "      <td>59.0</td>\n",
       "    </tr>\n",
       "    <tr>\n",
       "      <th>3</th>\n",
       "      <td>4</td>\n",
       "      <td>1</td>\n",
       "      <td>VIC</td>\n",
       "      <td>f</td>\n",
       "      <td>6.0</td>\n",
       "      <td>18.0</td>\n",
       "      <td>80.0</td>\n",
       "      <td>18.2</td>\n",
       "      <td>17.2</td>\n",
       "      <td>26.1</td>\n",
       "      <td>12.1</td>\n",
       "      <td>2.2</td>\n",
       "      <td>63.0</td>\n",
       "      <td>59.0</td>\n",
       "    </tr>\n",
       "    <tr>\n",
       "      <th>4</th>\n",
       "      <td>5</td>\n",
       "      <td>1</td>\n",
       "      <td>VIC</td>\n",
       "      <td>f</td>\n",
       "      <td>2.0</td>\n",
       "      <td>16.0</td>\n",
       "      <td>73.5</td>\n",
       "      <td>16.5</td>\n",
       "      <td>18.2</td>\n",
       "      <td>21.0</td>\n",
       "      <td>11.3</td>\n",
       "      <td>2.1</td>\n",
       "      <td>63.5</td>\n",
       "      <td>58.0</td>\n",
       "    </tr>\n",
       "  </tbody>\n",
       "</table>\n",
       "</div>"
      ],
      "text/plain": [
       "   koala_id  region habitat gender  age_in_years  Paw Size  total_length  \\\n",
       "0         1       1     VIC      m           8.0      16.0          77.0   \n",
       "1         2       1     VIC      f           6.0      16.5          79.5   \n",
       "2         3       1     VIC      f           6.0      19.0          83.5   \n",
       "3         4       1     VIC      f           6.0      18.0          80.0   \n",
       "4         5       1     VIC      f           2.0      16.0          73.5   \n",
       "\n",
       "   head_length  ear_size  foot_length  skull_width  eye_diameter  \\\n",
       "0         19.1      19.5         24.5         15.4           2.2   \n",
       "1         17.5      16.2         22.5         12.6           3.0   \n",
       "2         19.0      16.9         25.4         15.0           2.5   \n",
       "3         18.2      17.2         26.1         12.1           2.2   \n",
       "4         16.5      18.2         21.0         11.3           2.1   \n",
       "\n",
       "   chest_circumference  belly_circumference  \n",
       "0                 63.0                 61.0  \n",
       "1                 63.5                 58.0  \n",
       "2                 65.0                 59.0  \n",
       "3                 63.0                 59.0  \n",
       "4                 63.5                 58.0  "
      ]
     },
     "execution_count": 53,
     "metadata": {},
     "output_type": "execute_result"
    }
   ],
   "source": [
    "# Load top 5 dataset\n",
    "data.head()"
   ]
  },
  {
   "cell_type": "markdown",
   "metadata": {},
   "source": [
    "### Basic information about dataset."
   ]
  },
  {
   "cell_type": "code",
   "execution_count": 54,
   "metadata": {},
   "outputs": [
    {
     "name": "stdout",
     "output_type": "stream",
     "text": [
      "<class 'pandas.core.frame.DataFrame'>\n",
      "RangeIndex: 104 entries, 0 to 103\n",
      "Data columns (total 14 columns):\n",
      " #   Column               Non-Null Count  Dtype  \n",
      "---  ------               --------------  -----  \n",
      " 0   koala_id             104 non-null    int64  \n",
      " 1   region               104 non-null    int64  \n",
      " 2   habitat              104 non-null    object \n",
      " 3   gender               104 non-null    object \n",
      " 4   age_in_years         102 non-null    float64\n",
      " 5   Paw Size             104 non-null    float64\n",
      " 6   total_length         104 non-null    float64\n",
      " 7   head_length          104 non-null    float64\n",
      " 8   ear_size             104 non-null    float64\n",
      " 9   foot_length          102 non-null    float64\n",
      " 10  skull_width          103 non-null    float64\n",
      " 11  eye_diameter         104 non-null    float64\n",
      " 12  chest_circumference  104 non-null    float64\n",
      " 13  belly_circumference  103 non-null    float64\n",
      "dtypes: float64(10), int64(2), object(2)\n",
      "memory usage: 11.5+ KB\n"
     ]
    }
   ],
   "source": [
    "# Basic information related to dataset like datatype, number of columns, memory_size of dataset.\n",
    "data.info()"
   ]
  },
  {
   "cell_type": "markdown",
   "metadata": {},
   "source": [
    "- All features have correct datatype."
   ]
  },
  {
   "cell_type": "markdown",
   "metadata": {},
   "source": [
    "## Dimension of dataset."
   ]
  },
  {
   "cell_type": "code",
   "execution_count": 55,
   "metadata": {},
   "outputs": [
    {
     "data": {
      "text/plain": [
       "(104, 14)"
      ]
     },
     "execution_count": 55,
     "metadata": {},
     "output_type": "execute_result"
    }
   ],
   "source": [
    "## Shape of dataset\n",
    "data.shape"
   ]
  },
  {
   "cell_type": "markdown",
   "metadata": {},
   "source": [
    "- Dataset contain 14 features and 104 datapoint."
   ]
  },
  {
   "cell_type": "markdown",
   "metadata": {},
   "source": [
    "###  Checking the Null value."
   ]
  },
  {
   "cell_type": "code",
   "execution_count": 56,
   "metadata": {},
   "outputs": [
    {
     "data": {
      "text/plain": [
       "koala_id               0\n",
       "region                 0\n",
       "habitat                0\n",
       "gender                 0\n",
       "age_in_years           2\n",
       "Paw Size               0\n",
       "total_length           0\n",
       "head_length            0\n",
       "ear_size               0\n",
       "foot_length            2\n",
       "skull_width            1\n",
       "eye_diameter           0\n",
       "chest_circumference    0\n",
       "belly_circumference    1\n",
       "dtype: int64"
      ]
     },
     "execution_count": 56,
     "metadata": {},
     "output_type": "execute_result"
    }
   ],
   "source": [
    "data.isnull().sum()"
   ]
  },
  {
   "cell_type": "code",
   "execution_count": 57,
   "metadata": {},
   "outputs": [
    {
     "data": {
      "text/html": [
       "<div>\n",
       "<style scoped>\n",
       "    .dataframe tbody tr th:only-of-type {\n",
       "        vertical-align: middle;\n",
       "    }\n",
       "\n",
       "    .dataframe tbody tr th {\n",
       "        vertical-align: top;\n",
       "    }\n",
       "\n",
       "    .dataframe thead th {\n",
       "        text-align: right;\n",
       "    }\n",
       "</style>\n",
       "<table border=\"1\" class=\"dataframe\">\n",
       "  <thead>\n",
       "    <tr style=\"text-align: right;\">\n",
       "      <th></th>\n",
       "      <th>koala_id</th>\n",
       "      <th>region</th>\n",
       "      <th>habitat</th>\n",
       "      <th>gender</th>\n",
       "      <th>age_in_years</th>\n",
       "      <th>Paw Size</th>\n",
       "      <th>total_length</th>\n",
       "      <th>head_length</th>\n",
       "      <th>ear_size</th>\n",
       "      <th>foot_length</th>\n",
       "      <th>skull_width</th>\n",
       "      <th>eye_diameter</th>\n",
       "      <th>chest_circumference</th>\n",
       "      <th>belly_circumference</th>\n",
       "    </tr>\n",
       "  </thead>\n",
       "  <tbody>\n",
       "    <tr>\n",
       "      <th>40</th>\n",
       "      <td>41</td>\n",
       "      <td>2</td>\n",
       "      <td>VIC</td>\n",
       "      <td>f</td>\n",
       "      <td>5.0</td>\n",
       "      <td>16.5</td>\n",
       "      <td>71.0</td>\n",
       "      <td>13.4</td>\n",
       "      <td>5.3</td>\n",
       "      <td>NaN</td>\n",
       "      <td>12.0</td>\n",
       "      <td>2.9</td>\n",
       "      <td>62.0</td>\n",
       "      <td>55.5</td>\n",
       "    </tr>\n",
       "    <tr>\n",
       "      <th>43</th>\n",
       "      <td>44</td>\n",
       "      <td>2</td>\n",
       "      <td>VIC</td>\n",
       "      <td>m</td>\n",
       "      <td>NaN</td>\n",
       "      <td>15.5</td>\n",
       "      <td>64.0</td>\n",
       "      <td>10.1</td>\n",
       "      <td>17.6</td>\n",
       "      <td>20.3</td>\n",
       "      <td>6.5</td>\n",
       "      <td>1.4</td>\n",
       "      <td>58.0</td>\n",
       "      <td>52.0</td>\n",
       "    </tr>\n",
       "    <tr>\n",
       "      <th>45</th>\n",
       "      <td>46</td>\n",
       "      <td>2</td>\n",
       "      <td>VIC</td>\n",
       "      <td>m</td>\n",
       "      <td>NaN</td>\n",
       "      <td>15.0</td>\n",
       "      <td>72.0</td>\n",
       "      <td>16.4</td>\n",
       "      <td>16.2</td>\n",
       "      <td>22.8</td>\n",
       "      <td>9.4</td>\n",
       "      <td>1.4</td>\n",
       "      <td>59.5</td>\n",
       "      <td>60.0</td>\n",
       "    </tr>\n",
       "    <tr>\n",
       "      <th>64</th>\n",
       "      <td>65</td>\n",
       "      <td>5</td>\n",
       "      <td>QLD</td>\n",
       "      <td>f</td>\n",
       "      <td>5.0</td>\n",
       "      <td>18.0</td>\n",
       "      <td>76.5</td>\n",
       "      <td>18.5</td>\n",
       "      <td>6.7</td>\n",
       "      <td>NaN</td>\n",
       "      <td>12.4</td>\n",
       "      <td>1.0</td>\n",
       "      <td>64.0</td>\n",
       "      <td>63.5</td>\n",
       "    </tr>\n",
       "    <tr>\n",
       "      <th>75</th>\n",
       "      <td>76</td>\n",
       "      <td>6</td>\n",
       "      <td>QLD</td>\n",
       "      <td>m</td>\n",
       "      <td>5.0</td>\n",
       "      <td>21.0</td>\n",
       "      <td>77.0</td>\n",
       "      <td>17.4</td>\n",
       "      <td>11.4</td>\n",
       "      <td>14.5</td>\n",
       "      <td>11.8</td>\n",
       "      <td>4.8</td>\n",
       "      <td>61.0</td>\n",
       "      <td>NaN</td>\n",
       "    </tr>\n",
       "    <tr>\n",
       "      <th>88</th>\n",
       "      <td>89</td>\n",
       "      <td>7</td>\n",
       "      <td>QLD</td>\n",
       "      <td>m</td>\n",
       "      <td>6.0</td>\n",
       "      <td>15.0</td>\n",
       "      <td>72.5</td>\n",
       "      <td>22.7</td>\n",
       "      <td>11.2</td>\n",
       "      <td>14.4</td>\n",
       "      <td>NaN</td>\n",
       "      <td>1.4</td>\n",
       "      <td>64.0</td>\n",
       "      <td>55.5</td>\n",
       "    </tr>\n",
       "  </tbody>\n",
       "</table>\n",
       "</div>"
      ],
      "text/plain": [
       "    koala_id  region habitat gender  age_in_years  Paw Size  total_length  \\\n",
       "40        41       2     VIC      f           5.0      16.5          71.0   \n",
       "43        44       2     VIC      m           NaN      15.5          64.0   \n",
       "45        46       2     VIC      m           NaN      15.0          72.0   \n",
       "64        65       5     QLD      f           5.0      18.0          76.5   \n",
       "75        76       6     QLD      m           5.0      21.0          77.0   \n",
       "88        89       7     QLD      m           6.0      15.0          72.5   \n",
       "\n",
       "    head_length  ear_size  foot_length  skull_width  eye_diameter  \\\n",
       "40         13.4       5.3          NaN         12.0           2.9   \n",
       "43         10.1      17.6         20.3          6.5           1.4   \n",
       "45         16.4      16.2         22.8          9.4           1.4   \n",
       "64         18.5       6.7          NaN         12.4           1.0   \n",
       "75         17.4      11.4         14.5         11.8           4.8   \n",
       "88         22.7      11.2         14.4          NaN           1.4   \n",
       "\n",
       "    chest_circumference  belly_circumference  \n",
       "40                 62.0                 55.5  \n",
       "43                 58.0                 52.0  \n",
       "45                 59.5                 60.0  \n",
       "64                 64.0                 63.5  \n",
       "75                 61.0                  NaN  \n",
       "88                 64.0                 55.5  "
      ]
     },
     "execution_count": 57,
     "metadata": {},
     "output_type": "execute_result"
    }
   ],
   "source": [
    "## datapoint which contain null value.\n",
    "data[data.isnull().any(axis=1)]"
   ]
  },
  {
   "cell_type": "code",
   "execution_count": 58,
   "metadata": {},
   "outputs": [
    {
     "data": {
      "text/plain": [
       "(6, 14)"
      ]
     },
     "execution_count": 58,
     "metadata": {},
     "output_type": "execute_result"
    }
   ],
   "source": [
    "data[data.isnull().any(axis=1)].shape"
   ]
  },
  {
   "cell_type": "markdown",
   "metadata": {},
   "source": [
    "### Features contain null values.\n",
    "- age_in_years\n",
    "- foot_length\n",
    "- skull_width\n",
    "- belly_circumference"
   ]
  },
  {
   "cell_type": "markdown",
   "metadata": {},
   "source": [
    "- Only six datapoint contain null value, To handle the null datapoint we use mean,medium, mode imputation technique. "
   ]
  },
  {
   "cell_type": "code",
   "execution_count": 59,
   "metadata": {},
   "outputs": [
    {
     "data": {
      "text/plain": [
       "<seaborn.axisgrid.FacetGrid at 0x30896bd90>"
      ]
     },
     "execution_count": 59,
     "metadata": {},
     "output_type": "execute_result"
    },
    {
     "data": {
      "image/png": "[encoded data removed]",
      "text/plain": [
       "<Figure size 500x500 with 1 Axes>"
      ]
     },
     "metadata": {},
     "output_type": "display_data"
    }
   ],
   "source": [
    "sns.displot(data['age_in_years'], kde=True)"
   ]
  },
  {
   "cell_type": "markdown",
   "metadata": {},
   "source": [
    "- Distribution of age_in_years feature is close to normal distribution so to impute the null value mean impution is best option."
   ]
  },
  {
   "cell_type": "code",
   "execution_count": 60,
   "metadata": {},
   "outputs": [
    {
     "data": {
      "text/plain": [
       "3.8333333333333335"
      ]
     },
     "execution_count": 60,
     "metadata": {},
     "output_type": "execute_result"
    }
   ],
   "source": [
    "## Calculating the mean of feature.\n",
    "mean_value=data['age_in_years'].mean()\n",
    "mean_value"
   ]
  },
  {
   "cell_type": "code",
   "execution_count": 61,
   "metadata": {},
   "outputs": [],
   "source": [
    "# Handling null value by mean imputation.\n",
    "data['age_in_years']=data['age_in_years'].astype(str)\n",
    "data['age_in_years']=data['age_in_years'].replace({'NaN': mean_value})\n",
    "data['age_in_years']=data['age_in_years'].astype('Float64')"
   ]
  },
  {
   "cell_type": "code",
   "execution_count": 62,
   "metadata": {},
   "outputs": [
    {
     "data": {
      "text/plain": [
       "0"
      ]
     },
     "execution_count": 62,
     "metadata": {},
     "output_type": "execute_result"
    }
   ],
   "source": [
    "data['age_in_years'].isnull().sum()"
   ]
  },
  {
   "cell_type": "markdown",
   "metadata": {},
   "source": [
    "- now feature contain zero null value."
   ]
  },
  {
   "cell_type": "code",
   "execution_count": 63,
   "metadata": {},
   "outputs": [],
   "source": [
    "data['age_in_years']=data['age_in_years'].astype(str)"
   ]
  },
  {
   "cell_type": "markdown",
   "metadata": {},
   "source": [
    "### Apppling same technique to handle null value in features foot_length skull_width belly_circumference"
   ]
  },
  {
   "cell_type": "code",
   "execution_count": 64,
   "metadata": {},
   "outputs": [
    {
     "data": {
      "text/plain": [
       "<Axes: xlabel='belly_circumference', ylabel='Count'>"
      ]
     },
     "execution_count": 64,
     "metadata": {},
     "output_type": "execute_result"
    },
    {
     "data": {
      "image/png": "[encoded data removed]",
      "text/plain": [
       "<Figure size 1500x700 with 3 Axes>"
      ]
     },
     "metadata": {},
     "output_type": "display_data"
    }
   ],
   "source": [
    "fig,aixs=plt.subplots(1,3, figsize=(15,7))\n",
    "plt.subplot(131)\n",
    "sns.histplot(data=data, x='foot_length', kde=True, color='g')\n",
    "plt.subplot(132)\n",
    "sns.histplot(data=data, x='skull_width', kde=True, color='b' )\n",
    "plt.subplot(133)\n",
    "sns.histplot(data=data, x='belly_circumference', kde=True, color='g' )"
   ]
  },
  {
   "cell_type": "code",
   "execution_count": 65,
   "metadata": {},
   "outputs": [
    {
     "data": {
      "text/plain": [
       "18.461764705882352"
      ]
     },
     "execution_count": 65,
     "metadata": {},
     "output_type": "execute_result"
    }
   ],
   "source": [
    "## Mean of foor_length\n",
    "mean_foot=data['foot_length'].mean()\n",
    "mean_foot"
   ]
  },
  {
   "cell_type": "code",
   "execution_count": 66,
   "metadata": {},
   "outputs": [],
   "source": [
    "# Handling  foot_length null value by mean imputation.\n",
    "data['foot_length']=data['foot_length'].astype(str)\n",
    "data['foot_length']=data['foot_length'].replace({'NaN': mean_foot})\n",
    "data['foot_length']=data['foot_length'].astype('Float64')"
   ]
  },
  {
   "cell_type": "code",
   "execution_count": 67,
   "metadata": {},
   "outputs": [
    {
     "data": {
      "text/plain": [
       "0"
      ]
     },
     "execution_count": 67,
     "metadata": {},
     "output_type": "execute_result"
    }
   ],
   "source": [
    "data['foot_length'].isnull().sum()"
   ]
  },
  {
   "cell_type": "code",
   "execution_count": 68,
   "metadata": {},
   "outputs": [
    {
     "data": {
      "text/plain": [
       "12.91747572815534"
      ]
     },
     "execution_count": 68,
     "metadata": {},
     "output_type": "execute_result"
    }
   ],
   "source": [
    "## Mean of foor_length\n",
    "mean_skull=data['skull_width'].mean()\n",
    "mean_skull"
   ]
  },
  {
   "cell_type": "code",
   "execution_count": 69,
   "metadata": {},
   "outputs": [],
   "source": [
    "# Handling  skull_width null value by mean imputation.\n",
    "data['skull_width']=data['skull_width'].astype(str)\n",
    "data['skull_width']=data['skull_width'].replace({'NaN': mean_skull})\n",
    "data['skull_width']=data['skull_width'].astype('Float64')"
   ]
  },
  {
   "cell_type": "code",
   "execution_count": 70,
   "metadata": {},
   "outputs": [
    {
     "data": {
      "text/plain": [
       "0"
      ]
     },
     "execution_count": 70,
     "metadata": {},
     "output_type": "execute_result"
    }
   ],
   "source": [
    "data['skull_width'].isnull().sum()"
   ]
  },
  {
   "cell_type": "code",
   "execution_count": 71,
   "metadata": {},
   "outputs": [
    {
     "data": {
      "text/plain": [
       "57.58252427184466"
      ]
     },
     "execution_count": 71,
     "metadata": {},
     "output_type": "execute_result"
    }
   ],
   "source": [
    "# Handling belly_circumference null value by mean imputation.\n",
    "mean_belly=data['belly_circumference'].mean()\n",
    "mean_belly"
   ]
  },
  {
   "cell_type": "code",
   "execution_count": 72,
   "metadata": {},
   "outputs": [],
   "source": [
    "data['belly_circumference']=data['belly_circumference'].astype(str)\n",
    "data['belly_circumference']=data['belly_circumference'].replace({'NaN': mean_belly})\n",
    "data['belly_circumference']=data['belly_circumference'].astype('Float64')"
   ]
  },
  {
   "cell_type": "code",
   "execution_count": 73,
   "metadata": {},
   "outputs": [
    {
     "data": {
      "text/plain": [
       "0"
      ]
     },
     "execution_count": 73,
     "metadata": {},
     "output_type": "execute_result"
    }
   ],
   "source": [
    "data['belly_circumference'].isnull().sum()"
   ]
  },
  {
   "cell_type": "code",
   "execution_count": 74,
   "metadata": {},
   "outputs": [
    {
     "data": {
      "text/html": [
       "<div>\n",
       "<style scoped>\n",
       "    .dataframe tbody tr th:only-of-type {\n",
       "        vertical-align: middle;\n",
       "    }\n",
       "\n",
       "    .dataframe tbody tr th {\n",
       "        vertical-align: top;\n",
       "    }\n",
       "\n",
       "    .dataframe thead th {\n",
       "        text-align: right;\n",
       "    }\n",
       "</style>\n",
       "<table border=\"1\" class=\"dataframe\">\n",
       "  <thead>\n",
       "    <tr style=\"text-align: right;\">\n",
       "      <th></th>\n",
       "      <th>koala_id</th>\n",
       "      <th>region</th>\n",
       "      <th>habitat</th>\n",
       "      <th>gender</th>\n",
       "      <th>age_in_years</th>\n",
       "      <th>Paw Size</th>\n",
       "      <th>total_length</th>\n",
       "      <th>head_length</th>\n",
       "      <th>ear_size</th>\n",
       "      <th>foot_length</th>\n",
       "      <th>skull_width</th>\n",
       "      <th>eye_diameter</th>\n",
       "      <th>chest_circumference</th>\n",
       "      <th>belly_circumference</th>\n",
       "    </tr>\n",
       "  </thead>\n",
       "  <tbody>\n",
       "  </tbody>\n",
       "</table>\n",
       "</div>"
      ],
      "text/plain": [
       "Empty DataFrame\n",
       "Columns: [koala_id, region, habitat, gender, age_in_years, Paw Size, total_length, head_length, ear_size, foot_length, skull_width, eye_diameter, chest_circumference, belly_circumference]\n",
       "Index: []"
      ]
     },
     "execution_count": 74,
     "metadata": {},
     "output_type": "execute_result"
    }
   ],
   "source": [
    "data[data.isnull().any(axis=1)]"
   ]
  },
  {
   "cell_type": "markdown",
   "metadata": {},
   "source": [
    "- Insights:  Now dataset contain zero null value."
   ]
  },
  {
   "cell_type": "markdown",
   "metadata": {},
   "source": [
    "## Checking the duplicate value in dataset."
   ]
  },
  {
   "cell_type": "code",
   "execution_count": 75,
   "metadata": {},
   "outputs": [
    {
     "data": {
      "text/plain": [
       "0"
      ]
     },
     "execution_count": 75,
     "metadata": {},
     "output_type": "execute_result"
    }
   ],
   "source": [
    "# Check duplicate value\n",
    "data.duplicated().sum()"
   ]
  },
  {
   "cell_type": "markdown",
   "metadata": {},
   "source": [
    "- Insights: dataset contain zero duplicate value."
   ]
  },
  {
   "cell_type": "code",
   "execution_count": 76,
   "metadata": {},
   "outputs": [
    {
     "data": {
      "text/html": [
       "<div>\n",
       "<style scoped>\n",
       "    .dataframe tbody tr th:only-of-type {\n",
       "        vertical-align: middle;\n",
       "    }\n",
       "\n",
       "    .dataframe tbody tr th {\n",
       "        vertical-align: top;\n",
       "    }\n",
       "\n",
       "    .dataframe thead th {\n",
       "        text-align: right;\n",
       "    }\n",
       "</style>\n",
       "<table border=\"1\" class=\"dataframe\">\n",
       "  <thead>\n",
       "    <tr style=\"text-align: right;\">\n",
       "      <th></th>\n",
       "      <th>koala_id</th>\n",
       "      <th>region</th>\n",
       "      <th>habitat</th>\n",
       "      <th>gender</th>\n",
       "      <th>age_in_years</th>\n",
       "      <th>Paw Size</th>\n",
       "      <th>total_length</th>\n",
       "      <th>head_length</th>\n",
       "      <th>ear_size</th>\n",
       "      <th>foot_length</th>\n",
       "      <th>skull_width</th>\n",
       "      <th>eye_diameter</th>\n",
       "      <th>chest_circumference</th>\n",
       "      <th>belly_circumference</th>\n",
       "    </tr>\n",
       "  </thead>\n",
       "  <tbody>\n",
       "    <tr>\n",
       "      <th>0</th>\n",
       "      <td>1</td>\n",
       "      <td>1</td>\n",
       "      <td>VIC</td>\n",
       "      <td>m</td>\n",
       "      <td>8.0</td>\n",
       "      <td>16.0</td>\n",
       "      <td>77.0</td>\n",
       "      <td>19.1</td>\n",
       "      <td>19.5</td>\n",
       "      <td>24.5</td>\n",
       "      <td>15.4</td>\n",
       "      <td>2.2</td>\n",
       "      <td>63.0</td>\n",
       "      <td>61.0</td>\n",
       "    </tr>\n",
       "    <tr>\n",
       "      <th>1</th>\n",
       "      <td>2</td>\n",
       "      <td>1</td>\n",
       "      <td>VIC</td>\n",
       "      <td>f</td>\n",
       "      <td>6.0</td>\n",
       "      <td>16.5</td>\n",
       "      <td>79.5</td>\n",
       "      <td>17.5</td>\n",
       "      <td>16.2</td>\n",
       "      <td>22.5</td>\n",
       "      <td>12.6</td>\n",
       "      <td>3.0</td>\n",
       "      <td>63.5</td>\n",
       "      <td>58.0</td>\n",
       "    </tr>\n",
       "    <tr>\n",
       "      <th>2</th>\n",
       "      <td>3</td>\n",
       "      <td>1</td>\n",
       "      <td>VIC</td>\n",
       "      <td>f</td>\n",
       "      <td>6.0</td>\n",
       "      <td>19.0</td>\n",
       "      <td>83.5</td>\n",
       "      <td>19.0</td>\n",
       "      <td>16.9</td>\n",
       "      <td>25.4</td>\n",
       "      <td>15.0</td>\n",
       "      <td>2.5</td>\n",
       "      <td>65.0</td>\n",
       "      <td>59.0</td>\n",
       "    </tr>\n",
       "    <tr>\n",
       "      <th>3</th>\n",
       "      <td>4</td>\n",
       "      <td>1</td>\n",
       "      <td>VIC</td>\n",
       "      <td>f</td>\n",
       "      <td>6.0</td>\n",
       "      <td>18.0</td>\n",
       "      <td>80.0</td>\n",
       "      <td>18.2</td>\n",
       "      <td>17.2</td>\n",
       "      <td>26.1</td>\n",
       "      <td>12.1</td>\n",
       "      <td>2.2</td>\n",
       "      <td>63.0</td>\n",
       "      <td>59.0</td>\n",
       "    </tr>\n",
       "    <tr>\n",
       "      <th>4</th>\n",
       "      <td>5</td>\n",
       "      <td>1</td>\n",
       "      <td>VIC</td>\n",
       "      <td>f</td>\n",
       "      <td>2.0</td>\n",
       "      <td>16.0</td>\n",
       "      <td>73.5</td>\n",
       "      <td>16.5</td>\n",
       "      <td>18.2</td>\n",
       "      <td>21.0</td>\n",
       "      <td>11.3</td>\n",
       "      <td>2.1</td>\n",
       "      <td>63.5</td>\n",
       "      <td>58.0</td>\n",
       "    </tr>\n",
       "  </tbody>\n",
       "</table>\n",
       "</div>"
      ],
      "text/plain": [
       "   koala_id  region habitat gender age_in_years  Paw Size  total_length  \\\n",
       "0         1       1     VIC      m          8.0      16.0          77.0   \n",
       "1         2       1     VIC      f          6.0      16.5          79.5   \n",
       "2         3       1     VIC      f          6.0      19.0          83.5   \n",
       "3         4       1     VIC      f          6.0      18.0          80.0   \n",
       "4         5       1     VIC      f          2.0      16.0          73.5   \n",
       "\n",
       "   head_length  ear_size  foot_length  skull_width  eye_diameter  \\\n",
       "0         19.1      19.5         24.5         15.4           2.2   \n",
       "1         17.5      16.2         22.5         12.6           3.0   \n",
       "2         19.0      16.9         25.4         15.0           2.5   \n",
       "3         18.2      17.2         26.1         12.1           2.2   \n",
       "4         16.5      18.2         21.0         11.3           2.1   \n",
       "\n",
       "   chest_circumference  belly_circumference  \n",
       "0                 63.0                 61.0  \n",
       "1                 63.5                 58.0  \n",
       "2                 65.0                 59.0  \n",
       "3                 63.0                 59.0  \n",
       "4                 63.5                 58.0  "
      ]
     },
     "execution_count": 76,
     "metadata": {},
     "output_type": "execute_result"
    }
   ],
   "source": [
    "data.head()"
   ]
  },
  {
   "cell_type": "code",
   "execution_count": 77,
   "metadata": {},
   "outputs": [
    {
     "data": {
      "text/plain": [
       "array([1, 2, 3, 4, 5, 6, 7])"
      ]
     },
     "execution_count": 77,
     "metadata": {},
     "output_type": "execute_result"
    }
   ],
   "source": [
    "data['region'].unique()"
   ]
  },
  {
   "cell_type": "code",
   "execution_count": 78,
   "metadata": {},
   "outputs": [
    {
     "data": {
      "text/plain": [
       "array(['m', 'f', 'female', 'male'], dtype=object)"
      ]
     },
     "execution_count": 78,
     "metadata": {},
     "output_type": "execute_result"
    }
   ],
   "source": [
    "data['gender'].unique()"
   ]
  },
  {
   "cell_type": "code",
   "execution_count": 79,
   "metadata": {},
   "outputs": [],
   "source": [
    "data['gender']=data['gender'].map({'m':'male', 'f':'female'})"
   ]
  },
  {
   "cell_type": "code",
   "execution_count": 80,
   "metadata": {},
   "outputs": [
    {
     "data": {
      "text/plain": [
       "gender\n",
       "male      60\n",
       "female    42\n",
       "Name: count, dtype: int64"
      ]
     },
     "execution_count": 80,
     "metadata": {},
     "output_type": "execute_result"
    }
   ],
   "source": [
    "data['gender'].value_counts()"
   ]
  },
  {
   "cell_type": "code",
   "execution_count": 81,
   "metadata": {},
   "outputs": [
    {
     "data": {
      "text/plain": [
       "gender\n",
       "male      58.823529\n",
       "female    41.176471\n",
       "Name: proportion, dtype: float64"
      ]
     },
     "execution_count": 81,
     "metadata": {},
     "output_type": "execute_result"
    }
   ],
   "source": [
    "percentage=data.gender.value_counts(normalize=True)*100\n",
    "percentage"
   ]
  },
  {
   "cell_type": "code",
   "execution_count": 82,
   "metadata": {},
   "outputs": [
    {
     "data": {
      "image/png": "[encoded data removed]",
      "text/plain": [
       "<Figure size 1200x700 with 1 Axes>"
      ]
     },
     "metadata": {},
     "output_type": "display_data"
    }
   ],
   "source": [
    "# plotting piechart.\n",
    "Classeslabels=['MALE','FEMALE']\n",
    "plt.figure(figsize=(12,7))\n",
    "plt.pie(percentage, labels=Classeslabels, autopct='%1.1f%%')\n",
    "plt.title('Gender of Koala',fontsize=15)\n",
    "plt.show()"
   ]
  },
  {
   "cell_type": "code",
   "execution_count": 83,
   "metadata": {},
   "outputs": [
    {
     "data": {
      "text/plain": [
       "array(['VIC', 'VICtoria', 'Vic', 'QLD', 'Queensland', 'Queenstown', 'qld',\n",
       "       'q'], dtype=object)"
      ]
     },
     "execution_count": 83,
     "metadata": {},
     "output_type": "execute_result"
    }
   ],
   "source": [
    "data['habitat'].unique()"
   ]
  },
  {
   "cell_type": "markdown",
   "metadata": {},
   "source": [
    "### Habitat of koala is from Vicoria and Queensland but in habitat feature multiple category define, to handle this error replacing with acutal habitat area."
   ]
  },
  {
   "cell_type": "code",
   "execution_count": 84,
   "metadata": {},
   "outputs": [],
   "source": [
    "data['habitat']=data['habitat'].replace({'VIC':'Victoria','VICtoria':'Victoria', 'Vic': 'Victoria', 'QLD': 'Victoria',  'Queenstown':'Queensland', 'qld': 'Queensland' , 'qld':'Queensland', 'q':'Queensland'})"
   ]
  },
  {
   "cell_type": "markdown",
   "metadata": {},
   "source": [
    "- Insights: Majority of Koala is male 50.8% and 41.2% are female."
   ]
  },
  {
   "cell_type": "code",
   "execution_count": 85,
   "metadata": {},
   "outputs": [
    {
     "data": {
      "text/plain": [
       "habitat\n",
       "Victoria      100\n",
       "Queensland      4\n",
       "Name: count, dtype: int64"
      ]
     },
     "execution_count": 85,
     "metadata": {},
     "output_type": "execute_result"
    }
   ],
   "source": [
    "data['habitat'].value_counts()"
   ]
  },
  {
   "cell_type": "code",
   "execution_count": 86,
   "metadata": {},
   "outputs": [
    {
     "data": {
      "text/plain": [
       "<Axes: xlabel='habitat', ylabel='count'>"
      ]
     },
     "execution_count": 86,
     "metadata": {},
     "output_type": "execute_result"
    },
    {
     "data": {
      "image/png": "[encoded data removed]",
      "text/plain": [
       "<Figure size 1000x400 with 1 Axes>"
      ]
     },
     "metadata": {},
     "output_type": "display_data"
    }
   ],
   "source": [
    "plt.figure(figsize=(10,4))\n",
    "sns.countplot(data=data, x=data['habitat'], hue=data['gender'])"
   ]
  },
  {
   "cell_type": "markdown",
   "metadata": {},
   "source": [
    "- Insight: Must of koala habitat of Victoria."
   ]
  },
  {
   "cell_type": "code",
   "execution_count": 87,
   "metadata": {},
   "outputs": [
    {
     "data": {
      "text/html": [
       "<div>\n",
       "<style scoped>\n",
       "    .dataframe tbody tr th:only-of-type {\n",
       "        vertical-align: middle;\n",
       "    }\n",
       "\n",
       "    .dataframe tbody tr th {\n",
       "        vertical-align: top;\n",
       "    }\n",
       "\n",
       "    .dataframe thead th {\n",
       "        text-align: right;\n",
       "    }\n",
       "</style>\n",
       "<table border=\"1\" class=\"dataframe\">\n",
       "  <thead>\n",
       "    <tr style=\"text-align: right;\">\n",
       "      <th></th>\n",
       "      <th>koala_id</th>\n",
       "      <th>region</th>\n",
       "      <th>habitat</th>\n",
       "      <th>gender</th>\n",
       "      <th>age_in_years</th>\n",
       "      <th>Paw Size</th>\n",
       "      <th>total_length</th>\n",
       "      <th>head_length</th>\n",
       "      <th>ear_size</th>\n",
       "      <th>foot_length</th>\n",
       "      <th>skull_width</th>\n",
       "      <th>eye_diameter</th>\n",
       "      <th>chest_circumference</th>\n",
       "      <th>belly_circumference</th>\n",
       "    </tr>\n",
       "  </thead>\n",
       "  <tbody>\n",
       "    <tr>\n",
       "      <th>0</th>\n",
       "      <td>1</td>\n",
       "      <td>1</td>\n",
       "      <td>Victoria</td>\n",
       "      <td>male</td>\n",
       "      <td>8.0</td>\n",
       "      <td>16.0</td>\n",
       "      <td>77.0</td>\n",
       "      <td>19.1</td>\n",
       "      <td>19.5</td>\n",
       "      <td>24.5</td>\n",
       "      <td>15.4</td>\n",
       "      <td>2.2</td>\n",
       "      <td>63.0</td>\n",
       "      <td>61.0</td>\n",
       "    </tr>\n",
       "    <tr>\n",
       "      <th>1</th>\n",
       "      <td>2</td>\n",
       "      <td>1</td>\n",
       "      <td>Victoria</td>\n",
       "      <td>female</td>\n",
       "      <td>6.0</td>\n",
       "      <td>16.5</td>\n",
       "      <td>79.5</td>\n",
       "      <td>17.5</td>\n",
       "      <td>16.2</td>\n",
       "      <td>22.5</td>\n",
       "      <td>12.6</td>\n",
       "      <td>3.0</td>\n",
       "      <td>63.5</td>\n",
       "      <td>58.0</td>\n",
       "    </tr>\n",
       "    <tr>\n",
       "      <th>2</th>\n",
       "      <td>3</td>\n",
       "      <td>1</td>\n",
       "      <td>Victoria</td>\n",
       "      <td>female</td>\n",
       "      <td>6.0</td>\n",
       "      <td>19.0</td>\n",
       "      <td>83.5</td>\n",
       "      <td>19.0</td>\n",
       "      <td>16.9</td>\n",
       "      <td>25.4</td>\n",
       "      <td>15.0</td>\n",
       "      <td>2.5</td>\n",
       "      <td>65.0</td>\n",
       "      <td>59.0</td>\n",
       "    </tr>\n",
       "    <tr>\n",
       "      <th>3</th>\n",
       "      <td>4</td>\n",
       "      <td>1</td>\n",
       "      <td>Victoria</td>\n",
       "      <td>female</td>\n",
       "      <td>6.0</td>\n",
       "      <td>18.0</td>\n",
       "      <td>80.0</td>\n",
       "      <td>18.2</td>\n",
       "      <td>17.2</td>\n",
       "      <td>26.1</td>\n",
       "      <td>12.1</td>\n",
       "      <td>2.2</td>\n",
       "      <td>63.0</td>\n",
       "      <td>59.0</td>\n",
       "    </tr>\n",
       "    <tr>\n",
       "      <th>4</th>\n",
       "      <td>5</td>\n",
       "      <td>1</td>\n",
       "      <td>Victoria</td>\n",
       "      <td>female</td>\n",
       "      <td>2.0</td>\n",
       "      <td>16.0</td>\n",
       "      <td>73.5</td>\n",
       "      <td>16.5</td>\n",
       "      <td>18.2</td>\n",
       "      <td>21.0</td>\n",
       "      <td>11.3</td>\n",
       "      <td>2.1</td>\n",
       "      <td>63.5</td>\n",
       "      <td>58.0</td>\n",
       "    </tr>\n",
       "  </tbody>\n",
       "</table>\n",
       "</div>"
      ],
      "text/plain": [
       "   koala_id  region   habitat  gender age_in_years  Paw Size  total_length  \\\n",
       "0         1       1  Victoria    male          8.0      16.0          77.0   \n",
       "1         2       1  Victoria  female          6.0      16.5          79.5   \n",
       "2         3       1  Victoria  female          6.0      19.0          83.5   \n",
       "3         4       1  Victoria  female          6.0      18.0          80.0   \n",
       "4         5       1  Victoria  female          2.0      16.0          73.5   \n",
       "\n",
       "   head_length  ear_size  foot_length  skull_width  eye_diameter  \\\n",
       "0         19.1      19.5         24.5         15.4           2.2   \n",
       "1         17.5      16.2         22.5         12.6           3.0   \n",
       "2         19.0      16.9         25.4         15.0           2.5   \n",
       "3         18.2      17.2         26.1         12.1           2.2   \n",
       "4         16.5      18.2         21.0         11.3           2.1   \n",
       "\n",
       "   chest_circumference  belly_circumference  \n",
       "0                 63.0                 61.0  \n",
       "1                 63.5                 58.0  \n",
       "2                 65.0                 59.0  \n",
       "3                 63.0                 59.0  \n",
       "4                 63.5                 58.0  "
      ]
     },
     "execution_count": 87,
     "metadata": {},
     "output_type": "execute_result"
    }
   ],
   "source": [
    "data.head()"
   ]
  },
  {
   "cell_type": "code",
   "execution_count": 88,
   "metadata": {},
   "outputs": [],
   "source": [
    "data.to_csv('data_clean.xlsx')\n"
   ]
  },
  {
   "cell_type": "markdown",
   "metadata": {},
   "source": [
    "## Encoding feature habitat and Gender."
   ]
  },
  {
   "cell_type": "code",
   "execution_count": 89,
   "metadata": {},
   "outputs": [],
   "source": [
    "data['gender']=data['gender'].map({'male': 0, 'female': 1})"
   ]
  },
  {
   "cell_type": "code",
   "execution_count": 90,
   "metadata": {},
   "outputs": [
    {
     "data": {
      "text/plain": [
       "dtype('float64')"
      ]
     },
     "execution_count": 90,
     "metadata": {},
     "output_type": "execute_result"
    }
   ],
   "source": [
    "data['gender'].dtype"
   ]
  },
  {
   "cell_type": "code",
   "execution_count": 91,
   "metadata": {},
   "outputs": [
    {
     "data": {
      "text/plain": [
       "gender\n",
       "0.0    60\n",
       "1.0    42\n",
       "Name: count, dtype: int64"
      ]
     },
     "execution_count": 91,
     "metadata": {},
     "output_type": "execute_result"
    }
   ],
   "source": [
    "data['gender'].value_counts()"
   ]
  },
  {
   "cell_type": "code",
   "execution_count": 92,
   "metadata": {},
   "outputs": [],
   "source": [
    "from sklearn.preprocessing import OrdinalEncoder"
   ]
  },
  {
   "cell_type": "code",
   "execution_count": 93,
   "metadata": {},
   "outputs": [
    {
     "data": {
      "text/plain": [
       "0"
      ]
     },
     "execution_count": 93,
     "metadata": {},
     "output_type": "execute_result"
    }
   ],
   "source": [
    "data['habitat'].isnull().sum()"
   ]
  },
  {
   "cell_type": "code",
   "execution_count": 94,
   "metadata": {},
   "outputs": [],
   "source": [
    "encoding=OrdinalEncoder()"
   ]
  },
  {
   "cell_type": "code",
   "execution_count": 95,
   "metadata": {},
   "outputs": [
    {
     "data": {
      "text/html": [
       "<style>#sk-container-id-1 {color: black;}#sk-container-id-1 pre{padding: 0;}#sk-container-id-1 div.sk-toggleable {background-color: white;}#sk-container-id-1 label.sk-toggleable__label {cursor: pointer;display: block;width: 100%;margin-bottom: 0;padding: 0.3em;box-sizing: border-box;text-align: center;}#sk-container-id-1 label.sk-toggleable__label-arrow:before {content: \"▸\";float: left;margin-right: 0.25em;color: #696969;}#sk-container-id-1 label.sk-toggleable__label-arrow:hover:before {color: black;}#sk-container-id-1 div.sk-estimator:hover label.sk-toggleable__label-arrow:before {color: black;}#sk-container-id-1 div.sk-toggleable__content {max-height: 0;max-width: 0;overflow: hidden;text-align: left;background-color: #f0f8ff;}#sk-container-id-1 div.sk-toggleable__content pre {margin: 0.2em;color: black;border-radius: 0.25em;background-color: #f0f8ff;}#sk-container-id-1 input.sk-toggleable__control:checked~div.sk-toggleable__content {max-height: 200px;max-width: 100%;overflow: auto;}#sk-container-id-1 input.sk-toggleable__control:checked~label.sk-toggleable__label-arrow:before {content: \"▾\";}#sk-container-id-1 div.sk-estimator input.sk-toggleable__control:checked~label.sk-toggleable__label {background-color: #d4ebff;}#sk-container-id-1 div.sk-label input.sk-toggleable__control:checked~label.sk-toggleable__label {background-color: #d4ebff;}#sk-container-id-1 input.sk-hidden--visually {border: 0;clip: rect(1px 1px 1px 1px);clip: rect(1px, 1px, 1px, 1px);height: 1px;margin: -1px;overflow: hidden;padding: 0;position: absolute;width: 1px;}#sk-container-id-1 div.sk-estimator {font-family: monospace;background-color: #f0f8ff;border: 1px dotted black;border-radius: 0.25em;box-sizing: border-box;margin-bottom: 0.5em;}#sk-container-id-1 div.sk-estimator:hover {background-color: #d4ebff;}#sk-container-id-1 div.sk-parallel-item::after {content: \"\";width: 100%;border-bottom: 1px solid gray;flex-grow: 1;}#sk-container-id-1 div.sk-label:hover label.sk-toggleable__label {background-color: #d4ebff;}#sk-container-id-1 div.sk-serial::before {content: \"\";position: absolute;border-left: 1px solid gray;box-sizing: border-box;top: 0;bottom: 0;left: 50%;z-index: 0;}#sk-container-id-1 div.sk-serial {display: flex;flex-direction: column;align-items: center;background-color: white;padding-right: 0.2em;padding-left: 0.2em;position: relative;}#sk-container-id-1 div.sk-item {position: relative;z-index: 1;}#sk-container-id-1 div.sk-parallel {display: flex;align-items: stretch;justify-content: center;background-color: white;position: relative;}#sk-container-id-1 div.sk-item::before, #sk-container-id-1 div.sk-parallel-item::before {content: \"\";position: absolute;border-left: 1px solid gray;box-sizing: border-box;top: 0;bottom: 0;left: 50%;z-index: -1;}#sk-container-id-1 div.sk-parallel-item {display: flex;flex-direction: column;z-index: 1;position: relative;background-color: white;}#sk-container-id-1 div.sk-parallel-item:first-child::after {align-self: flex-end;width: 50%;}#sk-container-id-1 div.sk-parallel-item:last-child::after {align-self: flex-start;width: 50%;}#sk-container-id-1 div.sk-parallel-item:only-child::after {width: 0;}#sk-container-id-1 div.sk-dashed-wrapped {border: 1px dashed gray;margin: 0 0.4em 0.5em 0.4em;box-sizing: border-box;padding-bottom: 0.4em;background-color: white;}#sk-container-id-1 div.sk-label label {font-family: monospace;font-weight: bold;display: inline-block;line-height: 1.2em;}#sk-container-id-1 div.sk-label-container {text-align: center;}#sk-container-id-1 div.sk-container {/* jupyter's `normalize.less` sets `[hidden] { display: none; }` but bootstrap.min.css set `[hidden] { display: none !important; }` so we also need the `!important` here to be able to override the default hidden behavior on the sphinx rendered scikit-learn.org. See: https://github.com/scikit-learn/scikit-learn/issues/21755 */display: inline-block !important;position: relative;}#sk-container-id-1 div.sk-text-repr-fallback {display: none;}</style><div id=\"sk-container-id-1\" class=\"sk-top-container\"><div class=\"sk-text-repr-fallback\"><pre>OrdinalEncoder()</pre><b>In a Jupyter environment, please rerun this cell to show the HTML representation or trust the notebook. <br />On GitHub, the HTML representation is unable to render, please try loading this page with nbviewer.org.</b></div><div class=\"sk-container\" hidden><div class=\"sk-item\"><div class=\"sk-estimator sk-toggleable\"><input class=\"sk-toggleable__control sk-hidden--visually\" id=\"sk-estimator-id-1\" type=\"checkbox\" checked><label for=\"sk-estimator-id-1\" class=\"sk-toggleable__label sk-toggleable__label-arrow\">OrdinalEncoder</label><div class=\"sk-toggleable__content\"><pre>OrdinalEncoder()</pre></div></div></div></div></div>"
      ],
      "text/plain": [
       "OrdinalEncoder()"
      ]
     },
     "execution_count": 95,
     "metadata": {},
     "output_type": "execute_result"
    }
   ],
   "source": [
    "encoding"
   ]
  },
  {
   "cell_type": "code",
   "execution_count": 96,
   "metadata": {},
   "outputs": [],
   "source": [
    "data['habitat']=encoding.fit_transform(data[['habitat']])"
   ]
  },
  {
   "cell_type": "code",
   "execution_count": 97,
   "metadata": {},
   "outputs": [
    {
     "data": {
      "text/plain": [
       "habitat\n",
       "1.0    100\n",
       "0.0      4\n",
       "Name: count, dtype: int64"
      ]
     },
     "execution_count": 97,
     "metadata": {},
     "output_type": "execute_result"
    }
   ],
   "source": [
    "data['habitat'].value_counts()"
   ]
  },
  {
   "cell_type": "code",
   "execution_count": 98,
   "metadata": {},
   "outputs": [
    {
     "data": {
      "image/png": "[encoded data removed]",
      "text/plain": [
       "<Figure size 2000x1500 with 16 Axes>"
      ]
     },
     "metadata": {},
     "output_type": "display_data"
    }
   ],
   "source": [
    "# plot density plot for all feature\n",
    "plt.style.use('seaborn')\n",
    "data.hist(bins=50, figsize=(20,15),ec='r')\n",
    "plt.show()"
   ]
  },
  {
   "cell_type": "markdown",
   "metadata": {},
   "source": [
    "- Insights: Most of the features follows the normal distribution. "
   ]
  },
  {
   "cell_type": "markdown",
   "metadata": {},
   "source": [
    "## Data Transformation"
   ]
  },
  {
   "cell_type": "code",
   "execution_count": 99,
   "metadata": {},
   "outputs": [],
   "source": [
    "from sklearn.preprocessing import StandardScaler"
   ]
  },
  {
   "cell_type": "code",
   "execution_count": 100,
   "metadata": {},
   "outputs": [],
   "source": [
    "scale=StandardScaler()"
   ]
  },
  {
   "cell_type": "code",
   "execution_count": 101,
   "metadata": {},
   "outputs": [
    {
     "data": {
      "text/html": [
       "<style>#sk-container-id-2 {color: black;}#sk-container-id-2 pre{padding: 0;}#sk-container-id-2 div.sk-toggleable {background-color: white;}#sk-container-id-2 label.sk-toggleable__label {cursor: pointer;display: block;width: 100%;margin-bottom: 0;padding: 0.3em;box-sizing: border-box;text-align: center;}#sk-container-id-2 label.sk-toggleable__label-arrow:before {content: \"▸\";float: left;margin-right: 0.25em;color: #696969;}#sk-container-id-2 label.sk-toggleable__label-arrow:hover:before {color: black;}#sk-container-id-2 div.sk-estimator:hover label.sk-toggleable__label-arrow:before {color: black;}#sk-container-id-2 div.sk-toggleable__content {max-height: 0;max-width: 0;overflow: hidden;text-align: left;background-color: #f0f8ff;}#sk-container-id-2 div.sk-toggleable__content pre {margin: 0.2em;color: black;border-radius: 0.25em;background-color: #f0f8ff;}#sk-container-id-2 input.sk-toggleable__control:checked~div.sk-toggleable__content {max-height: 200px;max-width: 100%;overflow: auto;}#sk-container-id-2 input.sk-toggleable__control:checked~label.sk-toggleable__label-arrow:before {content: \"▾\";}#sk-container-id-2 div.sk-estimator input.sk-toggleable__control:checked~label.sk-toggleable__label {background-color: #d4ebff;}#sk-container-id-2 div.sk-label input.sk-toggleable__control:checked~label.sk-toggleable__label {background-color: #d4ebff;}#sk-container-id-2 input.sk-hidden--visually {border: 0;clip: rect(1px 1px 1px 1px);clip: rect(1px, 1px, 1px, 1px);height: 1px;margin: -1px;overflow: hidden;padding: 0;position: absolute;width: 1px;}#sk-container-id-2 div.sk-estimator {font-family: monospace;background-color: #f0f8ff;border: 1px dotted black;border-radius: 0.25em;box-sizing: border-box;margin-bottom: 0.5em;}#sk-container-id-2 div.sk-estimator:hover {background-color: #d4ebff;}#sk-container-id-2 div.sk-parallel-item::after {content: \"\";width: 100%;border-bottom: 1px solid gray;flex-grow: 1;}#sk-container-id-2 div.sk-label:hover label.sk-toggleable__label {background-color: #d4ebff;}#sk-container-id-2 div.sk-serial::before {content: \"\";position: absolute;border-left: 1px solid gray;box-sizing: border-box;top: 0;bottom: 0;left: 50%;z-index: 0;}#sk-container-id-2 div.sk-serial {display: flex;flex-direction: column;align-items: center;background-color: white;padding-right: 0.2em;padding-left: 0.2em;position: relative;}#sk-container-id-2 div.sk-item {position: relative;z-index: 1;}#sk-container-id-2 div.sk-parallel {display: flex;align-items: stretch;justify-content: center;background-color: white;position: relative;}#sk-container-id-2 div.sk-item::before, #sk-container-id-2 div.sk-parallel-item::before {content: \"\";position: absolute;border-left: 1px solid gray;box-sizing: border-box;top: 0;bottom: 0;left: 50%;z-index: -1;}#sk-container-id-2 div.sk-parallel-item {display: flex;flex-direction: column;z-index: 1;position: relative;background-color: white;}#sk-container-id-2 div.sk-parallel-item:first-child::after {align-self: flex-end;width: 50%;}#sk-container-id-2 div.sk-parallel-item:last-child::after {align-self: flex-start;width: 50%;}#sk-container-id-2 div.sk-parallel-item:only-child::after {width: 0;}#sk-container-id-2 div.sk-dashed-wrapped {border: 1px dashed gray;margin: 0 0.4em 0.5em 0.4em;box-sizing: border-box;padding-bottom: 0.4em;background-color: white;}#sk-container-id-2 div.sk-label label {font-family: monospace;font-weight: bold;display: inline-block;line-height: 1.2em;}#sk-container-id-2 div.sk-label-container {text-align: center;}#sk-container-id-2 div.sk-container {/* jupyter's `normalize.less` sets `[hidden] { display: none; }` but bootstrap.min.css set `[hidden] { display: none !important; }` so we also need the `!important` here to be able to override the default hidden behavior on the sphinx rendered scikit-learn.org. See: https://github.com/scikit-learn/scikit-learn/issues/21755 */display: inline-block !important;position: relative;}#sk-container-id-2 div.sk-text-repr-fallback {display: none;}</style><div id=\"sk-container-id-2\" class=\"sk-top-container\"><div class=\"sk-text-repr-fallback\"><pre>StandardScaler()</pre><b>In a Jupyter environment, please rerun this cell to show the HTML representation or trust the notebook. <br />On GitHub, the HTML representation is unable to render, please try loading this page with nbviewer.org.</b></div><div class=\"sk-container\" hidden><div class=\"sk-item\"><div class=\"sk-estimator sk-toggleable\"><input class=\"sk-toggleable__control sk-hidden--visually\" id=\"sk-estimator-id-2\" type=\"checkbox\" checked><label for=\"sk-estimator-id-2\" class=\"sk-toggleable__label sk-toggleable__label-arrow\">StandardScaler</label><div class=\"sk-toggleable__content\"><pre>StandardScaler()</pre></div></div></div></div></div>"
      ],
      "text/plain": [
       "StandardScaler()"
      ]
     },
     "execution_count": 101,
     "metadata": {},
     "output_type": "execute_result"
    }
   ],
   "source": [
    "scale"
   ]
  },
  {
   "cell_type": "code",
   "execution_count": 102,
   "metadata": {},
   "outputs": [],
   "source": [
    "data_scale=scale.fit_transform(data)"
   ]
  },
  {
   "cell_type": "code",
   "execution_count": 103,
   "metadata": {},
   "outputs": [],
   "source": [
    "colums_list=list(data.columns)"
   ]
  },
  {
   "cell_type": "code",
   "execution_count": 104,
   "metadata": {},
   "outputs": [
    {
     "data": {
      "text/plain": [
       "['koala_id',\n",
       " 'region',\n",
       " 'habitat',\n",
       " 'gender',\n",
       " 'age_in_years',\n",
       " 'Paw Size',\n",
       " 'total_length',\n",
       " 'head_length',\n",
       " 'ear_size',\n",
       " 'foot_length',\n",
       " 'skull_width',\n",
       " 'eye_diameter',\n",
       " 'chest_circumference',\n",
       " 'belly_circumference']"
      ]
     },
     "execution_count": 104,
     "metadata": {},
     "output_type": "execute_result"
    }
   ],
   "source": [
    "colums_list"
   ]
  },
  {
   "cell_type": "code",
   "execution_count": 105,
   "metadata": {},
   "outputs": [],
   "source": [
    "data_scale_df=pd.DataFrame(data_scale, columns=colums_list)"
   ]
  },
  {
   "cell_type": "code",
   "execution_count": 106,
   "metadata": {},
   "outputs": [
    {
     "data": {
      "text/html": [
       "<div>\n",
       "<style scoped>\n",
       "    .dataframe tbody tr th:only-of-type {\n",
       "        vertical-align: middle;\n",
       "    }\n",
       "\n",
       "    .dataframe tbody tr th {\n",
       "        vertical-align: top;\n",
       "    }\n",
       "\n",
       "    .dataframe thead th {\n",
       "        text-align: right;\n",
       "    }\n",
       "</style>\n",
       "<table border=\"1\" class=\"dataframe\">\n",
       "  <thead>\n",
       "    <tr style=\"text-align: right;\">\n",
       "      <th></th>\n",
       "      <th>koala_id</th>\n",
       "      <th>region</th>\n",
       "      <th>habitat</th>\n",
       "      <th>gender</th>\n",
       "      <th>age_in_years</th>\n",
       "      <th>Paw Size</th>\n",
       "      <th>total_length</th>\n",
       "      <th>head_length</th>\n",
       "      <th>ear_size</th>\n",
       "      <th>foot_length</th>\n",
       "      <th>skull_width</th>\n",
       "      <th>eye_diameter</th>\n",
       "      <th>chest_circumference</th>\n",
       "      <th>belly_circumference</th>\n",
       "    </tr>\n",
       "  </thead>\n",
       "  <tbody>\n",
       "    <tr>\n",
       "      <th>0</th>\n",
       "      <td>-1.715476</td>\n",
       "      <td>-1.122867</td>\n",
       "      <td>0.2</td>\n",
       "      <td>-0.836660</td>\n",
       "      <td>2.193141</td>\n",
       "      <td>-0.517732</td>\n",
       "      <td>0.445603</td>\n",
       "      <td>0.056125</td>\n",
       "      <td>-0.036149</td>\n",
       "      <td>1.373816</td>\n",
       "      <td>0.223526</td>\n",
       "      <td>-0.094784</td>\n",
       "      <td>0.491222</td>\n",
       "      <td>1.237478</td>\n",
       "    </tr>\n",
       "    <tr>\n",
       "      <th>1</th>\n",
       "      <td>-1.682166</td>\n",
       "      <td>-1.122867</td>\n",
       "      <td>0.2</td>\n",
       "      <td>1.195229</td>\n",
       "      <td>1.140433</td>\n",
       "      <td>-0.261331</td>\n",
       "      <td>1.028384</td>\n",
       "      <td>-0.108587</td>\n",
       "      <td>-0.074018</td>\n",
       "      <td>0.918777</td>\n",
       "      <td>-0.028585</td>\n",
       "      <td>-0.074215</td>\n",
       "      <td>0.736833</td>\n",
       "      <td>0.151169</td>\n",
       "    </tr>\n",
       "    <tr>\n",
       "      <th>2</th>\n",
       "      <td>-1.648855</td>\n",
       "      <td>-1.122867</td>\n",
       "      <td>0.2</td>\n",
       "      <td>1.195229</td>\n",
       "      <td>1.140433</td>\n",
       "      <td>1.020671</td>\n",
       "      <td>1.960834</td>\n",
       "      <td>0.045830</td>\n",
       "      <td>-0.065985</td>\n",
       "      <td>1.578583</td>\n",
       "      <td>0.187510</td>\n",
       "      <td>-0.087070</td>\n",
       "      <td>1.473667</td>\n",
       "      <td>0.513272</td>\n",
       "    </tr>\n",
       "    <tr>\n",
       "      <th>3</th>\n",
       "      <td>-1.615545</td>\n",
       "      <td>-1.122867</td>\n",
       "      <td>0.2</td>\n",
       "      <td>1.195229</td>\n",
       "      <td>1.140433</td>\n",
       "      <td>0.507870</td>\n",
       "      <td>1.144941</td>\n",
       "      <td>-0.036525</td>\n",
       "      <td>-0.062543</td>\n",
       "      <td>1.737847</td>\n",
       "      <td>-0.073605</td>\n",
       "      <td>-0.094784</td>\n",
       "      <td>0.491222</td>\n",
       "      <td>0.513272</td>\n",
       "    </tr>\n",
       "    <tr>\n",
       "      <th>4</th>\n",
       "      <td>-1.582235</td>\n",
       "      <td>-1.122867</td>\n",
       "      <td>0.2</td>\n",
       "      <td>1.195229</td>\n",
       "      <td>-0.964982</td>\n",
       "      <td>-0.517732</td>\n",
       "      <td>-0.370290</td>\n",
       "      <td>-0.211531</td>\n",
       "      <td>-0.051067</td>\n",
       "      <td>0.577498</td>\n",
       "      <td>-0.145637</td>\n",
       "      <td>-0.097355</td>\n",
       "      <td>0.736833</td>\n",
       "      <td>0.151169</td>\n",
       "    </tr>\n",
       "  </tbody>\n",
       "</table>\n",
       "</div>"
      ],
      "text/plain": [
       "   koala_id    region  habitat    gender  age_in_years  Paw Size  \\\n",
       "0 -1.715476 -1.122867      0.2 -0.836660      2.193141 -0.517732   \n",
       "1 -1.682166 -1.122867      0.2  1.195229      1.140433 -0.261331   \n",
       "2 -1.648855 -1.122867      0.2  1.195229      1.140433  1.020671   \n",
       "3 -1.615545 -1.122867      0.2  1.195229      1.140433  0.507870   \n",
       "4 -1.582235 -1.122867      0.2  1.195229     -0.964982 -0.517732   \n",
       "\n",
       "   total_length  head_length  ear_size  foot_length  skull_width  \\\n",
       "0      0.445603     0.056125 -0.036149     1.373816     0.223526   \n",
       "1      1.028384    -0.108587 -0.074018     0.918777    -0.028585   \n",
       "2      1.960834     0.045830 -0.065985     1.578583     0.187510   \n",
       "3      1.144941    -0.036525 -0.062543     1.737847    -0.073605   \n",
       "4     -0.370290    -0.211531 -0.051067     0.577498    -0.145637   \n",
       "\n",
       "   eye_diameter  chest_circumference  belly_circumference  \n",
       "0     -0.094784             0.491222             1.237478  \n",
       "1     -0.074215             0.736833             0.151169  \n",
       "2     -0.087070             1.473667             0.513272  \n",
       "3     -0.094784             0.491222             0.513272  \n",
       "4     -0.097355             0.736833             0.151169  "
      ]
     },
     "execution_count": 106,
     "metadata": {},
     "output_type": "execute_result"
    }
   ],
   "source": [
    "data_scale_df.head()"
   ]
  },
  {
   "cell_type": "code",
   "execution_count": null,
   "metadata": {},
   "outputs": [],
   "source": []
  },
  {
   "cell_type": "code",
   "execution_count": null,
   "metadata": {},
   "outputs": [],
   "source": []
  },
  {
   "cell_type": "code",
   "execution_count": null,
   "metadata": {},
   "outputs": [],
   "source": []
  },
  {
   "cell_type": "markdown",
   "metadata": {},
   "source": [
    "# Section : 2 - Data Visualization"
   ]
  },
  {
   "cell_type": "code",
   "execution_count": 107,
   "metadata": {},
   "outputs": [],
   "source": [
    "data['age_in_years'].fillna(data['age_in_years'].median(), inplace=True)\n"
   ]
  },
  {
   "cell_type": "code",
   "execution_count": 108,
   "metadata": {},
   "outputs": [],
   "source": [
    "data['age_in_years'] = pd.to_numeric(data['age_in_years'], errors='coerce')\n"
   ]
  },
  {
   "cell_type": "code",
   "execution_count": 109,
   "metadata": {},
   "outputs": [
    {
     "data": {
      "text/plain": [
       "<Figure size 1000x600 with 0 Axes>"
      ]
     },
     "metadata": {},
     "output_type": "display_data"
    },
    {
     "data": {
      "image/png": "[encoded data removed]",
      "text/plain": [
       "<Figure size 800x550 with 1 Axes>"
      ]
     },
     "metadata": {},
     "output_type": "display_data"
    }
   ],
   "source": [
    "bins = [0, 5, 10, 15]  # Age groups: 0-5, 5-10, 10-15\n",
    "labels = ['0-5', '5-10', '10-15']\n",
    "data['age_group'] = pd.cut(data['age_in_years'], bins=bins, labels=labels, right=False)\n",
    "avg_length=data.groupby(['age_group','gender'])['total_length'].mean().unstack()\n",
    "plt.figure(figsize=(10,6))\n",
    "avg_length.plot(kind='bar',color=['#FFA07A', '#6495ED'])\n",
    "plt.title(\"Average length koala by Age Group and Gender\")\n",
    "plt.xlabel(\"Age Group\")\n",
    "plt.ylabel(\"Average Length\")\n",
    "plt.xticks(rotation=0)\n",
    "plt.legend(['Male','Female'],title='Gender')\n",
    "plt.tight_layout()\n",
    "plt.show()\n"
   ]
  },
  {
   "cell_type": "code",
   "execution_count": 110,
   "metadata": {},
   "outputs": [
    {
     "data": {
      "text/html": [
       "<div>\n",
       "<style scoped>\n",
       "    .dataframe tbody tr th:only-of-type {\n",
       "        vertical-align: middle;\n",
       "    }\n",
       "\n",
       "    .dataframe tbody tr th {\n",
       "        vertical-align: top;\n",
       "    }\n",
       "\n",
       "    .dataframe thead th {\n",
       "        text-align: right;\n",
       "    }\n",
       "</style>\n",
       "<table border=\"1\" class=\"dataframe\">\n",
       "  <thead>\n",
       "    <tr style=\"text-align: right;\">\n",
       "      <th>gender</th>\n",
       "      <th>0.0</th>\n",
       "      <th>1.0</th>\n",
       "    </tr>\n",
       "    <tr>\n",
       "      <th>age_group</th>\n",
       "      <th></th>\n",
       "      <th></th>\n",
       "    </tr>\n",
       "  </thead>\n",
       "  <tbody>\n",
       "    <tr>\n",
       "      <th>0-5</th>\n",
       "      <td>74.287179</td>\n",
       "      <td>75.192308</td>\n",
       "    </tr>\n",
       "    <tr>\n",
       "      <th>5-10</th>\n",
       "      <td>75.342105</td>\n",
       "      <td>77.500000</td>\n",
       "    </tr>\n",
       "    <tr>\n",
       "      <th>10-15</th>\n",
       "      <td>NaN</td>\n",
       "      <td>NaN</td>\n",
       "    </tr>\n",
       "  </tbody>\n",
       "</table>\n",
       "</div>"
      ],
      "text/plain": [
       "gender           0.0        1.0\n",
       "age_group                      \n",
       "0-5        74.287179  75.192308\n",
       "5-10       75.342105  77.500000\n",
       "10-15            NaN        NaN"
      ]
     },
     "execution_count": 110,
     "metadata": {},
     "output_type": "execute_result"
    }
   ],
   "source": [
    "avg_length"
   ]
  },
  {
   "cell_type": "markdown",
   "metadata": {},
   "source": [
    "### 1. Barchart: \n",
    "- A bar chart can be used to show how koalas average length by age group and gender. This chart have following axes. \n",
    "1. x-axis\n",
    "2. Y-axis\n",
    "3. Bars"
   ]
  },
  {
   "cell_type": "markdown",
   "metadata": {},
   "source": [
    "### Why this visualization. \n",
    "- Koalas exhibit sexual dimorphism, where male are generally less length than female. by grouping the data by both age and gender, this viusalization would it clear how kolas hight evolves as they grow and how gender differences manifest across age groups."
   ]
  },
  {
   "cell_type": "markdown",
   "metadata": {},
   "source": [
    "## Insights: \n",
    "- male koalas tend to less height than female.\n"
   ]
  },
  {
   "cell_type": "markdown",
   "metadata": {},
   "source": [
    "## 2. Pie Chart: Proportion of Physical Characteristics"
   ]
  },
  {
   "cell_type": "code",
   "execution_count": 111,
   "metadata": {},
   "outputs": [
    {
     "data": {
      "text/html": [
       "<div>\n",
       "<style scoped>\n",
       "    .dataframe tbody tr th:only-of-type {\n",
       "        vertical-align: middle;\n",
       "    }\n",
       "\n",
       "    .dataframe tbody tr th {\n",
       "        vertical-align: top;\n",
       "    }\n",
       "\n",
       "    .dataframe thead th {\n",
       "        text-align: right;\n",
       "    }\n",
       "</style>\n",
       "<table border=\"1\" class=\"dataframe\">\n",
       "  <thead>\n",
       "    <tr style=\"text-align: right;\">\n",
       "      <th></th>\n",
       "      <th>koala_id</th>\n",
       "      <th>region</th>\n",
       "      <th>habitat</th>\n",
       "      <th>gender</th>\n",
       "      <th>age_in_years</th>\n",
       "      <th>Paw Size</th>\n",
       "      <th>total_length</th>\n",
       "      <th>head_length</th>\n",
       "      <th>ear_size</th>\n",
       "      <th>foot_length</th>\n",
       "      <th>skull_width</th>\n",
       "      <th>eye_diameter</th>\n",
       "      <th>chest_circumference</th>\n",
       "      <th>belly_circumference</th>\n",
       "      <th>age_group</th>\n",
       "    </tr>\n",
       "  </thead>\n",
       "  <tbody>\n",
       "    <tr>\n",
       "      <th>0</th>\n",
       "      <td>1</td>\n",
       "      <td>1</td>\n",
       "      <td>1.0</td>\n",
       "      <td>0.0</td>\n",
       "      <td>8.0</td>\n",
       "      <td>16.0</td>\n",
       "      <td>77.0</td>\n",
       "      <td>19.1</td>\n",
       "      <td>19.5</td>\n",
       "      <td>24.5</td>\n",
       "      <td>15.4</td>\n",
       "      <td>2.2</td>\n",
       "      <td>63.0</td>\n",
       "      <td>61.0</td>\n",
       "      <td>5-10</td>\n",
       "    </tr>\n",
       "    <tr>\n",
       "      <th>1</th>\n",
       "      <td>2</td>\n",
       "      <td>1</td>\n",
       "      <td>1.0</td>\n",
       "      <td>1.0</td>\n",
       "      <td>6.0</td>\n",
       "      <td>16.5</td>\n",
       "      <td>79.5</td>\n",
       "      <td>17.5</td>\n",
       "      <td>16.2</td>\n",
       "      <td>22.5</td>\n",
       "      <td>12.6</td>\n",
       "      <td>3.0</td>\n",
       "      <td>63.5</td>\n",
       "      <td>58.0</td>\n",
       "      <td>5-10</td>\n",
       "    </tr>\n",
       "    <tr>\n",
       "      <th>2</th>\n",
       "      <td>3</td>\n",
       "      <td>1</td>\n",
       "      <td>1.0</td>\n",
       "      <td>1.0</td>\n",
       "      <td>6.0</td>\n",
       "      <td>19.0</td>\n",
       "      <td>83.5</td>\n",
       "      <td>19.0</td>\n",
       "      <td>16.9</td>\n",
       "      <td>25.4</td>\n",
       "      <td>15.0</td>\n",
       "      <td>2.5</td>\n",
       "      <td>65.0</td>\n",
       "      <td>59.0</td>\n",
       "      <td>5-10</td>\n",
       "    </tr>\n",
       "    <tr>\n",
       "      <th>3</th>\n",
       "      <td>4</td>\n",
       "      <td>1</td>\n",
       "      <td>1.0</td>\n",
       "      <td>1.0</td>\n",
       "      <td>6.0</td>\n",
       "      <td>18.0</td>\n",
       "      <td>80.0</td>\n",
       "      <td>18.2</td>\n",
       "      <td>17.2</td>\n",
       "      <td>26.1</td>\n",
       "      <td>12.1</td>\n",
       "      <td>2.2</td>\n",
       "      <td>63.0</td>\n",
       "      <td>59.0</td>\n",
       "      <td>5-10</td>\n",
       "    </tr>\n",
       "    <tr>\n",
       "      <th>4</th>\n",
       "      <td>5</td>\n",
       "      <td>1</td>\n",
       "      <td>1.0</td>\n",
       "      <td>1.0</td>\n",
       "      <td>2.0</td>\n",
       "      <td>16.0</td>\n",
       "      <td>73.5</td>\n",
       "      <td>16.5</td>\n",
       "      <td>18.2</td>\n",
       "      <td>21.0</td>\n",
       "      <td>11.3</td>\n",
       "      <td>2.1</td>\n",
       "      <td>63.5</td>\n",
       "      <td>58.0</td>\n",
       "      <td>0-5</td>\n",
       "    </tr>\n",
       "  </tbody>\n",
       "</table>\n",
       "</div>"
      ],
      "text/plain": [
       "   koala_id  region  habitat  gender  age_in_years  Paw Size  total_length  \\\n",
       "0         1       1      1.0     0.0           8.0      16.0          77.0   \n",
       "1         2       1      1.0     1.0           6.0      16.5          79.5   \n",
       "2         3       1      1.0     1.0           6.0      19.0          83.5   \n",
       "3         4       1      1.0     1.0           6.0      18.0          80.0   \n",
       "4         5       1      1.0     1.0           2.0      16.0          73.5   \n",
       "\n",
       "   head_length  ear_size  foot_length  skull_width  eye_diameter  \\\n",
       "0         19.1      19.5         24.5         15.4           2.2   \n",
       "1         17.5      16.2         22.5         12.6           3.0   \n",
       "2         19.0      16.9         25.4         15.0           2.5   \n",
       "3         18.2      17.2         26.1         12.1           2.2   \n",
       "4         16.5      18.2         21.0         11.3           2.1   \n",
       "\n",
       "   chest_circumference  belly_circumference age_group  \n",
       "0                 63.0                 61.0      5-10  \n",
       "1                 63.5                 58.0      5-10  \n",
       "2                 65.0                 59.0      5-10  \n",
       "3                 63.0                 59.0      5-10  \n",
       "4                 63.5                 58.0       0-5  "
      ]
     },
     "execution_count": 111,
     "metadata": {},
     "output_type": "execute_result"
    }
   ],
   "source": [
    "data.head()"
   ]
  },
  {
   "cell_type": "code",
   "execution_count": 112,
   "metadata": {},
   "outputs": [],
   "source": [
    "physical_characteristics=['Paw Size','total_length', 'head_length', 'ear_size']\n",
    "avg_physical=data[physical_characteristics].mean()"
   ]
  },
  {
   "cell_type": "code",
   "execution_count": 113,
   "metadata": {},
   "outputs": [
    {
     "data": {
      "text/plain": [
       "Paw Size        17.009615\n",
       "total_length    75.088462\n",
       "head_length     18.554808\n",
       "ear_size        22.650000\n",
       "dtype: float64"
      ]
     },
     "execution_count": 113,
     "metadata": {},
     "output_type": "execute_result"
    }
   ],
   "source": [
    "avg_physical"
   ]
  },
  {
   "cell_type": "code",
   "execution_count": 114,
   "metadata": {},
   "outputs": [
    {
     "data": {
      "image/png": "[encoded data removed]",
      "text/plain": [
       "<Figure size 800x800 with 1 Axes>"
      ]
     },
     "metadata": {},
     "output_type": "display_data"
    }
   ],
   "source": [
    "plt.figure(figsize=(8,8))\n",
    "plt.pie(avg_physical, labels=physical_characteristics, autopct='%1.1f%%', startangle=140, colors=['#FF9999', '#66B3FF', '#99FF99', '#FFCC99'])\n",
    "plt.title(\"Physical characteristics of koalas\")\n",
    "plt.tight_layout()\n",
    "plt.show()"
   ]
  },
  {
   "cell_type": "markdown",
   "metadata": {},
   "source": [
    "- Pie Chart: This pie chart illustrates the proportions of total length, paw size, head length, earsize in koalas. Total length dominates, followed by foot length, head length, and ear size."
   ]
  },
  {
   "cell_type": "markdown",
   "metadata": {},
   "source": [
    "- Insight: Koalas' total body length is the most significant physical feature, which aligns with their arboreal lifestyle and need for a well-balanced body structure.\n"
   ]
  },
  {
   "cell_type": "code",
   "execution_count": null,
   "metadata": {},
   "outputs": [],
   "source": []
  },
  {
   "cell_type": "markdown",
   "metadata": {},
   "source": [
    "## Section: 4 Analysis"
   ]
  },
  {
   "cell_type": "markdown",
   "metadata": {},
   "source": [
    "### Is the mean head length of the Koalas significantly different from 92.0 mm?"
   ]
  },
  {
   "cell_type": "code",
   "execution_count": 115,
   "metadata": {},
   "outputs": [],
   "source": [
    "mean_head_length=data['head_length'].mean()"
   ]
  },
  {
   "cell_type": "code",
   "execution_count": 116,
   "metadata": {},
   "outputs": [],
   "source": [
    "from scipy import stats\n",
    "import pandas as pd"
   ]
  },
  {
   "cell_type": "code",
   "execution_count": 117,
   "metadata": {},
   "outputs": [
    {
     "name": "stdout",
     "output_type": "stream",
     "text": [
      "mean head length: 18.554807692307694\n",
      "T-statistics: -76.7334940014102\n",
      "P-value: 1.0422076043627138e-92\n"
     ]
    }
   ],
   "source": [
    "# Performing a one-sample t-test comparing the head lenght.\n",
    "head_length=data['head_length']\n",
    "t_statistic, p_value=stats.ttest_1samp(head_length, 92.0)\n",
    "print(f\"mean head length: {mean_head_length}\")\n",
    "print(f\"T-statistics: {t_statistic}\")\n",
    "print(f\"P-value: {p_value}\")"
   ]
  },
  {
   "cell_type": "code",
   "execution_count": 118,
   "metadata": {},
   "outputs": [
    {
     "name": "stdout",
     "output_type": "stream",
     "text": [
      "Head length is different from 92.0mm\n"
     ]
    }
   ],
   "source": [
    "if p_value < 0.05: \n",
    "    print(\"Head length is different from 92.0mm\")\n",
    "else: \n",
    "    print(\"Not different from significant.\")"
   ]
  },
  {
   "cell_type": "markdown",
   "metadata": {},
   "source": [
    "Insights: This code shows if p-value is less than 0.05, the difference is considered statistically signigicant."
   ]
  },
  {
   "cell_type": "markdown",
   "metadata": {},
   "source": [
    "## Do male and female Koalas have significantly different mean head lengths?"
   ]
  },
  {
   "cell_type": "code",
   "execution_count": 119,
   "metadata": {},
   "outputs": [],
   "source": [
    "# haad length of male and female.\n",
    "head_length_male=data[data['gender']==0]['head_length']\n",
    "head_length_female=data[data['gender']==1]['head_length']"
   ]
  },
  {
   "cell_type": "code",
   "execution_count": 120,
   "metadata": {},
   "outputs": [
    {
     "data": {
      "text/plain": [
       "1.1183597204480105"
      ]
     },
     "execution_count": 120,
     "metadata": {},
     "output_type": "execute_result"
    }
   ],
   "source": [
    "t_statistic, p_value = stats.ttest_ind(head_length_male, head_length_female)\n",
    "t_statistic"
   ]
  },
  {
   "cell_type": "code",
   "execution_count": 121,
   "metadata": {},
   "outputs": [
    {
     "data": {
      "text/plain": [
       "0.26609278853316104"
      ]
     },
     "execution_count": 121,
     "metadata": {},
     "output_type": "execute_result"
    }
   ],
   "source": [
    "p_value"
   ]
  },
  {
   "cell_type": "code",
   "execution_count": 122,
   "metadata": {},
   "outputs": [],
   "source": [
    "# Mean of male gender 0 indicate male category. \n",
    "mean_malehead=data['head_length'][data['gender']==0].mean()"
   ]
  },
  {
   "cell_type": "code",
   "execution_count": 123,
   "metadata": {},
   "outputs": [],
   "source": [
    "mean_female=data['head_length'][data['gender']==1].mean()"
   ]
  },
  {
   "cell_type": "code",
   "execution_count": 124,
   "metadata": {},
   "outputs": [
    {
     "name": "stdout",
     "output_type": "stream",
     "text": [
      "P-value: 0.26609278853316104\n",
      "s_statistic value: 1.1183597204480105\n",
      "Mean of male: 19.403333333333332\n",
      "mean of female: 17.200000000000003\n"
     ]
    }
   ],
   "source": [
    "print(f\"P-value: {p_value}\")\n",
    "print(f\"s_statistic value: {t_statistic}\")\n",
    "print(f\"Mean of male: {mean_malehead}\")\n",
    "print(f\"mean of female: {mean_female}\")"
   ]
  },
  {
   "cell_type": "code",
   "execution_count": 125,
   "metadata": {},
   "outputs": [
    {
     "name": "stdout",
     "output_type": "stream",
     "text": [
      " mean head lengths between male and female koalas is Not difference.\n"
     ]
    }
   ],
   "source": [
    "if p_value < 0.05: \n",
    "    print(\"Mean head lengths between male and female koalas is statistically significant.\")\n",
    "else: \n",
    "    print(\" mean head lengths between male and female koalas is Not difference.\")"
   ]
  },
  {
   "cell_type": "markdown",
   "metadata": {},
   "source": [
    "- Yes the male and female koalas have different mean head length."
   ]
  },
  {
   "cell_type": "markdown",
   "metadata": {},
   "source": [
    "## Can we predict the total length of a Koala based on its head length?"
   ]
  },
  {
   "cell_type": "code",
   "execution_count": 126,
   "metadata": {},
   "outputs": [
    {
     "data": {
      "text/html": [
       "<div>\n",
       "<style scoped>\n",
       "    .dataframe tbody tr th:only-of-type {\n",
       "        vertical-align: middle;\n",
       "    }\n",
       "\n",
       "    .dataframe tbody tr th {\n",
       "        vertical-align: top;\n",
       "    }\n",
       "\n",
       "    .dataframe thead th {\n",
       "        text-align: right;\n",
       "    }\n",
       "</style>\n",
       "<table border=\"1\" class=\"dataframe\">\n",
       "  <thead>\n",
       "    <tr style=\"text-align: right;\">\n",
       "      <th></th>\n",
       "      <th>head_length</th>\n",
       "      <th>total_length</th>\n",
       "    </tr>\n",
       "  </thead>\n",
       "  <tbody>\n",
       "    <tr>\n",
       "      <th>0</th>\n",
       "      <td>0.056125</td>\n",
       "      <td>0.445603</td>\n",
       "    </tr>\n",
       "    <tr>\n",
       "      <th>1</th>\n",
       "      <td>-0.108587</td>\n",
       "      <td>1.028384</td>\n",
       "    </tr>\n",
       "    <tr>\n",
       "      <th>2</th>\n",
       "      <td>0.045830</td>\n",
       "      <td>1.960834</td>\n",
       "    </tr>\n",
       "    <tr>\n",
       "      <th>3</th>\n",
       "      <td>-0.036525</td>\n",
       "      <td>1.144941</td>\n",
       "    </tr>\n",
       "    <tr>\n",
       "      <th>4</th>\n",
       "      <td>-0.211531</td>\n",
       "      <td>-0.370290</td>\n",
       "    </tr>\n",
       "  </tbody>\n",
       "</table>\n",
       "</div>"
      ],
      "text/plain": [
       "   head_length  total_length\n",
       "0     0.056125      0.445603\n",
       "1    -0.108587      1.028384\n",
       "2     0.045830      1.960834\n",
       "3    -0.036525      1.144941\n",
       "4    -0.211531     -0.370290"
      ]
     },
     "execution_count": 126,
     "metadata": {},
     "output_type": "execute_result"
    }
   ],
   "source": [
    "df1=data_scale_df[['head_length','total_length']]\n",
    "df1.head()"
   ]
  },
  {
   "cell_type": "code",
   "execution_count": 127,
   "metadata": {},
   "outputs": [
    {
     "data": {
      "image/png": "[encoded data removed]",
      "text/plain": [
       "<Figure size 800x550 with 1 Axes>"
      ]
     },
     "metadata": {},
     "output_type": "display_data"
    }
   ],
   "source": [
    "plt.scatter(x=df1['head_length'], y=df1['total_length'])\n",
    "plt.xlabel(\"Head Length\")\n",
    "plt.ylabel(\"Total Length\")\n",
    "plt.title(\"Relation between Head and Total length of koalas\")\n",
    "plt.tight_layout()"
   ]
  },
  {
   "cell_type": "code",
   "execution_count": 128,
   "metadata": {},
   "outputs": [],
   "source": [
    "## Dependent and independent features.\n",
    "x=df1[['head_length']]\n",
    "y=df1[['total_length']]"
   ]
  },
  {
   "cell_type": "code",
   "execution_count": 129,
   "metadata": {},
   "outputs": [
    {
     "data": {
      "text/html": [
       "<div>\n",
       "<style scoped>\n",
       "    .dataframe tbody tr th:only-of-type {\n",
       "        vertical-align: middle;\n",
       "    }\n",
       "\n",
       "    .dataframe tbody tr th {\n",
       "        vertical-align: top;\n",
       "    }\n",
       "\n",
       "    .dataframe thead th {\n",
       "        text-align: right;\n",
       "    }\n",
       "</style>\n",
       "<table border=\"1\" class=\"dataframe\">\n",
       "  <thead>\n",
       "    <tr style=\"text-align: right;\">\n",
       "      <th></th>\n",
       "      <th>total_length</th>\n",
       "    </tr>\n",
       "  </thead>\n",
       "  <tbody>\n",
       "    <tr>\n",
       "      <th>0</th>\n",
       "      <td>0.445603</td>\n",
       "    </tr>\n",
       "    <tr>\n",
       "      <th>1</th>\n",
       "      <td>1.028384</td>\n",
       "    </tr>\n",
       "    <tr>\n",
       "      <th>2</th>\n",
       "      <td>1.960834</td>\n",
       "    </tr>\n",
       "    <tr>\n",
       "      <th>3</th>\n",
       "      <td>1.144941</td>\n",
       "    </tr>\n",
       "    <tr>\n",
       "      <th>4</th>\n",
       "      <td>-0.370290</td>\n",
       "    </tr>\n",
       "    <tr>\n",
       "      <th>...</th>\n",
       "      <td>...</td>\n",
       "    </tr>\n",
       "    <tr>\n",
       "      <th>99</th>\n",
       "      <td>-1.302740</td>\n",
       "    </tr>\n",
       "    <tr>\n",
       "      <th>100</th>\n",
       "      <td>-1.069627</td>\n",
       "    </tr>\n",
       "    <tr>\n",
       "      <th>101</th>\n",
       "      <td>0.445603</td>\n",
       "    </tr>\n",
       "    <tr>\n",
       "      <th>102</th>\n",
       "      <td>-1.069627</td>\n",
       "    </tr>\n",
       "    <tr>\n",
       "      <th>103</th>\n",
       "      <td>0.445603</td>\n",
       "    </tr>\n",
       "  </tbody>\n",
       "</table>\n",
       "<p>104 rows × 1 columns</p>\n",
       "</div>"
      ],
      "text/plain": [
       "     total_length\n",
       "0        0.445603\n",
       "1        1.028384\n",
       "2        1.960834\n",
       "3        1.144941\n",
       "4       -0.370290\n",
       "..            ...\n",
       "99      -1.302740\n",
       "100     -1.069627\n",
       "101      0.445603\n",
       "102     -1.069627\n",
       "103      0.445603\n",
       "\n",
       "[104 rows x 1 columns]"
      ]
     },
     "execution_count": 129,
     "metadata": {},
     "output_type": "execute_result"
    }
   ],
   "source": [
    "y"
   ]
  },
  {
   "cell_type": "code",
   "execution_count": 130,
   "metadata": {},
   "outputs": [],
   "source": [
    "## Spliting train and test data. \n",
    "from sklearn.model_selection import train_test_split\n",
    "x_train, x_test , y_train,y_test=train_test_split(x, y, test_size=0.30, random_state=42)"
   ]
  },
  {
   "cell_type": "code",
   "execution_count": 131,
   "metadata": {},
   "outputs": [
    {
     "data": {
      "text/plain": [
       "((72, 1), (72, 1), (32, 1), (32, 1))"
      ]
     },
     "execution_count": 131,
     "metadata": {},
     "output_type": "execute_result"
    }
   ],
   "source": [
    "x_train.shape, y_train.shape , x_test.shape ,y_test.shape"
   ]
  },
  {
   "cell_type": "code",
   "execution_count": 132,
   "metadata": {},
   "outputs": [],
   "source": [
    "## Linear model\n",
    "from sklearn.linear_model import LinearRegression\n",
    "model=LinearRegression()"
   ]
  },
  {
   "cell_type": "code",
   "execution_count": 133,
   "metadata": {},
   "outputs": [
    {
     "data": {
      "text/html": [
       "<style>#sk-container-id-3 {color: black;}#sk-container-id-3 pre{padding: 0;}#sk-container-id-3 div.sk-toggleable {background-color: white;}#sk-container-id-3 label.sk-toggleable__label {cursor: pointer;display: block;width: 100%;margin-bottom: 0;padding: 0.3em;box-sizing: border-box;text-align: center;}#sk-container-id-3 label.sk-toggleable__label-arrow:before {content: \"▸\";float: left;margin-right: 0.25em;color: #696969;}#sk-container-id-3 label.sk-toggleable__label-arrow:hover:before {color: black;}#sk-container-id-3 div.sk-estimator:hover label.sk-toggleable__label-arrow:before {color: black;}#sk-container-id-3 div.sk-toggleable__content {max-height: 0;max-width: 0;overflow: hidden;text-align: left;background-color: #f0f8ff;}#sk-container-id-3 div.sk-toggleable__content pre {margin: 0.2em;color: black;border-radius: 0.25em;background-color: #f0f8ff;}#sk-container-id-3 input.sk-toggleable__control:checked~div.sk-toggleable__content {max-height: 200px;max-width: 100%;overflow: auto;}#sk-container-id-3 input.sk-toggleable__control:checked~label.sk-toggleable__label-arrow:before {content: \"▾\";}#sk-container-id-3 div.sk-estimator input.sk-toggleable__control:checked~label.sk-toggleable__label {background-color: #d4ebff;}#sk-container-id-3 div.sk-label input.sk-toggleable__control:checked~label.sk-toggleable__label {background-color: #d4ebff;}#sk-container-id-3 input.sk-hidden--visually {border: 0;clip: rect(1px 1px 1px 1px);clip: rect(1px, 1px, 1px, 1px);height: 1px;margin: -1px;overflow: hidden;padding: 0;position: absolute;width: 1px;}#sk-container-id-3 div.sk-estimator {font-family: monospace;background-color: #f0f8ff;border: 1px dotted black;border-radius: 0.25em;box-sizing: border-box;margin-bottom: 0.5em;}#sk-container-id-3 div.sk-estimator:hover {background-color: #d4ebff;}#sk-container-id-3 div.sk-parallel-item::after {content: \"\";width: 100%;border-bottom: 1px solid gray;flex-grow: 1;}#sk-container-id-3 div.sk-label:hover label.sk-toggleable__label {background-color: #d4ebff;}#sk-container-id-3 div.sk-serial::before {content: \"\";position: absolute;border-left: 1px solid gray;box-sizing: border-box;top: 0;bottom: 0;left: 50%;z-index: 0;}#sk-container-id-3 div.sk-serial {display: flex;flex-direction: column;align-items: center;background-color: white;padding-right: 0.2em;padding-left: 0.2em;position: relative;}#sk-container-id-3 div.sk-item {position: relative;z-index: 1;}#sk-container-id-3 div.sk-parallel {display: flex;align-items: stretch;justify-content: center;background-color: white;position: relative;}#sk-container-id-3 div.sk-item::before, #sk-container-id-3 div.sk-parallel-item::before {content: \"\";position: absolute;border-left: 1px solid gray;box-sizing: border-box;top: 0;bottom: 0;left: 50%;z-index: -1;}#sk-container-id-3 div.sk-parallel-item {display: flex;flex-direction: column;z-index: 1;position: relative;background-color: white;}#sk-container-id-3 div.sk-parallel-item:first-child::after {align-self: flex-end;width: 50%;}#sk-container-id-3 div.sk-parallel-item:last-child::after {align-self: flex-start;width: 50%;}#sk-container-id-3 div.sk-parallel-item:only-child::after {width: 0;}#sk-container-id-3 div.sk-dashed-wrapped {border: 1px dashed gray;margin: 0 0.4em 0.5em 0.4em;box-sizing: border-box;padding-bottom: 0.4em;background-color: white;}#sk-container-id-3 div.sk-label label {font-family: monospace;font-weight: bold;display: inline-block;line-height: 1.2em;}#sk-container-id-3 div.sk-label-container {text-align: center;}#sk-container-id-3 div.sk-container {/* jupyter's `normalize.less` sets `[hidden] { display: none; }` but bootstrap.min.css set `[hidden] { display: none !important; }` so we also need the `!important` here to be able to override the default hidden behavior on the sphinx rendered scikit-learn.org. See: https://github.com/scikit-learn/scikit-learn/issues/21755 */display: inline-block !important;position: relative;}#sk-container-id-3 div.sk-text-repr-fallback {display: none;}</style><div id=\"sk-container-id-3\" class=\"sk-top-container\"><div class=\"sk-text-repr-fallback\"><pre>LinearRegression()</pre><b>In a Jupyter environment, please rerun this cell to show the HTML representation or trust the notebook. <br />On GitHub, the HTML representation is unable to render, please try loading this page with nbviewer.org.</b></div><div class=\"sk-container\" hidden><div class=\"sk-item\"><div class=\"sk-estimator sk-toggleable\"><input class=\"sk-toggleable__control sk-hidden--visually\" id=\"sk-estimator-id-3\" type=\"checkbox\" checked><label for=\"sk-estimator-id-3\" class=\"sk-toggleable__label sk-toggleable__label-arrow\">LinearRegression</label><div class=\"sk-toggleable__content\"><pre>LinearRegression()</pre></div></div></div></div></div>"
      ],
      "text/plain": [
       "LinearRegression()"
      ]
     },
     "execution_count": 133,
     "metadata": {},
     "output_type": "execute_result"
    }
   ],
   "source": [
    "model.fit(x_train, y_train)"
   ]
  },
  {
   "cell_type": "code",
   "execution_count": 134,
   "metadata": {},
   "outputs": [],
   "source": [
    "y_pred=model.predict(x_test)"
   ]
  },
  {
   "cell_type": "code",
   "execution_count": 135,
   "metadata": {},
   "outputs": [
    {
     "data": {
      "text/plain": [
       "array([[ 0.06571346],\n",
       "       [-0.448263  ],\n",
       "       [ 0.21562326],\n",
       "       [ 0.94375658],\n",
       "       [-0.23410614]])"
      ]
     },
     "execution_count": 135,
     "metadata": {},
     "output_type": "execute_result"
    }
   ],
   "source": [
    "y_pred[:5]"
   ]
  },
  {
   "cell_type": "code",
   "execution_count": 136,
   "metadata": {},
   "outputs": [
    {
     "data": {
      "text/html": [
       "<div>\n",
       "<style scoped>\n",
       "    .dataframe tbody tr th:only-of-type {\n",
       "        vertical-align: middle;\n",
       "    }\n",
       "\n",
       "    .dataframe tbody tr th {\n",
       "        vertical-align: top;\n",
       "    }\n",
       "\n",
       "    .dataframe thead th {\n",
       "        text-align: right;\n",
       "    }\n",
       "</style>\n",
       "<table border=\"1\" class=\"dataframe\">\n",
       "  <thead>\n",
       "    <tr style=\"text-align: right;\">\n",
       "      <th></th>\n",
       "      <th>total_length</th>\n",
       "    </tr>\n",
       "  </thead>\n",
       "  <tbody>\n",
       "    <tr>\n",
       "      <th>30</th>\n",
       "      <td>1.378053</td>\n",
       "    </tr>\n",
       "    <tr>\n",
       "      <th>65</th>\n",
       "      <td>-0.253734</td>\n",
       "    </tr>\n",
       "    <tr>\n",
       "      <th>64</th>\n",
       "      <td>0.329047</td>\n",
       "    </tr>\n",
       "    <tr>\n",
       "      <th>53</th>\n",
       "      <td>1.028384</td>\n",
       "    </tr>\n",
       "    <tr>\n",
       "      <th>45</th>\n",
       "      <td>-0.719959</td>\n",
       "    </tr>\n",
       "  </tbody>\n",
       "</table>\n",
       "</div>"
      ],
      "text/plain": [
       "    total_length\n",
       "30      1.378053\n",
       "65     -0.253734\n",
       "64      0.329047\n",
       "53      1.028384\n",
       "45     -0.719959"
      ]
     },
     "execution_count": 136,
     "metadata": {},
     "output_type": "execute_result"
    }
   ],
   "source": [
    "y_test[:5]"
   ]
  },
  {
   "cell_type": "code",
   "execution_count": 137,
   "metadata": {},
   "outputs": [
    {
     "name": "stdout",
     "output_type": "stream",
     "text": [
      "Mean absolute Error: 1.201513132058769\n"
     ]
    }
   ],
   "source": [
    "from sklearn.metrics import mean_absolute_error\n",
    "MAE=mean_absolute_error(y_test, y_pred)\n",
    "print(f\"Mean absolute Error: {MAE}\")"
   ]
  },
  {
   "cell_type": "markdown",
   "metadata": {},
   "source": [
    "## Can we predict the total length of a Koala based on multiple factors such as headlength, skull width, and foot length?"
   ]
  },
  {
   "cell_type": "code",
   "execution_count": 138,
   "metadata": {},
   "outputs": [
    {
     "data": {
      "text/plain": [
       "Index(['koala_id', 'region', 'habitat', 'gender', 'age_in_years', 'Paw Size',\n",
       "       'total_length', 'head_length', 'ear_size', 'foot_length', 'skull_width',\n",
       "       'eye_diameter', 'chest_circumference', 'belly_circumference',\n",
       "       'age_group'],\n",
       "      dtype='object')"
      ]
     },
     "execution_count": 138,
     "metadata": {},
     "output_type": "execute_result"
    }
   ],
   "source": [
    "data.columns"
   ]
  },
  {
   "cell_type": "code",
   "execution_count": 139,
   "metadata": {},
   "outputs": [
    {
     "data": {
      "text/html": [
       "<div>\n",
       "<style scoped>\n",
       "    .dataframe tbody tr th:only-of-type {\n",
       "        vertical-align: middle;\n",
       "    }\n",
       "\n",
       "    .dataframe tbody tr th {\n",
       "        vertical-align: top;\n",
       "    }\n",
       "\n",
       "    .dataframe thead th {\n",
       "        text-align: right;\n",
       "    }\n",
       "</style>\n",
       "<table border=\"1\" class=\"dataframe\">\n",
       "  <thead>\n",
       "    <tr style=\"text-align: right;\">\n",
       "      <th></th>\n",
       "      <th>total_length</th>\n",
       "      <th>head_length</th>\n",
       "      <th>skull_width</th>\n",
       "      <th>foot_length</th>\n",
       "    </tr>\n",
       "  </thead>\n",
       "  <tbody>\n",
       "    <tr>\n",
       "      <th>0</th>\n",
       "      <td>0.445603</td>\n",
       "      <td>0.056125</td>\n",
       "      <td>0.223526</td>\n",
       "      <td>1.373816</td>\n",
       "    </tr>\n",
       "    <tr>\n",
       "      <th>1</th>\n",
       "      <td>1.028384</td>\n",
       "      <td>-0.108587</td>\n",
       "      <td>-0.028585</td>\n",
       "      <td>0.918777</td>\n",
       "    </tr>\n",
       "    <tr>\n",
       "      <th>2</th>\n",
       "      <td>1.960834</td>\n",
       "      <td>0.045830</td>\n",
       "      <td>0.187510</td>\n",
       "      <td>1.578583</td>\n",
       "    </tr>\n",
       "    <tr>\n",
       "      <th>3</th>\n",
       "      <td>1.144941</td>\n",
       "      <td>-0.036525</td>\n",
       "      <td>-0.073605</td>\n",
       "      <td>1.737847</td>\n",
       "    </tr>\n",
       "    <tr>\n",
       "      <th>4</th>\n",
       "      <td>-0.370290</td>\n",
       "      <td>-0.211531</td>\n",
       "      <td>-0.145637</td>\n",
       "      <td>0.577498</td>\n",
       "    </tr>\n",
       "  </tbody>\n",
       "</table>\n",
       "</div>"
      ],
      "text/plain": [
       "   total_length  head_length  skull_width  foot_length\n",
       "0      0.445603     0.056125     0.223526     1.373816\n",
       "1      1.028384    -0.108587    -0.028585     0.918777\n",
       "2      1.960834     0.045830     0.187510     1.578583\n",
       "3      1.144941    -0.036525    -0.073605     1.737847\n",
       "4     -0.370290    -0.211531    -0.145637     0.577498"
      ]
     },
     "execution_count": 139,
     "metadata": {},
     "output_type": "execute_result"
    }
   ],
   "source": [
    "df2=data_scale_df[['total_length','head_length','skull_width','foot_length']]\n",
    "df2.head()"
   ]
  },
  {
   "cell_type": "code",
   "execution_count": 140,
   "metadata": {},
   "outputs": [],
   "source": [
    "## seprate dependent and independent features.\n",
    "x=df2[['head_length','skull_width','foot_length']]\n",
    "y=df2['total_length']"
   ]
  },
  {
   "cell_type": "code",
   "execution_count": 141,
   "metadata": {},
   "outputs": [
    {
     "data": {
      "text/html": [
       "<div>\n",
       "<style scoped>\n",
       "    .dataframe tbody tr th:only-of-type {\n",
       "        vertical-align: middle;\n",
       "    }\n",
       "\n",
       "    .dataframe tbody tr th {\n",
       "        vertical-align: top;\n",
       "    }\n",
       "\n",
       "    .dataframe thead th {\n",
       "        text-align: right;\n",
       "    }\n",
       "</style>\n",
       "<table border=\"1\" class=\"dataframe\">\n",
       "  <thead>\n",
       "    <tr style=\"text-align: right;\">\n",
       "      <th></th>\n",
       "      <th>head_length</th>\n",
       "      <th>skull_width</th>\n",
       "      <th>foot_length</th>\n",
       "    </tr>\n",
       "  </thead>\n",
       "  <tbody>\n",
       "    <tr>\n",
       "      <th>0</th>\n",
       "      <td>0.056125</td>\n",
       "      <td>0.223526</td>\n",
       "      <td>1.373816</td>\n",
       "    </tr>\n",
       "    <tr>\n",
       "      <th>1</th>\n",
       "      <td>-0.108587</td>\n",
       "      <td>-0.028585</td>\n",
       "      <td>0.918777</td>\n",
       "    </tr>\n",
       "    <tr>\n",
       "      <th>2</th>\n",
       "      <td>0.045830</td>\n",
       "      <td>0.187510</td>\n",
       "      <td>1.578583</td>\n",
       "    </tr>\n",
       "    <tr>\n",
       "      <th>3</th>\n",
       "      <td>-0.036525</td>\n",
       "      <td>-0.073605</td>\n",
       "      <td>1.737847</td>\n",
       "    </tr>\n",
       "    <tr>\n",
       "      <th>4</th>\n",
       "      <td>-0.211531</td>\n",
       "      <td>-0.145637</td>\n",
       "      <td>0.577498</td>\n",
       "    </tr>\n",
       "  </tbody>\n",
       "</table>\n",
       "</div>"
      ],
      "text/plain": [
       "   head_length  skull_width  foot_length\n",
       "0     0.056125     0.223526     1.373816\n",
       "1    -0.108587    -0.028585     0.918777\n",
       "2     0.045830     0.187510     1.578583\n",
       "3    -0.036525    -0.073605     1.737847\n",
       "4    -0.211531    -0.145637     0.577498"
      ]
     },
     "execution_count": 141,
     "metadata": {},
     "output_type": "execute_result"
    }
   ],
   "source": [
    "x.head()"
   ]
  },
  {
   "cell_type": "code",
   "execution_count": 142,
   "metadata": {},
   "outputs": [
    {
     "data": {
      "text/plain": [
       "0      0.445603\n",
       "1      1.028384\n",
       "2      1.960834\n",
       "3      1.144941\n",
       "4     -0.370290\n",
       "         ...   \n",
       "99    -1.302740\n",
       "100   -1.069627\n",
       "101    0.445603\n",
       "102   -1.069627\n",
       "103    0.445603\n",
       "Name: total_length, Length: 104, dtype: float64"
      ]
     },
     "execution_count": 142,
     "metadata": {},
     "output_type": "execute_result"
    }
   ],
   "source": [
    "y"
   ]
  },
  {
   "cell_type": "code",
   "execution_count": 143,
   "metadata": {},
   "outputs": [
    {
     "data": {
      "text/plain": [
       "((72, 3), (32, 3), (72,), (32,))"
      ]
     },
     "execution_count": 143,
     "metadata": {},
     "output_type": "execute_result"
    }
   ],
   "source": [
    "## Spliting train and test data.\n",
    "from sklearn.model_selection import train_test_split\n",
    "x_train, x_test , y_train,y_test=train_test_split(x, y, test_size=0.30, random_state=42)\n",
    "x_train.shape, x_test.shape , y_train.shape,y_test.shape"
   ]
  },
  {
   "cell_type": "code",
   "execution_count": 144,
   "metadata": {},
   "outputs": [],
   "source": [
    "from sklearn.tree import DecisionTreeRegressor\n",
    "model2=DecisionTreeRegressor(max_depth=3)\n",
    "model3=DecisionTreeRegressor(max_depth=5)"
   ]
  },
  {
   "cell_type": "code",
   "execution_count": 145,
   "metadata": {},
   "outputs": [
    {
     "data": {
      "text/html": [
       "<style>#sk-container-id-4 {color: black;}#sk-container-id-4 pre{padding: 0;}#sk-container-id-4 div.sk-toggleable {background-color: white;}#sk-container-id-4 label.sk-toggleable__label {cursor: pointer;display: block;width: 100%;margin-bottom: 0;padding: 0.3em;box-sizing: border-box;text-align: center;}#sk-container-id-4 label.sk-toggleable__label-arrow:before {content: \"▸\";float: left;margin-right: 0.25em;color: #696969;}#sk-container-id-4 label.sk-toggleable__label-arrow:hover:before {color: black;}#sk-container-id-4 div.sk-estimator:hover label.sk-toggleable__label-arrow:before {color: black;}#sk-container-id-4 div.sk-toggleable__content {max-height: 0;max-width: 0;overflow: hidden;text-align: left;background-color: #f0f8ff;}#sk-container-id-4 div.sk-toggleable__content pre {margin: 0.2em;color: black;border-radius: 0.25em;background-color: #f0f8ff;}#sk-container-id-4 input.sk-toggleable__control:checked~div.sk-toggleable__content {max-height: 200px;max-width: 100%;overflow: auto;}#sk-container-id-4 input.sk-toggleable__control:checked~label.sk-toggleable__label-arrow:before {content: \"▾\";}#sk-container-id-4 div.sk-estimator input.sk-toggleable__control:checked~label.sk-toggleable__label {background-color: #d4ebff;}#sk-container-id-4 div.sk-label input.sk-toggleable__control:checked~label.sk-toggleable__label {background-color: #d4ebff;}#sk-container-id-4 input.sk-hidden--visually {border: 0;clip: rect(1px 1px 1px 1px);clip: rect(1px, 1px, 1px, 1px);height: 1px;margin: -1px;overflow: hidden;padding: 0;position: absolute;width: 1px;}#sk-container-id-4 div.sk-estimator {font-family: monospace;background-color: #f0f8ff;border: 1px dotted black;border-radius: 0.25em;box-sizing: border-box;margin-bottom: 0.5em;}#sk-container-id-4 div.sk-estimator:hover {background-color: #d4ebff;}#sk-container-id-4 div.sk-parallel-item::after {content: \"\";width: 100%;border-bottom: 1px solid gray;flex-grow: 1;}#sk-container-id-4 div.sk-label:hover label.sk-toggleable__label {background-color: #d4ebff;}#sk-container-id-4 div.sk-serial::before {content: \"\";position: absolute;border-left: 1px solid gray;box-sizing: border-box;top: 0;bottom: 0;left: 50%;z-index: 0;}#sk-container-id-4 div.sk-serial {display: flex;flex-direction: column;align-items: center;background-color: white;padding-right: 0.2em;padding-left: 0.2em;position: relative;}#sk-container-id-4 div.sk-item {position: relative;z-index: 1;}#sk-container-id-4 div.sk-parallel {display: flex;align-items: stretch;justify-content: center;background-color: white;position: relative;}#sk-container-id-4 div.sk-item::before, #sk-container-id-4 div.sk-parallel-item::before {content: \"\";position: absolute;border-left: 1px solid gray;box-sizing: border-box;top: 0;bottom: 0;left: 50%;z-index: -1;}#sk-container-id-4 div.sk-parallel-item {display: flex;flex-direction: column;z-index: 1;position: relative;background-color: white;}#sk-container-id-4 div.sk-parallel-item:first-child::after {align-self: flex-end;width: 50%;}#sk-container-id-4 div.sk-parallel-item:last-child::after {align-self: flex-start;width: 50%;}#sk-container-id-4 div.sk-parallel-item:only-child::after {width: 0;}#sk-container-id-4 div.sk-dashed-wrapped {border: 1px dashed gray;margin: 0 0.4em 0.5em 0.4em;box-sizing: border-box;padding-bottom: 0.4em;background-color: white;}#sk-container-id-4 div.sk-label label {font-family: monospace;font-weight: bold;display: inline-block;line-height: 1.2em;}#sk-container-id-4 div.sk-label-container {text-align: center;}#sk-container-id-4 div.sk-container {/* jupyter's `normalize.less` sets `[hidden] { display: none; }` but bootstrap.min.css set `[hidden] { display: none !important; }` so we also need the `!important` here to be able to override the default hidden behavior on the sphinx rendered scikit-learn.org. See: https://github.com/scikit-learn/scikit-learn/issues/21755 */display: inline-block !important;position: relative;}#sk-container-id-4 div.sk-text-repr-fallback {display: none;}</style><div id=\"sk-container-id-4\" class=\"sk-top-container\"><div class=\"sk-text-repr-fallback\"><pre>DecisionTreeRegressor(max_depth=3)</pre><b>In a Jupyter environment, please rerun this cell to show the HTML representation or trust the notebook. <br />On GitHub, the HTML representation is unable to render, please try loading this page with nbviewer.org.</b></div><div class=\"sk-container\" hidden><div class=\"sk-item\"><div class=\"sk-estimator sk-toggleable\"><input class=\"sk-toggleable__control sk-hidden--visually\" id=\"sk-estimator-id-4\" type=\"checkbox\" checked><label for=\"sk-estimator-id-4\" class=\"sk-toggleable__label sk-toggleable__label-arrow\">DecisionTreeRegressor</label><div class=\"sk-toggleable__content\"><pre>DecisionTreeRegressor(max_depth=3)</pre></div></div></div></div></div>"
      ],
      "text/plain": [
       "DecisionTreeRegressor(max_depth=3)"
      ]
     },
     "execution_count": 145,
     "metadata": {},
     "output_type": "execute_result"
    }
   ],
   "source": [
    "model2.fit(x_train, y_train)"
   ]
  },
  {
   "cell_type": "code",
   "execution_count": 146,
   "metadata": {},
   "outputs": [
    {
     "data": {
      "text/html": [
       "<style>#sk-container-id-5 {color: black;}#sk-container-id-5 pre{padding: 0;}#sk-container-id-5 div.sk-toggleable {background-color: white;}#sk-container-id-5 label.sk-toggleable__label {cursor: pointer;display: block;width: 100%;margin-bottom: 0;padding: 0.3em;box-sizing: border-box;text-align: center;}#sk-container-id-5 label.sk-toggleable__label-arrow:before {content: \"▸\";float: left;margin-right: 0.25em;color: #696969;}#sk-container-id-5 label.sk-toggleable__label-arrow:hover:before {color: black;}#sk-container-id-5 div.sk-estimator:hover label.sk-toggleable__label-arrow:before {color: black;}#sk-container-id-5 div.sk-toggleable__content {max-height: 0;max-width: 0;overflow: hidden;text-align: left;background-color: #f0f8ff;}#sk-container-id-5 div.sk-toggleable__content pre {margin: 0.2em;color: black;border-radius: 0.25em;background-color: #f0f8ff;}#sk-container-id-5 input.sk-toggleable__control:checked~div.sk-toggleable__content {max-height: 200px;max-width: 100%;overflow: auto;}#sk-container-id-5 input.sk-toggleable__control:checked~label.sk-toggleable__label-arrow:before {content: \"▾\";}#sk-container-id-5 div.sk-estimator input.sk-toggleable__control:checked~label.sk-toggleable__label {background-color: #d4ebff;}#sk-container-id-5 div.sk-label input.sk-toggleable__control:checked~label.sk-toggleable__label {background-color: #d4ebff;}#sk-container-id-5 input.sk-hidden--visually {border: 0;clip: rect(1px 1px 1px 1px);clip: rect(1px, 1px, 1px, 1px);height: 1px;margin: -1px;overflow: hidden;padding: 0;position: absolute;width: 1px;}#sk-container-id-5 div.sk-estimator {font-family: monospace;background-color: #f0f8ff;border: 1px dotted black;border-radius: 0.25em;box-sizing: border-box;margin-bottom: 0.5em;}#sk-container-id-5 div.sk-estimator:hover {background-color: #d4ebff;}#sk-container-id-5 div.sk-parallel-item::after {content: \"\";width: 100%;border-bottom: 1px solid gray;flex-grow: 1;}#sk-container-id-5 div.sk-label:hover label.sk-toggleable__label {background-color: #d4ebff;}#sk-container-id-5 div.sk-serial::before {content: \"\";position: absolute;border-left: 1px solid gray;box-sizing: border-box;top: 0;bottom: 0;left: 50%;z-index: 0;}#sk-container-id-5 div.sk-serial {display: flex;flex-direction: column;align-items: center;background-color: white;padding-right: 0.2em;padding-left: 0.2em;position: relative;}#sk-container-id-5 div.sk-item {position: relative;z-index: 1;}#sk-container-id-5 div.sk-parallel {display: flex;align-items: stretch;justify-content: center;background-color: white;position: relative;}#sk-container-id-5 div.sk-item::before, #sk-container-id-5 div.sk-parallel-item::before {content: \"\";position: absolute;border-left: 1px solid gray;box-sizing: border-box;top: 0;bottom: 0;left: 50%;z-index: -1;}#sk-container-id-5 div.sk-parallel-item {display: flex;flex-direction: column;z-index: 1;position: relative;background-color: white;}#sk-container-id-5 div.sk-parallel-item:first-child::after {align-self: flex-end;width: 50%;}#sk-container-id-5 div.sk-parallel-item:last-child::after {align-self: flex-start;width: 50%;}#sk-container-id-5 div.sk-parallel-item:only-child::after {width: 0;}#sk-container-id-5 div.sk-dashed-wrapped {border: 1px dashed gray;margin: 0 0.4em 0.5em 0.4em;box-sizing: border-box;padding-bottom: 0.4em;background-color: white;}#sk-container-id-5 div.sk-label label {font-family: monospace;font-weight: bold;display: inline-block;line-height: 1.2em;}#sk-container-id-5 div.sk-label-container {text-align: center;}#sk-container-id-5 div.sk-container {/* jupyter's `normalize.less` sets `[hidden] { display: none; }` but bootstrap.min.css set `[hidden] { display: none !important; }` so we also need the `!important` here to be able to override the default hidden behavior on the sphinx rendered scikit-learn.org. See: https://github.com/scikit-learn/scikit-learn/issues/21755 */display: inline-block !important;position: relative;}#sk-container-id-5 div.sk-text-repr-fallback {display: none;}</style><div id=\"sk-container-id-5\" class=\"sk-top-container\"><div class=\"sk-text-repr-fallback\"><pre>DecisionTreeRegressor(max_depth=5)</pre><b>In a Jupyter environment, please rerun this cell to show the HTML representation or trust the notebook. <br />On GitHub, the HTML representation is unable to render, please try loading this page with nbviewer.org.</b></div><div class=\"sk-container\" hidden><div class=\"sk-item\"><div class=\"sk-estimator sk-toggleable\"><input class=\"sk-toggleable__control sk-hidden--visually\" id=\"sk-estimator-id-5\" type=\"checkbox\" checked><label for=\"sk-estimator-id-5\" class=\"sk-toggleable__label sk-toggleable__label-arrow\">DecisionTreeRegressor</label><div class=\"sk-toggleable__content\"><pre>DecisionTreeRegressor(max_depth=5)</pre></div></div></div></div></div>"
      ],
      "text/plain": [
       "DecisionTreeRegressor(max_depth=5)"
      ]
     },
     "execution_count": 146,
     "metadata": {},
     "output_type": "execute_result"
    }
   ],
   "source": [
    "model3.fit(x_train, y_train)"
   ]
  },
  {
   "cell_type": "code",
   "execution_count": 147,
   "metadata": {},
   "outputs": [],
   "source": [
    "y_pred_model2=model2.predict(x_test)"
   ]
  },
  {
   "cell_type": "code",
   "execution_count": 148,
   "metadata": {},
   "outputs": [
    {
     "data": {
      "text/plain": [
       "array([-0.12163687, -0.12163687,  0.31111543,  0.31111543, -0.12163687,\n",
       "        0.31111543,  0.31111543,  0.31111543,  1.04895318,  1.04895318,\n",
       "       -0.12163687,  1.04895318,  0.31111543, -0.12163687, -0.12163687,\n",
       "        0.31111543, -0.12163687, -0.12163687,  0.31111543, -0.12163687,\n",
       "        0.31111543,  0.31111543, -0.12163687,  0.31111543, -0.12163687,\n",
       "       -2.7014144 , -0.12163687, -1.30273984, -1.10292918,  0.31111543,\n",
       "       -1.10292918, -0.12163687])"
      ]
     },
     "execution_count": 148,
     "metadata": {},
     "output_type": "execute_result"
    }
   ],
   "source": [
    "y_pred_model2"
   ]
  },
  {
   "cell_type": "code",
   "execution_count": 149,
   "metadata": {},
   "outputs": [
    {
     "data": {
      "text/plain": [
       "30    1.378053\n",
       "65   -0.253734\n",
       "64    0.329047\n",
       "53    1.028384\n",
       "Name: total_length, dtype: float64"
      ]
     },
     "execution_count": 149,
     "metadata": {},
     "output_type": "execute_result"
    }
   ],
   "source": [
    "y_test[:4]"
   ]
  },
  {
   "cell_type": "code",
   "execution_count": 150,
   "metadata": {},
   "outputs": [
    {
     "name": "stdout",
     "output_type": "stream",
     "text": [
      "0.6866139828163156\n"
     ]
    }
   ],
   "source": [
    "MAE_for_model2=mean_absolute_error(y_test, y_pred_model2)\n",
    "print(MAE_for_model2)"
   ]
  },
  {
   "cell_type": "code",
   "execution_count": 151,
   "metadata": {},
   "outputs": [
    {
     "data": {
      "text/plain": [
       "array([ 0.44560337, -1.30273984,  0.59546136,  0.59546136, -0.10387592,\n",
       "        0.08427911,  0.59546136,  0.59546136,  1.14494065,  0.71050386,\n",
       "        0.44560337,  0.71050386,  0.08427911,  0.44560337,  0.44560337,\n",
       "        0.59546136, -1.30273984, -1.30273984,  0.59546136, -0.10387592,\n",
       "        0.08427911,  0.59546136, -1.30273984,  0.08427911, -1.30273984,\n",
       "       -2.81797061, -1.30273984, -1.30273984, -1.36101794,  0.59546136,\n",
       "       -0.71995877,  0.44560337])"
      ]
     },
     "execution_count": 151,
     "metadata": {},
     "output_type": "execute_result"
    }
   ],
   "source": [
    "y_pred_model3=model3.predict(x_test)\n",
    "y_pred_model3"
   ]
  },
  {
   "cell_type": "code",
   "execution_count": 152,
   "metadata": {},
   "outputs": [
    {
     "name": "stdout",
     "output_type": "stream",
     "text": [
      "0.7474687549319499\n"
     ]
    }
   ],
   "source": [
    "MAE_for_model3=mean_absolute_error(y_test, y_pred_model3)\n",
    "print(MAE_for_model3)"
   ]
  },
  {
   "cell_type": "markdown",
   "metadata": {},
   "source": [
    "- Decision Tree model 2 gives gives more accuracy having tree depth=3. "
   ]
  },
  {
   "cell_type": "markdown",
   "metadata": {},
   "source": [
    "## Do environmental factors such as state affect Koala’s physical characteristics?"
   ]
  },
  {
   "cell_type": "code",
   "execution_count": 153,
   "metadata": {},
   "outputs": [
    {
     "data": {
      "text/html": [
       "<div>\n",
       "<style scoped>\n",
       "    .dataframe tbody tr th:only-of-type {\n",
       "        vertical-align: middle;\n",
       "    }\n",
       "\n",
       "    .dataframe tbody tr th {\n",
       "        vertical-align: top;\n",
       "    }\n",
       "\n",
       "    .dataframe thead th {\n",
       "        text-align: right;\n",
       "    }\n",
       "</style>\n",
       "<table border=\"1\" class=\"dataframe\">\n",
       "  <thead>\n",
       "    <tr style=\"text-align: right;\">\n",
       "      <th></th>\n",
       "      <th>koala_id</th>\n",
       "      <th>region</th>\n",
       "      <th>habitat</th>\n",
       "      <th>gender</th>\n",
       "      <th>age_in_years</th>\n",
       "      <th>Paw Size</th>\n",
       "      <th>total_length</th>\n",
       "      <th>head_length</th>\n",
       "      <th>ear_size</th>\n",
       "      <th>foot_length</th>\n",
       "      <th>skull_width</th>\n",
       "      <th>eye_diameter</th>\n",
       "      <th>chest_circumference</th>\n",
       "      <th>belly_circumference</th>\n",
       "      <th>age_group</th>\n",
       "    </tr>\n",
       "  </thead>\n",
       "  <tbody>\n",
       "    <tr>\n",
       "      <th>0</th>\n",
       "      <td>1</td>\n",
       "      <td>1</td>\n",
       "      <td>1.0</td>\n",
       "      <td>0.0</td>\n",
       "      <td>8.0</td>\n",
       "      <td>16.0</td>\n",
       "      <td>77.0</td>\n",
       "      <td>19.1</td>\n",
       "      <td>19.5</td>\n",
       "      <td>24.5</td>\n",
       "      <td>15.4</td>\n",
       "      <td>2.2</td>\n",
       "      <td>63.0</td>\n",
       "      <td>61.0</td>\n",
       "      <td>5-10</td>\n",
       "    </tr>\n",
       "    <tr>\n",
       "      <th>1</th>\n",
       "      <td>2</td>\n",
       "      <td>1</td>\n",
       "      <td>1.0</td>\n",
       "      <td>1.0</td>\n",
       "      <td>6.0</td>\n",
       "      <td>16.5</td>\n",
       "      <td>79.5</td>\n",
       "      <td>17.5</td>\n",
       "      <td>16.2</td>\n",
       "      <td>22.5</td>\n",
       "      <td>12.6</td>\n",
       "      <td>3.0</td>\n",
       "      <td>63.5</td>\n",
       "      <td>58.0</td>\n",
       "      <td>5-10</td>\n",
       "    </tr>\n",
       "    <tr>\n",
       "      <th>2</th>\n",
       "      <td>3</td>\n",
       "      <td>1</td>\n",
       "      <td>1.0</td>\n",
       "      <td>1.0</td>\n",
       "      <td>6.0</td>\n",
       "      <td>19.0</td>\n",
       "      <td>83.5</td>\n",
       "      <td>19.0</td>\n",
       "      <td>16.9</td>\n",
       "      <td>25.4</td>\n",
       "      <td>15.0</td>\n",
       "      <td>2.5</td>\n",
       "      <td>65.0</td>\n",
       "      <td>59.0</td>\n",
       "      <td>5-10</td>\n",
       "    </tr>\n",
       "    <tr>\n",
       "      <th>3</th>\n",
       "      <td>4</td>\n",
       "      <td>1</td>\n",
       "      <td>1.0</td>\n",
       "      <td>1.0</td>\n",
       "      <td>6.0</td>\n",
       "      <td>18.0</td>\n",
       "      <td>80.0</td>\n",
       "      <td>18.2</td>\n",
       "      <td>17.2</td>\n",
       "      <td>26.1</td>\n",
       "      <td>12.1</td>\n",
       "      <td>2.2</td>\n",
       "      <td>63.0</td>\n",
       "      <td>59.0</td>\n",
       "      <td>5-10</td>\n",
       "    </tr>\n",
       "    <tr>\n",
       "      <th>4</th>\n",
       "      <td>5</td>\n",
       "      <td>1</td>\n",
       "      <td>1.0</td>\n",
       "      <td>1.0</td>\n",
       "      <td>2.0</td>\n",
       "      <td>16.0</td>\n",
       "      <td>73.5</td>\n",
       "      <td>16.5</td>\n",
       "      <td>18.2</td>\n",
       "      <td>21.0</td>\n",
       "      <td>11.3</td>\n",
       "      <td>2.1</td>\n",
       "      <td>63.5</td>\n",
       "      <td>58.0</td>\n",
       "      <td>0-5</td>\n",
       "    </tr>\n",
       "  </tbody>\n",
       "</table>\n",
       "</div>"
      ],
      "text/plain": [
       "   koala_id  region  habitat  gender  age_in_years  Paw Size  total_length  \\\n",
       "0         1       1      1.0     0.0           8.0      16.0          77.0   \n",
       "1         2       1      1.0     1.0           6.0      16.5          79.5   \n",
       "2         3       1      1.0     1.0           6.0      19.0          83.5   \n",
       "3         4       1      1.0     1.0           6.0      18.0          80.0   \n",
       "4         5       1      1.0     1.0           2.0      16.0          73.5   \n",
       "\n",
       "   head_length  ear_size  foot_length  skull_width  eye_diameter  \\\n",
       "0         19.1      19.5         24.5         15.4           2.2   \n",
       "1         17.5      16.2         22.5         12.6           3.0   \n",
       "2         19.0      16.9         25.4         15.0           2.5   \n",
       "3         18.2      17.2         26.1         12.1           2.2   \n",
       "4         16.5      18.2         21.0         11.3           2.1   \n",
       "\n",
       "   chest_circumference  belly_circumference age_group  \n",
       "0                 63.0                 61.0      5-10  \n",
       "1                 63.5                 58.0      5-10  \n",
       "2                 65.0                 59.0      5-10  \n",
       "3                 63.0                 59.0      5-10  \n",
       "4                 63.5                 58.0       0-5  "
      ]
     },
     "execution_count": 153,
     "metadata": {},
     "output_type": "execute_result"
    }
   ],
   "source": [
    "data.head()"
   ]
  },
  {
   "cell_type": "code",
   "execution_count": 154,
   "metadata": {},
   "outputs": [
    {
     "data": {
      "text/html": [
       "<div>\n",
       "<style scoped>\n",
       "    .dataframe tbody tr th:only-of-type {\n",
       "        vertical-align: middle;\n",
       "    }\n",
       "\n",
       "    .dataframe tbody tr th {\n",
       "        vertical-align: top;\n",
       "    }\n",
       "\n",
       "    .dataframe thead tr th {\n",
       "        text-align: left;\n",
       "    }\n",
       "\n",
       "    .dataframe thead tr:last-of-type th {\n",
       "        text-align: right;\n",
       "    }\n",
       "</style>\n",
       "<table border=\"1\" class=\"dataframe\">\n",
       "  <thead>\n",
       "    <tr>\n",
       "      <th></th>\n",
       "      <th colspan=\"2\" halign=\"left\">Paw Size</th>\n",
       "      <th colspan=\"2\" halign=\"left\">total_length</th>\n",
       "      <th colspan=\"2\" halign=\"left\">head_length</th>\n",
       "      <th colspan=\"2\" halign=\"left\">ear_size</th>\n",
       "      <th colspan=\"2\" halign=\"left\">foot_length</th>\n",
       "      <th colspan=\"2\" halign=\"left\">skull_width</th>\n",
       "      <th colspan=\"2\" halign=\"left\">eye_diameter</th>\n",
       "      <th colspan=\"2\" halign=\"left\">chest_circumference</th>\n",
       "      <th colspan=\"2\" halign=\"left\">belly_circumference</th>\n",
       "    </tr>\n",
       "    <tr>\n",
       "      <th></th>\n",
       "      <th>mean</th>\n",
       "      <th>std</th>\n",
       "      <th>mean</th>\n",
       "      <th>std</th>\n",
       "      <th>mean</th>\n",
       "      <th>std</th>\n",
       "      <th>mean</th>\n",
       "      <th>std</th>\n",
       "      <th>mean</th>\n",
       "      <th>std</th>\n",
       "      <th>mean</th>\n",
       "      <th>std</th>\n",
       "      <th>mean</th>\n",
       "      <th>std</th>\n",
       "      <th>mean</th>\n",
       "      <th>std</th>\n",
       "      <th>mean</th>\n",
       "      <th>std</th>\n",
       "    </tr>\n",
       "    <tr>\n",
       "      <th>region</th>\n",
       "      <th></th>\n",
       "      <th></th>\n",
       "      <th></th>\n",
       "      <th></th>\n",
       "      <th></th>\n",
       "      <th></th>\n",
       "      <th></th>\n",
       "      <th></th>\n",
       "      <th></th>\n",
       "      <th></th>\n",
       "      <th></th>\n",
       "      <th></th>\n",
       "      <th></th>\n",
       "      <th></th>\n",
       "      <th></th>\n",
       "      <th></th>\n",
       "      <th></th>\n",
       "      <th></th>\n",
       "    </tr>\n",
       "  </thead>\n",
       "  <tbody>\n",
       "    <tr>\n",
       "      <th>1</th>\n",
       "      <td>16.378788</td>\n",
       "      <td>1.620331</td>\n",
       "      <td>77.712121</td>\n",
       "      <td>2.989644</td>\n",
       "      <td>18.724242</td>\n",
       "      <td>1.501464</td>\n",
       "      <td>17.575758</td>\n",
       "      <td>1.364054</td>\n",
       "      <td>22.99697</td>\n",
       "      <td>2.130065</td>\n",
       "      <td>15.469697</td>\n",
       "      <td>19.039818</td>\n",
       "      <td>2.024242</td>\n",
       "      <td>0.599495</td>\n",
       "      <td>62.878788</td>\n",
       "      <td>1.866775</td>\n",
       "      <td>58.272727</td>\n",
       "      <td>2.365411</td>\n",
       "    </tr>\n",
       "    <tr>\n",
       "      <th>2</th>\n",
       "      <td>14.807692</td>\n",
       "      <td>1.465413</td>\n",
       "      <td>69.769231</td>\n",
       "      <td>3.897731</td>\n",
       "      <td>14.738462</td>\n",
       "      <td>3.111414</td>\n",
       "      <td>16.200000</td>\n",
       "      <td>3.685557</td>\n",
       "      <td>NaN</td>\n",
       "      <td>NaN</td>\n",
       "      <td>10.276923</td>\n",
       "      <td>2.201573</td>\n",
       "      <td>1.569231</td>\n",
       "      <td>0.955148</td>\n",
       "      <td>61.346154</td>\n",
       "      <td>1.637893</td>\n",
       "      <td>56.115385</td>\n",
       "      <td>3.241359</td>\n",
       "    </tr>\n",
       "    <tr>\n",
       "      <th>3</th>\n",
       "      <td>17.214286</td>\n",
       "      <td>1.867644</td>\n",
       "      <td>76.071429</td>\n",
       "      <td>3.346996</td>\n",
       "      <td>19.571429</td>\n",
       "      <td>3.112724</td>\n",
       "      <td>10.257143</td>\n",
       "      <td>1.105829</td>\n",
       "      <td>16.6</td>\n",
       "      <td>1.725302</td>\n",
       "      <td>13.9</td>\n",
       "      <td>2.804164</td>\n",
       "      <td>3.071429</td>\n",
       "      <td>0.951690</td>\n",
       "      <td>62.571429</td>\n",
       "      <td>1.539171</td>\n",
       "      <td>59.857143</td>\n",
       "      <td>2.075939</td>\n",
       "    </tr>\n",
       "    <tr>\n",
       "      <th>4</th>\n",
       "      <td>19.714286</td>\n",
       "      <td>1.799471</td>\n",
       "      <td>80.242857</td>\n",
       "      <td>2.482510</td>\n",
       "      <td>22.614286</td>\n",
       "      <td>4.389164</td>\n",
       "      <td>24.985714</td>\n",
       "      <td>37.675696</td>\n",
       "      <td>18.928571</td>\n",
       "      <td>3.64084</td>\n",
       "      <td>16.685714</td>\n",
       "      <td>2.335543</td>\n",
       "      <td>59.042857</td>\n",
       "      <td>150.571144</td>\n",
       "      <td>64.642857</td>\n",
       "      <td>2.115701</td>\n",
       "      <td>59.571429</td>\n",
       "      <td>3.16792</td>\n",
       "    </tr>\n",
       "    <tr>\n",
       "      <th>5</th>\n",
       "      <td>17.653846</td>\n",
       "      <td>1.281025</td>\n",
       "      <td>74.923077</td>\n",
       "      <td>3.005870</td>\n",
       "      <td>17.176923</td>\n",
       "      <td>4.211127</td>\n",
       "      <td>8.869231</td>\n",
       "      <td>1.516237</td>\n",
       "      <td>NaN</td>\n",
       "      <td>NaN</td>\n",
       "      <td>11.230769</td>\n",
       "      <td>1.975004</td>\n",
       "      <td>2.423077</td>\n",
       "      <td>1.179091</td>\n",
       "      <td>61.653846</td>\n",
       "      <td>1.434466</td>\n",
       "      <td>57.038462</td>\n",
       "      <td>2.925901</td>\n",
       "    </tr>\n",
       "    <tr>\n",
       "      <th>6</th>\n",
       "      <td>17.653846</td>\n",
       "      <td>1.650563</td>\n",
       "      <td>72.538462</td>\n",
       "      <td>3.654116</td>\n",
       "      <td>21.861538</td>\n",
       "      <td>26.761276</td>\n",
       "      <td>8.969231</td>\n",
       "      <td>1.364664</td>\n",
       "      <td>13.069231</td>\n",
       "      <td>1.882102</td>\n",
       "      <td>9.192308</td>\n",
       "      <td>2.412627</td>\n",
       "      <td>2.376923</td>\n",
       "      <td>1.351637</td>\n",
       "      <td>60.230769</td>\n",
       "      <td>1.576063</td>\n",
       "      <td>NaN</td>\n",
       "      <td>NaN</td>\n",
       "    </tr>\n",
       "    <tr>\n",
       "      <th>7</th>\n",
       "      <td>17.694444</td>\n",
       "      <td>1.646198</td>\n",
       "      <td>73.694444</td>\n",
       "      <td>3.116082</td>\n",
       "      <td>17.633333</td>\n",
       "      <td>2.968065</td>\n",
       "      <td>60.355556</td>\n",
       "      <td>209.751414</td>\n",
       "      <td>15.738889</td>\n",
       "      <td>2.295299</td>\n",
       "      <td>NaN</td>\n",
       "      <td>NaN</td>\n",
       "      <td>1.544444</td>\n",
       "      <td>0.615699</td>\n",
       "      <td>61.138889</td>\n",
       "      <td>1.780660</td>\n",
       "      <td>56.916667</td>\n",
       "      <td>2.197927</td>\n",
       "    </tr>\n",
       "  </tbody>\n",
       "</table>\n",
       "</div>"
      ],
      "text/plain": [
       "         Paw Size           total_length           head_length             \\\n",
       "             mean       std         mean       std        mean        std   \n",
       "region                                                                      \n",
       "1       16.378788  1.620331    77.712121  2.989644   18.724242   1.501464   \n",
       "2       14.807692  1.465413    69.769231  3.897731   14.738462   3.111414   \n",
       "3       17.214286  1.867644    76.071429  3.346996   19.571429   3.112724   \n",
       "4       19.714286  1.799471    80.242857  2.482510   22.614286   4.389164   \n",
       "5       17.653846  1.281025    74.923077  3.005870   17.176923   4.211127   \n",
       "6       17.653846  1.650563    72.538462  3.654116   21.861538  26.761276   \n",
       "7       17.694444  1.646198    73.694444  3.116082   17.633333   2.968065   \n",
       "\n",
       "         ear_size             foot_length           skull_width             \\\n",
       "             mean         std        mean       std        mean        std   \n",
       "region                                                                       \n",
       "1       17.575758    1.364054    22.99697  2.130065   15.469697  19.039818   \n",
       "2       16.200000    3.685557         NaN       NaN   10.276923   2.201573   \n",
       "3       10.257143    1.105829        16.6  1.725302        13.9   2.804164   \n",
       "4       24.985714   37.675696   18.928571   3.64084   16.685714   2.335543   \n",
       "5        8.869231    1.516237         NaN       NaN   11.230769   1.975004   \n",
       "6        8.969231    1.364664   13.069231  1.882102    9.192308   2.412627   \n",
       "7       60.355556  209.751414   15.738889  2.295299         NaN        NaN   \n",
       "\n",
       "       eye_diameter             chest_circumference            \\\n",
       "               mean         std                mean       std   \n",
       "region                                                          \n",
       "1          2.024242    0.599495           62.878788  1.866775   \n",
       "2          1.569231    0.955148           61.346154  1.637893   \n",
       "3          3.071429    0.951690           62.571429  1.539171   \n",
       "4         59.042857  150.571144           64.642857  2.115701   \n",
       "5          2.423077    1.179091           61.653846  1.434466   \n",
       "6          2.376923    1.351637           60.230769  1.576063   \n",
       "7          1.544444    0.615699           61.138889  1.780660   \n",
       "\n",
       "       belly_circumference            \n",
       "                      mean       std  \n",
       "region                                \n",
       "1                58.272727  2.365411  \n",
       "2                56.115385  3.241359  \n",
       "3                59.857143  2.075939  \n",
       "4                59.571429   3.16792  \n",
       "5                57.038462  2.925901  \n",
       "6                      NaN       NaN  \n",
       "7                56.916667  2.197927  "
      ]
     },
     "execution_count": 154,
     "metadata": {},
     "output_type": "execute_result"
    }
   ],
   "source": [
    "grouped_by_region = data.groupby('region').agg({\n",
    "    'Paw Size': ['mean', 'std'],\n",
    "    'total_length': ['mean', 'std'],\n",
    "    'head_length': ['mean', 'std'],\n",
    "    'ear_size': ['mean', 'std'],\n",
    "    'foot_length': ['mean', 'std'],\n",
    "    'skull_width': ['mean', 'std'],\n",
    "    'eye_diameter': ['mean', 'std'],\n",
    "    'chest_circumference': ['mean', 'std'],\n",
    "    'belly_circumference': ['mean', 'std']\n",
    "})\n",
    "\n",
    "grouped_by_region\n"
   ]
  },
  {
   "cell_type": "markdown",
   "metadata": {},
   "source": [
    "- 1. The result in the contain mean and sd deviation of each of these characteristics, for each region. "
   ]
  },
  {
   "cell_type": "markdown",
   "metadata": {},
   "source": [
    "## Insights: \n",
    "1. Paw Size\n",
    "- Mean 14.80 to 19.7 accross region.\n",
    "This tell us that. on average, koala in region 1. hav paw size 14.80 to 19.7, with variations of around 1.62. \n",
    "\n",
    "2. Total Length: The total length varies between 69.8 cm and 80.2 cm across regions.\n",
    "\n",
    "3. Head Length: The head length shows noticeable variation, with averages between 14.7 cm and 22.6 cm across regions.\n",
    "\n",
    "4. Ear Size: There's significant variation in ear size, particularly in regions 4 and 7, where the values are quite high.\n"
   ]
  },
  {
   "cell_type": "markdown",
   "metadata": {},
   "source": [
    "## What factors are correlated with the total length of a Koala?"
   ]
  },
  {
   "cell_type": "code",
   "execution_count": 160,
   "metadata": {},
   "outputs": [],
   "source": [
    "data.drop('age_group', axis=1,inplace=True)"
   ]
  },
  {
   "cell_type": "code",
   "execution_count": 164,
   "metadata": {},
   "outputs": [
    {
     "data": {
      "text/html": [
       "<div>\n",
       "<style scoped>\n",
       "    .dataframe tbody tr th:only-of-type {\n",
       "        vertical-align: middle;\n",
       "    }\n",
       "\n",
       "    .dataframe tbody tr th {\n",
       "        vertical-align: top;\n",
       "    }\n",
       "\n",
       "    .dataframe thead th {\n",
       "        text-align: right;\n",
       "    }\n",
       "</style>\n",
       "<table border=\"1\" class=\"dataframe\">\n",
       "  <thead>\n",
       "    <tr style=\"text-align: right;\">\n",
       "      <th></th>\n",
       "      <th>koala_id</th>\n",
       "      <th>region</th>\n",
       "      <th>habitat</th>\n",
       "      <th>gender</th>\n",
       "      <th>age_in_years</th>\n",
       "      <th>Paw Size</th>\n",
       "      <th>total_length</th>\n",
       "      <th>head_length</th>\n",
       "      <th>ear_size</th>\n",
       "      <th>foot_length</th>\n",
       "      <th>skull_width</th>\n",
       "      <th>eye_diameter</th>\n",
       "      <th>chest_circumference</th>\n",
       "      <th>belly_circumference</th>\n",
       "    </tr>\n",
       "  </thead>\n",
       "  <tbody>\n",
       "    <tr>\n",
       "      <th>koala_id</th>\n",
       "      <td>1.000000</td>\n",
       "      <td>0.970353</td>\n",
       "      <td>-0.179875</td>\n",
       "      <td>-0.252397</td>\n",
       "      <td>-0.194525</td>\n",
       "      <td>0.315351</td>\n",
       "      <td>-0.334329</td>\n",
       "      <td>0.006662</td>\n",
       "      <td>0.088500</td>\n",
       "      <td>-0.782791</td>\n",
       "      <td>-0.154043</td>\n",
       "      <td>0.003170</td>\n",
       "      <td>-0.402303</td>\n",
       "      <td>-0.213474</td>\n",
       "    </tr>\n",
       "    <tr>\n",
       "      <th>region</th>\n",
       "      <td>0.970353</td>\n",
       "      <td>1.000000</td>\n",
       "      <td>-0.160410</td>\n",
       "      <td>-0.226421</td>\n",
       "      <td>-0.131423</td>\n",
       "      <td>0.380444</td>\n",
       "      <td>-0.260843</td>\n",
       "      <td>0.039648</td>\n",
       "      <td>0.106581</td>\n",
       "      <td>-0.783980</td>\n",
       "      <td>-0.130858</td>\n",
       "      <td>0.015183</td>\n",
       "      <td>-0.345494</td>\n",
       "      <td>-0.177662</td>\n",
       "    </tr>\n",
       "    <tr>\n",
       "      <th>habitat</th>\n",
       "      <td>-0.179875</td>\n",
       "      <td>-0.160410</td>\n",
       "      <td>1.000000</td>\n",
       "      <td>0.169031</td>\n",
       "      <td>-0.124063</td>\n",
       "      <td>-0.165674</td>\n",
       "      <td>-0.019187</td>\n",
       "      <td>0.017600</td>\n",
       "      <td>0.028919</td>\n",
       "      <td>0.133842</td>\n",
       "      <td>0.003484</td>\n",
       "      <td>0.021014</td>\n",
       "      <td>-0.049122</td>\n",
       "      <td>-0.075877</td>\n",
       "    </tr>\n",
       "    <tr>\n",
       "      <th>gender</th>\n",
       "      <td>-0.252397</td>\n",
       "      <td>-0.226421</td>\n",
       "      <td>0.169031</td>\n",
       "      <td>1.000000</td>\n",
       "      <td>0.068858</td>\n",
       "      <td>0.077907</td>\n",
       "      <td>0.191936</td>\n",
       "      <td>-0.111143</td>\n",
       "      <td>-0.088430</td>\n",
       "      <td>0.125373</td>\n",
       "      <td>-0.096030</td>\n",
       "      <td>-0.086712</td>\n",
       "      <td>0.145911</td>\n",
       "      <td>0.111198</td>\n",
       "    </tr>\n",
       "    <tr>\n",
       "      <th>age_in_years</th>\n",
       "      <td>-0.194525</td>\n",
       "      <td>-0.131423</td>\n",
       "      <td>-0.124063</td>\n",
       "      <td>0.068858</td>\n",
       "      <td>1.000000</td>\n",
       "      <td>0.118241</td>\n",
       "      <td>0.260280</td>\n",
       "      <td>-0.033539</td>\n",
       "      <td>-0.045901</td>\n",
       "      <td>0.126713</td>\n",
       "      <td>0.137537</td>\n",
       "      <td>0.170909</td>\n",
       "      <td>0.334209</td>\n",
       "      <td>0.354137</td>\n",
       "    </tr>\n",
       "    <tr>\n",
       "      <th>Paw Size</th>\n",
       "      <td>0.315351</td>\n",
       "      <td>0.380444</td>\n",
       "      <td>-0.165674</td>\n",
       "      <td>0.077907</td>\n",
       "      <td>0.118241</td>\n",
       "      <td>1.000000</td>\n",
       "      <td>0.565646</td>\n",
       "      <td>0.079614</td>\n",
       "      <td>0.068215</td>\n",
       "      <td>-0.126143</td>\n",
       "      <td>-0.073208</td>\n",
       "      <td>0.305856</td>\n",
       "      <td>0.174997</td>\n",
       "      <td>0.297649</td>\n",
       "    </tr>\n",
       "    <tr>\n",
       "      <th>total_length</th>\n",
       "      <td>-0.334329</td>\n",
       "      <td>-0.260843</td>\n",
       "      <td>-0.019187</td>\n",
       "      <td>0.191936</td>\n",
       "      <td>0.260280</td>\n",
       "      <td>0.565646</td>\n",
       "      <td>1.000000</td>\n",
       "      <td>0.113914</td>\n",
       "      <td>-0.030654</td>\n",
       "      <td>0.445248</td>\n",
       "      <td>0.113233</td>\n",
       "      <td>0.106518</td>\n",
       "      <td>0.577890</td>\n",
       "      <td>0.519372</td>\n",
       "    </tr>\n",
       "    <tr>\n",
       "      <th>head_length</th>\n",
       "      <td>0.006662</td>\n",
       "      <td>0.039648</td>\n",
       "      <td>0.017600</td>\n",
       "      <td>-0.111143</td>\n",
       "      <td>-0.033539</td>\n",
       "      <td>0.079614</td>\n",
       "      <td>0.113914</td>\n",
       "      <td>1.000000</td>\n",
       "      <td>-0.010822</td>\n",
       "      <td>0.019503</td>\n",
       "      <td>0.014283</td>\n",
       "      <td>0.033366</td>\n",
       "      <td>0.038632</td>\n",
       "      <td>0.042642</td>\n",
       "    </tr>\n",
       "    <tr>\n",
       "      <th>ear_size</th>\n",
       "      <td>0.088500</td>\n",
       "      <td>0.106581</td>\n",
       "      <td>0.028919</td>\n",
       "      <td>-0.088430</td>\n",
       "      <td>-0.045901</td>\n",
       "      <td>0.068215</td>\n",
       "      <td>-0.030654</td>\n",
       "      <td>-0.010822</td>\n",
       "      <td>1.000000</td>\n",
       "      <td>0.061372</td>\n",
       "      <td>-0.019344</td>\n",
       "      <td>-0.014960</td>\n",
       "      <td>-0.044311</td>\n",
       "      <td>0.001859</td>\n",
       "    </tr>\n",
       "    <tr>\n",
       "      <th>foot_length</th>\n",
       "      <td>-0.782791</td>\n",
       "      <td>-0.783980</td>\n",
       "      <td>0.133842</td>\n",
       "      <td>0.125373</td>\n",
       "      <td>0.126713</td>\n",
       "      <td>-0.126143</td>\n",
       "      <td>0.445248</td>\n",
       "      <td>0.019503</td>\n",
       "      <td>0.061372</td>\n",
       "      <td>1.000000</td>\n",
       "      <td>0.104692</td>\n",
       "      <td>0.063497</td>\n",
       "      <td>0.453295</td>\n",
       "      <td>0.313685</td>\n",
       "    </tr>\n",
       "    <tr>\n",
       "      <th>skull_width</th>\n",
       "      <td>-0.154043</td>\n",
       "      <td>-0.130858</td>\n",
       "      <td>0.003484</td>\n",
       "      <td>-0.096030</td>\n",
       "      <td>0.137537</td>\n",
       "      <td>-0.073208</td>\n",
       "      <td>0.113233</td>\n",
       "      <td>0.014283</td>\n",
       "      <td>-0.019344</td>\n",
       "      <td>0.104692</td>\n",
       "      <td>1.000000</td>\n",
       "      <td>0.048729</td>\n",
       "      <td>0.223326</td>\n",
       "      <td>0.210243</td>\n",
       "    </tr>\n",
       "    <tr>\n",
       "      <th>eye_diameter</th>\n",
       "      <td>0.003170</td>\n",
       "      <td>0.015183</td>\n",
       "      <td>0.021014</td>\n",
       "      <td>-0.086712</td>\n",
       "      <td>0.170909</td>\n",
       "      <td>0.305856</td>\n",
       "      <td>0.106518</td>\n",
       "      <td>0.033366</td>\n",
       "      <td>-0.014960</td>\n",
       "      <td>0.063497</td>\n",
       "      <td>0.048729</td>\n",
       "      <td>1.000000</td>\n",
       "      <td>0.147591</td>\n",
       "      <td>0.144960</td>\n",
       "    </tr>\n",
       "    <tr>\n",
       "      <th>chest_circumference</th>\n",
       "      <td>-0.402303</td>\n",
       "      <td>-0.345494</td>\n",
       "      <td>-0.049122</td>\n",
       "      <td>0.145911</td>\n",
       "      <td>0.334209</td>\n",
       "      <td>0.174997</td>\n",
       "      <td>0.577890</td>\n",
       "      <td>0.038632</td>\n",
       "      <td>-0.044311</td>\n",
       "      <td>0.453295</td>\n",
       "      <td>0.223326</td>\n",
       "      <td>0.147591</td>\n",
       "      <td>1.000000</td>\n",
       "      <td>0.607666</td>\n",
       "    </tr>\n",
       "    <tr>\n",
       "      <th>belly_circumference</th>\n",
       "      <td>-0.213474</td>\n",
       "      <td>-0.177662</td>\n",
       "      <td>-0.075877</td>\n",
       "      <td>0.111198</td>\n",
       "      <td>0.354137</td>\n",
       "      <td>0.297649</td>\n",
       "      <td>0.519372</td>\n",
       "      <td>0.042642</td>\n",
       "      <td>0.001859</td>\n",
       "      <td>0.313685</td>\n",
       "      <td>0.210243</td>\n",
       "      <td>0.144960</td>\n",
       "      <td>0.607666</td>\n",
       "      <td>1.000000</td>\n",
       "    </tr>\n",
       "  </tbody>\n",
       "</table>\n",
       "</div>"
      ],
      "text/plain": [
       "                     koala_id    region   habitat    gender  age_in_years  \\\n",
       "koala_id             1.000000  0.970353 -0.179875 -0.252397     -0.194525   \n",
       "region               0.970353  1.000000 -0.160410 -0.226421     -0.131423   \n",
       "habitat             -0.179875 -0.160410  1.000000  0.169031     -0.124063   \n",
       "gender              -0.252397 -0.226421  0.169031  1.000000      0.068858   \n",
       "age_in_years        -0.194525 -0.131423 -0.124063  0.068858      1.000000   \n",
       "Paw Size             0.315351  0.380444 -0.165674  0.077907      0.118241   \n",
       "total_length        -0.334329 -0.260843 -0.019187  0.191936      0.260280   \n",
       "head_length          0.006662  0.039648  0.017600 -0.111143     -0.033539   \n",
       "ear_size             0.088500  0.106581  0.028919 -0.088430     -0.045901   \n",
       "foot_length         -0.782791 -0.783980  0.133842  0.125373      0.126713   \n",
       "skull_width         -0.154043 -0.130858  0.003484 -0.096030      0.137537   \n",
       "eye_diameter         0.003170  0.015183  0.021014 -0.086712      0.170909   \n",
       "chest_circumference -0.402303 -0.345494 -0.049122  0.145911      0.334209   \n",
       "belly_circumference -0.213474 -0.177662 -0.075877  0.111198      0.354137   \n",
       "\n",
       "                     Paw Size  total_length  head_length  ear_size  \\\n",
       "koala_id             0.315351     -0.334329     0.006662  0.088500   \n",
       "region               0.380444     -0.260843     0.039648  0.106581   \n",
       "habitat             -0.165674     -0.019187     0.017600  0.028919   \n",
       "gender               0.077907      0.191936    -0.111143 -0.088430   \n",
       "age_in_years         0.118241      0.260280    -0.033539 -0.045901   \n",
       "Paw Size             1.000000      0.565646     0.079614  0.068215   \n",
       "total_length         0.565646      1.000000     0.113914 -0.030654   \n",
       "head_length          0.079614      0.113914     1.000000 -0.010822   \n",
       "ear_size             0.068215     -0.030654    -0.010822  1.000000   \n",
       "foot_length         -0.126143      0.445248     0.019503  0.061372   \n",
       "skull_width         -0.073208      0.113233     0.014283 -0.019344   \n",
       "eye_diameter         0.305856      0.106518     0.033366 -0.014960   \n",
       "chest_circumference  0.174997      0.577890     0.038632 -0.044311   \n",
       "belly_circumference  0.297649      0.519372     0.042642  0.001859   \n",
       "\n",
       "                     foot_length  skull_width  eye_diameter  \\\n",
       "koala_id               -0.782791    -0.154043      0.003170   \n",
       "region                 -0.783980    -0.130858      0.015183   \n",
       "habitat                 0.133842     0.003484      0.021014   \n",
       "gender                  0.125373    -0.096030     -0.086712   \n",
       "age_in_years            0.126713     0.137537      0.170909   \n",
       "Paw Size               -0.126143    -0.073208      0.305856   \n",
       "total_length            0.445248     0.113233      0.106518   \n",
       "head_length             0.019503     0.014283      0.033366   \n",
       "ear_size                0.061372    -0.019344     -0.014960   \n",
       "foot_length             1.000000     0.104692      0.063497   \n",
       "skull_width             0.104692     1.000000      0.048729   \n",
       "eye_diameter            0.063497     0.048729      1.000000   \n",
       "chest_circumference     0.453295     0.223326      0.147591   \n",
       "belly_circumference     0.313685     0.210243      0.144960   \n",
       "\n",
       "                     chest_circumference  belly_circumference  \n",
       "koala_id                       -0.402303            -0.213474  \n",
       "region                         -0.345494            -0.177662  \n",
       "habitat                        -0.049122            -0.075877  \n",
       "gender                          0.145911             0.111198  \n",
       "age_in_years                    0.334209             0.354137  \n",
       "Paw Size                        0.174997             0.297649  \n",
       "total_length                    0.577890             0.519372  \n",
       "head_length                     0.038632             0.042642  \n",
       "ear_size                       -0.044311             0.001859  \n",
       "foot_length                     0.453295             0.313685  \n",
       "skull_width                     0.223326             0.210243  \n",
       "eye_diameter                    0.147591             0.144960  \n",
       "chest_circumference             1.000000             0.607666  \n",
       "belly_circumference             0.607666             1.000000  "
      ]
     },
     "execution_count": 164,
     "metadata": {},
     "output_type": "execute_result"
    }
   ],
   "source": [
    "## Find the correlation with features.\n",
    "data.corr()"
   ]
  },
  {
   "cell_type": "code",
   "execution_count": 165,
   "metadata": {},
   "outputs": [
    {
     "data": {
      "text/plain": [
       "<Axes: >"
      ]
     },
     "execution_count": 165,
     "metadata": {},
     "output_type": "execute_result"
    },
    {
     "data": {
      "image/png": "[encoded data removed]",
      "text/plain": [
       "<Figure size 1200x800 with 2 Axes>"
      ]
     },
     "metadata": {},
     "output_type": "display_data"
    }
   ],
   "source": [
    "# Correlation using heatmap.\n",
    "plt.figure(figsize=(12,8))\n",
    "sns.heatmap(data.corr(), annot=True)"
   ]
  },
  {
   "cell_type": "markdown",
   "metadata": {},
   "source": [
    "## By finding the correlation beetween features \n",
    "- Paw size of koalar high correaltion with total_length of koalar, 0.57. \n",
    "- Also the foot_length 0.45 correlation with total_length.\n",
    "- Along with Chest_circumference and belly_circumference high correaltion with total_length."
   ]
  },
  {
   "cell_type": "code",
   "execution_count": null,
   "metadata": {},
   "outputs": [],
   "source": []
  },
  {
   "cell_type": "markdown",
   "metadata": {},
   "source": [
    "## Section 4: Recommendations \n",
    "- Provide a paragraph summarising the linkages between your findings and broader\n",
    "conservation strategies for protecting koalas."
   ]
  },
  {
   "cell_type": "markdown",
   "metadata": {},
   "source": [
    "## Summary: \n",
    "\n",
    "- The analysis of koala physical characteristics across different regions reveals significant variations in traits such as paw size, total length, and head length, suggesting that environmental factors like habitat type and climate may influence koala morphology. These findings have important implications for broader conservation strategies. By recognizing that koalas in different regions exhibit distinct physical adaptations, conservation efforts can be more precisely tailored to protect region-specific populations. For instance, preserving diverse habitats that support these varying traits is crucial, as the destruction of particular environments may disproportionately impact certain koala populations. Furthermore, understanding the physical needs of koalas—such as body size and respiratory capacity linked to habitat—can guide habitat restoration and land management initiatives, ensuring that critical resources like food and shelter are maintained. This regionally adaptive approach is vital for ensuring the long-term survival of koalas in the face of environmental challenges like climate change and habitat fragmentation."
   ]
  },
  {
   "cell_type": "code",
   "execution_count": null,
   "metadata": {},
   "outputs": [],
   "source": []
  }
 ],
 "metadata": {
  "kernelspec": {
   "display_name": "Python 3",
   "language": "python",
   "name": "python3"
  },
  "language_info": {
   "codemirror_mode": {
    "name": "ipython",
    "version": 3
   },
   "file_extension": ".py",
   "mimetype": "text/x-python",
   "name": "python",
   "nbconvert_exporter": "python",
   "pygments_lexer": "ipython3",
   "version": "3.8.18"
  }
 },
 "nbformat": 4,
 "nbformat_minor": 2
}
