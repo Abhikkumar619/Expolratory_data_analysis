{
 "cells": [
  {
   "cell_type": "code",
   "execution_count": 16,
   "metadata": {},
   "outputs": [],
   "source": [
    "import pandas as pd\n",
    "import sys"
   ]
  },
  {
   "cell_type": "code",
   "execution_count": 2,
   "metadata": {},
   "outputs": [],
   "source": [
    "column=['IP', 'Reliablility', \"risk\", \"Type\", \"country\",'Locale', 'Coords', 'x']"
   ]
  },
  {
   "cell_type": "code",
   "execution_count": 13,
   "metadata": {},
   "outputs": [],
   "source": [
    "data=pd.read_csv('reputation.data',sep='#', header=None, names=column)"
   ]
  },
  {
   "cell_type": "code",
   "execution_count": 14,
   "metadata": {},
   "outputs": [
    {
     "data": {
      "text/html": [
       "<div>\n",
       "<style scoped>\n",
       "    .dataframe tbody tr th:only-of-type {\n",
       "        vertical-align: middle;\n",
       "    }\n",
       "\n",
       "    .dataframe tbody tr th {\n",
       "        vertical-align: top;\n",
       "    }\n",
       "\n",
       "    .dataframe thead th {\n",
       "        text-align: right;\n",
       "    }\n",
       "</style>\n",
       "<table border=\"1\" class=\"dataframe\">\n",
       "  <thead>\n",
       "    <tr style=\"text-align: right;\">\n",
       "      <th></th>\n",
       "      <th>IP</th>\n",
       "      <th>Reliablility</th>\n",
       "      <th>risk</th>\n",
       "      <th>Type</th>\n",
       "      <th>country</th>\n",
       "      <th>Locale</th>\n",
       "      <th>Coords</th>\n",
       "      <th>x</th>\n",
       "    </tr>\n",
       "  </thead>\n",
       "  <tbody>\n",
       "    <tr>\n",
       "      <th>0</th>\n",
       "      <td>222.76.212.189</td>\n",
       "      <td>4</td>\n",
       "      <td>2</td>\n",
       "      <td>Scanning Host</td>\n",
       "      <td>CN</td>\n",
       "      <td>Xiamen</td>\n",
       "      <td>24.4797992706,118.08190155</td>\n",
       "      <td>11</td>\n",
       "    </tr>\n",
       "    <tr>\n",
       "      <th>1</th>\n",
       "      <td>222.76.212.185</td>\n",
       "      <td>4</td>\n",
       "      <td>2</td>\n",
       "      <td>Scanning Host</td>\n",
       "      <td>CN</td>\n",
       "      <td>Xiamen</td>\n",
       "      <td>24.4797992706,118.08190155</td>\n",
       "      <td>11</td>\n",
       "    </tr>\n",
       "    <tr>\n",
       "      <th>2</th>\n",
       "      <td>222.76.212.186</td>\n",
       "      <td>4</td>\n",
       "      <td>2</td>\n",
       "      <td>Scanning Host</td>\n",
       "      <td>CN</td>\n",
       "      <td>Xiamen</td>\n",
       "      <td>24.4797992706,118.08190155</td>\n",
       "      <td>11</td>\n",
       "    </tr>\n",
       "    <tr>\n",
       "      <th>3</th>\n",
       "      <td>5.34.246.67</td>\n",
       "      <td>6</td>\n",
       "      <td>3</td>\n",
       "      <td>Spamming</td>\n",
       "      <td>US</td>\n",
       "      <td>NaN</td>\n",
       "      <td>38.0,-97.0</td>\n",
       "      <td>12</td>\n",
       "    </tr>\n",
       "    <tr>\n",
       "      <th>4</th>\n",
       "      <td>178.94.97.176</td>\n",
       "      <td>4</td>\n",
       "      <td>5</td>\n",
       "      <td>Scanning Host</td>\n",
       "      <td>UA</td>\n",
       "      <td>Merefa</td>\n",
       "      <td>49.8230018616,36.0507011414</td>\n",
       "      <td>11</td>\n",
       "    </tr>\n",
       "  </tbody>\n",
       "</table>\n",
       "</div>"
      ],
      "text/plain": [
       "               IP  Reliablility  risk           Type country  Locale  \\\n",
       "0  222.76.212.189             4     2  Scanning Host      CN  Xiamen   \n",
       "1  222.76.212.185             4     2  Scanning Host      CN  Xiamen   \n",
       "2  222.76.212.186             4     2  Scanning Host      CN  Xiamen   \n",
       "3     5.34.246.67             6     3       Spamming      US     NaN   \n",
       "4   178.94.97.176             4     5  Scanning Host      UA  Merefa   \n",
       "\n",
       "                        Coords   x  \n",
       "0   24.4797992706,118.08190155  11  \n",
       "1   24.4797992706,118.08190155  11  \n",
       "2   24.4797992706,118.08190155  11  \n",
       "3                   38.0,-97.0  12  \n",
       "4  49.8230018616,36.0507011414  11  "
      ]
     },
     "execution_count": 14,
     "metadata": {},
     "output_type": "execute_result"
    }
   ],
   "source": [
    "data.head()"
   ]
  },
  {
   "cell_type": "code",
   "execution_count": 15,
   "metadata": {},
   "outputs": [
    {
     "data": {
      "text/html": [
       "<div>\n",
       "<style scoped>\n",
       "    .dataframe tbody tr th:only-of-type {\n",
       "        vertical-align: middle;\n",
       "    }\n",
       "\n",
       "    .dataframe tbody tr th {\n",
       "        vertical-align: top;\n",
       "    }\n",
       "\n",
       "    .dataframe thead th {\n",
       "        text-align: right;\n",
       "    }\n",
       "</style>\n",
       "<table border=\"1\" class=\"dataframe\">\n",
       "  <thead>\n",
       "    <tr style=\"text-align: right;\">\n",
       "      <th></th>\n",
       "      <th>IP</th>\n",
       "    </tr>\n",
       "  </thead>\n",
       "  <tbody>\n",
       "    <tr>\n",
       "      <th>0</th>\n",
       "      <td>222.76.212.189</td>\n",
       "    </tr>\n",
       "  </tbody>\n",
       "</table>\n",
       "</div>"
      ],
      "text/plain": [
       "               IP\n",
       "0  222.76.212.189"
      ]
     },
     "execution_count": 15,
     "metadata": {},
     "output_type": "execute_result"
    }
   ],
   "source": [
    "data[['IP']][:1]"
   ]
  },
  {
   "cell_type": "code",
   "execution_count": 17,
   "metadata": {},
   "outputs": [
    {
     "name": "stdout",
     "output_type": "stream",
     "text": [
      ",IP,Reliablility,risk,Type,country,Locale,Coords,x\n",
      "0,222.76.212.189,4,2,Scanning Host,CN,Xiamen,\"24.4797992706,118.08190155\",11\n",
      "1,222.76.212.185,4,2,Scanning Host,CN,Xiamen,\"24.4797992706,118.08190155\",11\n",
      "2,222.76.212.186,4,2,Scanning Host,CN,Xiamen,\"24.4797992706,118.08190155\",11\n",
      "3,5.34.246.67,6,3,Spamming,US,,\"38.0,-97.0\",12\n",
      "4,178.94.97.176,4,5,Scanning Host,UA,Merefa,\"49.8230018616,36.0507011414\",11\n"
     ]
    }
   ],
   "source": [
    "data.head().to_csv(sys.stdout)"
   ]
  },
  {
   "cell_type": "code",
   "execution_count": 18,
   "metadata": {},
   "outputs": [
    {
     "data": {
      "text/plain": [
       "array(['CN', 'US', 'UA', nan, 'DE', 'KR', 'BR', 'NL', 'CA', 'ID', 'LV',\n",
       "       'RU', 'TW', 'TR', 'GB', 'PT', 'RO', 'FR', 'PL', 'HK', 'RS', 'IN',\n",
       "       'ES', 'MD', 'PH', 'IR', 'EG', 'TH', 'PK', 'CY', 'CZ', 'LK', 'SE',\n",
       "       'SG', 'NZ', 'ZA', 'SA', 'CL', 'GE', 'AT', 'HU', 'BY', 'IT', 'DK',\n",
       "       'BE', 'NO', 'GR', 'EU', 'IL', 'VN', 'JP', 'EE', 'KZ', 'FI', 'JO',\n",
       "       'AZ', 'BG', 'AR', 'PE', 'MX', 'VE', 'GT', 'UY', 'DO', 'PA', 'AE',\n",
       "       'LU', 'MA', 'CH', 'VG', 'AU', 'LT', 'EC', 'A1', 'SM', 'MY', 'TN',\n",
       "       'IE', 'CO', 'BD', 'BS', 'PY', 'DZ', 'SI', 'LB', 'MC', 'SK', 'MK',\n",
       "       'BA', 'IS', 'AM', 'AO', 'BZ', 'JM', 'TJ', 'A2', 'AX', 'SD', 'MN',\n",
       "       'YE', 'QA', 'KH', 'NG', 'BJ', 'MU', 'KW', 'MQ', 'HR', 'MR', 'BO',\n",
       "       'BF', 'ZM', 'SC', 'SN', 'ZW', 'AW', 'NI', 'VI', 'HN', 'TZ', 'KE',\n",
       "       'AN', 'CI', 'PS', 'KG', 'NP', 'PR', 'IQ', 'GH', 'DJ', 'RW', 'AL',\n",
       "       'LY', 'ME', 'TG', 'CD', 'SZ', 'IM', 'KY', 'CM', 'CR', 'UG', 'BH',\n",
       "       'MT', 'LC', 'BM', 'LA', 'TT', 'GA', 'FJ', 'VC', 'SB', 'MO'],\n",
       "      dtype=object)"
      ]
     },
     "execution_count": 18,
     "metadata": {},
     "output_type": "execute_result"
    }
   ],
   "source": [
    "data['country'].unique()"
   ]
  },
  {
   "cell_type": "code",
   "execution_count": 19,
   "metadata": {},
   "outputs": [
    {
     "data": {
      "text/plain": [
       "(258626, 8)"
      ]
     },
     "execution_count": 19,
     "metadata": {},
     "output_type": "execute_result"
    }
   ],
   "source": [
    "data.shape"
   ]
  },
  {
   "cell_type": "code",
   "execution_count": 20,
   "metadata": {},
   "outputs": [
    {
     "data": {
      "text/plain": [
       "country\n",
       "CN    68583\n",
       "US    50387\n",
       "TR    13958\n",
       "DE     9953\n",
       "NL     7931\n",
       "      ...  \n",
       "ZM        1\n",
       "BF        1\n",
       "MR        1\n",
       "AX        1\n",
       "MO        1\n",
       "Name: count, Length: 152, dtype: int64"
      ]
     },
     "execution_count": 20,
     "metadata": {},
     "output_type": "execute_result"
    }
   ],
   "source": [
    "data['country'].value_counts()"
   ]
  },
  {
   "cell_type": "code",
   "execution_count": 22,
   "metadata": {},
   "outputs": [
    {
     "data": {
      "text/plain": [
       "34"
      ]
     },
     "execution_count": 22,
     "metadata": {},
     "output_type": "execute_result"
    }
   ],
   "source": [
    "len(data['x'].unique())"
   ]
  },
  {
   "cell_type": "code",
   "execution_count": 23,
   "metadata": {},
   "outputs": [
    {
     "data": {
      "text/plain": [
       "x\n",
       "11       234180\n",
       "6          9274\n",
       "7          6470\n",
       "3          3770\n",
       "12         3487\n",
       "2           610\n",
       "11;3        215\n",
       "6;7         173\n",
       "3;11        163\n",
       "7;6          57\n",
       "6;11         39\n",
       "2;6          31\n",
       "6;2          25\n",
       "12;11        24\n",
       "2;7          20\n",
       "11;6         19\n",
       "7;11          8\n",
       "11;12         7\n",
       "7;12          7\n",
       "11;7          7\n",
       "2;11          7\n",
       "12;6          5\n",
       "12;7          4\n",
       "5;7           4\n",
       "6;3           4\n",
       "3;6           4\n",
       "6;12          2\n",
       "11;2          2\n",
       "3;7           2\n",
       "7;2           2\n",
       "5;3           1\n",
       "1;6           1\n",
       "7;3           1\n",
       "5             1\n",
       "Name: count, dtype: int64"
      ]
     },
     "execution_count": 23,
     "metadata": {},
     "output_type": "execute_result"
    }
   ],
   "source": [
    "data['x'].value_counts()"
   ]
  },
  {
   "cell_type": "code",
   "execution_count": 24,
   "metadata": {},
   "outputs": [
    {
     "data": {
      "text/html": [
       "<div>\n",
       "<style scoped>\n",
       "    .dataframe tbody tr th:only-of-type {\n",
       "        vertical-align: middle;\n",
       "    }\n",
       "\n",
       "    .dataframe tbody tr th {\n",
       "        vertical-align: top;\n",
       "    }\n",
       "\n",
       "    .dataframe thead th {\n",
       "        text-align: right;\n",
       "    }\n",
       "</style>\n",
       "<table border=\"1\" class=\"dataframe\">\n",
       "  <thead>\n",
       "    <tr style=\"text-align: right;\">\n",
       "      <th></th>\n",
       "      <th>Reliablility</th>\n",
       "      <th>risk</th>\n",
       "    </tr>\n",
       "  </thead>\n",
       "  <tbody>\n",
       "    <tr>\n",
       "      <th>count</th>\n",
       "      <td>258626.000000</td>\n",
       "      <td>258626.000000</td>\n",
       "    </tr>\n",
       "    <tr>\n",
       "      <th>mean</th>\n",
       "      <td>2.798040</td>\n",
       "      <td>2.221362</td>\n",
       "    </tr>\n",
       "    <tr>\n",
       "      <th>std</th>\n",
       "      <td>1.130419</td>\n",
       "      <td>0.531571</td>\n",
       "    </tr>\n",
       "    <tr>\n",
       "      <th>min</th>\n",
       "      <td>1.000000</td>\n",
       "      <td>1.000000</td>\n",
       "    </tr>\n",
       "    <tr>\n",
       "      <th>25%</th>\n",
       "      <td>2.000000</td>\n",
       "      <td>2.000000</td>\n",
       "    </tr>\n",
       "    <tr>\n",
       "      <th>50%</th>\n",
       "      <td>2.000000</td>\n",
       "      <td>2.000000</td>\n",
       "    </tr>\n",
       "    <tr>\n",
       "      <th>75%</th>\n",
       "      <td>4.000000</td>\n",
       "      <td>2.000000</td>\n",
       "    </tr>\n",
       "    <tr>\n",
       "      <th>max</th>\n",
       "      <td>10.000000</td>\n",
       "      <td>7.000000</td>\n",
       "    </tr>\n",
       "  </tbody>\n",
       "</table>\n",
       "</div>"
      ],
      "text/plain": [
       "        Reliablility           risk\n",
       "count  258626.000000  258626.000000\n",
       "mean        2.798040       2.221362\n",
       "std         1.130419       0.531571\n",
       "min         1.000000       1.000000\n",
       "25%         2.000000       2.000000\n",
       "50%         2.000000       2.000000\n",
       "75%         4.000000       2.000000\n",
       "max        10.000000       7.000000"
      ]
     },
     "execution_count": 24,
     "metadata": {},
     "output_type": "execute_result"
    }
   ],
   "source": [
    "data.describe()"
   ]
  },
  {
   "cell_type": "code",
   "execution_count": 30,
   "metadata": {},
   "outputs": [
    {
     "name": "stdout",
     "output_type": "stream",
     "text": [
      "1       5612\n",
      "2     149117\n",
      "3      10892\n",
      "4      87040\n",
      "5          7\n",
      "6       4758\n",
      "7        297\n",
      "8         21\n",
      "9        686\n",
      "10       196\n",
      "Name: count, dtype: int64\n"
     ]
    }
   ],
   "source": [
    "def factor_col(col):\n",
    "    factor=pd.Categorical(col)\n",
    "    return pd.value_counts(factor, sort=False)\n",
    "\n",
    "print(factor_col(data['Reliablility']))"
   ]
  },
  {
   "cell_type": "code",
   "execution_count": 26,
   "metadata": {},
   "outputs": [
    {
     "data": {
      "text/plain": [
       "IP              object\n",
       "Reliablility     int64\n",
       "risk             int64\n",
       "Type            object\n",
       "country         object\n",
       "Locale          object\n",
       "Coords          object\n",
       "x               object\n",
       "dtype: object"
      ]
     },
     "execution_count": 26,
     "metadata": {},
     "output_type": "execute_result"
    }
   ],
   "source": [
    "data.dtypes"
   ]
  },
  {
   "cell_type": "code",
   "execution_count": 31,
   "metadata": {},
   "outputs": [],
   "source": [
    "import matplotlib.pyplot as plt\n",
    "import seaborn as sn\n"
   ]
  },
  {
   "cell_type": "code",
   "execution_count": 32,
   "metadata": {},
   "outputs": [
    {
     "data": {
      "text/plain": [
       "country\n",
       "CN    68583\n",
       "US    50387\n",
       "TR    13958\n",
       "DE     9953\n",
       "NL     7931\n",
       "      ...  \n",
       "ZM        1\n",
       "BF        1\n",
       "MR        1\n",
       "AX        1\n",
       "MO        1\n",
       "Name: count, Length: 152, dtype: int64"
      ]
     },
     "execution_count": 32,
     "metadata": {},
     "output_type": "execute_result"
    }
   ],
   "source": [
    "country_ct=pd.value_counts(data['country'])\n",
    "country_ct"
   ]
  },
  {
   "cell_type": "code",
   "execution_count": 42,
   "metadata": {},
   "outputs": [
    {
     "data": {
      "image/png": "[encoded data removed]",
      "text/plain": [
       "<Figure size 2000x1000 with 1 Axes>"
      ]
     },
     "metadata": {},
     "output_type": "display_data"
    }
   ],
   "source": [
    "plt.axes(frameon=3) # reduce chat junk\n",
    "country_ct[:10].plot(kind='bar', rot=10,title=\"Summary by country\", figsize=(20,10), color='r').grid(False)\n",
    "plt.show()"
   ]
  },
  {
   "cell_type": "code",
   "execution_count": 51,
   "metadata": {},
   "outputs": [
    {
     "data": {
      "image/png": "[encoded data removed]",
      "text/plain": [
       "<Figure size 2000x1000 with 1 Axes>"
      ]
     },
     "metadata": {},
     "output_type": "display_data"
    }
   ],
   "source": [
    "plt.axes(frameon=0)\n",
    "factor_col(data['Reliablility']).plot(kind='bar', rot=45,\n",
    "                title=\"Summary by Reliabliity, \",color='orange', figsize=(20, 10)).grid(False)\n",
    "plt.show()"
   ]
  },
  {
   "cell_type": "code",
   "execution_count": 55,
   "metadata": {},
   "outputs": [
    {
     "data": {
      "image/png": "[encoded data removed]",
      "text/plain": [
       "<Figure size 2000x1000 with 1 Axes>"
      ]
     },
     "metadata": {},
     "output_type": "display_data"
    }
   ],
   "source": [
    "plt.axes(frameon=0)\n",
    "factor_col(data['risk']).plot(kind='bar', rot=45,\n",
    "                title=\"Summary by Reliabliity, \",color='green', figsize=(20, 10)).grid(False)\n",
    "plt.show()"
   ]
  },
  {
   "cell_type": "code",
   "execution_count": 53,
   "metadata": {},
   "outputs": [
    {
     "data": {
      "text/plain": [
       "Index(['IP', 'Reliablility', 'risk', 'Type', 'country', 'Locale', 'Coords',\n",
       "       'x'],\n",
       "      dtype='object')"
      ]
     },
     "execution_count": 53,
     "metadata": {},
     "output_type": "execute_result"
    }
   ],
   "source": [
    "data.columns"
   ]
  },
  {
   "cell_type": "code",
   "execution_count": 56,
   "metadata": {},
   "outputs": [
    {
     "data": {
      "text/plain": [
       "dtype('int64')"
      ]
     },
     "execution_count": 56,
     "metadata": {},
     "output_type": "execute_result"
    }
   ],
   "source": [
    "top10=pd.value_counts(data['country'])[0:9]\n",
    "top10.dtype"
   ]
  },
  {
   "cell_type": "code",
   "execution_count": null,
   "metadata": {},
   "outputs": [],
   "source": [
    "top10.astype(float)"
   ]
  },
  {
   "cell_type": "code",
   "execution_count": 58,
   "metadata": {},
   "outputs": [
    {
     "data": {
      "text/html": [
       "<div>\n",
       "<style scoped>\n",
       "    .dataframe tbody tr th:only-of-type {\n",
       "        vertical-align: middle;\n",
       "    }\n",
       "\n",
       "    .dataframe tbody tr th {\n",
       "        vertical-align: top;\n",
       "    }\n",
       "\n",
       "    .dataframe thead th {\n",
       "        text-align: right;\n",
       "    }\n",
       "</style>\n",
       "<table border=\"1\" class=\"dataframe\">\n",
       "  <thead>\n",
       "    <tr style=\"text-align: right;\">\n",
       "      <th></th>\n",
       "      <th>country</th>\n",
       "    </tr>\n",
       "  </thead>\n",
       "  <tbody>\n",
       "    <tr>\n",
       "      <th>0</th>\n",
       "      <td>CN</td>\n",
       "    </tr>\n",
       "    <tr>\n",
       "      <th>1</th>\n",
       "      <td>CN</td>\n",
       "    </tr>\n",
       "    <tr>\n",
       "      <th>2</th>\n",
       "      <td>CN</td>\n",
       "    </tr>\n",
       "    <tr>\n",
       "      <th>3</th>\n",
       "      <td>US</td>\n",
       "    </tr>\n",
       "    <tr>\n",
       "      <th>4</th>\n",
       "      <td>UA</td>\n",
       "    </tr>\n",
       "    <tr>\n",
       "      <th>...</th>\n",
       "      <td>...</td>\n",
       "    </tr>\n",
       "    <tr>\n",
       "      <th>258621</th>\n",
       "      <td>BR</td>\n",
       "    </tr>\n",
       "    <tr>\n",
       "      <th>258622</th>\n",
       "      <td>US</td>\n",
       "    </tr>\n",
       "    <tr>\n",
       "      <th>258623</th>\n",
       "      <td>US</td>\n",
       "    </tr>\n",
       "    <tr>\n",
       "      <th>258624</th>\n",
       "      <td>US</td>\n",
       "    </tr>\n",
       "    <tr>\n",
       "      <th>258625</th>\n",
       "      <td>US</td>\n",
       "    </tr>\n",
       "  </tbody>\n",
       "</table>\n",
       "<p>258626 rows × 1 columns</p>\n",
       "</div>"
      ],
      "text/plain": [
       "       country\n",
       "0           CN\n",
       "1           CN\n",
       "2           CN\n",
       "3           US\n",
       "4           UA\n",
       "...        ...\n",
       "258621      BR\n",
       "258622      US\n",
       "258623      US\n",
       "258624      US\n",
       "258625      US\n",
       "\n",
       "[258626 rows x 1 columns]"
      ]
     },
     "execution_count": 58,
     "metadata": {},
     "output_type": "execute_result"
    }
   ],
   "source": [
    "data[['country']]"
   ]
  },
  {
   "cell_type": "code",
   "execution_count": 59,
   "metadata": {},
   "outputs": [],
   "source": [
    "from matplotlib import cm \n",
    "from numpy import arange"
   ]
  },
  {
   "cell_type": "code",
   "execution_count": 62,
   "metadata": {},
   "outputs": [
    {
     "data": {
      "text/html": [
       "<div>\n",
       "<style scoped>\n",
       "    .dataframe tbody tr th:only-of-type {\n",
       "        vertical-align: middle;\n",
       "    }\n",
       "\n",
       "    .dataframe tbody tr th {\n",
       "        vertical-align: top;\n",
       "    }\n",
       "\n",
       "    .dataframe thead th {\n",
       "        text-align: right;\n",
       "    }\n",
       "</style>\n",
       "<table border=\"1\" class=\"dataframe\">\n",
       "  <thead>\n",
       "    <tr style=\"text-align: right;\">\n",
       "      <th>Reliablility</th>\n",
       "      <th>1</th>\n",
       "      <th>2</th>\n",
       "      <th>3</th>\n",
       "      <th>4</th>\n",
       "      <th>5</th>\n",
       "      <th>6</th>\n",
       "      <th>7</th>\n",
       "      <th>8</th>\n",
       "      <th>9</th>\n",
       "      <th>10</th>\n",
       "    </tr>\n",
       "    <tr>\n",
       "      <th>risk</th>\n",
       "      <th></th>\n",
       "      <th></th>\n",
       "      <th></th>\n",
       "      <th></th>\n",
       "      <th></th>\n",
       "      <th></th>\n",
       "      <th></th>\n",
       "      <th></th>\n",
       "      <th></th>\n",
       "      <th></th>\n",
       "    </tr>\n",
       "  </thead>\n",
       "  <tbody>\n",
       "    <tr>\n",
       "      <th>1</th>\n",
       "      <td>0</td>\n",
       "      <td>0</td>\n",
       "      <td>16</td>\n",
       "      <td>7</td>\n",
       "      <td>0</td>\n",
       "      <td>8</td>\n",
       "      <td>8</td>\n",
       "      <td>0</td>\n",
       "      <td>0</td>\n",
       "      <td>0</td>\n",
       "    </tr>\n",
       "    <tr>\n",
       "      <th>2</th>\n",
       "      <td>804</td>\n",
       "      <td>149114</td>\n",
       "      <td>3670</td>\n",
       "      <td>57653</td>\n",
       "      <td>4</td>\n",
       "      <td>2084</td>\n",
       "      <td>85</td>\n",
       "      <td>11</td>\n",
       "      <td>345</td>\n",
       "      <td>82</td>\n",
       "    </tr>\n",
       "    <tr>\n",
       "      <th>3</th>\n",
       "      <td>2225</td>\n",
       "      <td>3</td>\n",
       "      <td>6668</td>\n",
       "      <td>22168</td>\n",
       "      <td>2</td>\n",
       "      <td>2151</td>\n",
       "      <td>156</td>\n",
       "      <td>7</td>\n",
       "      <td>260</td>\n",
       "      <td>79</td>\n",
       "    </tr>\n",
       "    <tr>\n",
       "      <th>4</th>\n",
       "      <td>2129</td>\n",
       "      <td>0</td>\n",
       "      <td>481</td>\n",
       "      <td>6447</td>\n",
       "      <td>0</td>\n",
       "      <td>404</td>\n",
       "      <td>43</td>\n",
       "      <td>2</td>\n",
       "      <td>58</td>\n",
       "      <td>24</td>\n",
       "    </tr>\n",
       "    <tr>\n",
       "      <th>5</th>\n",
       "      <td>432</td>\n",
       "      <td>0</td>\n",
       "      <td>55</td>\n",
       "      <td>700</td>\n",
       "      <td>1</td>\n",
       "      <td>103</td>\n",
       "      <td>5</td>\n",
       "      <td>1</td>\n",
       "      <td>20</td>\n",
       "      <td>11</td>\n",
       "    </tr>\n",
       "    <tr>\n",
       "      <th>6</th>\n",
       "      <td>19</td>\n",
       "      <td>0</td>\n",
       "      <td>2</td>\n",
       "      <td>60</td>\n",
       "      <td>0</td>\n",
       "      <td>8</td>\n",
       "      <td>0</td>\n",
       "      <td>0</td>\n",
       "      <td>1</td>\n",
       "      <td>0</td>\n",
       "    </tr>\n",
       "    <tr>\n",
       "      <th>7</th>\n",
       "      <td>3</td>\n",
       "      <td>0</td>\n",
       "      <td>0</td>\n",
       "      <td>5</td>\n",
       "      <td>0</td>\n",
       "      <td>0</td>\n",
       "      <td>0</td>\n",
       "      <td>0</td>\n",
       "      <td>2</td>\n",
       "      <td>0</td>\n",
       "    </tr>\n",
       "  </tbody>\n",
       "</table>\n",
       "</div>"
      ],
      "text/plain": [
       "Reliablility    1       2     3      4   5     6    7   8    9   10\n",
       "risk                                                               \n",
       "1                0       0    16      7   0     8    8   0    0   0\n",
       "2              804  149114  3670  57653   4  2084   85  11  345  82\n",
       "3             2225       3  6668  22168   2  2151  156   7  260  79\n",
       "4             2129       0   481   6447   0   404   43   2   58  24\n",
       "5              432       0    55    700   1   103    5   1   20  11\n",
       "6               19       0     2     60   0     8    0   0    1   0\n",
       "7                3       0     0      5   0     0    0   0    2   0"
      ]
     },
     "execution_count": 62,
     "metadata": {},
     "output_type": "execute_result"
    }
   ],
   "source": [
    "pd.crosstab(data['risk'], data['Reliablility'])"
   ]
  },
  {
   "cell_type": "code",
   "execution_count": 72,
   "metadata": {},
   "outputs": [
    {
     "data": {
      "image/png": "[encoded data removed]",
      "text/plain": [
       "<Figure size 500x500 with 2 Axes>"
      ]
     },
     "metadata": {},
     "output_type": "display_data"
    }
   ],
   "source": [
    "x_tab=pd.crosstab(data['risk'], data['Reliablility'])\n",
    "fig=plt.figure(figsize=(5,5))\n",
    "plt.pcolormesh(x_tab, cmap=cm.Greens, figure=fig)\n",
    "plt.yticks(arange(0.5, len(x_tab.index),1), x_tab.index)\n",
    "plt.xticks(arange(0.5, len(x_tab.columns),1),x_tab.columns)\n",
    "plt.colorbar()\n",
    "plt.title(\"Risk ~ Reliability\")\n",
    "plt.show()"
   ]
  },
  {
   "cell_type": "code",
   "execution_count": null,
   "metadata": {},
   "outputs": [
    {
     "data": {
      "text/plain": [
       "Index(['IP', 'Reliablility', 'risk', 'Type', 'country', 'Locale', 'Coords',\n",
       "       'x'],\n",
       "      dtype='object')"
      ]
     },
     "execution_count": 61,
     "metadata": {},
     "output_type": "execute_result"
    }
   ],
   "source": [
    "# graphical view of contingency table (swapping risk/reliability)\n",
    "xtab = pd.crosstab(av['Reliability'], av['Risk'])\n",
    "fig = plt.figure(figsize=(5,5))\n",
    "plt.pcolormesh(xtab,cmap=cm.Greens, figure=fig)\n",
    "plt.yticks(arange(0.5,len(xtab.index), 1),xtab.index)\n",
    "plt.xticks(arange(0.5,len(xtab.columns), 1),xtab.columns)\n",
    "plt.colorbar()\n",
    "plt.title(\"Risk ~ Reliability\")\n",
    "plt.show()"
   ]
  },
  {
   "cell_type": "code",
   "execution_count": 63,
   "metadata": {},
   "outputs": [
    {
     "data": {
      "text/plain": [
       "0         4\n",
       "1         4\n",
       "2         4\n",
       "3         6\n",
       "4         4\n",
       "         ..\n",
       "258621    4\n",
       "258622    4\n",
       "258623    3\n",
       "258624    3\n",
       "258625    3\n",
       "Name: Reliablility, Length: 258626, dtype: int64"
      ]
     },
     "execution_count": 63,
     "metadata": {},
     "output_type": "execute_result"
    }
   ],
   "source": [
    "data['Reliablility']"
   ]
  },
  {
   "cell_type": "code",
   "execution_count": 64,
   "metadata": {},
   "outputs": [
    {
     "data": {
      "text/plain": [
       "0         2\n",
       "1         2\n",
       "2         2\n",
       "3         3\n",
       "4         5\n",
       "         ..\n",
       "258621    2\n",
       "258622    2\n",
       "258623    2\n",
       "258624    2\n",
       "258625    3\n",
       "Name: risk, Length: 258626, dtype: int64"
      ]
     },
     "execution_count": 64,
     "metadata": {},
     "output_type": "execute_result"
    }
   ],
   "source": [
    "data['risk']"
   ]
  },
  {
   "cell_type": "code",
   "execution_count": null,
   "metadata": {},
   "outputs": [],
   "source": []
  }
 ],
 "metadata": {
  "kernelspec": {
   "display_name": "Python 3",
   "language": "python",
   "name": "python3"
  },
  "language_info": {
   "codemirror_mode": {
    "name": "ipython",
    "version": 3
   },
   "file_extension": ".py",
   "mimetype": "text/x-python",
   "name": "python",
   "nbconvert_exporter": "python",
   "pygments_lexer": "ipython3",
   "version": "3.8.18"
  }
 },
 "nbformat": 4,
 "nbformat_minor": 2
}
