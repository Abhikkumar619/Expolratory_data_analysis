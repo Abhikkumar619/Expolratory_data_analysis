{
 "cells": [
  {
   "cell_type": "markdown",
   "metadata": {},
   "source": [
    "# Section 1: clean the dataset"
   ]
  },
  {
   "cell_type": "code",
   "execution_count": 390,
   "metadata": {},
   "outputs": [],
   "source": [
    "import pandas as pd"
   ]
  },
  {
   "cell_type": "code",
   "execution_count": 391,
   "metadata": {},
   "outputs": [
    {
     "name": "stderr",
     "output_type": "stream",
     "text": [
      "/var/folders/4c/smh5_57j6lxd0dns3y7skny80000gn/T/ipykernel_72388/2464419068.py:2: DtypeWarning: Columns (38) have mixed types. Specify dtype option on import or set low_memory=False.\n",
      "  data = pd.read_csv('2013_Data2.csv')\n"
     ]
    },
    {
     "data": {
      "text/html": [
       "<div>\n",
       "<style scoped>\n",
       "    .dataframe tbody tr th:only-of-type {\n",
       "        vertical-align: middle;\n",
       "    }\n",
       "\n",
       "    .dataframe tbody tr th {\n",
       "        vertical-align: top;\n",
       "    }\n",
       "\n",
       "    .dataframe thead th {\n",
       "        text-align: right;\n",
       "    }\n",
       "</style>\n",
       "<table border=\"1\" class=\"dataframe\">\n",
       "  <thead>\n",
       "    <tr style=\"text-align: right;\">\n",
       "      <th></th>\n",
       "      <th>accounting_date</th>\n",
       "      <th>fiscal_year</th>\n",
       "      <th>fiscal_month</th>\n",
       "      <th>calendar_year</th>\n",
       "      <th>calendar_month</th>\n",
       "      <th>calendar_day</th>\n",
       "      <th>company_code</th>\n",
       "      <th>customer_code</th>\n",
       "      <th>customer_district_code</th>\n",
       "      <th>item_code</th>\n",
       "      <th>...</th>\n",
       "      <th>value_quantity</th>\n",
       "      <th>value_price_adjustment</th>\n",
       "      <th>currency</th>\n",
       "      <th>item_source_class</th>\n",
       "      <th>invoice_number</th>\n",
       "      <th>line_number</th>\n",
       "      <th>invoice_date</th>\n",
       "      <th>customer_order_number</th>\n",
       "      <th>order_date</th>\n",
       "      <th>dss_update_time</th>\n",
       "    </tr>\n",
       "  </thead>\n",
       "  <tbody>\n",
       "    <tr>\n",
       "      <th>0</th>\n",
       "      <td>20130125</td>\n",
       "      <td>2013</td>\n",
       "      <td>7</td>\n",
       "      <td>2013</td>\n",
       "      <td>1</td>\n",
       "      <td>25</td>\n",
       "      <td>205</td>\n",
       "      <td>471150112</td>\n",
       "      <td>400</td>\n",
       "      <td>10311</td>\n",
       "      <td>...</td>\n",
       "      <td>-1.0</td>\n",
       "      <td>0</td>\n",
       "      <td>AUD</td>\n",
       "      <td>NaN</td>\n",
       "      <td>277995</td>\n",
       "      <td>0</td>\n",
       "      <td>20130125</td>\n",
       "      <td>277995</td>\n",
       "      <td>20130125</td>\n",
       "      <td>49:58.7</td>\n",
       "    </tr>\n",
       "    <tr>\n",
       "      <th>1</th>\n",
       "      <td>20130513</td>\n",
       "      <td>2013</td>\n",
       "      <td>11</td>\n",
       "      <td>2013</td>\n",
       "      <td>5</td>\n",
       "      <td>13</td>\n",
       "      <td>205</td>\n",
       "      <td>277000801</td>\n",
       "      <td>200</td>\n",
       "      <td>10311</td>\n",
       "      <td>...</td>\n",
       "      <td>1.0</td>\n",
       "      <td>0</td>\n",
       "      <td>AUD</td>\n",
       "      <td>NaN</td>\n",
       "      <td>749295</td>\n",
       "      <td>0</td>\n",
       "      <td>20130513</td>\n",
       "      <td>867468</td>\n",
       "      <td>20130510</td>\n",
       "      <td>49:58.7</td>\n",
       "    </tr>\n",
       "    <tr>\n",
       "      <th>2</th>\n",
       "      <td>20130611</td>\n",
       "      <td>2013</td>\n",
       "      <td>12</td>\n",
       "      <td>2013</td>\n",
       "      <td>6</td>\n",
       "      <td>11</td>\n",
       "      <td>205</td>\n",
       "      <td>292314701</td>\n",
       "      <td>200</td>\n",
       "      <td>10350</td>\n",
       "      <td>...</td>\n",
       "      <td>2.0</td>\n",
       "      <td>0</td>\n",
       "      <td>AUD</td>\n",
       "      <td>NaN</td>\n",
       "      <td>756507</td>\n",
       "      <td>0</td>\n",
       "      <td>20130611</td>\n",
       "      <td>880839</td>\n",
       "      <td>20130611</td>\n",
       "      <td>49:58.7</td>\n",
       "    </tr>\n",
       "    <tr>\n",
       "      <th>3</th>\n",
       "      <td>20130111</td>\n",
       "      <td>2013</td>\n",
       "      <td>7</td>\n",
       "      <td>2013</td>\n",
       "      <td>1</td>\n",
       "      <td>11</td>\n",
       "      <td>205</td>\n",
       "      <td>299480703</td>\n",
       "      <td>200</td>\n",
       "      <td>10350</td>\n",
       "      <td>...</td>\n",
       "      <td>1.0</td>\n",
       "      <td>0</td>\n",
       "      <td>AUD</td>\n",
       "      <td>NaN</td>\n",
       "      <td>724149</td>\n",
       "      <td>0</td>\n",
       "      <td>20130111</td>\n",
       "      <td>821554</td>\n",
       "      <td>20130111</td>\n",
       "      <td>49:58.7</td>\n",
       "    </tr>\n",
       "    <tr>\n",
       "      <th>4</th>\n",
       "      <td>20130321</td>\n",
       "      <td>2013</td>\n",
       "      <td>9</td>\n",
       "      <td>2013</td>\n",
       "      <td>3</td>\n",
       "      <td>21</td>\n",
       "      <td>205</td>\n",
       "      <td>471150015</td>\n",
       "      <td>400</td>\n",
       "      <td>10364</td>\n",
       "      <td>...</td>\n",
       "      <td>6.0</td>\n",
       "      <td>0</td>\n",
       "      <td>AUD</td>\n",
       "      <td>NaN</td>\n",
       "      <td>738377</td>\n",
       "      <td>0</td>\n",
       "      <td>20130321</td>\n",
       "      <td>847171</td>\n",
       "      <td>20130320</td>\n",
       "      <td>49:58.7</td>\n",
       "    </tr>\n",
       "  </tbody>\n",
       "</table>\n",
       "<p>5 rows × 41 columns</p>\n",
       "</div>"
      ],
      "text/plain": [
       "   accounting_date  fiscal_year  fiscal_month  calendar_year  calendar_month  \\\n",
       "0         20130125         2013             7           2013               1   \n",
       "1         20130513         2013            11           2013               5   \n",
       "2         20130611         2013            12           2013               6   \n",
       "3         20130111         2013             7           2013               1   \n",
       "4         20130321         2013             9           2013               3   \n",
       "\n",
       "   calendar_day  company_code customer_code  customer_district_code item_code  \\\n",
       "0            25           205     471150112                     400     10311   \n",
       "1            13           205     277000801                     200     10311   \n",
       "2            11           205     292314701                     200     10350   \n",
       "3            11           205     299480703                     200     10350   \n",
       "4            21           205     471150015                     400     10364   \n",
       "\n",
       "   ... value_quantity value_price_adjustment currency  item_source_class  \\\n",
       "0  ...           -1.0                      0      AUD                NaN   \n",
       "1  ...            1.0                      0      AUD                NaN   \n",
       "2  ...            2.0                      0      AUD                NaN   \n",
       "3  ...            1.0                      0      AUD                NaN   \n",
       "4  ...            6.0                      0      AUD                NaN   \n",
       "\n",
       "  invoice_number line_number invoice_date customer_order_number order_date  \\\n",
       "0         277995           0     20130125                277995   20130125   \n",
       "1         749295           0     20130513                867468   20130510   \n",
       "2         756507           0     20130611                880839   20130611   \n",
       "3         724149           0     20130111                821554   20130111   \n",
       "4         738377           0     20130321                847171   20130320   \n",
       "\n",
       "  dss_update_time  \n",
       "0         49:58.7  \n",
       "1         49:58.7  \n",
       "2         49:58.7  \n",
       "3         49:58.7  \n",
       "4         49:58.7  \n",
       "\n",
       "[5 rows x 41 columns]"
      ]
     },
     "execution_count": 391,
     "metadata": {},
     "output_type": "execute_result"
    }
   ],
   "source": [
    "# Load dataset \n",
    "data = pd.read_csv('2013_Data2.csv')\n",
    "data.head()\n"
   ]
  },
  {
   "cell_type": "code",
   "execution_count": 392,
   "metadata": {},
   "outputs": [
    {
     "name": "stdout",
     "output_type": "stream",
     "text": [
      "<class 'pandas.core.frame.DataFrame'>\n",
      "RangeIndex: 951177 entries, 0 to 951176\n",
      "Data columns (total 41 columns):\n",
      " #   Column                    Non-Null Count   Dtype  \n",
      "---  ------                    --------------   -----  \n",
      " 0   accounting_date           951177 non-null  int64  \n",
      " 1   fiscal_year               951177 non-null  int64  \n",
      " 2   fiscal_month              951177 non-null  int64  \n",
      " 3   calendar_year             951177 non-null  int64  \n",
      " 4   calendar_month            951177 non-null  int64  \n",
      " 5   calendar_day              951177 non-null  int64  \n",
      " 6   company_code              951177 non-null  int64  \n",
      " 7   customer_code             951177 non-null  object \n",
      " 8   customer_district_code    951177 non-null  int64  \n",
      " 9   item_code                 951177 non-null  object \n",
      " 10  business_area_code        951177 non-null  object \n",
      " 11  item_group_code           951177 non-null  object \n",
      " 12  item_class_code           951177 non-null  object \n",
      " 13  item_type                 951177 non-null  int64  \n",
      " 14  bonus_group_code          951177 non-null  object \n",
      " 15  environment_group_code    951177 non-null  object \n",
      " 16  technology_group_code     951177 non-null  object \n",
      " 17  commission_group_code     951177 non-null  object \n",
      " 18  reporting_classification  951177 non-null  object \n",
      " 19  light_source              951177 non-null  object \n",
      " 20  warehouse_code            951177 non-null  object \n",
      " 21  abc_class_code            951177 non-null  object \n",
      " 22  abc_class_volume          951177 non-null  object \n",
      " 23  business_chain_l1_code    951177 non-null  object \n",
      " 24  business_chain_l1_name    951177 non-null  object \n",
      " 25  contact_method_code       951177 non-null  object \n",
      " 26  salesperson_code          951177 non-null  object \n",
      " 27  order_type_code           951177 non-null  object \n",
      " 28  market_segment            951177 non-null  object \n",
      " 29  value_sales               951177 non-null  float64\n",
      " 30  value_cost                951177 non-null  float64\n",
      " 31  value_quantity            951177 non-null  float64\n",
      " 32  value_price_adjustment    951177 non-null  int64  \n",
      " 33  currency                  951177 non-null  object \n",
      " 34  item_source_class         0 non-null       float64\n",
      " 35  invoice_number            951177 non-null  int64  \n",
      " 36  line_number               951177 non-null  int64  \n",
      " 37  invoice_date              951177 non-null  int64  \n",
      " 38  customer_order_number     951177 non-null  object \n",
      " 39  order_date                951177 non-null  int64  \n",
      " 40  dss_update_time           951177 non-null  object \n",
      "dtypes: float64(4), int64(14), object(23)\n",
      "memory usage: 297.5+ MB\n"
     ]
    }
   ],
   "source": [
    "# Basic information about dataset columns, datatypes, memory size.\n",
    "data.info()"
   ]
  },
  {
   "cell_type": "markdown",
   "metadata": {},
   "source": [
    "## 1 .Check Null value"
   ]
  },
  {
   "cell_type": "code",
   "execution_count": 393,
   "metadata": {},
   "outputs": [
    {
     "data": {
      "text/plain": [
       "accounting_date                  0\n",
       "fiscal_year                      0\n",
       "fiscal_month                     0\n",
       "calendar_year                    0\n",
       "calendar_month                   0\n",
       "calendar_day                     0\n",
       "company_code                     0\n",
       "customer_code                    0\n",
       "customer_district_code           0\n",
       "item_code                        0\n",
       "business_area_code               0\n",
       "item_group_code                  0\n",
       "item_class_code                  0\n",
       "item_type                        0\n",
       "bonus_group_code                 0\n",
       "environment_group_code           0\n",
       "technology_group_code            0\n",
       "commission_group_code            0\n",
       "reporting_classification         0\n",
       "light_source                     0\n",
       "warehouse_code                   0\n",
       "abc_class_code                   0\n",
       "abc_class_volume                 0\n",
       "business_chain_l1_code           0\n",
       "business_chain_l1_name           0\n",
       "contact_method_code              0\n",
       "salesperson_code                 0\n",
       "order_type_code                  0\n",
       "market_segment                   0\n",
       "value_sales                      0\n",
       "value_cost                       0\n",
       "value_quantity                   0\n",
       "value_price_adjustment           0\n",
       "currency                         0\n",
       "item_source_class           951177\n",
       "invoice_number                   0\n",
       "line_number                      0\n",
       "invoice_date                     0\n",
       "customer_order_number            0\n",
       "order_date                       0\n",
       "dss_update_time                  0\n",
       "dtype: int64"
      ]
     },
     "execution_count": 393,
     "metadata": {},
     "output_type": "execute_result"
    }
   ],
   "source": [
    "## Checking Null value in dataset.\n",
    "data.isnull().sum()"
   ]
  },
  {
   "cell_type": "markdown",
   "metadata": {},
   "source": [
    "- In the entire dataset there is no any null value present expect item_source_class colums. Now inspecting the item_source_class column contining large  number of null value."
   ]
  },
  {
   "cell_type": "code",
   "execution_count": 394,
   "metadata": {},
   "outputs": [
    {
     "data": {
      "text/plain": [
       "0        NaN\n",
       "1        NaN\n",
       "2        NaN\n",
       "3        NaN\n",
       "4        NaN\n",
       "          ..\n",
       "951172   NaN\n",
       "951173   NaN\n",
       "951174   NaN\n",
       "951175   NaN\n",
       "951176   NaN\n",
       "Name: item_source_class, Length: 951177, dtype: float64"
      ]
     },
     "execution_count": 394,
     "metadata": {},
     "output_type": "execute_result"
    }
   ],
   "source": [
    "data['item_source_class']"
   ]
  },
  {
   "cell_type": "markdown",
   "metadata": {},
   "source": [
    "- Column contain only null value, best idea is to delete the columns because it donot contibute any things to our analysis."
   ]
  },
  {
   "cell_type": "code",
   "execution_count": 395,
   "metadata": {},
   "outputs": [],
   "source": [
    "## Drop the item_source_class\n",
    "data.drop('item_source_class', axis=1, inplace=True)"
   ]
  },
  {
   "cell_type": "markdown",
   "metadata": {},
   "source": [
    "## 2. Check duplicate Value"
   ]
  },
  {
   "cell_type": "code",
   "execution_count": 396,
   "metadata": {},
   "outputs": [
    {
     "data": {
      "text/plain": [
       "3378"
      ]
     },
     "execution_count": 396,
     "metadata": {},
     "output_type": "execute_result"
    }
   ],
   "source": [
    "data.duplicated().sum()"
   ]
  },
  {
   "cell_type": "code",
   "execution_count": 397,
   "metadata": {},
   "outputs": [
    {
     "data": {
      "text/html": [
       "<div>\n",
       "<style scoped>\n",
       "    .dataframe tbody tr th:only-of-type {\n",
       "        vertical-align: middle;\n",
       "    }\n",
       "\n",
       "    .dataframe tbody tr th {\n",
       "        vertical-align: top;\n",
       "    }\n",
       "\n",
       "    .dataframe thead th {\n",
       "        text-align: right;\n",
       "    }\n",
       "</style>\n",
       "<table border=\"1\" class=\"dataframe\">\n",
       "  <thead>\n",
       "    <tr style=\"text-align: right;\">\n",
       "      <th></th>\n",
       "      <th>accounting_date</th>\n",
       "      <th>fiscal_year</th>\n",
       "      <th>fiscal_month</th>\n",
       "      <th>calendar_year</th>\n",
       "      <th>calendar_month</th>\n",
       "      <th>calendar_day</th>\n",
       "      <th>company_code</th>\n",
       "      <th>customer_code</th>\n",
       "      <th>customer_district_code</th>\n",
       "      <th>item_code</th>\n",
       "      <th>...</th>\n",
       "      <th>value_cost</th>\n",
       "      <th>value_quantity</th>\n",
       "      <th>value_price_adjustment</th>\n",
       "      <th>currency</th>\n",
       "      <th>invoice_number</th>\n",
       "      <th>line_number</th>\n",
       "      <th>invoice_date</th>\n",
       "      <th>customer_order_number</th>\n",
       "      <th>order_date</th>\n",
       "      <th>dss_update_time</th>\n",
       "    </tr>\n",
       "  </thead>\n",
       "  <tbody>\n",
       "    <tr>\n",
       "      <th>1600</th>\n",
       "      <td>20130424</td>\n",
       "      <td>2013</td>\n",
       "      <td>10</td>\n",
       "      <td>2013</td>\n",
       "      <td>4</td>\n",
       "      <td>24</td>\n",
       "      <td>205</td>\n",
       "      <td>200001500</td>\n",
       "      <td>200</td>\n",
       "      <td>10059</td>\n",
       "      <td>...</td>\n",
       "      <td>2.7885</td>\n",
       "      <td>5.0</td>\n",
       "      <td>0</td>\n",
       "      <td>AUD</td>\n",
       "      <td>745438</td>\n",
       "      <td>0</td>\n",
       "      <td>20130424</td>\n",
       "      <td>860493</td>\n",
       "      <td>20130424</td>\n",
       "      <td>49:58.7</td>\n",
       "    </tr>\n",
       "    <tr>\n",
       "      <th>1719</th>\n",
       "      <td>20130522</td>\n",
       "      <td>2013</td>\n",
       "      <td>11</td>\n",
       "      <td>2013</td>\n",
       "      <td>5</td>\n",
       "      <td>22</td>\n",
       "      <td>205</td>\n",
       "      <td>254800200</td>\n",
       "      <td>200</td>\n",
       "      <td>11227</td>\n",
       "      <td>...</td>\n",
       "      <td>1.7970</td>\n",
       "      <td>10.0</td>\n",
       "      <td>0</td>\n",
       "      <td>AUD</td>\n",
       "      <td>751509</td>\n",
       "      <td>0</td>\n",
       "      <td>20130522</td>\n",
       "      <td>872026</td>\n",
       "      <td>20130521</td>\n",
       "      <td>49:58.7</td>\n",
       "    </tr>\n",
       "    <tr>\n",
       "      <th>2174</th>\n",
       "      <td>20130109</td>\n",
       "      <td>2013</td>\n",
       "      <td>7</td>\n",
       "      <td>2013</td>\n",
       "      <td>1</td>\n",
       "      <td>9</td>\n",
       "      <td>205</td>\n",
       "      <td>304200200</td>\n",
       "      <td>300</td>\n",
       "      <td>11227</td>\n",
       "      <td>...</td>\n",
       "      <td>1.8360</td>\n",
       "      <td>10.0</td>\n",
       "      <td>0</td>\n",
       "      <td>AUD</td>\n",
       "      <td>723480</td>\n",
       "      <td>0</td>\n",
       "      <td>20130109</td>\n",
       "      <td>820248</td>\n",
       "      <td>20130108</td>\n",
       "      <td>49:58.7</td>\n",
       "    </tr>\n",
       "    <tr>\n",
       "      <th>2909</th>\n",
       "      <td>20130225</td>\n",
       "      <td>2013</td>\n",
       "      <td>8</td>\n",
       "      <td>2013</td>\n",
       "      <td>2</td>\n",
       "      <td>25</td>\n",
       "      <td>205</td>\n",
       "      <td>525100100</td>\n",
       "      <td>500</td>\n",
       "      <td>11227</td>\n",
       "      <td>...</td>\n",
       "      <td>1.8310</td>\n",
       "      <td>10.0</td>\n",
       "      <td>0</td>\n",
       "      <td>AUD</td>\n",
       "      <td>282940</td>\n",
       "      <td>0</td>\n",
       "      <td>20130225</td>\n",
       "      <td>837420</td>\n",
       "      <td>20130225</td>\n",
       "      <td>49:58.7</td>\n",
       "    </tr>\n",
       "    <tr>\n",
       "      <th>4171</th>\n",
       "      <td>20130426</td>\n",
       "      <td>2013</td>\n",
       "      <td>10</td>\n",
       "      <td>2013</td>\n",
       "      <td>4</td>\n",
       "      <td>26</td>\n",
       "      <td>205</td>\n",
       "      <td>623000400</td>\n",
       "      <td>600</td>\n",
       "      <td>11277</td>\n",
       "      <td>...</td>\n",
       "      <td>22.8264</td>\n",
       "      <td>3.0</td>\n",
       "      <td>0</td>\n",
       "      <td>AUD</td>\n",
       "      <td>289192</td>\n",
       "      <td>0</td>\n",
       "      <td>20130426</td>\n",
       "      <td>860755</td>\n",
       "      <td>20130424</td>\n",
       "      <td>49:58.7</td>\n",
       "    </tr>\n",
       "    <tr>\n",
       "      <th>...</th>\n",
       "      <td>...</td>\n",
       "      <td>...</td>\n",
       "      <td>...</td>\n",
       "      <td>...</td>\n",
       "      <td>...</td>\n",
       "      <td>...</td>\n",
       "      <td>...</td>\n",
       "      <td>...</td>\n",
       "      <td>...</td>\n",
       "      <td>...</td>\n",
       "      <td>...</td>\n",
       "      <td>...</td>\n",
       "      <td>...</td>\n",
       "      <td>...</td>\n",
       "      <td>...</td>\n",
       "      <td>...</td>\n",
       "      <td>...</td>\n",
       "      <td>...</td>\n",
       "      <td>...</td>\n",
       "      <td>...</td>\n",
       "      <td>...</td>\n",
       "    </tr>\n",
       "    <tr>\n",
       "      <th>947991</th>\n",
       "      <td>20130919</td>\n",
       "      <td>2014</td>\n",
       "      <td>3</td>\n",
       "      <td>2013</td>\n",
       "      <td>9</td>\n",
       "      <td>19</td>\n",
       "      <td>205</td>\n",
       "      <td>502988001</td>\n",
       "      <td>500</td>\n",
       "      <td>BWP/T236H</td>\n",
       "      <td>...</td>\n",
       "      <td>63.0000</td>\n",
       "      <td>2.0</td>\n",
       "      <td>0</td>\n",
       "      <td>AUD</td>\n",
       "      <td>2408807</td>\n",
       "      <td>2</td>\n",
       "      <td>20130919</td>\n",
       "      <td>3042762</td>\n",
       "      <td>20130812</td>\n",
       "      <td>49:58.7</td>\n",
       "    </tr>\n",
       "    <tr>\n",
       "      <th>948306</th>\n",
       "      <td>20130816</td>\n",
       "      <td>2014</td>\n",
       "      <td>2</td>\n",
       "      <td>2013</td>\n",
       "      <td>8</td>\n",
       "      <td>16</td>\n",
       "      <td>101</td>\n",
       "      <td>200000000</td>\n",
       "      <td>200</td>\n",
       "      <td>JS97Q01</td>\n",
       "      <td>...</td>\n",
       "      <td>21295.1000</td>\n",
       "      <td>250.0</td>\n",
       "      <td>0</td>\n",
       "      <td>AUS</td>\n",
       "      <td>822811</td>\n",
       "      <td>0</td>\n",
       "      <td>20130816</td>\n",
       "      <td>1503017</td>\n",
       "      <td>20130816</td>\n",
       "      <td>49:58.7</td>\n",
       "    </tr>\n",
       "    <tr>\n",
       "      <th>949115</th>\n",
       "      <td>20131018</td>\n",
       "      <td>2014</td>\n",
       "      <td>4</td>\n",
       "      <td>2013</td>\n",
       "      <td>10</td>\n",
       "      <td>18</td>\n",
       "      <td>205</td>\n",
       "      <td>478000711</td>\n",
       "      <td>410</td>\n",
       "      <td>27099</td>\n",
       "      <td>...</td>\n",
       "      <td>88.0240</td>\n",
       "      <td>10.0</td>\n",
       "      <td>0</td>\n",
       "      <td>AUD</td>\n",
       "      <td>309571</td>\n",
       "      <td>0</td>\n",
       "      <td>20131018</td>\n",
       "      <td>938028</td>\n",
       "      <td>20131018</td>\n",
       "      <td>49:58.7</td>\n",
       "    </tr>\n",
       "    <tr>\n",
       "      <th>950645</th>\n",
       "      <td>20131018</td>\n",
       "      <td>2014</td>\n",
       "      <td>4</td>\n",
       "      <td>2013</td>\n",
       "      <td>10</td>\n",
       "      <td>18</td>\n",
       "      <td>950</td>\n",
       "      <td>Z85033902</td>\n",
       "      <td>535</td>\n",
       "      <td>603356NZ</td>\n",
       "      <td>...</td>\n",
       "      <td>16.2200</td>\n",
       "      <td>50.0</td>\n",
       "      <td>0</td>\n",
       "      <td>NZD</td>\n",
       "      <td>149953</td>\n",
       "      <td>2</td>\n",
       "      <td>20131018</td>\n",
       "      <td>3068879</td>\n",
       "      <td>20131015</td>\n",
       "      <td>49:58.7</td>\n",
       "    </tr>\n",
       "    <tr>\n",
       "      <th>950990</th>\n",
       "      <td>20131101</td>\n",
       "      <td>2014</td>\n",
       "      <td>5</td>\n",
       "      <td>2013</td>\n",
       "      <td>11</td>\n",
       "      <td>1</td>\n",
       "      <td>205</td>\n",
       "      <td>289481715</td>\n",
       "      <td>200</td>\n",
       "      <td>DB218EL</td>\n",
       "      <td>...</td>\n",
       "      <td>145.0000</td>\n",
       "      <td>10.0</td>\n",
       "      <td>0</td>\n",
       "      <td>AUD</td>\n",
       "      <td>2422559</td>\n",
       "      <td>1</td>\n",
       "      <td>20131101</td>\n",
       "      <td>3075926</td>\n",
       "      <td>20131101</td>\n",
       "      <td>49:58.7</td>\n",
       "    </tr>\n",
       "  </tbody>\n",
       "</table>\n",
       "<p>3378 rows × 40 columns</p>\n",
       "</div>"
      ],
      "text/plain": [
       "        accounting_date  fiscal_year  fiscal_month  calendar_year  \\\n",
       "1600           20130424         2013            10           2013   \n",
       "1719           20130522         2013            11           2013   \n",
       "2174           20130109         2013             7           2013   \n",
       "2909           20130225         2013             8           2013   \n",
       "4171           20130426         2013            10           2013   \n",
       "...                 ...          ...           ...            ...   \n",
       "947991         20130919         2014             3           2013   \n",
       "948306         20130816         2014             2           2013   \n",
       "949115         20131018         2014             4           2013   \n",
       "950645         20131018         2014             4           2013   \n",
       "950990         20131101         2014             5           2013   \n",
       "\n",
       "        calendar_month  calendar_day  company_code customer_code  \\\n",
       "1600                 4            24           205     200001500   \n",
       "1719                 5            22           205     254800200   \n",
       "2174                 1             9           205     304200200   \n",
       "2909                 2            25           205     525100100   \n",
       "4171                 4            26           205     623000400   \n",
       "...                ...           ...           ...           ...   \n",
       "947991               9            19           205     502988001   \n",
       "948306               8            16           101     200000000   \n",
       "949115              10            18           205     478000711   \n",
       "950645              10            18           950    Z85033902    \n",
       "950990              11             1           205     289481715   \n",
       "\n",
       "        customer_district_code                       item_code  ...  \\\n",
       "1600                       200                           10059  ...   \n",
       "1719                       200                           11227  ...   \n",
       "2174                       300                           11227  ...   \n",
       "2909                       500                           11227  ...   \n",
       "4171                       600                           11277  ...   \n",
       "...                        ...                             ...  ...   \n",
       "947991                     500  BWP/T236H                       ...   \n",
       "948306                     200  JS97Q01                         ...   \n",
       "949115                     410                           27099  ...   \n",
       "950645                     535  603356NZ                        ...   \n",
       "950990                     200  DB218EL                         ...   \n",
       "\n",
       "        value_cost value_quantity value_price_adjustment  currency  \\\n",
       "1600        2.7885            5.0                      0       AUD   \n",
       "1719        1.7970           10.0                      0       AUD   \n",
       "2174        1.8360           10.0                      0       AUD   \n",
       "2909        1.8310           10.0                      0       AUD   \n",
       "4171       22.8264            3.0                      0       AUD   \n",
       "...            ...            ...                    ...       ...   \n",
       "947991     63.0000            2.0                      0       AUD   \n",
       "948306  21295.1000          250.0                      0       AUS   \n",
       "949115     88.0240           10.0                      0       AUD   \n",
       "950645     16.2200           50.0                      0       NZD   \n",
       "950990    145.0000           10.0                      0       AUD   \n",
       "\n",
       "       invoice_number line_number invoice_date customer_order_number  \\\n",
       "1600           745438           0     20130424                860493   \n",
       "1719           751509           0     20130522                872026   \n",
       "2174           723480           0     20130109                820248   \n",
       "2909           282940           0     20130225                837420   \n",
       "4171           289192           0     20130426                860755   \n",
       "...               ...         ...          ...                   ...   \n",
       "947991        2408807           2     20130919               3042762   \n",
       "948306         822811           0     20130816               1503017   \n",
       "949115         309571           0     20131018                938028   \n",
       "950645         149953           2     20131018               3068879   \n",
       "950990        2422559           1     20131101               3075926   \n",
       "\n",
       "       order_date dss_update_time  \n",
       "1600     20130424         49:58.7  \n",
       "1719     20130521         49:58.7  \n",
       "2174     20130108         49:58.7  \n",
       "2909     20130225         49:58.7  \n",
       "4171     20130424         49:58.7  \n",
       "...           ...             ...  \n",
       "947991   20130812         49:58.7  \n",
       "948306   20130816         49:58.7  \n",
       "949115   20131018         49:58.7  \n",
       "950645   20131015         49:58.7  \n",
       "950990   20131101         49:58.7  \n",
       "\n",
       "[3378 rows x 40 columns]"
      ]
     },
     "execution_count": 397,
     "metadata": {},
     "output_type": "execute_result"
    }
   ],
   "source": [
    "data[data.duplicated()]"
   ]
  },
  {
   "cell_type": "markdown",
   "metadata": {},
   "source": [
    "- Around 3378 datapoint contain duplicate value in 951177 point which is very less in comparison to entire datapoint best decision is to delete the duplicate element because removing duplicate ensure the quality and integity of the data."
   ]
  },
  {
   "cell_type": "code",
   "execution_count": 398,
   "metadata": {},
   "outputs": [],
   "source": [
    "# Delete duplicate value.\n",
    "data.drop_duplicates(inplace=True)"
   ]
  },
  {
   "cell_type": "code",
   "execution_count": 399,
   "metadata": {},
   "outputs": [
    {
     "data": {
      "text/plain": [
       "0"
      ]
     },
     "execution_count": 399,
     "metadata": {},
     "output_type": "execute_result"
    }
   ],
   "source": [
    "data.duplicated().sum()"
   ]
  },
  {
   "cell_type": "code",
   "execution_count": 400,
   "metadata": {},
   "outputs": [
    {
     "data": {
      "text/html": [
       "<div>\n",
       "<style scoped>\n",
       "    .dataframe tbody tr th:only-of-type {\n",
       "        vertical-align: middle;\n",
       "    }\n",
       "\n",
       "    .dataframe tbody tr th {\n",
       "        vertical-align: top;\n",
       "    }\n",
       "\n",
       "    .dataframe thead th {\n",
       "        text-align: right;\n",
       "    }\n",
       "</style>\n",
       "<table border=\"1\" class=\"dataframe\">\n",
       "  <thead>\n",
       "    <tr style=\"text-align: right;\">\n",
       "      <th></th>\n",
       "      <th>accounting_date</th>\n",
       "      <th>fiscal_year</th>\n",
       "      <th>fiscal_month</th>\n",
       "      <th>calendar_year</th>\n",
       "      <th>calendar_month</th>\n",
       "      <th>calendar_day</th>\n",
       "      <th>company_code</th>\n",
       "      <th>customer_code</th>\n",
       "      <th>customer_district_code</th>\n",
       "      <th>item_code</th>\n",
       "      <th>...</th>\n",
       "      <th>value_cost</th>\n",
       "      <th>value_quantity</th>\n",
       "      <th>value_price_adjustment</th>\n",
       "      <th>currency</th>\n",
       "      <th>invoice_number</th>\n",
       "      <th>line_number</th>\n",
       "      <th>invoice_date</th>\n",
       "      <th>customer_order_number</th>\n",
       "      <th>order_date</th>\n",
       "      <th>dss_update_time</th>\n",
       "    </tr>\n",
       "  </thead>\n",
       "  <tbody>\n",
       "    <tr>\n",
       "      <th>0</th>\n",
       "      <td>20130125</td>\n",
       "      <td>2013</td>\n",
       "      <td>7</td>\n",
       "      <td>2013</td>\n",
       "      <td>1</td>\n",
       "      <td>25</td>\n",
       "      <td>205</td>\n",
       "      <td>471150112</td>\n",
       "      <td>400</td>\n",
       "      <td>10311</td>\n",
       "      <td>...</td>\n",
       "      <td>-1.270</td>\n",
       "      <td>-1.0</td>\n",
       "      <td>0</td>\n",
       "      <td>AUD</td>\n",
       "      <td>277995</td>\n",
       "      <td>0</td>\n",
       "      <td>20130125</td>\n",
       "      <td>277995</td>\n",
       "      <td>20130125</td>\n",
       "      <td>49:58.7</td>\n",
       "    </tr>\n",
       "    <tr>\n",
       "      <th>1</th>\n",
       "      <td>20130513</td>\n",
       "      <td>2013</td>\n",
       "      <td>11</td>\n",
       "      <td>2013</td>\n",
       "      <td>5</td>\n",
       "      <td>13</td>\n",
       "      <td>205</td>\n",
       "      <td>277000801</td>\n",
       "      <td>200</td>\n",
       "      <td>10311</td>\n",
       "      <td>...</td>\n",
       "      <td>1.270</td>\n",
       "      <td>1.0</td>\n",
       "      <td>0</td>\n",
       "      <td>AUD</td>\n",
       "      <td>749295</td>\n",
       "      <td>0</td>\n",
       "      <td>20130513</td>\n",
       "      <td>867468</td>\n",
       "      <td>20130510</td>\n",
       "      <td>49:58.7</td>\n",
       "    </tr>\n",
       "    <tr>\n",
       "      <th>2</th>\n",
       "      <td>20130611</td>\n",
       "      <td>2013</td>\n",
       "      <td>12</td>\n",
       "      <td>2013</td>\n",
       "      <td>6</td>\n",
       "      <td>11</td>\n",
       "      <td>205</td>\n",
       "      <td>292314701</td>\n",
       "      <td>200</td>\n",
       "      <td>10350</td>\n",
       "      <td>...</td>\n",
       "      <td>22.970</td>\n",
       "      <td>2.0</td>\n",
       "      <td>0</td>\n",
       "      <td>AUD</td>\n",
       "      <td>756507</td>\n",
       "      <td>0</td>\n",
       "      <td>20130611</td>\n",
       "      <td>880839</td>\n",
       "      <td>20130611</td>\n",
       "      <td>49:58.7</td>\n",
       "    </tr>\n",
       "    <tr>\n",
       "      <th>3</th>\n",
       "      <td>20130111</td>\n",
       "      <td>2013</td>\n",
       "      <td>7</td>\n",
       "      <td>2013</td>\n",
       "      <td>1</td>\n",
       "      <td>11</td>\n",
       "      <td>205</td>\n",
       "      <td>299480703</td>\n",
       "      <td>200</td>\n",
       "      <td>10350</td>\n",
       "      <td>...</td>\n",
       "      <td>11.485</td>\n",
       "      <td>1.0</td>\n",
       "      <td>0</td>\n",
       "      <td>AUD</td>\n",
       "      <td>724149</td>\n",
       "      <td>0</td>\n",
       "      <td>20130111</td>\n",
       "      <td>821554</td>\n",
       "      <td>20130111</td>\n",
       "      <td>49:58.7</td>\n",
       "    </tr>\n",
       "    <tr>\n",
       "      <th>4</th>\n",
       "      <td>20130321</td>\n",
       "      <td>2013</td>\n",
       "      <td>9</td>\n",
       "      <td>2013</td>\n",
       "      <td>3</td>\n",
       "      <td>21</td>\n",
       "      <td>205</td>\n",
       "      <td>471150015</td>\n",
       "      <td>400</td>\n",
       "      <td>10364</td>\n",
       "      <td>...</td>\n",
       "      <td>28.140</td>\n",
       "      <td>6.0</td>\n",
       "      <td>0</td>\n",
       "      <td>AUD</td>\n",
       "      <td>738377</td>\n",
       "      <td>0</td>\n",
       "      <td>20130321</td>\n",
       "      <td>847171</td>\n",
       "      <td>20130320</td>\n",
       "      <td>49:58.7</td>\n",
       "    </tr>\n",
       "  </tbody>\n",
       "</table>\n",
       "<p>5 rows × 40 columns</p>\n",
       "</div>"
      ],
      "text/plain": [
       "   accounting_date  fiscal_year  fiscal_month  calendar_year  calendar_month  \\\n",
       "0         20130125         2013             7           2013               1   \n",
       "1         20130513         2013            11           2013               5   \n",
       "2         20130611         2013            12           2013               6   \n",
       "3         20130111         2013             7           2013               1   \n",
       "4         20130321         2013             9           2013               3   \n",
       "\n",
       "   calendar_day  company_code customer_code  customer_district_code item_code  \\\n",
       "0            25           205     471150112                     400     10311   \n",
       "1            13           205     277000801                     200     10311   \n",
       "2            11           205     292314701                     200     10350   \n",
       "3            11           205     299480703                     200     10350   \n",
       "4            21           205     471150015                     400     10364   \n",
       "\n",
       "   ... value_cost value_quantity value_price_adjustment  currency  \\\n",
       "0  ...     -1.270           -1.0                      0       AUD   \n",
       "1  ...      1.270            1.0                      0       AUD   \n",
       "2  ...     22.970            2.0                      0       AUD   \n",
       "3  ...     11.485            1.0                      0       AUD   \n",
       "4  ...     28.140            6.0                      0       AUD   \n",
       "\n",
       "  invoice_number line_number invoice_date customer_order_number order_date  \\\n",
       "0         277995           0     20130125                277995   20130125   \n",
       "1         749295           0     20130513                867468   20130510   \n",
       "2         756507           0     20130611                880839   20130611   \n",
       "3         724149           0     20130111                821554   20130111   \n",
       "4         738377           0     20130321                847171   20130320   \n",
       "\n",
       "  dss_update_time  \n",
       "0         49:58.7  \n",
       "1         49:58.7  \n",
       "2         49:58.7  \n",
       "3         49:58.7  \n",
       "4         49:58.7  \n",
       "\n",
       "[5 rows x 40 columns]"
      ]
     },
     "execution_count": 400,
     "metadata": {},
     "output_type": "execute_result"
    }
   ],
   "source": [
    "data.head()"
   ]
  },
  {
   "cell_type": "markdown",
   "metadata": {},
   "source": [
    "## Divide categorical and Numerical column column in different dataframe so that easy to Clean."
   ]
  },
  {
   "cell_type": "code",
   "execution_count": 401,
   "metadata": {},
   "outputs": [
    {
     "data": {
      "text/plain": [
       "['customer_code',\n",
       " 'item_code',\n",
       " 'business_area_code',\n",
       " 'item_group_code',\n",
       " 'item_class_code',\n",
       " 'bonus_group_code',\n",
       " 'environment_group_code',\n",
       " 'technology_group_code',\n",
       " 'commission_group_code',\n",
       " 'reporting_classification',\n",
       " 'light_source',\n",
       " 'warehouse_code',\n",
       " 'abc_class_code',\n",
       " 'abc_class_volume',\n",
       " 'business_chain_l1_code',\n",
       " 'business_chain_l1_name',\n",
       " 'contact_method_code',\n",
       " 'salesperson_code',\n",
       " 'order_type_code',\n",
       " 'market_segment',\n",
       " 'currency',\n",
       " 'customer_order_number',\n",
       " 'dss_update_time']"
      ]
     },
     "execution_count": 401,
     "metadata": {},
     "output_type": "execute_result"
    }
   ],
   "source": [
    "categorical_column=[col for col in data.columns if data[col].dtype=='O']\n",
    "categorical_column"
   ]
  },
  {
   "cell_type": "code",
   "execution_count": 402,
   "metadata": {},
   "outputs": [
    {
     "data": {
      "text/html": [
       "<div>\n",
       "<style scoped>\n",
       "    .dataframe tbody tr th:only-of-type {\n",
       "        vertical-align: middle;\n",
       "    }\n",
       "\n",
       "    .dataframe tbody tr th {\n",
       "        vertical-align: top;\n",
       "    }\n",
       "\n",
       "    .dataframe thead th {\n",
       "        text-align: right;\n",
       "    }\n",
       "</style>\n",
       "<table border=\"1\" class=\"dataframe\">\n",
       "  <thead>\n",
       "    <tr style=\"text-align: right;\">\n",
       "      <th></th>\n",
       "      <th>customer_code</th>\n",
       "      <th>item_code</th>\n",
       "      <th>business_area_code</th>\n",
       "      <th>item_group_code</th>\n",
       "      <th>item_class_code</th>\n",
       "      <th>bonus_group_code</th>\n",
       "      <th>environment_group_code</th>\n",
       "      <th>technology_group_code</th>\n",
       "      <th>commission_group_code</th>\n",
       "      <th>reporting_classification</th>\n",
       "      <th>...</th>\n",
       "      <th>abc_class_volume</th>\n",
       "      <th>business_chain_l1_code</th>\n",
       "      <th>business_chain_l1_name</th>\n",
       "      <th>contact_method_code</th>\n",
       "      <th>salesperson_code</th>\n",
       "      <th>order_type_code</th>\n",
       "      <th>market_segment</th>\n",
       "      <th>currency</th>\n",
       "      <th>customer_order_number</th>\n",
       "      <th>dss_update_time</th>\n",
       "    </tr>\n",
       "  </thead>\n",
       "  <tbody>\n",
       "    <tr>\n",
       "      <th>0</th>\n",
       "      <td>471150112</td>\n",
       "      <td>10311</td>\n",
       "      <td>COM</td>\n",
       "      <td>COM90001</td>\n",
       "      <td>COM90</td>\n",
       "      <td>Trade</td>\n",
       "      <td>C</td>\n",
       "      <td>CROM</td>\n",
       "      <td>NET_SALES</td>\n",
       "      <td>Continuing</td>\n",
       "      <td>...</td>\n",
       "      <td>U</td>\n",
       "      <td>MED</td>\n",
       "      <td>Metro Electrical Distributors</td>\n",
       "      <td>NA</td>\n",
       "      <td>T432</td>\n",
       "      <td>CRR</td>\n",
       "      <td>Commercial &amp; Industrial</td>\n",
       "      <td>AUD</td>\n",
       "      <td>277995</td>\n",
       "      <td>49:58.7</td>\n",
       "    </tr>\n",
       "    <tr>\n",
       "      <th>1</th>\n",
       "      <td>277000801</td>\n",
       "      <td>10311</td>\n",
       "      <td>COM</td>\n",
       "      <td>COM90001</td>\n",
       "      <td>COM90</td>\n",
       "      <td>Trade</td>\n",
       "      <td>C</td>\n",
       "      <td>CROM</td>\n",
       "      <td>NET_SALES</td>\n",
       "      <td>Continuing</td>\n",
       "      <td>...</td>\n",
       "      <td>J</td>\n",
       "      <td>AEG</td>\n",
       "      <td>Aussie Energy Group</td>\n",
       "      <td>NA</td>\n",
       "      <td>P237</td>\n",
       "      <td>NOR</td>\n",
       "      <td>Commercial &amp; Industrial</td>\n",
       "      <td>AUD</td>\n",
       "      <td>867468</td>\n",
       "      <td>49:58.7</td>\n",
       "    </tr>\n",
       "    <tr>\n",
       "      <th>2</th>\n",
       "      <td>292314701</td>\n",
       "      <td>10350</td>\n",
       "      <td>OTH</td>\n",
       "      <td>999</td>\n",
       "      <td>14001</td>\n",
       "      <td>Trade</td>\n",
       "      <td>C</td>\n",
       "      <td>NA</td>\n",
       "      <td>NET_SALES</td>\n",
       "      <td>Continuing</td>\n",
       "      <td>...</td>\n",
       "      <td>U</td>\n",
       "      <td>NES</td>\n",
       "      <td>NextGen Electrical Solutions</td>\n",
       "      <td>NA</td>\n",
       "      <td>T203</td>\n",
       "      <td>NOR</td>\n",
       "      <td>Commercial &amp; Industrial</td>\n",
       "      <td>AUD</td>\n",
       "      <td>880839</td>\n",
       "      <td>49:58.7</td>\n",
       "    </tr>\n",
       "    <tr>\n",
       "      <th>3</th>\n",
       "      <td>299480703</td>\n",
       "      <td>10350</td>\n",
       "      <td>OTH</td>\n",
       "      <td>999</td>\n",
       "      <td>14001</td>\n",
       "      <td>Trade</td>\n",
       "      <td>C</td>\n",
       "      <td>NA</td>\n",
       "      <td>NET_SALES</td>\n",
       "      <td>Continuing</td>\n",
       "      <td>...</td>\n",
       "      <td>U</td>\n",
       "      <td>MED</td>\n",
       "      <td>Metro Electrical Distributors</td>\n",
       "      <td>NA</td>\n",
       "      <td>P248</td>\n",
       "      <td>NOR</td>\n",
       "      <td>Commercial &amp; Industrial</td>\n",
       "      <td>AUD</td>\n",
       "      <td>821554</td>\n",
       "      <td>49:58.7</td>\n",
       "    </tr>\n",
       "    <tr>\n",
       "      <th>4</th>\n",
       "      <td>471150015</td>\n",
       "      <td>10364</td>\n",
       "      <td>COM</td>\n",
       "      <td>COM03002</td>\n",
       "      <td>COM03</td>\n",
       "      <td>Trade</td>\n",
       "      <td>C</td>\n",
       "      <td>220</td>\n",
       "      <td>NET_SALES</td>\n",
       "      <td>Continuing</td>\n",
       "      <td>...</td>\n",
       "      <td>J</td>\n",
       "      <td>MED</td>\n",
       "      <td>Metro Electrical Distributors</td>\n",
       "      <td>NA</td>\n",
       "      <td>T612</td>\n",
       "      <td>NOR</td>\n",
       "      <td>Commercial &amp; Industrial</td>\n",
       "      <td>AUD</td>\n",
       "      <td>847171</td>\n",
       "      <td>49:58.7</td>\n",
       "    </tr>\n",
       "  </tbody>\n",
       "</table>\n",
       "<p>5 rows × 23 columns</p>\n",
       "</div>"
      ],
      "text/plain": [
       "  customer_code item_code              business_area_code  \\\n",
       "0     471150112     10311  COM                              \n",
       "1     277000801     10311  COM                              \n",
       "2     292314701     10350  OTH                              \n",
       "3     299480703     10350  OTH                              \n",
       "4     471150015     10364  COM                              \n",
       "\n",
       "                  item_group_code                 item_class_code  \\\n",
       "0  COM90001                        COM90                            \n",
       "1  COM90001                        COM90                            \n",
       "2                             999                           14001   \n",
       "3                             999                           14001   \n",
       "4  COM03002                        COM03                            \n",
       "\n",
       "  bonus_group_code          environment_group_code  \\\n",
       "0  Trade            C                                \n",
       "1  Trade            C                                \n",
       "2  Trade            C                                \n",
       "3  Trade            C                                \n",
       "4  Trade            C                                \n",
       "\n",
       "                      technology_group_code           commission_group_code  \\\n",
       "0  CROM                                      NET_SALES                        \n",
       "1  CROM                                      NET_SALES                        \n",
       "2  NA                                        NET_SALES                        \n",
       "3  NA                                        NET_SALES                        \n",
       "4                                       220  NET_SALES                        \n",
       "\n",
       "  reporting_classification  ... abc_class_volume business_chain_l1_code  \\\n",
       "0               Continuing  ...                U                    MED   \n",
       "1               Continuing  ...                J                    AEG   \n",
       "2               Continuing  ...                U                    NES   \n",
       "3               Continuing  ...                U                    MED   \n",
       "4               Continuing  ...                J                    MED   \n",
       "\n",
       "          business_chain_l1_name             contact_method_code  \\\n",
       "0  Metro Electrical Distributors  NA                               \n",
       "1            Aussie Energy Group  NA                               \n",
       "2   NextGen Electrical Solutions  NA                               \n",
       "3  Metro Electrical Distributors  NA                               \n",
       "4  Metro Electrical Distributors  NA                               \n",
       "\n",
       "  salesperson_code order_type_code           market_segment currency  \\\n",
       "0             T432             CRR  Commercial & Industrial      AUD   \n",
       "1             P237             NOR  Commercial & Industrial      AUD   \n",
       "2             T203             NOR  Commercial & Industrial      AUD   \n",
       "3             P248             NOR  Commercial & Industrial      AUD   \n",
       "4             T612             NOR  Commercial & Industrial      AUD   \n",
       "\n",
       "  customer_order_number dss_update_time  \n",
       "0                277995         49:58.7  \n",
       "1                867468         49:58.7  \n",
       "2                880839         49:58.7  \n",
       "3                821554         49:58.7  \n",
       "4                847171         49:58.7  \n",
       "\n",
       "[5 rows x 23 columns]"
      ]
     },
     "execution_count": 402,
     "metadata": {},
     "output_type": "execute_result"
    }
   ],
   "source": [
    "cat_df=data[categorical_column]\n",
    "cat_df.head()"
   ]
  },
  {
   "cell_type": "code",
   "execution_count": 403,
   "metadata": {},
   "outputs": [
    {
     "data": {
      "text/plain": [
       "['accounting_date',\n",
       " 'fiscal_year',\n",
       " 'fiscal_month',\n",
       " 'calendar_year',\n",
       " 'calendar_month',\n",
       " 'calendar_day',\n",
       " 'company_code',\n",
       " 'customer_district_code',\n",
       " 'item_type',\n",
       " 'value_sales',\n",
       " 'value_cost',\n",
       " 'value_quantity',\n",
       " 'value_price_adjustment',\n",
       " 'invoice_number',\n",
       " 'line_number',\n",
       " 'invoice_date',\n",
       " 'order_date']"
      ]
     },
     "execution_count": 403,
     "metadata": {},
     "output_type": "execute_result"
    }
   ],
   "source": [
    "numerical_column=[col for col in data.columns if data[col].dtype!='O']\n",
    "numerical_column"
   ]
  },
  {
   "cell_type": "code",
   "execution_count": 404,
   "metadata": {},
   "outputs": [
    {
     "data": {
      "text/html": [
       "<div>\n",
       "<style scoped>\n",
       "    .dataframe tbody tr th:only-of-type {\n",
       "        vertical-align: middle;\n",
       "    }\n",
       "\n",
       "    .dataframe tbody tr th {\n",
       "        vertical-align: top;\n",
       "    }\n",
       "\n",
       "    .dataframe thead th {\n",
       "        text-align: right;\n",
       "    }\n",
       "</style>\n",
       "<table border=\"1\" class=\"dataframe\">\n",
       "  <thead>\n",
       "    <tr style=\"text-align: right;\">\n",
       "      <th></th>\n",
       "      <th>accounting_date</th>\n",
       "      <th>fiscal_year</th>\n",
       "      <th>fiscal_month</th>\n",
       "      <th>calendar_year</th>\n",
       "      <th>calendar_month</th>\n",
       "      <th>calendar_day</th>\n",
       "      <th>company_code</th>\n",
       "      <th>customer_district_code</th>\n",
       "      <th>item_type</th>\n",
       "      <th>value_sales</th>\n",
       "      <th>value_cost</th>\n",
       "      <th>value_quantity</th>\n",
       "      <th>value_price_adjustment</th>\n",
       "      <th>invoice_number</th>\n",
       "      <th>line_number</th>\n",
       "      <th>invoice_date</th>\n",
       "      <th>order_date</th>\n",
       "    </tr>\n",
       "  </thead>\n",
       "  <tbody>\n",
       "    <tr>\n",
       "      <th>0</th>\n",
       "      <td>20130125</td>\n",
       "      <td>2013</td>\n",
       "      <td>7</td>\n",
       "      <td>2013</td>\n",
       "      <td>1</td>\n",
       "      <td>25</td>\n",
       "      <td>205</td>\n",
       "      <td>400</td>\n",
       "      <td>5</td>\n",
       "      <td>-2.23</td>\n",
       "      <td>-1.270</td>\n",
       "      <td>-1.0</td>\n",
       "      <td>0</td>\n",
       "      <td>277995</td>\n",
       "      <td>0</td>\n",
       "      <td>20130125</td>\n",
       "      <td>20130125</td>\n",
       "    </tr>\n",
       "    <tr>\n",
       "      <th>1</th>\n",
       "      <td>20130513</td>\n",
       "      <td>2013</td>\n",
       "      <td>11</td>\n",
       "      <td>2013</td>\n",
       "      <td>5</td>\n",
       "      <td>13</td>\n",
       "      <td>205</td>\n",
       "      <td>200</td>\n",
       "      <td>5</td>\n",
       "      <td>2.48</td>\n",
       "      <td>1.270</td>\n",
       "      <td>1.0</td>\n",
       "      <td>0</td>\n",
       "      <td>749295</td>\n",
       "      <td>0</td>\n",
       "      <td>20130513</td>\n",
       "      <td>20130510</td>\n",
       "    </tr>\n",
       "    <tr>\n",
       "      <th>2</th>\n",
       "      <td>20130611</td>\n",
       "      <td>2013</td>\n",
       "      <td>12</td>\n",
       "      <td>2013</td>\n",
       "      <td>6</td>\n",
       "      <td>11</td>\n",
       "      <td>205</td>\n",
       "      <td>200</td>\n",
       "      <td>5</td>\n",
       "      <td>53.40</td>\n",
       "      <td>22.970</td>\n",
       "      <td>2.0</td>\n",
       "      <td>0</td>\n",
       "      <td>756507</td>\n",
       "      <td>0</td>\n",
       "      <td>20130611</td>\n",
       "      <td>20130611</td>\n",
       "    </tr>\n",
       "    <tr>\n",
       "      <th>3</th>\n",
       "      <td>20130111</td>\n",
       "      <td>2013</td>\n",
       "      <td>7</td>\n",
       "      <td>2013</td>\n",
       "      <td>1</td>\n",
       "      <td>11</td>\n",
       "      <td>205</td>\n",
       "      <td>200</td>\n",
       "      <td>5</td>\n",
       "      <td>24.90</td>\n",
       "      <td>11.485</td>\n",
       "      <td>1.0</td>\n",
       "      <td>0</td>\n",
       "      <td>724149</td>\n",
       "      <td>0</td>\n",
       "      <td>20130111</td>\n",
       "      <td>20130111</td>\n",
       "    </tr>\n",
       "    <tr>\n",
       "      <th>4</th>\n",
       "      <td>20130321</td>\n",
       "      <td>2013</td>\n",
       "      <td>9</td>\n",
       "      <td>2013</td>\n",
       "      <td>3</td>\n",
       "      <td>21</td>\n",
       "      <td>205</td>\n",
       "      <td>400</td>\n",
       "      <td>5</td>\n",
       "      <td>45.00</td>\n",
       "      <td>28.140</td>\n",
       "      <td>6.0</td>\n",
       "      <td>0</td>\n",
       "      <td>738377</td>\n",
       "      <td>0</td>\n",
       "      <td>20130321</td>\n",
       "      <td>20130320</td>\n",
       "    </tr>\n",
       "  </tbody>\n",
       "</table>\n",
       "</div>"
      ],
      "text/plain": [
       "   accounting_date  fiscal_year  fiscal_month  calendar_year  calendar_month  \\\n",
       "0         20130125         2013             7           2013               1   \n",
       "1         20130513         2013            11           2013               5   \n",
       "2         20130611         2013            12           2013               6   \n",
       "3         20130111         2013             7           2013               1   \n",
       "4         20130321         2013             9           2013               3   \n",
       "\n",
       "   calendar_day  company_code  customer_district_code  item_type  value_sales  \\\n",
       "0            25           205                     400          5        -2.23   \n",
       "1            13           205                     200          5         2.48   \n",
       "2            11           205                     200          5        53.40   \n",
       "3            11           205                     200          5        24.90   \n",
       "4            21           205                     400          5        45.00   \n",
       "\n",
       "   value_cost  value_quantity  value_price_adjustment  invoice_number  \\\n",
       "0      -1.270            -1.0                       0          277995   \n",
       "1       1.270             1.0                       0          749295   \n",
       "2      22.970             2.0                       0          756507   \n",
       "3      11.485             1.0                       0          724149   \n",
       "4      28.140             6.0                       0          738377   \n",
       "\n",
       "   line_number  invoice_date  order_date  \n",
       "0            0      20130125    20130125  \n",
       "1            0      20130513    20130510  \n",
       "2            0      20130611    20130611  \n",
       "3            0      20130111    20130111  \n",
       "4            0      20130321    20130320  "
      ]
     },
     "execution_count": 404,
     "metadata": {},
     "output_type": "execute_result"
    }
   ],
   "source": [
    "num_df=data[numerical_column]\n",
    "num_df.head()"
   ]
  },
  {
   "cell_type": "code",
   "execution_count": 405,
   "metadata": {},
   "outputs": [
    {
     "data": {
      "text/html": [
       "<div>\n",
       "<style scoped>\n",
       "    .dataframe tbody tr th:only-of-type {\n",
       "        vertical-align: middle;\n",
       "    }\n",
       "\n",
       "    .dataframe tbody tr th {\n",
       "        vertical-align: top;\n",
       "    }\n",
       "\n",
       "    .dataframe thead th {\n",
       "        text-align: right;\n",
       "    }\n",
       "</style>\n",
       "<table border=\"1\" class=\"dataframe\">\n",
       "  <thead>\n",
       "    <tr style=\"text-align: right;\">\n",
       "      <th></th>\n",
       "      <th>customer_code</th>\n",
       "      <th>item_code</th>\n",
       "      <th>business_area_code</th>\n",
       "      <th>item_group_code</th>\n",
       "      <th>item_class_code</th>\n",
       "      <th>bonus_group_code</th>\n",
       "      <th>environment_group_code</th>\n",
       "      <th>technology_group_code</th>\n",
       "      <th>commission_group_code</th>\n",
       "      <th>reporting_classification</th>\n",
       "      <th>...</th>\n",
       "      <th>abc_class_volume</th>\n",
       "      <th>business_chain_l1_code</th>\n",
       "      <th>business_chain_l1_name</th>\n",
       "      <th>contact_method_code</th>\n",
       "      <th>salesperson_code</th>\n",
       "      <th>order_type_code</th>\n",
       "      <th>market_segment</th>\n",
       "      <th>currency</th>\n",
       "      <th>customer_order_number</th>\n",
       "      <th>dss_update_time</th>\n",
       "    </tr>\n",
       "  </thead>\n",
       "  <tbody>\n",
       "    <tr>\n",
       "      <th>0</th>\n",
       "      <td>471150112</td>\n",
       "      <td>10311</td>\n",
       "      <td>COM</td>\n",
       "      <td>COM90001</td>\n",
       "      <td>COM90</td>\n",
       "      <td>Trade</td>\n",
       "      <td>C</td>\n",
       "      <td>CROM</td>\n",
       "      <td>NET_SALES</td>\n",
       "      <td>Continuing</td>\n",
       "      <td>...</td>\n",
       "      <td>U</td>\n",
       "      <td>MED</td>\n",
       "      <td>Metro Electrical Distributors</td>\n",
       "      <td>NA</td>\n",
       "      <td>T432</td>\n",
       "      <td>CRR</td>\n",
       "      <td>Commercial &amp; Industrial</td>\n",
       "      <td>AUD</td>\n",
       "      <td>277995</td>\n",
       "      <td>49:58.7</td>\n",
       "    </tr>\n",
       "    <tr>\n",
       "      <th>1</th>\n",
       "      <td>277000801</td>\n",
       "      <td>10311</td>\n",
       "      <td>COM</td>\n",
       "      <td>COM90001</td>\n",
       "      <td>COM90</td>\n",
       "      <td>Trade</td>\n",
       "      <td>C</td>\n",
       "      <td>CROM</td>\n",
       "      <td>NET_SALES</td>\n",
       "      <td>Continuing</td>\n",
       "      <td>...</td>\n",
       "      <td>J</td>\n",
       "      <td>AEG</td>\n",
       "      <td>Aussie Energy Group</td>\n",
       "      <td>NA</td>\n",
       "      <td>P237</td>\n",
       "      <td>NOR</td>\n",
       "      <td>Commercial &amp; Industrial</td>\n",
       "      <td>AUD</td>\n",
       "      <td>867468</td>\n",
       "      <td>49:58.7</td>\n",
       "    </tr>\n",
       "    <tr>\n",
       "      <th>2</th>\n",
       "      <td>292314701</td>\n",
       "      <td>10350</td>\n",
       "      <td>OTH</td>\n",
       "      <td>999</td>\n",
       "      <td>14001</td>\n",
       "      <td>Trade</td>\n",
       "      <td>C</td>\n",
       "      <td>NA</td>\n",
       "      <td>NET_SALES</td>\n",
       "      <td>Continuing</td>\n",
       "      <td>...</td>\n",
       "      <td>U</td>\n",
       "      <td>NES</td>\n",
       "      <td>NextGen Electrical Solutions</td>\n",
       "      <td>NA</td>\n",
       "      <td>T203</td>\n",
       "      <td>NOR</td>\n",
       "      <td>Commercial &amp; Industrial</td>\n",
       "      <td>AUD</td>\n",
       "      <td>880839</td>\n",
       "      <td>49:58.7</td>\n",
       "    </tr>\n",
       "    <tr>\n",
       "      <th>3</th>\n",
       "      <td>299480703</td>\n",
       "      <td>10350</td>\n",
       "      <td>OTH</td>\n",
       "      <td>999</td>\n",
       "      <td>14001</td>\n",
       "      <td>Trade</td>\n",
       "      <td>C</td>\n",
       "      <td>NA</td>\n",
       "      <td>NET_SALES</td>\n",
       "      <td>Continuing</td>\n",
       "      <td>...</td>\n",
       "      <td>U</td>\n",
       "      <td>MED</td>\n",
       "      <td>Metro Electrical Distributors</td>\n",
       "      <td>NA</td>\n",
       "      <td>P248</td>\n",
       "      <td>NOR</td>\n",
       "      <td>Commercial &amp; Industrial</td>\n",
       "      <td>AUD</td>\n",
       "      <td>821554</td>\n",
       "      <td>49:58.7</td>\n",
       "    </tr>\n",
       "    <tr>\n",
       "      <th>4</th>\n",
       "      <td>471150015</td>\n",
       "      <td>10364</td>\n",
       "      <td>COM</td>\n",
       "      <td>COM03002</td>\n",
       "      <td>COM03</td>\n",
       "      <td>Trade</td>\n",
       "      <td>C</td>\n",
       "      <td>220</td>\n",
       "      <td>NET_SALES</td>\n",
       "      <td>Continuing</td>\n",
       "      <td>...</td>\n",
       "      <td>J</td>\n",
       "      <td>MED</td>\n",
       "      <td>Metro Electrical Distributors</td>\n",
       "      <td>NA</td>\n",
       "      <td>T612</td>\n",
       "      <td>NOR</td>\n",
       "      <td>Commercial &amp; Industrial</td>\n",
       "      <td>AUD</td>\n",
       "      <td>847171</td>\n",
       "      <td>49:58.7</td>\n",
       "    </tr>\n",
       "  </tbody>\n",
       "</table>\n",
       "<p>5 rows × 23 columns</p>\n",
       "</div>"
      ],
      "text/plain": [
       "  customer_code item_code              business_area_code  \\\n",
       "0     471150112     10311  COM                              \n",
       "1     277000801     10311  COM                              \n",
       "2     292314701     10350  OTH                              \n",
       "3     299480703     10350  OTH                              \n",
       "4     471150015     10364  COM                              \n",
       "\n",
       "                  item_group_code                 item_class_code  \\\n",
       "0  COM90001                        COM90                            \n",
       "1  COM90001                        COM90                            \n",
       "2                             999                           14001   \n",
       "3                             999                           14001   \n",
       "4  COM03002                        COM03                            \n",
       "\n",
       "  bonus_group_code          environment_group_code  \\\n",
       "0  Trade            C                                \n",
       "1  Trade            C                                \n",
       "2  Trade            C                                \n",
       "3  Trade            C                                \n",
       "4  Trade            C                                \n",
       "\n",
       "                      technology_group_code           commission_group_code  \\\n",
       "0  CROM                                      NET_SALES                        \n",
       "1  CROM                                      NET_SALES                        \n",
       "2  NA                                        NET_SALES                        \n",
       "3  NA                                        NET_SALES                        \n",
       "4                                       220  NET_SALES                        \n",
       "\n",
       "  reporting_classification  ... abc_class_volume business_chain_l1_code  \\\n",
       "0               Continuing  ...                U                    MED   \n",
       "1               Continuing  ...                J                    AEG   \n",
       "2               Continuing  ...                U                    NES   \n",
       "3               Continuing  ...                U                    MED   \n",
       "4               Continuing  ...                J                    MED   \n",
       "\n",
       "          business_chain_l1_name             contact_method_code  \\\n",
       "0  Metro Electrical Distributors  NA                               \n",
       "1            Aussie Energy Group  NA                               \n",
       "2   NextGen Electrical Solutions  NA                               \n",
       "3  Metro Electrical Distributors  NA                               \n",
       "4  Metro Electrical Distributors  NA                               \n",
       "\n",
       "  salesperson_code order_type_code           market_segment currency  \\\n",
       "0             T432             CRR  Commercial & Industrial      AUD   \n",
       "1             P237             NOR  Commercial & Industrial      AUD   \n",
       "2             T203             NOR  Commercial & Industrial      AUD   \n",
       "3             P248             NOR  Commercial & Industrial      AUD   \n",
       "4             T612             NOR  Commercial & Industrial      AUD   \n",
       "\n",
       "  customer_order_number dss_update_time  \n",
       "0                277995         49:58.7  \n",
       "1                867468         49:58.7  \n",
       "2                880839         49:58.7  \n",
       "3                821554         49:58.7  \n",
       "4                847171         49:58.7  \n",
       "\n",
       "[5 rows x 23 columns]"
      ]
     },
     "execution_count": 405,
     "metadata": {},
     "output_type": "execute_result"
    }
   ],
   "source": [
    "cat_df.head()"
   ]
  },
  {
   "cell_type": "code",
   "execution_count": 406,
   "metadata": {},
   "outputs": [
    {
     "data": {
      "text/plain": [
       "3915"
      ]
     },
     "execution_count": 406,
     "metadata": {},
     "output_type": "execute_result"
    }
   ],
   "source": [
    "# Customer code is unique identifer to customer involve in transcation.\n",
    "len(cat_df['customer_code'].unique())"
   ]
  },
  {
   "cell_type": "code",
   "execution_count": 407,
   "metadata": {},
   "outputs": [
    {
     "data": {
      "text/plain": [
       "23281"
      ]
     },
     "execution_count": 407,
     "metadata": {},
     "output_type": "execute_result"
    }
   ],
   "source": [
    "## item code: unique identifer for items being sold.\n",
    "len(cat_df['item_code'].unique()) "
   ]
  },
  {
   "cell_type": "code",
   "execution_count": 408,
   "metadata": {},
   "outputs": [
    {
     "data": {
      "text/plain": [
       "array(['COM                           ', 'OTH                           ',\n",
       "       'SUR                           ', 'LMP                           ',\n",
       "       'PEN                           ', '940',\n",
       "       'TRO                           ', 'DLT                           ',\n",
       "       'TAL                           ', '970', '999', '980',\n",
       "       'FLD                           ', 'URB                           ',\n",
       "       'IAE                           ', '985',\n",
       "       'LCP                           ', 'IAI                           ',\n",
       "       '920', 'SAE                           ',\n",
       "       'EXL                           ', 'HLB                           ',\n",
       "       '950', 'RWY                           ', '945', '910', '960',\n",
       "       '930'], dtype=object)"
      ]
     },
     "execution_count": 408,
     "metadata": {},
     "output_type": "execute_result"
    }
   ],
   "source": [
    "# Business_area_code:  code representing the specific area of business related to the transaction.\n",
    "cat_df['business_area_code'].unique()"
   ]
  },
  {
   "cell_type": "markdown",
   "metadata": {},
   "source": [
    "- To remove extraspace. "
   ]
  },
  {
   "cell_type": "code",
   "execution_count": 409,
   "metadata": {},
   "outputs": [],
   "source": [
    "# Removing unwanted spacing from columns\n",
    "data['business_area_code']=data['business_area_code'].str.strip()"
   ]
  },
  {
   "cell_type": "code",
   "execution_count": 410,
   "metadata": {},
   "outputs": [],
   "source": [
    "# Removing Unwanted spacing from columns.\n",
    "data['environment_group_code']=data['environment_group_code'].str.strip()"
   ]
  },
  {
   "cell_type": "code",
   "execution_count": 411,
   "metadata": {},
   "outputs": [
    {
     "data": {
      "text/plain": [
       "array(['COM', 'OTH', 'SUR', 'LMP', 'PEN', '940', 'TRO', 'DLT', 'TAL',\n",
       "       '970', '999', '980', 'FLD', 'URB', 'IAE', '985', 'LCP', 'IAI',\n",
       "       '920', 'SAE', 'EXL', 'HLB', '950', 'RWY', '945', '910', '960',\n",
       "       '930'], dtype=object)"
      ]
     },
     "execution_count": 411,
     "metadata": {},
     "output_type": "execute_result"
    }
   ],
   "source": [
    "data['business_area_code'].unique()"
   ]
  },
  {
   "cell_type": "code",
   "execution_count": 412,
   "metadata": {},
   "outputs": [
    {
     "data": {
      "text/plain": [
       "business_area_code\n",
       "LMP                               398958\n",
       "SUR                               187901\n",
       "COM                                98745\n",
       "OTH                                80815\n",
       "DLT                                50689\n",
       "FLD                                43976\n",
       "TAL                                15308\n",
       "TRO                                15305\n",
       "SAE                                14687\n",
       "URB                                11762\n",
       "RWY                                 9414\n",
       "HLB                                 8164\n",
       "PEN                                 4334\n",
       "LCP                                 3113\n",
       "980                                 1248\n",
       "EXL                                 1140\n",
       "970                                  434\n",
       "940                                  418\n",
       "920                                  365\n",
       "999                                  209\n",
       "910                                  188\n",
       "950                                  160\n",
       "985                                  146\n",
       "IAI                                  134\n",
       "945                                   92\n",
       "IAE                                   49\n",
       "960                                   31\n",
       "930                                   14\n",
       "Name: count, dtype: int64"
      ]
     },
     "execution_count": 412,
     "metadata": {},
     "output_type": "execute_result"
    }
   ],
   "source": [
    "cat_df['business_area_code'].value_counts()"
   ]
  },
  {
   "cell_type": "markdown",
   "metadata": {},
   "source": [
    "- In the business are code specific business related to transcation are categorical but some suspicious category like 980, 970, 999, 950 have less point and do not make any sense in the dataset."
   ]
  },
  {
   "cell_type": "markdown",
   "metadata": {},
   "source": [
    "- To Resolve This problem: Best decision to delete the numerical categorical in the column. "
   ]
  },
  {
   "cell_type": "code",
   "execution_count": 413,
   "metadata": {},
   "outputs": [
    {
     "data": {
      "text/html": [
       "<div>\n",
       "<style scoped>\n",
       "    .dataframe tbody tr th:only-of-type {\n",
       "        vertical-align: middle;\n",
       "    }\n",
       "\n",
       "    .dataframe tbody tr th {\n",
       "        vertical-align: top;\n",
       "    }\n",
       "\n",
       "    .dataframe thead th {\n",
       "        text-align: right;\n",
       "    }\n",
       "</style>\n",
       "<table border=\"1\" class=\"dataframe\">\n",
       "  <thead>\n",
       "    <tr style=\"text-align: right;\">\n",
       "      <th></th>\n",
       "      <th>accounting_date</th>\n",
       "      <th>fiscal_year</th>\n",
       "      <th>fiscal_month</th>\n",
       "      <th>calendar_year</th>\n",
       "      <th>calendar_month</th>\n",
       "      <th>calendar_day</th>\n",
       "      <th>company_code</th>\n",
       "      <th>customer_code</th>\n",
       "      <th>customer_district_code</th>\n",
       "      <th>item_code</th>\n",
       "      <th>...</th>\n",
       "      <th>value_cost</th>\n",
       "      <th>value_quantity</th>\n",
       "      <th>value_price_adjustment</th>\n",
       "      <th>currency</th>\n",
       "      <th>invoice_number</th>\n",
       "      <th>line_number</th>\n",
       "      <th>invoice_date</th>\n",
       "      <th>customer_order_number</th>\n",
       "      <th>order_date</th>\n",
       "      <th>dss_update_time</th>\n",
       "    </tr>\n",
       "  </thead>\n",
       "  <tbody>\n",
       "    <tr>\n",
       "      <th>8987</th>\n",
       "      <td>20130211</td>\n",
       "      <td>2013</td>\n",
       "      <td>8</td>\n",
       "      <td>2013</td>\n",
       "      <td>2</td>\n",
       "      <td>11</td>\n",
       "      <td>205</td>\n",
       "      <td>264000500</td>\n",
       "      <td>200</td>\n",
       "      <td>10676</td>\n",
       "      <td>...</td>\n",
       "      <td>1.5200</td>\n",
       "      <td>2.0</td>\n",
       "      <td>0</td>\n",
       "      <td>AUD</td>\n",
       "      <td>729882</td>\n",
       "      <td>0</td>\n",
       "      <td>20130211</td>\n",
       "      <td>831868</td>\n",
       "      <td>20130211</td>\n",
       "      <td>49:58.7</td>\n",
       "    </tr>\n",
       "    <tr>\n",
       "      <th>25645</th>\n",
       "      <td>20130625</td>\n",
       "      <td>2013</td>\n",
       "      <td>12</td>\n",
       "      <td>2013</td>\n",
       "      <td>6</td>\n",
       "      <td>25</td>\n",
       "      <td>205</td>\n",
       "      <td>214100100</td>\n",
       "      <td>710</td>\n",
       "      <td>19892</td>\n",
       "      <td>...</td>\n",
       "      <td>0.0000</td>\n",
       "      <td>126.0</td>\n",
       "      <td>0</td>\n",
       "      <td>AUD</td>\n",
       "      <td>295884</td>\n",
       "      <td>0</td>\n",
       "      <td>20130625</td>\n",
       "      <td>887701</td>\n",
       "      <td>20130625</td>\n",
       "      <td>49:58.7</td>\n",
       "    </tr>\n",
       "    <tr>\n",
       "      <th>33051</th>\n",
       "      <td>20130502</td>\n",
       "      <td>2013</td>\n",
       "      <td>11</td>\n",
       "      <td>2013</td>\n",
       "      <td>5</td>\n",
       "      <td>2</td>\n",
       "      <td>205</td>\n",
       "      <td>736433203</td>\n",
       "      <td>310</td>\n",
       "      <td>15038</td>\n",
       "      <td>...</td>\n",
       "      <td>20.5009</td>\n",
       "      <td>1.0</td>\n",
       "      <td>0</td>\n",
       "      <td>AUD</td>\n",
       "      <td>747190</td>\n",
       "      <td>0</td>\n",
       "      <td>20130502</td>\n",
       "      <td>863002</td>\n",
       "      <td>20130501</td>\n",
       "      <td>49:58.7</td>\n",
       "    </tr>\n",
       "    <tr>\n",
       "      <th>33052</th>\n",
       "      <td>20130225</td>\n",
       "      <td>2013</td>\n",
       "      <td>8</td>\n",
       "      <td>2013</td>\n",
       "      <td>2</td>\n",
       "      <td>25</td>\n",
       "      <td>205</td>\n",
       "      <td>267401403</td>\n",
       "      <td>200</td>\n",
       "      <td>15038</td>\n",
       "      <td>...</td>\n",
       "      <td>41.0018</td>\n",
       "      <td>2.0</td>\n",
       "      <td>0</td>\n",
       "      <td>AUD</td>\n",
       "      <td>733103</td>\n",
       "      <td>0</td>\n",
       "      <td>20130225</td>\n",
       "      <td>837103</td>\n",
       "      <td>20130222</td>\n",
       "      <td>49:58.7</td>\n",
       "    </tr>\n",
       "    <tr>\n",
       "      <th>33053</th>\n",
       "      <td>20130305</td>\n",
       "      <td>2013</td>\n",
       "      <td>9</td>\n",
       "      <td>2013</td>\n",
       "      <td>3</td>\n",
       "      <td>5</td>\n",
       "      <td>205</td>\n",
       "      <td>291500001</td>\n",
       "      <td>200</td>\n",
       "      <td>15038</td>\n",
       "      <td>...</td>\n",
       "      <td>20.5009</td>\n",
       "      <td>1.0</td>\n",
       "      <td>0</td>\n",
       "      <td>AUD</td>\n",
       "      <td>734673</td>\n",
       "      <td>0</td>\n",
       "      <td>20130305</td>\n",
       "      <td>840369</td>\n",
       "      <td>20130304</td>\n",
       "      <td>49:58.7</td>\n",
       "    </tr>\n",
       "    <tr>\n",
       "      <th>...</th>\n",
       "      <td>...</td>\n",
       "      <td>...</td>\n",
       "      <td>...</td>\n",
       "      <td>...</td>\n",
       "      <td>...</td>\n",
       "      <td>...</td>\n",
       "      <td>...</td>\n",
       "      <td>...</td>\n",
       "      <td>...</td>\n",
       "      <td>...</td>\n",
       "      <td>...</td>\n",
       "      <td>...</td>\n",
       "      <td>...</td>\n",
       "      <td>...</td>\n",
       "      <td>...</td>\n",
       "      <td>...</td>\n",
       "      <td>...</td>\n",
       "      <td>...</td>\n",
       "      <td>...</td>\n",
       "      <td>...</td>\n",
       "      <td>...</td>\n",
       "    </tr>\n",
       "    <tr>\n",
       "      <th>945072</th>\n",
       "      <td>20131011</td>\n",
       "      <td>2014</td>\n",
       "      <td>4</td>\n",
       "      <td>2013</td>\n",
       "      <td>10</td>\n",
       "      <td>11</td>\n",
       "      <td>205</td>\n",
       "      <td>214100100</td>\n",
       "      <td>710</td>\n",
       "      <td>21282</td>\n",
       "      <td>...</td>\n",
       "      <td>0.0000</td>\n",
       "      <td>48.0</td>\n",
       "      <td>0</td>\n",
       "      <td>AUD</td>\n",
       "      <td>308902</td>\n",
       "      <td>0</td>\n",
       "      <td>20131011</td>\n",
       "      <td>935064</td>\n",
       "      <td>20131011</td>\n",
       "      <td>49:58.7</td>\n",
       "    </tr>\n",
       "    <tr>\n",
       "      <th>949405</th>\n",
       "      <td>20130725</td>\n",
       "      <td>2014</td>\n",
       "      <td>1</td>\n",
       "      <td>2013</td>\n",
       "      <td>7</td>\n",
       "      <td>25</td>\n",
       "      <td>205</td>\n",
       "      <td>412300501</td>\n",
       "      <td>400</td>\n",
       "      <td>25988</td>\n",
       "      <td>...</td>\n",
       "      <td>40.9536</td>\n",
       "      <td>4.0</td>\n",
       "      <td>0</td>\n",
       "      <td>AUD</td>\n",
       "      <td>768404</td>\n",
       "      <td>0</td>\n",
       "      <td>20130725</td>\n",
       "      <td>901298</td>\n",
       "      <td>20130724</td>\n",
       "      <td>49:58.7</td>\n",
       "    </tr>\n",
       "    <tr>\n",
       "      <th>949409</th>\n",
       "      <td>20130716</td>\n",
       "      <td>2014</td>\n",
       "      <td>1</td>\n",
       "      <td>2013</td>\n",
       "      <td>7</td>\n",
       "      <td>16</td>\n",
       "      <td>205</td>\n",
       "      <td>292314701</td>\n",
       "      <td>200</td>\n",
       "      <td>25988</td>\n",
       "      <td>...</td>\n",
       "      <td>40.9536</td>\n",
       "      <td>4.0</td>\n",
       "      <td>0</td>\n",
       "      <td>AUD</td>\n",
       "      <td>765950</td>\n",
       "      <td>0</td>\n",
       "      <td>20130716</td>\n",
       "      <td>896760</td>\n",
       "      <td>20130715</td>\n",
       "      <td>49:58.7</td>\n",
       "    </tr>\n",
       "    <tr>\n",
       "      <th>949414</th>\n",
       "      <td>20130806</td>\n",
       "      <td>2014</td>\n",
       "      <td>2</td>\n",
       "      <td>2013</td>\n",
       "      <td>8</td>\n",
       "      <td>6</td>\n",
       "      <td>205</td>\n",
       "      <td>411900201</td>\n",
       "      <td>410</td>\n",
       "      <td>25988</td>\n",
       "      <td>...</td>\n",
       "      <td>102.3840</td>\n",
       "      <td>10.0</td>\n",
       "      <td>0</td>\n",
       "      <td>AUD</td>\n",
       "      <td>771125</td>\n",
       "      <td>0</td>\n",
       "      <td>20130806</td>\n",
       "      <td>906625</td>\n",
       "      <td>20130806</td>\n",
       "      <td>49:58.7</td>\n",
       "    </tr>\n",
       "    <tr>\n",
       "      <th>949417</th>\n",
       "      <td>20130815</td>\n",
       "      <td>2014</td>\n",
       "      <td>2</td>\n",
       "      <td>2013</td>\n",
       "      <td>8</td>\n",
       "      <td>15</td>\n",
       "      <td>205</td>\n",
       "      <td>299500510</td>\n",
       "      <td>200</td>\n",
       "      <td>25988</td>\n",
       "      <td>...</td>\n",
       "      <td>102.3840</td>\n",
       "      <td>10.0</td>\n",
       "      <td>0</td>\n",
       "      <td>AUD</td>\n",
       "      <td>773878</td>\n",
       "      <td>0</td>\n",
       "      <td>20130815</td>\n",
       "      <td>911474</td>\n",
       "      <td>20130815</td>\n",
       "      <td>49:58.7</td>\n",
       "    </tr>\n",
       "  </tbody>\n",
       "</table>\n",
       "<p>1248 rows × 40 columns</p>\n",
       "</div>"
      ],
      "text/plain": [
       "        accounting_date  fiscal_year  fiscal_month  calendar_year  \\\n",
       "8987           20130211         2013             8           2013   \n",
       "25645          20130625         2013            12           2013   \n",
       "33051          20130502         2013            11           2013   \n",
       "33052          20130225         2013             8           2013   \n",
       "33053          20130305         2013             9           2013   \n",
       "...                 ...          ...           ...            ...   \n",
       "945072         20131011         2014             4           2013   \n",
       "949405         20130725         2014             1           2013   \n",
       "949409         20130716         2014             1           2013   \n",
       "949414         20130806         2014             2           2013   \n",
       "949417         20130815         2014             2           2013   \n",
       "\n",
       "        calendar_month  calendar_day  company_code customer_code  \\\n",
       "8987                 2            11           205     264000500   \n",
       "25645                6            25           205     214100100   \n",
       "33051                5             2           205     736433203   \n",
       "33052                2            25           205     267401403   \n",
       "33053                3             5           205     291500001   \n",
       "...                ...           ...           ...           ...   \n",
       "945072              10            11           205     214100100   \n",
       "949405               7            25           205     412300501   \n",
       "949409               7            16           205     292314701   \n",
       "949414               8             6           205     411900201   \n",
       "949417               8            15           205     299500510   \n",
       "\n",
       "        customer_district_code item_code  ... value_cost value_quantity  \\\n",
       "8987                       200     10676  ...     1.5200            2.0   \n",
       "25645                      710     19892  ...     0.0000          126.0   \n",
       "33051                      310     15038  ...    20.5009            1.0   \n",
       "33052                      200     15038  ...    41.0018            2.0   \n",
       "33053                      200     15038  ...    20.5009            1.0   \n",
       "...                        ...       ...  ...        ...            ...   \n",
       "945072                     710     21282  ...     0.0000           48.0   \n",
       "949405                     400     25988  ...    40.9536            4.0   \n",
       "949409                     200     25988  ...    40.9536            4.0   \n",
       "949414                     410     25988  ...   102.3840           10.0   \n",
       "949417                     200     25988  ...   102.3840           10.0   \n",
       "\n",
       "       value_price_adjustment  currency invoice_number line_number  \\\n",
       "8987                        0       AUD         729882           0   \n",
       "25645                       0       AUD         295884           0   \n",
       "33051                       0       AUD         747190           0   \n",
       "33052                       0       AUD         733103           0   \n",
       "33053                       0       AUD         734673           0   \n",
       "...                       ...       ...            ...         ...   \n",
       "945072                      0       AUD         308902           0   \n",
       "949405                      0       AUD         768404           0   \n",
       "949409                      0       AUD         765950           0   \n",
       "949414                      0       AUD         771125           0   \n",
       "949417                      0       AUD         773878           0   \n",
       "\n",
       "       invoice_date customer_order_number order_date dss_update_time  \n",
       "8987       20130211                831868   20130211         49:58.7  \n",
       "25645      20130625                887701   20130625         49:58.7  \n",
       "33051      20130502                863002   20130501         49:58.7  \n",
       "33052      20130225                837103   20130222         49:58.7  \n",
       "33053      20130305                840369   20130304         49:58.7  \n",
       "...             ...                   ...        ...             ...  \n",
       "945072     20131011                935064   20131011         49:58.7  \n",
       "949405     20130725                901298   20130724         49:58.7  \n",
       "949409     20130716                896760   20130715         49:58.7  \n",
       "949414     20130806                906625   20130806         49:58.7  \n",
       "949417     20130815                911474   20130815         49:58.7  \n",
       "\n",
       "[1248 rows x 40 columns]"
      ]
     },
     "execution_count": 413,
     "metadata": {},
     "output_type": "execute_result"
    }
   ],
   "source": [
    "data[data['business_area_code']=='980']"
   ]
  },
  {
   "cell_type": "code",
   "execution_count": 414,
   "metadata": {},
   "outputs": [],
   "source": [
    "# droping the 980 category. \n",
    "data.drop(data[data['business_area_code']=='980'].index, inplace=True)"
   ]
  },
  {
   "cell_type": "code",
   "execution_count": 415,
   "metadata": {},
   "outputs": [
    {
     "data": {
      "text/html": [
       "<div>\n",
       "<style scoped>\n",
       "    .dataframe tbody tr th:only-of-type {\n",
       "        vertical-align: middle;\n",
       "    }\n",
       "\n",
       "    .dataframe tbody tr th {\n",
       "        vertical-align: top;\n",
       "    }\n",
       "\n",
       "    .dataframe thead th {\n",
       "        text-align: right;\n",
       "    }\n",
       "</style>\n",
       "<table border=\"1\" class=\"dataframe\">\n",
       "  <thead>\n",
       "    <tr style=\"text-align: right;\">\n",
       "      <th></th>\n",
       "      <th>accounting_date</th>\n",
       "      <th>fiscal_year</th>\n",
       "      <th>fiscal_month</th>\n",
       "      <th>calendar_year</th>\n",
       "      <th>calendar_month</th>\n",
       "      <th>calendar_day</th>\n",
       "      <th>company_code</th>\n",
       "      <th>customer_code</th>\n",
       "      <th>customer_district_code</th>\n",
       "      <th>item_code</th>\n",
       "      <th>...</th>\n",
       "      <th>value_cost</th>\n",
       "      <th>value_quantity</th>\n",
       "      <th>value_price_adjustment</th>\n",
       "      <th>currency</th>\n",
       "      <th>invoice_number</th>\n",
       "      <th>line_number</th>\n",
       "      <th>invoice_date</th>\n",
       "      <th>customer_order_number</th>\n",
       "      <th>order_date</th>\n",
       "      <th>dss_update_time</th>\n",
       "    </tr>\n",
       "  </thead>\n",
       "  <tbody>\n",
       "  </tbody>\n",
       "</table>\n",
       "<p>0 rows × 40 columns</p>\n",
       "</div>"
      ],
      "text/plain": [
       "Empty DataFrame\n",
       "Columns: [accounting_date, fiscal_year, fiscal_month, calendar_year, calendar_month, calendar_day, company_code, customer_code, customer_district_code, item_code, business_area_code, item_group_code, item_class_code, item_type, bonus_group_code, environment_group_code, technology_group_code, commission_group_code, reporting_classification, light_source, warehouse_code, abc_class_code, abc_class_volume, business_chain_l1_code, business_chain_l1_name, contact_method_code, salesperson_code, order_type_code, market_segment, value_sales, value_cost, value_quantity, value_price_adjustment, currency, invoice_number, line_number, invoice_date, customer_order_number, order_date, dss_update_time]\n",
       "Index: []\n",
       "\n",
       "[0 rows x 40 columns]"
      ]
     },
     "execution_count": 415,
     "metadata": {},
     "output_type": "execute_result"
    }
   ],
   "source": [
    "data[data['business_area_code']=='980']"
   ]
  },
  {
   "cell_type": "code",
   "execution_count": 416,
   "metadata": {},
   "outputs": [],
   "source": [
    "## IN the same way deleting the 980, 970, 999, 950... category of business_area_code.\n",
    "data.drop(data[data['business_area_code']=='970'].index, inplace=True)\n",
    "data.drop(data[data['business_area_code']=='940'].index, inplace=True)\n",
    "data.drop(data[data['business_area_code']=='920'].index, inplace=True)\n",
    "data.drop(data[data['business_area_code']=='999'].index, inplace=True)\n",
    "data.drop(data[data['business_area_code']=='910'].index, inplace=True)\n",
    "data.drop(data[data['business_area_code']=='950'].index, inplace=True)\n",
    "data.drop(data[data['business_area_code']=='955'].index, inplace=True)\n",
    "data.drop(data[data['business_area_code']=='960'].index, inplace=True)\n",
    "data.drop(data[data['business_area_code']=='930'].index, inplace=True)"
   ]
  },
  {
   "cell_type": "code",
   "execution_count": 417,
   "metadata": {},
   "outputs": [],
   "source": [
    "data.drop(data[data['business_area_code']=='985'].index, inplace=True)\n",
    "data.drop(data[data['business_area_code']=='945'].index, inplace=True)"
   ]
  },
  {
   "cell_type": "code",
   "execution_count": 418,
   "metadata": {},
   "outputs": [
    {
     "data": {
      "text/plain": [
       "business_area_code\n",
       "LMP    398958\n",
       "SUR    187901\n",
       "COM     98745\n",
       "OTH     80815\n",
       "DLT     50689\n",
       "FLD     43976\n",
       "TAL     15308\n",
       "TRO     15305\n",
       "SAE     14687\n",
       "URB     11762\n",
       "RWY      9414\n",
       "HLB      8164\n",
       "PEN      4334\n",
       "LCP      3113\n",
       "EXL      1140\n",
       "IAI       134\n",
       "IAE        49\n",
       "Name: count, dtype: int64"
      ]
     },
     "execution_count": 418,
     "metadata": {},
     "output_type": "execute_result"
    }
   ],
   "source": [
    "data['business_area_code'].value_counts()"
   ]
  },
  {
   "cell_type": "code",
   "execution_count": 419,
   "metadata": {},
   "outputs": [
    {
     "data": {
      "text/html": [
       "<div>\n",
       "<style scoped>\n",
       "    .dataframe tbody tr th:only-of-type {\n",
       "        vertical-align: middle;\n",
       "    }\n",
       "\n",
       "    .dataframe tbody tr th {\n",
       "        vertical-align: top;\n",
       "    }\n",
       "\n",
       "    .dataframe thead th {\n",
       "        text-align: right;\n",
       "    }\n",
       "</style>\n",
       "<table border=\"1\" class=\"dataframe\">\n",
       "  <thead>\n",
       "    <tr style=\"text-align: right;\">\n",
       "      <th></th>\n",
       "      <th>customer_code</th>\n",
       "      <th>item_code</th>\n",
       "      <th>business_area_code</th>\n",
       "      <th>item_group_code</th>\n",
       "      <th>item_class_code</th>\n",
       "      <th>bonus_group_code</th>\n",
       "      <th>environment_group_code</th>\n",
       "      <th>technology_group_code</th>\n",
       "      <th>commission_group_code</th>\n",
       "      <th>reporting_classification</th>\n",
       "      <th>...</th>\n",
       "      <th>abc_class_volume</th>\n",
       "      <th>business_chain_l1_code</th>\n",
       "      <th>business_chain_l1_name</th>\n",
       "      <th>contact_method_code</th>\n",
       "      <th>salesperson_code</th>\n",
       "      <th>order_type_code</th>\n",
       "      <th>market_segment</th>\n",
       "      <th>currency</th>\n",
       "      <th>customer_order_number</th>\n",
       "      <th>dss_update_time</th>\n",
       "    </tr>\n",
       "  </thead>\n",
       "  <tbody>\n",
       "    <tr>\n",
       "      <th>0</th>\n",
       "      <td>471150112</td>\n",
       "      <td>10311</td>\n",
       "      <td>COM</td>\n",
       "      <td>COM90001</td>\n",
       "      <td>COM90</td>\n",
       "      <td>Trade</td>\n",
       "      <td>C</td>\n",
       "      <td>CROM</td>\n",
       "      <td>NET_SALES</td>\n",
       "      <td>Continuing</td>\n",
       "      <td>...</td>\n",
       "      <td>U</td>\n",
       "      <td>MED</td>\n",
       "      <td>Metro Electrical Distributors</td>\n",
       "      <td>NA</td>\n",
       "      <td>T432</td>\n",
       "      <td>CRR</td>\n",
       "      <td>Commercial &amp; Industrial</td>\n",
       "      <td>AUD</td>\n",
       "      <td>277995</td>\n",
       "      <td>49:58.7</td>\n",
       "    </tr>\n",
       "    <tr>\n",
       "      <th>1</th>\n",
       "      <td>277000801</td>\n",
       "      <td>10311</td>\n",
       "      <td>COM</td>\n",
       "      <td>COM90001</td>\n",
       "      <td>COM90</td>\n",
       "      <td>Trade</td>\n",
       "      <td>C</td>\n",
       "      <td>CROM</td>\n",
       "      <td>NET_SALES</td>\n",
       "      <td>Continuing</td>\n",
       "      <td>...</td>\n",
       "      <td>J</td>\n",
       "      <td>AEG</td>\n",
       "      <td>Aussie Energy Group</td>\n",
       "      <td>NA</td>\n",
       "      <td>P237</td>\n",
       "      <td>NOR</td>\n",
       "      <td>Commercial &amp; Industrial</td>\n",
       "      <td>AUD</td>\n",
       "      <td>867468</td>\n",
       "      <td>49:58.7</td>\n",
       "    </tr>\n",
       "    <tr>\n",
       "      <th>2</th>\n",
       "      <td>292314701</td>\n",
       "      <td>10350</td>\n",
       "      <td>OTH</td>\n",
       "      <td>999</td>\n",
       "      <td>14001</td>\n",
       "      <td>Trade</td>\n",
       "      <td>C</td>\n",
       "      <td>NA</td>\n",
       "      <td>NET_SALES</td>\n",
       "      <td>Continuing</td>\n",
       "      <td>...</td>\n",
       "      <td>U</td>\n",
       "      <td>NES</td>\n",
       "      <td>NextGen Electrical Solutions</td>\n",
       "      <td>NA</td>\n",
       "      <td>T203</td>\n",
       "      <td>NOR</td>\n",
       "      <td>Commercial &amp; Industrial</td>\n",
       "      <td>AUD</td>\n",
       "      <td>880839</td>\n",
       "      <td>49:58.7</td>\n",
       "    </tr>\n",
       "    <tr>\n",
       "      <th>3</th>\n",
       "      <td>299480703</td>\n",
       "      <td>10350</td>\n",
       "      <td>OTH</td>\n",
       "      <td>999</td>\n",
       "      <td>14001</td>\n",
       "      <td>Trade</td>\n",
       "      <td>C</td>\n",
       "      <td>NA</td>\n",
       "      <td>NET_SALES</td>\n",
       "      <td>Continuing</td>\n",
       "      <td>...</td>\n",
       "      <td>U</td>\n",
       "      <td>MED</td>\n",
       "      <td>Metro Electrical Distributors</td>\n",
       "      <td>NA</td>\n",
       "      <td>P248</td>\n",
       "      <td>NOR</td>\n",
       "      <td>Commercial &amp; Industrial</td>\n",
       "      <td>AUD</td>\n",
       "      <td>821554</td>\n",
       "      <td>49:58.7</td>\n",
       "    </tr>\n",
       "    <tr>\n",
       "      <th>4</th>\n",
       "      <td>471150015</td>\n",
       "      <td>10364</td>\n",
       "      <td>COM</td>\n",
       "      <td>COM03002</td>\n",
       "      <td>COM03</td>\n",
       "      <td>Trade</td>\n",
       "      <td>C</td>\n",
       "      <td>220</td>\n",
       "      <td>NET_SALES</td>\n",
       "      <td>Continuing</td>\n",
       "      <td>...</td>\n",
       "      <td>J</td>\n",
       "      <td>MED</td>\n",
       "      <td>Metro Electrical Distributors</td>\n",
       "      <td>NA</td>\n",
       "      <td>T612</td>\n",
       "      <td>NOR</td>\n",
       "      <td>Commercial &amp; Industrial</td>\n",
       "      <td>AUD</td>\n",
       "      <td>847171</td>\n",
       "      <td>49:58.7</td>\n",
       "    </tr>\n",
       "  </tbody>\n",
       "</table>\n",
       "<p>5 rows × 23 columns</p>\n",
       "</div>"
      ],
      "text/plain": [
       "  customer_code item_code              business_area_code  \\\n",
       "0     471150112     10311  COM                              \n",
       "1     277000801     10311  COM                              \n",
       "2     292314701     10350  OTH                              \n",
       "3     299480703     10350  OTH                              \n",
       "4     471150015     10364  COM                              \n",
       "\n",
       "                  item_group_code                 item_class_code  \\\n",
       "0  COM90001                        COM90                            \n",
       "1  COM90001                        COM90                            \n",
       "2                             999                           14001   \n",
       "3                             999                           14001   \n",
       "4  COM03002                        COM03                            \n",
       "\n",
       "  bonus_group_code          environment_group_code  \\\n",
       "0  Trade            C                                \n",
       "1  Trade            C                                \n",
       "2  Trade            C                                \n",
       "3  Trade            C                                \n",
       "4  Trade            C                                \n",
       "\n",
       "                      technology_group_code           commission_group_code  \\\n",
       "0  CROM                                      NET_SALES                        \n",
       "1  CROM                                      NET_SALES                        \n",
       "2  NA                                        NET_SALES                        \n",
       "3  NA                                        NET_SALES                        \n",
       "4                                       220  NET_SALES                        \n",
       "\n",
       "  reporting_classification  ... abc_class_volume business_chain_l1_code  \\\n",
       "0               Continuing  ...                U                    MED   \n",
       "1               Continuing  ...                J                    AEG   \n",
       "2               Continuing  ...                U                    NES   \n",
       "3               Continuing  ...                U                    MED   \n",
       "4               Continuing  ...                J                    MED   \n",
       "\n",
       "          business_chain_l1_name             contact_method_code  \\\n",
       "0  Metro Electrical Distributors  NA                               \n",
       "1            Aussie Energy Group  NA                               \n",
       "2   NextGen Electrical Solutions  NA                               \n",
       "3  Metro Electrical Distributors  NA                               \n",
       "4  Metro Electrical Distributors  NA                               \n",
       "\n",
       "  salesperson_code order_type_code           market_segment currency  \\\n",
       "0             T432             CRR  Commercial & Industrial      AUD   \n",
       "1             P237             NOR  Commercial & Industrial      AUD   \n",
       "2             T203             NOR  Commercial & Industrial      AUD   \n",
       "3             P248             NOR  Commercial & Industrial      AUD   \n",
       "4             T612             NOR  Commercial & Industrial      AUD   \n",
       "\n",
       "  customer_order_number dss_update_time  \n",
       "0                277995         49:58.7  \n",
       "1                867468         49:58.7  \n",
       "2                880839         49:58.7  \n",
       "3                821554         49:58.7  \n",
       "4                847171         49:58.7  \n",
       "\n",
       "[5 rows x 23 columns]"
      ]
     },
     "execution_count": 419,
     "metadata": {},
     "output_type": "execute_result"
    }
   ],
   "source": [
    "cat_df.head()"
   ]
  },
  {
   "cell_type": "code",
   "execution_count": 420,
   "metadata": {},
   "outputs": [],
   "source": [
    "data['bonus_group_code']=data['bonus_group_code'].str.strip()"
   ]
  },
  {
   "cell_type": "code",
   "execution_count": 421,
   "metadata": {},
   "outputs": [
    {
     "data": {
      "text/plain": [
       "array(['COM90001                      ', '999',\n",
       "       'COM03002                      ', 'SUR01001                      ',\n",
       "       'LMP05003                      ', 'LMP04002                      ',\n",
       "       'PEN01001                      ', 'LMP05017                      ',\n",
       "       '704', 'LMP05002                      ',\n",
       "       'COM99001                      ', 'LMP02001                      ',\n",
       "       'LMP05025                      ', 'LMP05014                      ',\n",
       "       'LMP04006                      ', 'LMP05026                      ',\n",
       "       'LMP03002                      ', 'COM17001                      ',\n",
       "       'TRO01001                      ', 'DLT02002                      ',\n",
       "       'DLT01002                      ', 'LMP03007                      ',\n",
       "       'LMP03008                      ', 'LMP05023                      ',\n",
       "       'LMP03001                      ', 'LMP06003                      ',\n",
       "       'LMP03015                      ', 'SUR90001                      ',\n",
       "       'TAL90001                      ', '16338',\n",
       "       'LMP05022                      ', 'LMP07001                      ',\n",
       "       'LMP05029                      ', 'LMP04008                      ',\n",
       "       'LMP05016                      ', 'LMP05024                      ',\n",
       "       'LMP05013                      ', 'COM06001                      ',\n",
       "       'PEN90002                      ', 'LMP05010                      ',\n",
       "       'LMP09001                      ', '17000', '250155',\n",
       "       'FLD04002                      ', 'LMP05028                      ',\n",
       "       'LMP10023                      ', 'SUR12001                      ',\n",
       "       'LMP04012                      ', 'LMP05007                      ',\n",
       "       '16318', 'TAL01001                      ',\n",
       "       'TAL08001                      ', 'LMP05015                      ',\n",
       "       'LMP07002                      ', 'LMP05020                      ',\n",
       "       'LMP05018                      ', 'LMP11001                      ',\n",
       "       'COM01001                      ', 'SUR10001                      ',\n",
       "       '16602', 'LMP05019                      ',\n",
       "       'LMP03011                      ', 'LMP05012                      ',\n",
       "       'LMP04013                      ', 'LMP10008                      ',\n",
       "       'LMP04011                      ', 'TAL05001                      ',\n",
       "       'LMP04017                      ', 'TAL01007                      ',\n",
       "       'TAL01004                      ', '16606', '251220',\n",
       "       'SUR05001                      ', 'LMP04018                      ',\n",
       "       'LMP05005                      ', 'LMP05009                      ',\n",
       "       'SUR07002                      ', 'SUR14001                      ',\n",
       "       'FLD04001                      ', 'LMP05008                      ',\n",
       "       'SUR11001                      ', 'DLT90001                      ',\n",
       "       'SUR06001                      ', 'SUR02001                      ',\n",
       "       'URB04001                      ', 'LMP01005                      ',\n",
       "       'TAL01003                      ', '251230',\n",
       "       'COM03001                      ', 'URB04002                      ',\n",
       "       'FLD02002                      ', 'DLT02003                      ',\n",
       "       'SUR99001                      ', 'URB90001                      ',\n",
       "       'DLT04002                      ', 'LMP03009                      ',\n",
       "       'SUR13001                      ', 'LMP05004                      ',\n",
       "       'LMP05006                      ', 'COM08001                      ',\n",
       "       '250905', 'LMP03013                      ',\n",
       "       'PEN01003                      ', 'LMP05001                      ',\n",
       "       '251015', 'LMP06001                      ',\n",
       "       'COM05001                      ', 'TAL02001                      ',\n",
       "       'LMP04001                      ', 'LMP03004                      ',\n",
       "       'LMP03012                      ', 'LMP03006                      ',\n",
       "       'TAL99001                      ', 'LMP06004                      ',\n",
       "       'TAL02003                      ', '250170',\n",
       "       'LMP06010                      ', 'SUR03001                      ',\n",
       "       'LMP10007                      ', 'URB02001                      ',\n",
       "       'LMP10016                      ', 'LMP10013                      ',\n",
       "       'LMP04015                      ', 'PEN08001                      ',\n",
       "       'TAL01002                      ', '16702',\n",
       "       'LMP06007                      ', 'SUR04001                      ',\n",
       "       'LMP06002                      ', '17030',\n",
       "       'IAE05001                      ', 'LMP01001                      ',\n",
       "       'URB01002                      ', '251405', '908',\n",
       "       'LMP99001                      ', 'TAL01005                      ',\n",
       "       'LMP04004                      ', '250405',\n",
       "       'LMP10004                      ', 'LMP04019                      ',\n",
       "       'COM10001                      ', 'LMP06005                      ',\n",
       "       'LMP03003                      ', 'LMP04014                      ',\n",
       "       'PEN04001                      ', 'PEN01004                      ',\n",
       "       'LMP01002                      ', 'LMP10005                      ',\n",
       "       'FLD90001                      ', 'LCP01001                      ',\n",
       "       'DLT04003                      ', 'URB03001                      ',\n",
       "       '250150', 'URB05002                      ',\n",
       "       'DLT01003                      ', 'LMP10018                      ',\n",
       "       'LMP06009                      ', 'LMP10011                      ',\n",
       "       'PEN01002                      ', '251005',\n",
       "       'LMP04009                      ', 'LMP01007                      ',\n",
       "       'LMP10017                      ', 'LMP10003                      ',\n",
       "       '250920', '251720', '251105', '250805', '250425',\n",
       "       'LMP05030                      ', 'TAL02002                      ',\n",
       "       'LMP01009                      ', 'LMP10020                      ',\n",
       "       'LMP03005                      ', 'DLT03003                      ',\n",
       "       '250130', 'SUR08001                      ', '250105',\n",
       "       'LMP04010                      ', '250715',\n",
       "       'COM13001                      ', 'LMP10006                      ',\n",
       "       '250165', 'LMP04016                      ', '250410', '251210',\n",
       "       'IAI10001                      ', 'DLT02001                      ',\n",
       "       'LMP12001                      ', '308',\n",
       "       'FLD03002                      ', 'PEN03001                      ',\n",
       "       'DLT03002                      ', 'FLD01002                      ',\n",
       "       'LMP04005                      ', 'LMP01010                      ',\n",
       "       'LMP10022                      ', '251410',\n",
       "       'LMP01006                      ', 'LMP01003                      ',\n",
       "       '250505', 'COM03003                      ', '17010',\n",
       "       'TAL02005                      ', 'LCP01002                      ',\n",
       "       'SUR06002                      ', 'PEN04003                      ',\n",
       "       'COM02001                      ', '17080',\n",
       "       'COM12001                      ', '970',\n",
       "       'SAE99001                      ', 'LCP90001                      ',\n",
       "       '251310', '250420', '427', 'LMP01004                      ',\n",
       "       'COM18001                      ', 'COM15001                      ',\n",
       "       '16118', 'EXL06001                      ',\n",
       "       'HLB02002                      ', 'HLB90001                      ',\n",
       "       'TRO02001                      ', '251615', '180',\n",
       "       'FLD01004                      ', 'SUR07003                      ',\n",
       "       'HLB99001                      ', 'RWY90001                      ',\n",
       "       'COM04001                      ', 'LMP10014                      ',\n",
       "       'COM16001                      ', '17050',\n",
       "       'COM14001                      ', 'RWY99001                      ',\n",
       "       'COM09001                      ', 'P12197                        ',\n",
       "       '270', 'DLT99001                      ', '50',\n",
       "       'TRO90001                      ', 'COM19001                      ',\n",
       "       'SUR09001                      ', 'TRO03001                      ',\n",
       "       'RWY01001                      ', 'SAE02001                      ',\n",
       "       'SAE90001                      ', 'SAE01001                      ',\n",
       "       '374', 'FLD02004                      ',\n",
       "       'SAE80001                      ', '359',\n",
       "       'URB99001                      ', 'SUR80001                      ',\n",
       "       'LMP01008                      ', 'PEN90001                      ',\n",
       "       'TRO99001                      ', 'TRO02004                      ',\n",
       "       'RWY01002                      ', 'CSELIG00                      ',\n",
       "       'HLB01001                      ', '11021',\n",
       "       'TRO80001                      ', '53',\n",
       "       'LCP02001                      ', 'TRO02002                      ',\n",
       "       'DLT01001                      ', 'FLRSTK                        ',\n",
       "       '2', 'A42                           ',\n",
       "       'LCP01003                      ', 'LCP01004                      ',\n",
       "       '532', 'SAE01002                      ',\n",
       "       'TRO03004                      ', 'SAE02002                      ',\n",
       "       'EXL90001                      ', '74',\n",
       "       'TRO03002                      ', 'HLB02001                      ',\n",
       "       '6000', '240', 'COM07001                      ',\n",
       "       'EXL01002                      ', '209', '315',\n",
       "       'EXL05001                      ', '336', '725',\n",
       "       'SUR07001                      ', 'TRO03003                      ',\n",
       "       'COM11001                      ', 'A45                           ',\n",
       "       'LMP90001                      ', 'RWY02001                      ',\n",
       "       '220', '421', 'HLB01002                      ',\n",
       "       'RWY03002                      ', 'FLD99001                      ',\n",
       "       '161', 'EXL02001                      ',\n",
       "       'EXL01001                      ', 'EXL02002                      ',\n",
       "       'COM70001                      ', 'RWY03001                      ',\n",
       "       '97', 'HLB80001                      ',\n",
       "       'TAL04001                      ', '10',\n",
       "       'LMP10002                      ', 'TAL07001                      ',\n",
       "       'TAL06001                      ', 'FLD01001                      ',\n",
       "       'A48                           ', 'P12015                        ',\n",
       "       '317', 'HLB01003                      ',\n",
       "       'B31                           ', '995',\n",
       "       'P12051                        ', 'TRO02005                      ',\n",
       "       'EXL03001                      ', 'CINSA225                      ',\n",
       "       'LA900000                      ', 'CINST700                      ',\n",
       "       'CGIOTT00                      ', 'TAL02004                      ',\n",
       "       'TAL04003                      ', 'GHIDIN00                      ',\n",
       "       'TAL04005                      ', '11047',\n",
       "       'LL100000                      ', 'CSECON00                      ',\n",
       "       'PEN09001                      ', 'LC500000                      ',\n",
       "       'LA300000                      ', 'LL300000                      ',\n",
       "       'LL400000                      ', 'LG370000                      ',\n",
       "       'LS010000                      ', 'LA100000                      ',\n",
       "       'CTORUS00                      ', 'CLYTES00                      ',\n",
       "       'RWY01003                      ', '530',\n",
       "       'CSEFC000                      ', 'CEXFNII0                      ',\n",
       "       'RWY02002                      ', 'CAXOXL00                      ',\n",
       "       'CINPACT0                      ', 'CBRIO000                      ',\n",
       "       'FASTRA00                      ', 'CFOLIO00                      ',\n",
       "       'CGIRO000                      ', 'CSTERL00                      ',\n",
       "       '531', '198', '20', 'LF100000                      ',\n",
       "       'NUALIG00                      ', 'NSTCKCCD                      ',\n",
       "       'TAL06004                      ', 'PEN10001                      ',\n",
       "       'CLED150T                      ', 'CSEEXWN0                      ',\n",
       "       'LPUNTO00                      ', 'NSTCKOTH                      ',\n",
       "       'NSTCKPLE                      ', 'NSTCKFIX                      ',\n",
       "       'LC410000                      ', 'SR1MIN00                      ',\n",
       "       'FSYLEC00                      ', 'TAL06005                      ',\n",
       "       'LG380000                      ', 'SMODAR00                      ',\n",
       "       'CSEGLA00                      ', 'RWY05001                      ',\n",
       "       'RSOLAR00                      ', 'SA2MAX00                      ',\n",
       "       'FLD03004                      ', 'LL600000                      ',\n",
       "       '419', 'CTEQSP00                      ', '350',\n",
       "       'FLD02001                      ', 'CMOTIF00                      ',\n",
       "       'DLT03001                      ', 'LD320000                      ',\n",
       "       'RRAWMA00                      ', 'FSLIML00                      ',\n",
       "       'RWY04001                      ', 'SA2MIN00                      ',\n",
       "       'CINST800                      ', 'CEQUI400                      ',\n",
       "       'CEQIN300                      ', 'OTHER91                       ',\n",
       "       'RWY06001                      ', '16324',\n",
       "       'LMP10024                      ', 'COFFLY00                      ',\n",
       "       'CSEARMA0                      ', 'CINSTA00                      ',\n",
       "       'CINSA175                      ', '130', '10008',\n",
       "       'EXL99001                      ', '418', '16128',\n",
       "       'CPENTO00                      ', '355',\n",
       "       'CSEFFL00                      ', '251215',\n",
       "       'LMP05027                      ', '250125',\n",
       "       'LCP02002                      ', 'TAL04002                      ',\n",
       "       '16310', 'LCP99001                      ',\n",
       "       'OTHER71                       ', 'SSM30000                      ',\n",
       "       'CEQUIL00                      ', 'FLD01003                      ',\n",
       "       '16612', 'DLT01004                      ',\n",
       "       'FSUPER00                      ', 'LMP04003                      ',\n",
       "       'TRO02003                      ', 'LMP09002                      ',\n",
       "       '1', 'LMP07004                      ',\n",
       "       'OTHER76                       ', 'B34                           ',\n",
       "       'N75                           ', '251545', '416', '399',\n",
       "       'TRO01003                      ', 'CROTOS00                      ',\n",
       "       'LB500000                      ', 'LC230000                      ',\n",
       "       '251235', '16102', '30', '250830',\n",
       "       'LG420000                      ', 'FLD02003                      ',\n",
       "       'CINSE100                      ', 'FCUBAN00                      ',\n",
       "       'IAI09001                      ', 'LMP08001                      ',\n",
       "       '195', '038B                          ',\n",
       "       'FBLINE00                      ', '230',\n",
       "       'TAL01009                      ', 'URB05001                      ',\n",
       "       '250140', 'LMP10021                      ', '670',\n",
       "       'COM80001                      ', '17090', '271', '10007', '94',\n",
       "       'IAI05001                      ', 'P12044                        ',\n",
       "       'TAL02006                      ', 'SEL                           ',\n",
       "       '038A                          ', '190',\n",
       "       'TAL01010                      ', 'CACCES00                      ',\n",
       "       'CSECSDE0                      ', 'FPOLES00                      ',\n",
       "       'FGTRAY00                      ', 'CSETBE40                      ',\n",
       "       '300', 'CFJB3A00                      ',\n",
       "       'FILIA000                      ', 'CFJB2A00                      ',\n",
       "       'SNOVAL00                      ', '193',\n",
       "       'NSTCKLMP                      ', 'FLINEA00                      ',\n",
       "       '250915', '16124', 'CFJB0A00                      ', '64',\n",
       "       'PEN99001                      ', 'CMYRIA00                      ',\n",
       "       '533', 'IAI08001                      ',\n",
       "       'LMP10009                      ', 'CSIGN155                      ',\n",
       "       'CDLREC00                      ', 'FTRITO00                      ',\n",
       "       'PEN03003                      ', '711',\n",
       "       'FCOURT00                      ', 'FLD03001                      ',\n",
       "       'N59                           ', '980',\n",
       "       'OTHER92                       ', 'SCLSPO00                      ',\n",
       "       'FBENEL00                      ', 'FRAVEN0L                      ',\n",
       "       'IAI11001                      '], dtype=object)"
      ]
     },
     "execution_count": 421,
     "metadata": {},
     "output_type": "execute_result"
    }
   ],
   "source": [
    "cat_df['item_group_code'].unique()"
   ]
  },
  {
   "cell_type": "code",
   "execution_count": 422,
   "metadata": {},
   "outputs": [
    {
     "data": {
      "text/plain": [
       "510"
      ]
     },
     "execution_count": 422,
     "metadata": {},
     "output_type": "execute_result"
    }
   ],
   "source": [
    "# Total item \n",
    "len(cat_df['item_group_code'].unique())"
   ]
  },
  {
   "cell_type": "markdown",
   "metadata": {},
   "source": [
    "- There are 510 unique category items belong to."
   ]
  },
  {
   "cell_type": "code",
   "execution_count": 423,
   "metadata": {},
   "outputs": [
    {
     "data": {
      "text/plain": [
       "item_class_code\n",
       "LMP05                             99638\n",
       "LMP04                             90325\n",
       "14001                             80815\n",
       "LMP03                             68087\n",
       "LMP01                             61933\n",
       "                                  ...  \n",
       "IAI09                                 1\n",
       "EXL05                                 1\n",
       "IAI05                                 1\n",
       "IAI08                                 1\n",
       "IAI11                                 1\n",
       "Name: count, Length: 132, dtype: int64"
      ]
     },
     "execution_count": 423,
     "metadata": {},
     "output_type": "execute_result"
    }
   ],
   "source": [
    "data['item_class_code'].value_counts()"
   ]
  },
  {
   "cell_type": "code",
   "execution_count": 424,
   "metadata": {},
   "outputs": [],
   "source": [
    "data.drop('item_class_code', axis=1, inplace=True)"
   ]
  },
  {
   "cell_type": "code",
   "execution_count": 425,
   "metadata": {},
   "outputs": [
    {
     "data": {
      "text/plain": [
       "array(['Trade          ', 'Professional   '], dtype=object)"
      ]
     },
     "execution_count": 425,
     "metadata": {},
     "output_type": "execute_result"
    }
   ],
   "source": [
    "#Bonus group code: A code indicating the group to which the item belongs.\n",
    "# Unique category in bonus_group_code.\n",
    "cat_df['bonus_group_code'].unique()"
   ]
  },
  {
   "cell_type": "markdown",
   "metadata": {},
   "source": [
    "- Bonus group code have  extra space issue to fix This strip to remove extra space. "
   ]
  },
  {
   "cell_type": "code",
   "execution_count": 426,
   "metadata": {},
   "outputs": [
    {
     "name": "stderr",
     "output_type": "stream",
     "text": [
      "/var/folders/4c/smh5_57j6lxd0dns3y7skny80000gn/T/ipykernel_72388/731277645.py:1: SettingWithCopyWarning: \n",
      "A value is trying to be set on a copy of a slice from a DataFrame.\n",
      "Try using .loc[row_indexer,col_indexer] = value instead\n",
      "\n",
      "See the caveats in the documentation: https://pandas.pydata.org/pandas-docs/stable/user_guide/indexing.html#returning-a-view-versus-a-copy\n",
      "  cat_df['bonus_group_code']=cat_df['bonus_group_code'].str.strip()\n"
     ]
    }
   ],
   "source": [
    "cat_df['bonus_group_code']=cat_df['bonus_group_code'].str.strip()"
   ]
  },
  {
   "cell_type": "code",
   "execution_count": 427,
   "metadata": {},
   "outputs": [
    {
     "data": {
      "text/plain": [
       "array(['Trade', 'Professional'], dtype=object)"
      ]
     },
     "execution_count": 427,
     "metadata": {},
     "output_type": "execute_result"
    }
   ],
   "source": [
    "cat_df['bonus_group_code'].unique()"
   ]
  },
  {
   "cell_type": "code",
   "execution_count": 428,
   "metadata": {},
   "outputs": [
    {
     "data": {
      "text/plain": [
       "bonus_group_code\n",
       "Trade           782557\n",
       "Professional    161937\n",
       "Name: count, dtype: int64"
      ]
     },
     "execution_count": 428,
     "metadata": {},
     "output_type": "execute_result"
    }
   ],
   "source": [
    "data['bonus_group_code'].value_counts()"
   ]
  },
  {
   "cell_type": "code",
   "execution_count": 429,
   "metadata": {},
   "outputs": [
    {
     "data": {
      "text/plain": [
       "array(['C                             ', 'S                             ',\n",
       "       'P                             ', 'R                             ',\n",
       "       'Z                             ', 'I                             ',\n",
       "       'NA                            ', 'M                             ',\n",
       "       'D                             '], dtype=object)"
      ]
     },
     "execution_count": 429,
     "metadata": {},
     "output_type": "execute_result"
    }
   ],
   "source": [
    "cat_df['environment_group_code'].unique()"
   ]
  },
  {
   "cell_type": "code",
   "execution_count": 430,
   "metadata": {},
   "outputs": [
    {
     "data": {
      "text/plain": [
       "environment_group_code\n",
       "C                                 365772\n",
       "S                                 230604\n",
       "P                                 213064\n",
       "R                                  89951\n",
       "Z                                  47808\n",
       "D                                    300\n",
       "I                                    200\n",
       "M                                     72\n",
       "NA                                    28\n",
       "Name: count, dtype: int64"
      ]
     },
     "execution_count": 430,
     "metadata": {},
     "output_type": "execute_result"
    }
   ],
   "source": [
    "cat_df['environment_group_code'].value_counts()"
   ]
  },
  {
   "cell_type": "code",
   "execution_count": 431,
   "metadata": {},
   "outputs": [
    {
     "data": {
      "text/plain": [
       "array(['CROM                                    ',\n",
       "       'NA                                      ', '220', '86', '76',\n",
       "       '219', 'PIER                                    ', '78', '206',\n",
       "       'SYLV                                    ', '68', '85', '198',\n",
       "       '90', 'PNZ                                     ', '130', '96',\n",
       "       '500', 'INZ                                     ', '61', '215',\n",
       "       '360', '380', 'GLG                                     ', '100',\n",
       "       'CSE                                     ', '545', '225', '420',\n",
       "       '217', '210', '320', '540', '460', '570', '565', '480', '580',\n",
       "       '214', '830', '555', '330', '290', '280', '999', '760', '310',\n",
       "       '400', '110', '560', '213', '160', '800', '440', '92', '600',\n",
       "       '850', '70', 'SCHR                                    ', '102',\n",
       "       '82', '300', '740', '181', '350', '520', '98', '415', '720', '340',\n",
       "       '780', '108', '550', '240',\n",
       "       'FGDFT                                   ', '123', '595', '205',\n",
       "       '64', 'AUST                                    ', '880',\n",
       "       'INLIT                                   ', '208', '118', '63',\n",
       "       '211', '207', '72', '140',\n",
       "       'PHANT                                   ',\n",
       "       'DIGIN                                   ', '998', '250', '114',\n",
       "       '112', '680', '128', '88', '640', '820', '410', '80'], dtype=object)"
      ]
     },
     "execution_count": 431,
     "metadata": {},
     "output_type": "execute_result"
    }
   ],
   "source": [
    "cat_df['technology_group_code'].unique()"
   ]
  },
  {
   "cell_type": "code",
   "execution_count": 432,
   "metadata": {},
   "outputs": [],
   "source": [
    "data.drop('technology_group_code', inplace=True, axis=1)"
   ]
  },
  {
   "cell_type": "code",
   "execution_count": 433,
   "metadata": {},
   "outputs": [
    {
     "data": {
      "text/plain": [
       "array(['NET_SALES                     ', 'REBATE_EXEMPT_EOL             ',\n",
       "       'REBATE_EXEMPT_TP              '], dtype=object)"
      ]
     },
     "execution_count": 433,
     "metadata": {},
     "output_type": "execute_result"
    }
   ],
   "source": [
    "cat_df['commission_group_code'].unique()"
   ]
  },
  {
   "cell_type": "markdown",
   "metadata": {},
   "source": [
    "- Extra spacing isssue so reslove this strip category."
   ]
  },
  {
   "cell_type": "code",
   "execution_count": 434,
   "metadata": {},
   "outputs": [],
   "source": [
    "data['commission_group_code']=data['commission_group_code'].str.strip()"
   ]
  },
  {
   "cell_type": "code",
   "execution_count": 435,
   "metadata": {},
   "outputs": [
    {
     "data": {
      "text/plain": [
       "array(['NET_SALES', 'REBATE_EXEMPT_EOL', 'REBATE_EXEMPT_TP'], dtype=object)"
      ]
     },
     "execution_count": 435,
     "metadata": {},
     "output_type": "execute_result"
    }
   ],
   "source": [
    "data['commission_group_code'].unique()"
   ]
  },
  {
   "cell_type": "code",
   "execution_count": 436,
   "metadata": {},
   "outputs": [
    {
     "data": {
      "text/plain": [
       "commission_group_code\n",
       "NET_SALES            897678\n",
       "REBATE_EXEMPT_EOL     45426\n",
       "REBATE_EXEMPT_TP       1390\n",
       "Name: count, dtype: int64"
      ]
     },
     "execution_count": 436,
     "metadata": {},
     "output_type": "execute_result"
    }
   ],
   "source": [
    "data['commission_group_code'].value_counts()"
   ]
  },
  {
   "cell_type": "code",
   "execution_count": 437,
   "metadata": {},
   "outputs": [
    {
     "data": {
      "text/plain": [
       "reporting_classification\n",
       "Discontinuing    670406\n",
       "Continuing       277393\n",
       "Name: count, dtype: int64"
      ]
     },
     "execution_count": 437,
     "metadata": {},
     "output_type": "execute_result"
    }
   ],
   "source": [
    "cat_df['reporting_classification'].value_counts()"
   ]
  },
  {
   "cell_type": "code",
   "execution_count": 438,
   "metadata": {},
   "outputs": [
    {
     "data": {
      "text/plain": [
       "['customer_code',\n",
       " 'item_code',\n",
       " 'business_area_code',\n",
       " 'item_group_code',\n",
       " 'item_class_code',\n",
       " 'bonus_group_code',\n",
       " 'environment_group_code',\n",
       " 'technology_group_code',\n",
       " 'commission_group_code',\n",
       " 'reporting_classification',\n",
       " 'light_source',\n",
       " 'warehouse_code',\n",
       " 'abc_class_code',\n",
       " 'abc_class_volume',\n",
       " 'business_chain_l1_code',\n",
       " 'business_chain_l1_name',\n",
       " 'contact_method_code',\n",
       " 'salesperson_code',\n",
       " 'order_type_code',\n",
       " 'market_segment',\n",
       " 'currency',\n",
       " 'customer_order_number',\n",
       " 'dss_update_time']"
      ]
     },
     "execution_count": 438,
     "metadata": {},
     "output_type": "execute_result"
    }
   ],
   "source": [
    "categorical_column"
   ]
  },
  {
   "cell_type": "code",
   "execution_count": 439,
   "metadata": {},
   "outputs": [
    {
     "data": {
      "text/plain": [
       "array(['Accessories', 'Traditional', 'LED'], dtype=object)"
      ]
     },
     "execution_count": 439,
     "metadata": {},
     "output_type": "execute_result"
    }
   ],
   "source": [
    "cat_df['light_source'].unique()"
   ]
  },
  {
   "cell_type": "code",
   "execution_count": 440,
   "metadata": {},
   "outputs": [
    {
     "data": {
      "text/plain": [
       "array(['Unk', '5N2', '5S0', '5Q0', '5V0', '5W0', '1N0', '1V0', '1Q0',\n",
       "       '1N1', '1S0', '1W0', '1Q1', '1S1', '5T0', '5S1', 'FA1', 'FWE',\n",
       "       'FA2', 'FW2', 'FWA', '5N1', '5Q1', '1T0', '1T1', 'EN0', 'BB1',\n",
       "       '1N2', '1N3'], dtype=object)"
      ]
     },
     "execution_count": 440,
     "metadata": {},
     "output_type": "execute_result"
    }
   ],
   "source": [
    "cat_df['warehouse_code'].unique()"
   ]
  },
  {
   "cell_type": "code",
   "execution_count": 441,
   "metadata": {},
   "outputs": [
    {
     "data": {
      "text/plain": [
       "array(['U', 'J', 'I', 'E', 'C', 'A', 'D', 'G', 'B', 'F'], dtype=object)"
      ]
     },
     "execution_count": 441,
     "metadata": {},
     "output_type": "execute_result"
    }
   ],
   "source": [
    "cat_df['abc_class_code'].unique()"
   ]
  },
  {
   "cell_type": "code",
   "execution_count": 442,
   "metadata": {},
   "outputs": [
    {
     "data": {
      "text/plain": [
       "array(['U', 'J', 'E', 'I', 'D', 'A', 'B', 'C', 'H', 'G'], dtype=object)"
      ]
     },
     "execution_count": 442,
     "metadata": {},
     "output_type": "execute_result"
    }
   ],
   "source": [
    "cat_df['abc_class_volume'].unique()"
   ]
  },
  {
   "cell_type": "code",
   "execution_count": 443,
   "metadata": {},
   "outputs": [
    {
     "data": {
      "text/plain": [
       "array(['MED', 'AEG', 'NES', 'ZZ2       ', 'NLG', 'ZZ8       ', 'ELC',\n",
       "       'ZZ3       ', 'BPS', 'ZZZ       ', 'INTERCO   ', 'ZZ6       ',\n",
       "       'ZZ1       ', 'UES', 'GEW', 'Z3500     ', 'Z4000     ',\n",
       "       'Z2000     ', 'Z4500     ', 'Z8500     ', 'Z4100     ',\n",
       "       'ZZ7       ', 'ZZ5       ', 'Z6100     ', 'Z850339   ',\n",
       "       'CET       ', 'PTD', 'Z6500     ', 'ZZ9       ', 'ZI900     ',\n",
       "       'ZI4000    ', 'Z7500     ', 'ZI800     ', 'ZI4500    ',\n",
       "       'Z3200     ', 'ZA900     ', 'ZI2000    ', 'Z850358   ',\n",
       "       'Z8100     ', 'Z6800     ', 'ZI3500    ', 'ZI3000    ',\n",
       "       'ZA800     ', 'Z9000     ', 'ZA200     ', 'ZI80084   ',\n",
       "       'REP       '], dtype=object)"
      ]
     },
     "execution_count": 443,
     "metadata": {},
     "output_type": "execute_result"
    }
   ],
   "source": [
    "cat_df['business_chain_l1_code'].unique()"
   ]
  },
  {
   "cell_type": "code",
   "execution_count": 444,
   "metadata": {},
   "outputs": [],
   "source": [
    "data.drop('business_chain_l1_code',axis=1, inplace=True)"
   ]
  },
  {
   "cell_type": "code",
   "execution_count": 445,
   "metadata": {},
   "outputs": [
    {
     "data": {
      "text/plain": [
       "array(['Metro Electrical Distributors', 'Aussie Energy Group',\n",
       "       'NextGen Electrical Solutions',\n",
       "       'Independent Retailers Association', 'Nationwide Lighting Group',\n",
       "       'EndUser Solutions', 'ElectraCorp Ltd', 'ProLighting Specialists',\n",
       "       'BrightPower Solutions', 'General Suppliers Pty',\n",
       "       'InterGlobal Trading', 'Constructor Supplies',\n",
       "       'Builders Supply Network', 'Unified Electrical Suppliers',\n",
       "       'Global Electric Wholesalers', 'Corys Energy Systems',\n",
       "       'Russell & Partners Electric', 'Ideal Electrical Solutions',\n",
       "       'PowerHub Distribution', 'Independent Traders Ltd',\n",
       "       'Stewart Electrical Wholesalers', 'UtilityWorks Group',\n",
       "       'Beacon Lighting Supplies', 'Active Electric Solutions',\n",
       "       'CetraPro Distributors', 'PowerTools Direct', 'MitrePro Suppliers',\n",
       "       'Corporate Builders Consortium', 'Inlite NZ Ltd',\n",
       "       'Russell & Radcliffe Electric', 'DIY Supplies Network',\n",
       "       'Inlite Solutions', 'CraneCo Distribution',\n",
       "       'HeadOffice Electrical Group', 'Electical Vista',\n",
       "       'Corporate HQ Solutions', 'ITM Solutions Group',\n",
       "       'CraneCo Old Branch', 'Independent', 'Export',\n",
       "       'Electrical Active Supply', 'SalesPro Accounts'], dtype=object)"
      ]
     },
     "execution_count": 445,
     "metadata": {},
     "output_type": "execute_result"
    }
   ],
   "source": [
    "cat_df['business_chain_l1_name'].unique()"
   ]
  },
  {
   "cell_type": "code",
   "execution_count": 446,
   "metadata": {},
   "outputs": [
    {
     "data": {
      "text/plain": [
       "business_chain_l1_name\n",
       "Metro Electrical Distributors        208910\n",
       "Builders Supply Network              121557\n",
       "NextGen Electrical Solutions          85491\n",
       "BrightPower Solutions                 83867\n",
       "Independent Retailers Association     74095\n",
       "ElectraCorp Ltd                       49820\n",
       "InterGlobal Trading                   43080\n",
       "Nationwide Lighting Group             41680\n",
       "ProLighting Specialists               38232\n",
       "Aussie Energy Group                   33793\n",
       "General Suppliers Pty                 29606\n",
       "EndUser Solutions                     23602\n",
       "Unified Electrical Suppliers          22005\n",
       "MitrePro Suppliers                    15262\n",
       "DIY Supplies Network                  13975\n",
       "Global Electric Wholesalers           12013\n",
       "Russell & Partners Electric           10145\n",
       "Independent Traders Ltd                9146\n",
       "UtilityWorks Group                     4704\n",
       "PowerTools Direct                      4067\n",
       "PowerHub Distribution                  3387\n",
       "Corporate Builders Consortium          3236\n",
       "Corys Energy Systems                   2862\n",
       "Ideal Electrical Solutions             2403\n",
       "Constructor Supplies                   2398\n",
       "Beacon Lighting Supplies               2374\n",
       "Stewart Electrical Wholesalers         1583\n",
       "Inlite NZ Ltd                          1354\n",
       "Active Electric Solutions              1141\n",
       "Inlite Solutions                        760\n",
       "HeadOffice Electrical Group             412\n",
       "ITM Solutions Group                     230\n",
       "Export                                  185\n",
       "Russell & Radcliffe Electric            183\n",
       "CraneCo Distribution                     99\n",
       "CetraPro Distributors                    80\n",
       "Corporate HQ Solutions                   22\n",
       "Electical Vista                          22\n",
       "SalesPro Accounts                        12\n",
       "CraneCo Old Branch                        2\n",
       "Independent                               2\n",
       "Electrical Active Supply                  2\n",
       "Name: count, dtype: int64"
      ]
     },
     "execution_count": 446,
     "metadata": {},
     "output_type": "execute_result"
    }
   ],
   "source": [
    "cat_df['business_chain_l1_name'].value_counts()"
   ]
  },
  {
   "cell_type": "code",
   "execution_count": 447,
   "metadata": {},
   "outputs": [
    {
     "data": {
      "text/plain": [
       "1274"
      ]
     },
     "execution_count": 447,
     "metadata": {},
     "output_type": "execute_result"
    }
   ],
   "source": [
    "len(cat_df['contact_method_code'].unique())"
   ]
  },
  {
   "cell_type": "code",
   "execution_count": 448,
   "metadata": {},
   "outputs": [],
   "source": [
    "data.drop('contact_method_code', axis=1, inplace=True)"
   ]
  },
  {
   "cell_type": "code",
   "execution_count": 449,
   "metadata": {},
   "outputs": [
    {
     "data": {
      "text/plain": [
       "218"
      ]
     },
     "execution_count": 449,
     "metadata": {},
     "output_type": "execute_result"
    }
   ],
   "source": [
    "len(cat_df['salesperson_code'].unique())"
   ]
  },
  {
   "cell_type": "code",
   "execution_count": 450,
   "metadata": {},
   "outputs": [
    {
     "data": {
      "text/plain": [
       "array(['CRR', 'NOR', 'CRD', 'PRO', 'CSH', 'PRD', 'PPO', 'EXP', 'PUP',\n",
       "       'CDG', 'EDI', 'ZCR', 'NOS', 'NOH', 'AES', 'CPR', 'ZCG', 'SPC',\n",
       "       'EDS', 'PMO', 'CRP', 'COP', 'MIN', 'PSA', 'SPL', 'COA', '5TN',\n",
       "       'WDC', 'PPD', 'OBS', 'CSO', 'PME'], dtype=object)"
      ]
     },
     "execution_count": 450,
     "metadata": {},
     "output_type": "execute_result"
    }
   ],
   "source": [
    "cat_df['order_type_code'].unique()"
   ]
  },
  {
   "cell_type": "code",
   "execution_count": 451,
   "metadata": {},
   "outputs": [
    {
     "data": {
      "text/plain": [
       "array(['Commercial & Industrial'], dtype=object)"
      ]
     },
     "execution_count": 451,
     "metadata": {},
     "output_type": "execute_result"
    }
   ],
   "source": [
    "cat_df['market_segment'].unique()"
   ]
  },
  {
   "cell_type": "code",
   "execution_count": 452,
   "metadata": {},
   "outputs": [],
   "source": [
    "data.drop('market_segment', inplace=True, axis=True)"
   ]
  },
  {
   "cell_type": "code",
   "execution_count": 453,
   "metadata": {},
   "outputs": [
    {
     "data": {
      "text/plain": [
       "array(['AUD', 'AUS', 'NZD', 'USD', '   '], dtype=object)"
      ]
     },
     "execution_count": 453,
     "metadata": {},
     "output_type": "execute_result"
    }
   ],
   "source": [
    "cat_df['currency'].unique()"
   ]
  },
  {
   "cell_type": "code",
   "execution_count": 454,
   "metadata": {},
   "outputs": [],
   "source": [
    "data['currency']=data['currency'].str.strip()"
   ]
  },
  {
   "cell_type": "code",
   "execution_count": 455,
   "metadata": {},
   "outputs": [
    {
     "data": {
      "text/plain": [
       "array(['AUD', 'AUS', 'NZD', 'USD', ''], dtype=object)"
      ]
     },
     "execution_count": 455,
     "metadata": {},
     "output_type": "execute_result"
    }
   ],
   "source": [
    "data['currency'].unique()"
   ]
  },
  {
   "cell_type": "code",
   "execution_count": 456,
   "metadata": {},
   "outputs": [
    {
     "data": {
      "text/plain": [
       "320646"
      ]
     },
     "execution_count": 456,
     "metadata": {},
     "output_type": "execute_result"
    }
   ],
   "source": [
    "len(data['customer_order_number'].unique())"
   ]
  },
  {
   "cell_type": "code",
   "execution_count": 457,
   "metadata": {},
   "outputs": [],
   "source": [
    "data.drop('customer_order_number', axis=1, inplace=True)"
   ]
  },
  {
   "cell_type": "code",
   "execution_count": 458,
   "metadata": {},
   "outputs": [
    {
     "data": {
      "text/plain": [
       "0         49:58.7\n",
       "1         49:58.7\n",
       "2         49:58.7\n",
       "3         49:58.7\n",
       "4         49:58.7\n",
       "           ...   \n",
       "951172    49:58.7\n",
       "951173    49:58.7\n",
       "951174    49:58.7\n",
       "951175    49:58.7\n",
       "951176    49:58.7\n",
       "Name: dss_update_time, Length: 947799, dtype: object"
      ]
     },
     "execution_count": 458,
     "metadata": {},
     "output_type": "execute_result"
    }
   ],
   "source": [
    "cat_df['dss_update_time']"
   ]
  },
  {
   "cell_type": "code",
   "execution_count": 459,
   "metadata": {},
   "outputs": [],
   "source": [
    "data.drop('dss_update_time', inplace=True, axis=1)"
   ]
  },
  {
   "cell_type": "code",
   "execution_count": 460,
   "metadata": {},
   "outputs": [
    {
     "data": {
      "text/html": [
       "<div>\n",
       "<style scoped>\n",
       "    .dataframe tbody tr th:only-of-type {\n",
       "        vertical-align: middle;\n",
       "    }\n",
       "\n",
       "    .dataframe tbody tr th {\n",
       "        vertical-align: top;\n",
       "    }\n",
       "\n",
       "    .dataframe thead th {\n",
       "        text-align: right;\n",
       "    }\n",
       "</style>\n",
       "<table border=\"1\" class=\"dataframe\">\n",
       "  <thead>\n",
       "    <tr style=\"text-align: right;\">\n",
       "      <th></th>\n",
       "      <th>accounting_date</th>\n",
       "      <th>fiscal_year</th>\n",
       "      <th>fiscal_month</th>\n",
       "      <th>calendar_year</th>\n",
       "      <th>calendar_month</th>\n",
       "      <th>calendar_day</th>\n",
       "      <th>company_code</th>\n",
       "      <th>customer_code</th>\n",
       "      <th>customer_district_code</th>\n",
       "      <th>item_code</th>\n",
       "      <th>...</th>\n",
       "      <th>order_type_code</th>\n",
       "      <th>value_sales</th>\n",
       "      <th>value_cost</th>\n",
       "      <th>value_quantity</th>\n",
       "      <th>value_price_adjustment</th>\n",
       "      <th>currency</th>\n",
       "      <th>invoice_number</th>\n",
       "      <th>line_number</th>\n",
       "      <th>invoice_date</th>\n",
       "      <th>order_date</th>\n",
       "    </tr>\n",
       "  </thead>\n",
       "  <tbody>\n",
       "    <tr>\n",
       "      <th>0</th>\n",
       "      <td>20130125</td>\n",
       "      <td>2013</td>\n",
       "      <td>7</td>\n",
       "      <td>2013</td>\n",
       "      <td>1</td>\n",
       "      <td>25</td>\n",
       "      <td>205</td>\n",
       "      <td>471150112</td>\n",
       "      <td>400</td>\n",
       "      <td>10311</td>\n",
       "      <td>...</td>\n",
       "      <td>CRR</td>\n",
       "      <td>-2.23</td>\n",
       "      <td>-1.270</td>\n",
       "      <td>-1.0</td>\n",
       "      <td>0</td>\n",
       "      <td>AUD</td>\n",
       "      <td>277995</td>\n",
       "      <td>0</td>\n",
       "      <td>20130125</td>\n",
       "      <td>20130125</td>\n",
       "    </tr>\n",
       "    <tr>\n",
       "      <th>1</th>\n",
       "      <td>20130513</td>\n",
       "      <td>2013</td>\n",
       "      <td>11</td>\n",
       "      <td>2013</td>\n",
       "      <td>5</td>\n",
       "      <td>13</td>\n",
       "      <td>205</td>\n",
       "      <td>277000801</td>\n",
       "      <td>200</td>\n",
       "      <td>10311</td>\n",
       "      <td>...</td>\n",
       "      <td>NOR</td>\n",
       "      <td>2.48</td>\n",
       "      <td>1.270</td>\n",
       "      <td>1.0</td>\n",
       "      <td>0</td>\n",
       "      <td>AUD</td>\n",
       "      <td>749295</td>\n",
       "      <td>0</td>\n",
       "      <td>20130513</td>\n",
       "      <td>20130510</td>\n",
       "    </tr>\n",
       "    <tr>\n",
       "      <th>2</th>\n",
       "      <td>20130611</td>\n",
       "      <td>2013</td>\n",
       "      <td>12</td>\n",
       "      <td>2013</td>\n",
       "      <td>6</td>\n",
       "      <td>11</td>\n",
       "      <td>205</td>\n",
       "      <td>292314701</td>\n",
       "      <td>200</td>\n",
       "      <td>10350</td>\n",
       "      <td>...</td>\n",
       "      <td>NOR</td>\n",
       "      <td>53.40</td>\n",
       "      <td>22.970</td>\n",
       "      <td>2.0</td>\n",
       "      <td>0</td>\n",
       "      <td>AUD</td>\n",
       "      <td>756507</td>\n",
       "      <td>0</td>\n",
       "      <td>20130611</td>\n",
       "      <td>20130611</td>\n",
       "    </tr>\n",
       "    <tr>\n",
       "      <th>3</th>\n",
       "      <td>20130111</td>\n",
       "      <td>2013</td>\n",
       "      <td>7</td>\n",
       "      <td>2013</td>\n",
       "      <td>1</td>\n",
       "      <td>11</td>\n",
       "      <td>205</td>\n",
       "      <td>299480703</td>\n",
       "      <td>200</td>\n",
       "      <td>10350</td>\n",
       "      <td>...</td>\n",
       "      <td>NOR</td>\n",
       "      <td>24.90</td>\n",
       "      <td>11.485</td>\n",
       "      <td>1.0</td>\n",
       "      <td>0</td>\n",
       "      <td>AUD</td>\n",
       "      <td>724149</td>\n",
       "      <td>0</td>\n",
       "      <td>20130111</td>\n",
       "      <td>20130111</td>\n",
       "    </tr>\n",
       "    <tr>\n",
       "      <th>4</th>\n",
       "      <td>20130321</td>\n",
       "      <td>2013</td>\n",
       "      <td>9</td>\n",
       "      <td>2013</td>\n",
       "      <td>3</td>\n",
       "      <td>21</td>\n",
       "      <td>205</td>\n",
       "      <td>471150015</td>\n",
       "      <td>400</td>\n",
       "      <td>10364</td>\n",
       "      <td>...</td>\n",
       "      <td>NOR</td>\n",
       "      <td>45.00</td>\n",
       "      <td>28.140</td>\n",
       "      <td>6.0</td>\n",
       "      <td>0</td>\n",
       "      <td>AUD</td>\n",
       "      <td>738377</td>\n",
       "      <td>0</td>\n",
       "      <td>20130321</td>\n",
       "      <td>20130320</td>\n",
       "    </tr>\n",
       "  </tbody>\n",
       "</table>\n",
       "<p>5 rows × 33 columns</p>\n",
       "</div>"
      ],
      "text/plain": [
       "   accounting_date  fiscal_year  fiscal_month  calendar_year  calendar_month  \\\n",
       "0         20130125         2013             7           2013               1   \n",
       "1         20130513         2013            11           2013               5   \n",
       "2         20130611         2013            12           2013               6   \n",
       "3         20130111         2013             7           2013               1   \n",
       "4         20130321         2013             9           2013               3   \n",
       "\n",
       "   calendar_day  company_code customer_code  customer_district_code item_code  \\\n",
       "0            25           205     471150112                     400     10311   \n",
       "1            13           205     277000801                     200     10311   \n",
       "2            11           205     292314701                     200     10350   \n",
       "3            11           205     299480703                     200     10350   \n",
       "4            21           205     471150015                     400     10364   \n",
       "\n",
       "   ... order_type_code value_sales  value_cost value_quantity  \\\n",
       "0  ...             CRR       -2.23      -1.270           -1.0   \n",
       "1  ...             NOR        2.48       1.270            1.0   \n",
       "2  ...             NOR       53.40      22.970            2.0   \n",
       "3  ...             NOR       24.90      11.485            1.0   \n",
       "4  ...             NOR       45.00      28.140            6.0   \n",
       "\n",
       "  value_price_adjustment currency invoice_number line_number invoice_date  \\\n",
       "0                      0      AUD         277995           0     20130125   \n",
       "1                      0      AUD         749295           0     20130513   \n",
       "2                      0      AUD         756507           0     20130611   \n",
       "3                      0      AUD         724149           0     20130111   \n",
       "4                      0      AUD         738377           0     20130321   \n",
       "\n",
       "  order_date  \n",
       "0   20130125  \n",
       "1   20130510  \n",
       "2   20130611  \n",
       "3   20130111  \n",
       "4   20130320  \n",
       "\n",
       "[5 rows x 33 columns]"
      ]
     },
     "execution_count": 460,
     "metadata": {},
     "output_type": "execute_result"
    }
   ],
   "source": [
    "data.head()"
   ]
  },
  {
   "cell_type": "markdown",
   "metadata": {},
   "source": [
    "## In the same way inspect Numbericl DataFrame."
   ]
  },
  {
   "cell_type": "code",
   "execution_count": 461,
   "metadata": {},
   "outputs": [
    {
     "data": {
      "text/html": [
       "<div>\n",
       "<style scoped>\n",
       "    .dataframe tbody tr th:only-of-type {\n",
       "        vertical-align: middle;\n",
       "    }\n",
       "\n",
       "    .dataframe tbody tr th {\n",
       "        vertical-align: top;\n",
       "    }\n",
       "\n",
       "    .dataframe thead th {\n",
       "        text-align: right;\n",
       "    }\n",
       "</style>\n",
       "<table border=\"1\" class=\"dataframe\">\n",
       "  <thead>\n",
       "    <tr style=\"text-align: right;\">\n",
       "      <th></th>\n",
       "      <th>accounting_date</th>\n",
       "      <th>fiscal_year</th>\n",
       "      <th>fiscal_month</th>\n",
       "      <th>calendar_year</th>\n",
       "      <th>calendar_month</th>\n",
       "      <th>calendar_day</th>\n",
       "      <th>company_code</th>\n",
       "      <th>customer_district_code</th>\n",
       "      <th>item_type</th>\n",
       "      <th>value_sales</th>\n",
       "      <th>value_cost</th>\n",
       "      <th>value_quantity</th>\n",
       "      <th>value_price_adjustment</th>\n",
       "      <th>invoice_number</th>\n",
       "      <th>line_number</th>\n",
       "      <th>invoice_date</th>\n",
       "      <th>order_date</th>\n",
       "    </tr>\n",
       "  </thead>\n",
       "  <tbody>\n",
       "    <tr>\n",
       "      <th>0</th>\n",
       "      <td>20130125</td>\n",
       "      <td>2013</td>\n",
       "      <td>7</td>\n",
       "      <td>2013</td>\n",
       "      <td>1</td>\n",
       "      <td>25</td>\n",
       "      <td>205</td>\n",
       "      <td>400</td>\n",
       "      <td>5</td>\n",
       "      <td>-2.23</td>\n",
       "      <td>-1.270</td>\n",
       "      <td>-1.0</td>\n",
       "      <td>0</td>\n",
       "      <td>277995</td>\n",
       "      <td>0</td>\n",
       "      <td>20130125</td>\n",
       "      <td>20130125</td>\n",
       "    </tr>\n",
       "    <tr>\n",
       "      <th>1</th>\n",
       "      <td>20130513</td>\n",
       "      <td>2013</td>\n",
       "      <td>11</td>\n",
       "      <td>2013</td>\n",
       "      <td>5</td>\n",
       "      <td>13</td>\n",
       "      <td>205</td>\n",
       "      <td>200</td>\n",
       "      <td>5</td>\n",
       "      <td>2.48</td>\n",
       "      <td>1.270</td>\n",
       "      <td>1.0</td>\n",
       "      <td>0</td>\n",
       "      <td>749295</td>\n",
       "      <td>0</td>\n",
       "      <td>20130513</td>\n",
       "      <td>20130510</td>\n",
       "    </tr>\n",
       "    <tr>\n",
       "      <th>2</th>\n",
       "      <td>20130611</td>\n",
       "      <td>2013</td>\n",
       "      <td>12</td>\n",
       "      <td>2013</td>\n",
       "      <td>6</td>\n",
       "      <td>11</td>\n",
       "      <td>205</td>\n",
       "      <td>200</td>\n",
       "      <td>5</td>\n",
       "      <td>53.40</td>\n",
       "      <td>22.970</td>\n",
       "      <td>2.0</td>\n",
       "      <td>0</td>\n",
       "      <td>756507</td>\n",
       "      <td>0</td>\n",
       "      <td>20130611</td>\n",
       "      <td>20130611</td>\n",
       "    </tr>\n",
       "    <tr>\n",
       "      <th>3</th>\n",
       "      <td>20130111</td>\n",
       "      <td>2013</td>\n",
       "      <td>7</td>\n",
       "      <td>2013</td>\n",
       "      <td>1</td>\n",
       "      <td>11</td>\n",
       "      <td>205</td>\n",
       "      <td>200</td>\n",
       "      <td>5</td>\n",
       "      <td>24.90</td>\n",
       "      <td>11.485</td>\n",
       "      <td>1.0</td>\n",
       "      <td>0</td>\n",
       "      <td>724149</td>\n",
       "      <td>0</td>\n",
       "      <td>20130111</td>\n",
       "      <td>20130111</td>\n",
       "    </tr>\n",
       "    <tr>\n",
       "      <th>4</th>\n",
       "      <td>20130321</td>\n",
       "      <td>2013</td>\n",
       "      <td>9</td>\n",
       "      <td>2013</td>\n",
       "      <td>3</td>\n",
       "      <td>21</td>\n",
       "      <td>205</td>\n",
       "      <td>400</td>\n",
       "      <td>5</td>\n",
       "      <td>45.00</td>\n",
       "      <td>28.140</td>\n",
       "      <td>6.0</td>\n",
       "      <td>0</td>\n",
       "      <td>738377</td>\n",
       "      <td>0</td>\n",
       "      <td>20130321</td>\n",
       "      <td>20130320</td>\n",
       "    </tr>\n",
       "  </tbody>\n",
       "</table>\n",
       "</div>"
      ],
      "text/plain": [
       "   accounting_date  fiscal_year  fiscal_month  calendar_year  calendar_month  \\\n",
       "0         20130125         2013             7           2013               1   \n",
       "1         20130513         2013            11           2013               5   \n",
       "2         20130611         2013            12           2013               6   \n",
       "3         20130111         2013             7           2013               1   \n",
       "4         20130321         2013             9           2013               3   \n",
       "\n",
       "   calendar_day  company_code  customer_district_code  item_type  value_sales  \\\n",
       "0            25           205                     400          5        -2.23   \n",
       "1            13           205                     200          5         2.48   \n",
       "2            11           205                     200          5        53.40   \n",
       "3            11           205                     200          5        24.90   \n",
       "4            21           205                     400          5        45.00   \n",
       "\n",
       "   value_cost  value_quantity  value_price_adjustment  invoice_number  \\\n",
       "0      -1.270            -1.0                       0          277995   \n",
       "1       1.270             1.0                       0          749295   \n",
       "2      22.970             2.0                       0          756507   \n",
       "3      11.485             1.0                       0          724149   \n",
       "4      28.140             6.0                       0          738377   \n",
       "\n",
       "   line_number  invoice_date  order_date  \n",
       "0            0      20130125    20130125  \n",
       "1            0      20130513    20130510  \n",
       "2            0      20130611    20130611  \n",
       "3            0      20130111    20130111  \n",
       "4            0      20130321    20130320  "
      ]
     },
     "execution_count": 461,
     "metadata": {},
     "output_type": "execute_result"
    }
   ],
   "source": [
    "num_df.head()"
   ]
  },
  {
   "cell_type": "code",
   "execution_count": 462,
   "metadata": {},
   "outputs": [
    {
     "data": {
      "text/html": [
       "<div>\n",
       "<style scoped>\n",
       "    .dataframe tbody tr th:only-of-type {\n",
       "        vertical-align: middle;\n",
       "    }\n",
       "\n",
       "    .dataframe tbody tr th {\n",
       "        vertical-align: top;\n",
       "    }\n",
       "\n",
       "    .dataframe thead th {\n",
       "        text-align: right;\n",
       "    }\n",
       "</style>\n",
       "<table border=\"1\" class=\"dataframe\">\n",
       "  <thead>\n",
       "    <tr style=\"text-align: right;\">\n",
       "      <th></th>\n",
       "      <th>accounting_date</th>\n",
       "    </tr>\n",
       "  </thead>\n",
       "  <tbody>\n",
       "    <tr>\n",
       "      <th>0</th>\n",
       "      <td>20130125</td>\n",
       "    </tr>\n",
       "    <tr>\n",
       "      <th>1</th>\n",
       "      <td>20130513</td>\n",
       "    </tr>\n",
       "    <tr>\n",
       "      <th>2</th>\n",
       "      <td>20130611</td>\n",
       "    </tr>\n",
       "    <tr>\n",
       "      <th>3</th>\n",
       "      <td>20130111</td>\n",
       "    </tr>\n",
       "    <tr>\n",
       "      <th>4</th>\n",
       "      <td>20130321</td>\n",
       "    </tr>\n",
       "    <tr>\n",
       "      <th>...</th>\n",
       "      <td>...</td>\n",
       "    </tr>\n",
       "    <tr>\n",
       "      <th>951172</th>\n",
       "      <td>20131106</td>\n",
       "    </tr>\n",
       "    <tr>\n",
       "      <th>951173</th>\n",
       "      <td>20130717</td>\n",
       "    </tr>\n",
       "    <tr>\n",
       "      <th>951174</th>\n",
       "      <td>20131021</td>\n",
       "    </tr>\n",
       "    <tr>\n",
       "      <th>951175</th>\n",
       "      <td>20131101</td>\n",
       "    </tr>\n",
       "    <tr>\n",
       "      <th>951176</th>\n",
       "      <td>20130925</td>\n",
       "    </tr>\n",
       "  </tbody>\n",
       "</table>\n",
       "<p>947799 rows × 1 columns</p>\n",
       "</div>"
      ],
      "text/plain": [
       "        accounting_date\n",
       "0              20130125\n",
       "1              20130513\n",
       "2              20130611\n",
       "3              20130111\n",
       "4              20130321\n",
       "...                 ...\n",
       "951172         20131106\n",
       "951173         20130717\n",
       "951174         20131021\n",
       "951175         20131101\n",
       "951176         20130925\n",
       "\n",
       "[947799 rows x 1 columns]"
      ]
     },
     "execution_count": 462,
     "metadata": {},
     "output_type": "execute_result"
    }
   ],
   "source": [
    "num_df[['accounting_date']]"
   ]
  },
  {
   "cell_type": "markdown",
   "metadata": {},
   "source": [
    "- Accounting Date year, month, data join in same place to clean this data we need to convert column in data and time dataytpe and split in different form."
   ]
  },
  {
   "cell_type": "code",
   "execution_count": 463,
   "metadata": {},
   "outputs": [
    {
     "data": {
      "text/plain": [
       "dtype('int64')"
      ]
     },
     "execution_count": 463,
     "metadata": {},
     "output_type": "execute_result"
    }
   ],
   "source": [
    "num_df['accounting_date'].dtype"
   ]
  },
  {
   "cell_type": "code",
   "execution_count": 464,
   "metadata": {},
   "outputs": [],
   "source": [
    "data['accounting_date']=pd.to_datetime(data['accounting_date'],format='%Y%m%d')"
   ]
  },
  {
   "cell_type": "code",
   "execution_count": 465,
   "metadata": {},
   "outputs": [
    {
     "data": {
      "text/plain": [
       "dtype('<M8[ns]')"
      ]
     },
     "execution_count": 465,
     "metadata": {},
     "output_type": "execute_result"
    }
   ],
   "source": [
    "data['accounting_date'].dtype"
   ]
  },
  {
   "cell_type": "code",
   "execution_count": 466,
   "metadata": {},
   "outputs": [],
   "source": [
    "## Now extract year, month, and day from column\n",
    "data['accounting_year']=data['accounting_date'].dt.year\n",
    "data['accounting_month']=data['accounting_date'].dt.month\n",
    "data['accounting_day']=data['accounting_date'].dt.day"
   ]
  },
  {
   "cell_type": "code",
   "execution_count": 467,
   "metadata": {},
   "outputs": [
    {
     "data": {
      "text/plain": [
       "0         2013\n",
       "1         2013\n",
       "2         2013\n",
       "3         2013\n",
       "4         2013\n",
       "          ... \n",
       "951172    2013\n",
       "951173    2013\n",
       "951174    2013\n",
       "951175    2013\n",
       "951176    2013\n",
       "Name: accounting_year, Length: 944494, dtype: int32"
      ]
     },
     "execution_count": 467,
     "metadata": {},
     "output_type": "execute_result"
    }
   ],
   "source": [
    "data['accounting_year']"
   ]
  },
  {
   "cell_type": "code",
   "execution_count": 468,
   "metadata": {},
   "outputs": [
    {
     "data": {
      "text/plain": [
       "Index(['accounting_date', 'fiscal_year', 'fiscal_month', 'calendar_year',\n",
       "       'calendar_month', 'calendar_day', 'company_code',\n",
       "       'customer_district_code', 'item_type', 'value_sales', 'value_cost',\n",
       "       'value_quantity', 'value_price_adjustment', 'invoice_number',\n",
       "       'line_number', 'invoice_date', 'order_date'],\n",
       "      dtype='object')"
      ]
     },
     "execution_count": 468,
     "metadata": {},
     "output_type": "execute_result"
    }
   ],
   "source": [
    "num_df.columns"
   ]
  },
  {
   "cell_type": "code",
   "execution_count": 469,
   "metadata": {},
   "outputs": [
    {
     "data": {
      "text/plain": [
       "fiscal_year\n",
       "2013    476227\n",
       "2014    471572\n",
       "Name: count, dtype: int64"
      ]
     },
     "execution_count": 469,
     "metadata": {},
     "output_type": "execute_result"
    }
   ],
   "source": [
    "num_df['fiscal_year'].value_counts()"
   ]
  },
  {
   "cell_type": "code",
   "execution_count": 470,
   "metadata": {},
   "outputs": [
    {
     "data": {
      "text/plain": [
       "calendar_year\n",
       "2013    947799\n",
       "Name: count, dtype: int64"
      ]
     },
     "execution_count": 470,
     "metadata": {},
     "output_type": "execute_result"
    }
   ],
   "source": [
    "num_df['calendar_year'].value_counts()"
   ]
  },
  {
   "cell_type": "markdown",
   "metadata": {},
   "source": [
    "- Calender_year have consistent value because such a column does not contribute any meaningful variance to the dataset and doesn't provide any additional information that can be used in data analysis or modeling."
   ]
  },
  {
   "cell_type": "code",
   "execution_count": 471,
   "metadata": {},
   "outputs": [],
   "source": [
    "# deleteing calender_year, month, day from daaset.\n",
    "data.drop(['calendar_year','calendar_day','calendar_month'], axis=1, inplace=True)"
   ]
  },
  {
   "cell_type": "code",
   "execution_count": 472,
   "metadata": {},
   "outputs": [
    {
     "data": {
      "text/html": [
       "<div>\n",
       "<style scoped>\n",
       "    .dataframe tbody tr th:only-of-type {\n",
       "        vertical-align: middle;\n",
       "    }\n",
       "\n",
       "    .dataframe tbody tr th {\n",
       "        vertical-align: top;\n",
       "    }\n",
       "\n",
       "    .dataframe thead th {\n",
       "        text-align: right;\n",
       "    }\n",
       "</style>\n",
       "<table border=\"1\" class=\"dataframe\">\n",
       "  <thead>\n",
       "    <tr style=\"text-align: right;\">\n",
       "      <th></th>\n",
       "      <th>accounting_date</th>\n",
       "      <th>fiscal_year</th>\n",
       "      <th>fiscal_month</th>\n",
       "      <th>calendar_year</th>\n",
       "      <th>calendar_month</th>\n",
       "      <th>calendar_day</th>\n",
       "      <th>company_code</th>\n",
       "      <th>customer_district_code</th>\n",
       "      <th>item_type</th>\n",
       "      <th>value_sales</th>\n",
       "      <th>value_cost</th>\n",
       "      <th>value_quantity</th>\n",
       "      <th>value_price_adjustment</th>\n",
       "      <th>invoice_number</th>\n",
       "      <th>line_number</th>\n",
       "      <th>invoice_date</th>\n",
       "      <th>order_date</th>\n",
       "    </tr>\n",
       "  </thead>\n",
       "  <tbody>\n",
       "    <tr>\n",
       "      <th>0</th>\n",
       "      <td>20130125</td>\n",
       "      <td>2013</td>\n",
       "      <td>7</td>\n",
       "      <td>2013</td>\n",
       "      <td>1</td>\n",
       "      <td>25</td>\n",
       "      <td>205</td>\n",
       "      <td>400</td>\n",
       "      <td>5</td>\n",
       "      <td>-2.23</td>\n",
       "      <td>-1.270</td>\n",
       "      <td>-1.0</td>\n",
       "      <td>0</td>\n",
       "      <td>277995</td>\n",
       "      <td>0</td>\n",
       "      <td>20130125</td>\n",
       "      <td>20130125</td>\n",
       "    </tr>\n",
       "    <tr>\n",
       "      <th>1</th>\n",
       "      <td>20130513</td>\n",
       "      <td>2013</td>\n",
       "      <td>11</td>\n",
       "      <td>2013</td>\n",
       "      <td>5</td>\n",
       "      <td>13</td>\n",
       "      <td>205</td>\n",
       "      <td>200</td>\n",
       "      <td>5</td>\n",
       "      <td>2.48</td>\n",
       "      <td>1.270</td>\n",
       "      <td>1.0</td>\n",
       "      <td>0</td>\n",
       "      <td>749295</td>\n",
       "      <td>0</td>\n",
       "      <td>20130513</td>\n",
       "      <td>20130510</td>\n",
       "    </tr>\n",
       "    <tr>\n",
       "      <th>2</th>\n",
       "      <td>20130611</td>\n",
       "      <td>2013</td>\n",
       "      <td>12</td>\n",
       "      <td>2013</td>\n",
       "      <td>6</td>\n",
       "      <td>11</td>\n",
       "      <td>205</td>\n",
       "      <td>200</td>\n",
       "      <td>5</td>\n",
       "      <td>53.40</td>\n",
       "      <td>22.970</td>\n",
       "      <td>2.0</td>\n",
       "      <td>0</td>\n",
       "      <td>756507</td>\n",
       "      <td>0</td>\n",
       "      <td>20130611</td>\n",
       "      <td>20130611</td>\n",
       "    </tr>\n",
       "    <tr>\n",
       "      <th>3</th>\n",
       "      <td>20130111</td>\n",
       "      <td>2013</td>\n",
       "      <td>7</td>\n",
       "      <td>2013</td>\n",
       "      <td>1</td>\n",
       "      <td>11</td>\n",
       "      <td>205</td>\n",
       "      <td>200</td>\n",
       "      <td>5</td>\n",
       "      <td>24.90</td>\n",
       "      <td>11.485</td>\n",
       "      <td>1.0</td>\n",
       "      <td>0</td>\n",
       "      <td>724149</td>\n",
       "      <td>0</td>\n",
       "      <td>20130111</td>\n",
       "      <td>20130111</td>\n",
       "    </tr>\n",
       "    <tr>\n",
       "      <th>4</th>\n",
       "      <td>20130321</td>\n",
       "      <td>2013</td>\n",
       "      <td>9</td>\n",
       "      <td>2013</td>\n",
       "      <td>3</td>\n",
       "      <td>21</td>\n",
       "      <td>205</td>\n",
       "      <td>400</td>\n",
       "      <td>5</td>\n",
       "      <td>45.00</td>\n",
       "      <td>28.140</td>\n",
       "      <td>6.0</td>\n",
       "      <td>0</td>\n",
       "      <td>738377</td>\n",
       "      <td>0</td>\n",
       "      <td>20130321</td>\n",
       "      <td>20130320</td>\n",
       "    </tr>\n",
       "  </tbody>\n",
       "</table>\n",
       "</div>"
      ],
      "text/plain": [
       "   accounting_date  fiscal_year  fiscal_month  calendar_year  calendar_month  \\\n",
       "0         20130125         2013             7           2013               1   \n",
       "1         20130513         2013            11           2013               5   \n",
       "2         20130611         2013            12           2013               6   \n",
       "3         20130111         2013             7           2013               1   \n",
       "4         20130321         2013             9           2013               3   \n",
       "\n",
       "   calendar_day  company_code  customer_district_code  item_type  value_sales  \\\n",
       "0            25           205                     400          5        -2.23   \n",
       "1            13           205                     200          5         2.48   \n",
       "2            11           205                     200          5        53.40   \n",
       "3            11           205                     200          5        24.90   \n",
       "4            21           205                     400          5        45.00   \n",
       "\n",
       "   value_cost  value_quantity  value_price_adjustment  invoice_number  \\\n",
       "0      -1.270            -1.0                       0          277995   \n",
       "1       1.270             1.0                       0          749295   \n",
       "2      22.970             2.0                       0          756507   \n",
       "3      11.485             1.0                       0          724149   \n",
       "4      28.140             6.0                       0          738377   \n",
       "\n",
       "   line_number  invoice_date  order_date  \n",
       "0            0      20130125    20130125  \n",
       "1            0      20130513    20130510  \n",
       "2            0      20130611    20130611  \n",
       "3            0      20130111    20130111  \n",
       "4            0      20130321    20130320  "
      ]
     },
     "execution_count": 472,
     "metadata": {},
     "output_type": "execute_result"
    }
   ],
   "source": [
    "num_df.head()"
   ]
  },
  {
   "cell_type": "code",
   "execution_count": 473,
   "metadata": {},
   "outputs": [
    {
     "data": {
      "text/plain": [
       "company_code\n",
       "205    747677\n",
       "101    133853\n",
       "950     65761\n",
       "240       408\n",
       "120        98\n",
       "100         2\n",
       "Name: count, dtype: int64"
      ]
     },
     "execution_count": 473,
     "metadata": {},
     "output_type": "execute_result"
    }
   ],
   "source": [
    "num_df['company_code'].value_counts()"
   ]
  },
  {
   "cell_type": "code",
   "execution_count": 474,
   "metadata": {},
   "outputs": [
    {
     "data": {
      "text/plain": [
       "array([400, 200, 510, 500, 310, 300, 410, 210, 600, 720, 710, 535, 530,\n",
       "       540, 520, 545, 100])"
      ]
     },
     "execution_count": 474,
     "metadata": {},
     "output_type": "execute_result"
    }
   ],
   "source": [
    "num_df['customer_district_code'].unique()"
   ]
  },
  {
   "cell_type": "code",
   "execution_count": 475,
   "metadata": {},
   "outputs": [
    {
     "data": {
      "text/plain": [
       "array([5, 7, 6, 1, 4, 9, 8, 2, 3])"
      ]
     },
     "execution_count": 475,
     "metadata": {},
     "output_type": "execute_result"
    }
   ],
   "source": [
    "num_df['item_type'].unique()"
   ]
  },
  {
   "cell_type": "code",
   "execution_count": 476,
   "metadata": {},
   "outputs": [
    {
     "data": {
      "text/plain": [
       "array([0, 1])"
      ]
     },
     "execution_count": 476,
     "metadata": {},
     "output_type": "execute_result"
    }
   ],
   "source": [
    "num_df['value_price_adjustment'].unique()"
   ]
  },
  {
   "cell_type": "code",
   "execution_count": 477,
   "metadata": {},
   "outputs": [
    {
     "data": {
      "text/plain": [
       "array([ 277995,  749295,  756507, ..., 2423962, 2423898, 2383667])"
      ]
     },
     "execution_count": 477,
     "metadata": {},
     "output_type": "execute_result"
    }
   ],
   "source": [
    "num_df['invoice_number'].unique()"
   ]
  },
  {
   "cell_type": "markdown",
   "metadata": {},
   "source": [
    "- Invoice number is just unique identifier for transcation person, it do not contribute to our analysis."
   ]
  },
  {
   "cell_type": "code",
   "execution_count": 478,
   "metadata": {},
   "outputs": [],
   "source": [
    "#invoice_number: A unique identifier for the invoice related to the transaction.\n",
    "data.drop('invoice_number', axis=1, inplace=True)"
   ]
  },
  {
   "cell_type": "code",
   "execution_count": 479,
   "metadata": {},
   "outputs": [
    {
     "data": {
      "text/plain": [
       "array([  0,  -1,  -2,   1,   3,   2,   4,   8,   5,  12,   6,   7,  10,\n",
       "        -3,  -9,  17,   9,  11,  16,  -4, -10,  -5,  -6,  13,  -7,  26,\n",
       "        -8, -18, -16, -14, -11,  22,  21, -15, -12,  18,  23,  20, -13,\n",
       "       -27, -30, -34,  15, -17, -19, -20, -22,  14, -23, -24, -26, -25,\n",
       "        24, -43,  19,  25,  33,  29,  28,  27,  30,  32, -21, -33, -44,\n",
       "       -46, -38, -39,  31, -29, -31, -32, -35, -42, -28, -40, -36,  34,\n",
       "        46,  43,  45,  40,  42,  35,  44, -37,  36,  41,  38,  37,  39,\n",
       "       -41, -86, -87, -88, -80, -53, -54, -78, -79, -81, -82, -65, -66,\n",
       "       -67, -68, -75, -73, -74, -76, -77, -72, -69, -70, -71, -57, -49,\n",
       "       -62, -48, -85, -47, -50, -51, -45, -52, -55,  48,  47, -61, -63,\n",
       "       -64, -59, -60,  49, -56, -58, -83, -84])"
      ]
     },
     "execution_count": 479,
     "metadata": {},
     "output_type": "execute_result"
    }
   ],
   "source": [
    "#line_number: The line item number on the invoice, indicating specific items.\n",
    "data['line_number'].unique()"
   ]
  },
  {
   "cell_type": "code",
   "execution_count": 480,
   "metadata": {},
   "outputs": [],
   "source": [
    "data.drop('line_number', axis=1, inplace=True)"
   ]
  },
  {
   "cell_type": "code",
   "execution_count": 481,
   "metadata": {},
   "outputs": [
    {
     "data": {
      "text/plain": [
       "0         20130125\n",
       "1         20130513\n",
       "2         20130611\n",
       "3         20130111\n",
       "4         20130321\n",
       "            ...   \n",
       "951172    20131106\n",
       "951173    20130717\n",
       "951174    20131021\n",
       "951175    20131101\n",
       "951176    20130925\n",
       "Name: invoice_date, Length: 947799, dtype: int64"
      ]
     },
     "execution_count": 481,
     "metadata": {},
     "output_type": "execute_result"
    }
   ],
   "source": [
    "# invoice_date: The date the invoice is issued.\n",
    "num_df['invoice_date']"
   ]
  },
  {
   "cell_type": "markdown",
   "metadata": {},
   "source": [
    "- invoice date have same issue all year, month and day are formated in same place. "
   ]
  },
  {
   "cell_type": "code",
   "execution_count": 482,
   "metadata": {},
   "outputs": [
    {
     "data": {
      "text/plain": [
       "dtype('int64')"
      ]
     },
     "execution_count": 482,
     "metadata": {},
     "output_type": "execute_result"
    }
   ],
   "source": [
    "num_df['invoice_date'].dtype"
   ]
  },
  {
   "cell_type": "code",
   "execution_count": 483,
   "metadata": {},
   "outputs": [],
   "source": [
    "## First invoice date convert in datetime datatype\n",
    "data['invoice_date']=pd.to_datetime(data['invoice_date'],format='%Y%m%d')"
   ]
  },
  {
   "cell_type": "code",
   "execution_count": 484,
   "metadata": {},
   "outputs": [],
   "source": [
    "## Now extract year, month, and day from invoice_date.\n",
    "data['invoice_year']=data['invoice_date'].dt.year\n",
    "data['invoice_month']=data['invoice_date'].dt.month\n",
    "data['invoice_day']=data['invoice_date'].dt.day"
   ]
  },
  {
   "cell_type": "code",
   "execution_count": 485,
   "metadata": {},
   "outputs": [],
   "source": [
    "# Now delete invoice date.\n",
    "data.drop('invoice_date', axis=1, inplace=True)\n"
   ]
  },
  {
   "cell_type": "code",
   "execution_count": 486,
   "metadata": {},
   "outputs": [
    {
     "data": {
      "text/plain": [
       "0         20130125\n",
       "1         20130510\n",
       "2         20130611\n",
       "3         20130111\n",
       "4         20130320\n",
       "            ...   \n",
       "951172    20131106\n",
       "951173    20130627\n",
       "951174    20131021\n",
       "951175    20131028\n",
       "951176    20130925\n",
       "Name: order_date, Length: 947799, dtype: int64"
      ]
     },
     "execution_count": 486,
     "metadata": {},
     "output_type": "execute_result"
    }
   ],
   "source": [
    "num_df['order_date']"
   ]
  },
  {
   "cell_type": "markdown",
   "metadata": {},
   "source": [
    "- Same operation perfome as invoice date to clean the order_data."
   ]
  },
  {
   "cell_type": "code",
   "execution_count": 487,
   "metadata": {},
   "outputs": [],
   "source": [
    "data['order_date']=pd.to_datetime(data['order_date'],format='%Y%m%d')\n",
    "data['order_year']=data['order_date'].dt.year\n",
    "data['order_month']=data['order_date'].dt.month\n",
    "data['order_day']=data['order_date'].dt.day"
   ]
  },
  {
   "cell_type": "code",
   "execution_count": 488,
   "metadata": {},
   "outputs": [],
   "source": [
    "data.drop('order_date', axis=1, inplace=True)"
   ]
  },
  {
   "cell_type": "code",
   "execution_count": 489,
   "metadata": {},
   "outputs": [
    {
     "data": {
      "text/plain": [
       "dtype('<M8[ns]')"
      ]
     },
     "execution_count": 489,
     "metadata": {},
     "output_type": "execute_result"
    }
   ],
   "source": [
    "data['accounting_date'].dtype"
   ]
  },
  {
   "cell_type": "code",
   "execution_count": 490,
   "metadata": {},
   "outputs": [],
   "source": [
    "data['accounting_year']=data['accounting_date'].dt.year\n",
    "data['accounting_month']=data['accounting_date'].dt.month\n",
    "data['accounting_day']=data['accounting_date'].dt.date\n",
    "data.drop('accounting_date', inplace=True, axis=1)"
   ]
  },
  {
   "cell_type": "code",
   "execution_count": 491,
   "metadata": {},
   "outputs": [
    {
     "data": {
      "text/html": [
       "<div>\n",
       "<style scoped>\n",
       "    .dataframe tbody tr th:only-of-type {\n",
       "        vertical-align: middle;\n",
       "    }\n",
       "\n",
       "    .dataframe tbody tr th {\n",
       "        vertical-align: top;\n",
       "    }\n",
       "\n",
       "    .dataframe thead th {\n",
       "        text-align: right;\n",
       "    }\n",
       "</style>\n",
       "<table border=\"1\" class=\"dataframe\">\n",
       "  <thead>\n",
       "    <tr style=\"text-align: right;\">\n",
       "      <th></th>\n",
       "      <th>fiscal_year</th>\n",
       "      <th>fiscal_month</th>\n",
       "      <th>company_code</th>\n",
       "      <th>customer_code</th>\n",
       "      <th>customer_district_code</th>\n",
       "      <th>item_code</th>\n",
       "      <th>business_area_code</th>\n",
       "      <th>item_group_code</th>\n",
       "      <th>item_type</th>\n",
       "      <th>bonus_group_code</th>\n",
       "      <th>...</th>\n",
       "      <th>currency</th>\n",
       "      <th>accounting_year</th>\n",
       "      <th>accounting_month</th>\n",
       "      <th>accounting_day</th>\n",
       "      <th>invoice_year</th>\n",
       "      <th>invoice_month</th>\n",
       "      <th>invoice_day</th>\n",
       "      <th>order_year</th>\n",
       "      <th>order_month</th>\n",
       "      <th>order_day</th>\n",
       "    </tr>\n",
       "  </thead>\n",
       "  <tbody>\n",
       "    <tr>\n",
       "      <th>0</th>\n",
       "      <td>2013</td>\n",
       "      <td>7</td>\n",
       "      <td>205</td>\n",
       "      <td>471150112</td>\n",
       "      <td>400</td>\n",
       "      <td>10311</td>\n",
       "      <td>COM</td>\n",
       "      <td>COM90001</td>\n",
       "      <td>5</td>\n",
       "      <td>Trade</td>\n",
       "      <td>...</td>\n",
       "      <td>AUD</td>\n",
       "      <td>2013</td>\n",
       "      <td>1</td>\n",
       "      <td>2013-01-25</td>\n",
       "      <td>2013</td>\n",
       "      <td>1</td>\n",
       "      <td>25</td>\n",
       "      <td>2013</td>\n",
       "      <td>1</td>\n",
       "      <td>25</td>\n",
       "    </tr>\n",
       "    <tr>\n",
       "      <th>1</th>\n",
       "      <td>2013</td>\n",
       "      <td>11</td>\n",
       "      <td>205</td>\n",
       "      <td>277000801</td>\n",
       "      <td>200</td>\n",
       "      <td>10311</td>\n",
       "      <td>COM</td>\n",
       "      <td>COM90001</td>\n",
       "      <td>5</td>\n",
       "      <td>Trade</td>\n",
       "      <td>...</td>\n",
       "      <td>AUD</td>\n",
       "      <td>2013</td>\n",
       "      <td>5</td>\n",
       "      <td>2013-05-13</td>\n",
       "      <td>2013</td>\n",
       "      <td>5</td>\n",
       "      <td>13</td>\n",
       "      <td>2013</td>\n",
       "      <td>5</td>\n",
       "      <td>10</td>\n",
       "    </tr>\n",
       "    <tr>\n",
       "      <th>2</th>\n",
       "      <td>2013</td>\n",
       "      <td>12</td>\n",
       "      <td>205</td>\n",
       "      <td>292314701</td>\n",
       "      <td>200</td>\n",
       "      <td>10350</td>\n",
       "      <td>OTH</td>\n",
       "      <td>999</td>\n",
       "      <td>5</td>\n",
       "      <td>Trade</td>\n",
       "      <td>...</td>\n",
       "      <td>AUD</td>\n",
       "      <td>2013</td>\n",
       "      <td>6</td>\n",
       "      <td>2013-06-11</td>\n",
       "      <td>2013</td>\n",
       "      <td>6</td>\n",
       "      <td>11</td>\n",
       "      <td>2013</td>\n",
       "      <td>6</td>\n",
       "      <td>11</td>\n",
       "    </tr>\n",
       "    <tr>\n",
       "      <th>3</th>\n",
       "      <td>2013</td>\n",
       "      <td>7</td>\n",
       "      <td>205</td>\n",
       "      <td>299480703</td>\n",
       "      <td>200</td>\n",
       "      <td>10350</td>\n",
       "      <td>OTH</td>\n",
       "      <td>999</td>\n",
       "      <td>5</td>\n",
       "      <td>Trade</td>\n",
       "      <td>...</td>\n",
       "      <td>AUD</td>\n",
       "      <td>2013</td>\n",
       "      <td>1</td>\n",
       "      <td>2013-01-11</td>\n",
       "      <td>2013</td>\n",
       "      <td>1</td>\n",
       "      <td>11</td>\n",
       "      <td>2013</td>\n",
       "      <td>1</td>\n",
       "      <td>11</td>\n",
       "    </tr>\n",
       "    <tr>\n",
       "      <th>4</th>\n",
       "      <td>2013</td>\n",
       "      <td>9</td>\n",
       "      <td>205</td>\n",
       "      <td>471150015</td>\n",
       "      <td>400</td>\n",
       "      <td>10364</td>\n",
       "      <td>COM</td>\n",
       "      <td>COM03002</td>\n",
       "      <td>5</td>\n",
       "      <td>Trade</td>\n",
       "      <td>...</td>\n",
       "      <td>AUD</td>\n",
       "      <td>2013</td>\n",
       "      <td>3</td>\n",
       "      <td>2013-03-21</td>\n",
       "      <td>2013</td>\n",
       "      <td>3</td>\n",
       "      <td>21</td>\n",
       "      <td>2013</td>\n",
       "      <td>3</td>\n",
       "      <td>20</td>\n",
       "    </tr>\n",
       "  </tbody>\n",
       "</table>\n",
       "<p>5 rows × 34 columns</p>\n",
       "</div>"
      ],
      "text/plain": [
       "   fiscal_year  fiscal_month  company_code customer_code  \\\n",
       "0         2013             7           205     471150112   \n",
       "1         2013            11           205     277000801   \n",
       "2         2013            12           205     292314701   \n",
       "3         2013             7           205     299480703   \n",
       "4         2013             9           205     471150015   \n",
       "\n",
       "   customer_district_code item_code business_area_code  \\\n",
       "0                     400     10311                COM   \n",
       "1                     200     10311                COM   \n",
       "2                     200     10350                OTH   \n",
       "3                     200     10350                OTH   \n",
       "4                     400     10364                COM   \n",
       "\n",
       "                  item_group_code  item_type bonus_group_code  ... currency  \\\n",
       "0  COM90001                                5            Trade  ...      AUD   \n",
       "1  COM90001                                5            Trade  ...      AUD   \n",
       "2                             999          5            Trade  ...      AUD   \n",
       "3                             999          5            Trade  ...      AUD   \n",
       "4  COM03002                                5            Trade  ...      AUD   \n",
       "\n",
       "  accounting_year accounting_month accounting_day invoice_year invoice_month  \\\n",
       "0            2013                1     2013-01-25         2013             1   \n",
       "1            2013                5     2013-05-13         2013             5   \n",
       "2            2013                6     2013-06-11         2013             6   \n",
       "3            2013                1     2013-01-11         2013             1   \n",
       "4            2013                3     2013-03-21         2013             3   \n",
       "\n",
       "  invoice_day order_year order_month order_day  \n",
       "0          25       2013           1        25  \n",
       "1          13       2013           5        10  \n",
       "2          11       2013           6        11  \n",
       "3          11       2013           1        11  \n",
       "4          21       2013           3        20  \n",
       "\n",
       "[5 rows x 34 columns]"
      ]
     },
     "execution_count": 491,
     "metadata": {},
     "output_type": "execute_result"
    }
   ],
   "source": [
    "data.head()"
   ]
  },
  {
   "cell_type": "code",
   "execution_count": 492,
   "metadata": {},
   "outputs": [
    {
     "data": {
      "text/plain": [
       "array(['AUD', 'AUS', 'NZD', 'USD', ''], dtype=object)"
      ]
     },
     "execution_count": 492,
     "metadata": {},
     "output_type": "execute_result"
    }
   ],
   "source": [
    "data['currency'].unique()"
   ]
  },
  {
   "cell_type": "code",
   "execution_count": 493,
   "metadata": {},
   "outputs": [],
   "source": [
    "# Remove rows with empty values in the 'currency' column\n",
    "data = data[data['currency'].str.strip() != '']\n"
   ]
  },
  {
   "cell_type": "code",
   "execution_count": 494,
   "metadata": {},
   "outputs": [
    {
     "data": {
      "text/plain": [
       "array(['AUD', 'AUS', 'NZD', 'USD'], dtype=object)"
      ]
     },
     "execution_count": 494,
     "metadata": {},
     "output_type": "execute_result"
    }
   ],
   "source": [
    "data['currency'].unique()"
   ]
  },
  {
   "cell_type": "markdown",
   "metadata": {},
   "source": [
    "## Cleaning Process Done"
   ]
  },
  {
   "cell_type": "markdown",
   "metadata": {},
   "source": [
    "## Transformation Step."
   ]
  },
  {
   "cell_type": "markdown",
   "metadata": {},
   "source": [
    "- num_columns_To: value_sales, value_cost.\n",
    "- cat_columns: business_area_code,bonus_group_code,environment_group_code,commission_group_code,reporting_classification,light_source,abc_class_code ,order_type_code,currency"
   ]
  },
  {
   "cell_type": "code",
   "execution_count": 495,
   "metadata": {},
   "outputs": [],
   "source": [
    "cat_col=[col for col in data.columns if data[col].dtype=='O']"
   ]
  },
  {
   "cell_type": "code",
   "execution_count": 496,
   "metadata": {},
   "outputs": [
    {
     "data": {
      "text/html": [
       "<div>\n",
       "<style scoped>\n",
       "    .dataframe tbody tr th:only-of-type {\n",
       "        vertical-align: middle;\n",
       "    }\n",
       "\n",
       "    .dataframe tbody tr th {\n",
       "        vertical-align: top;\n",
       "    }\n",
       "\n",
       "    .dataframe thead th {\n",
       "        text-align: right;\n",
       "    }\n",
       "</style>\n",
       "<table border=\"1\" class=\"dataframe\">\n",
       "  <thead>\n",
       "    <tr style=\"text-align: right;\">\n",
       "      <th></th>\n",
       "      <th>customer_code</th>\n",
       "      <th>item_code</th>\n",
       "      <th>business_area_code</th>\n",
       "      <th>item_group_code</th>\n",
       "      <th>bonus_group_code</th>\n",
       "      <th>environment_group_code</th>\n",
       "      <th>commission_group_code</th>\n",
       "      <th>reporting_classification</th>\n",
       "      <th>light_source</th>\n",
       "      <th>warehouse_code</th>\n",
       "      <th>abc_class_code</th>\n",
       "      <th>abc_class_volume</th>\n",
       "      <th>business_chain_l1_name</th>\n",
       "      <th>salesperson_code</th>\n",
       "      <th>order_type_code</th>\n",
       "      <th>currency</th>\n",
       "      <th>accounting_day</th>\n",
       "    </tr>\n",
       "  </thead>\n",
       "  <tbody>\n",
       "    <tr>\n",
       "      <th>0</th>\n",
       "      <td>471150112</td>\n",
       "      <td>10311</td>\n",
       "      <td>COM</td>\n",
       "      <td>COM90001</td>\n",
       "      <td>Trade</td>\n",
       "      <td>C</td>\n",
       "      <td>NET_SALES</td>\n",
       "      <td>Continuing</td>\n",
       "      <td>Accessories</td>\n",
       "      <td>Unk</td>\n",
       "      <td>U</td>\n",
       "      <td>U</td>\n",
       "      <td>Metro Electrical Distributors</td>\n",
       "      <td>T432</td>\n",
       "      <td>CRR</td>\n",
       "      <td>AUD</td>\n",
       "      <td>2013-01-25</td>\n",
       "    </tr>\n",
       "    <tr>\n",
       "      <th>1</th>\n",
       "      <td>277000801</td>\n",
       "      <td>10311</td>\n",
       "      <td>COM</td>\n",
       "      <td>COM90001</td>\n",
       "      <td>Trade</td>\n",
       "      <td>C</td>\n",
       "      <td>NET_SALES</td>\n",
       "      <td>Continuing</td>\n",
       "      <td>Accessories</td>\n",
       "      <td>5N2</td>\n",
       "      <td>J</td>\n",
       "      <td>J</td>\n",
       "      <td>Aussie Energy Group</td>\n",
       "      <td>P237</td>\n",
       "      <td>NOR</td>\n",
       "      <td>AUD</td>\n",
       "      <td>2013-05-13</td>\n",
       "    </tr>\n",
       "    <tr>\n",
       "      <th>2</th>\n",
       "      <td>292314701</td>\n",
       "      <td>10350</td>\n",
       "      <td>OTH</td>\n",
       "      <td>999</td>\n",
       "      <td>Trade</td>\n",
       "      <td>C</td>\n",
       "      <td>NET_SALES</td>\n",
       "      <td>Continuing</td>\n",
       "      <td>Accessories</td>\n",
       "      <td>Unk</td>\n",
       "      <td>U</td>\n",
       "      <td>U</td>\n",
       "      <td>NextGen Electrical Solutions</td>\n",
       "      <td>T203</td>\n",
       "      <td>NOR</td>\n",
       "      <td>AUD</td>\n",
       "      <td>2013-06-11</td>\n",
       "    </tr>\n",
       "    <tr>\n",
       "      <th>3</th>\n",
       "      <td>299480703</td>\n",
       "      <td>10350</td>\n",
       "      <td>OTH</td>\n",
       "      <td>999</td>\n",
       "      <td>Trade</td>\n",
       "      <td>C</td>\n",
       "      <td>NET_SALES</td>\n",
       "      <td>Continuing</td>\n",
       "      <td>Accessories</td>\n",
       "      <td>Unk</td>\n",
       "      <td>U</td>\n",
       "      <td>U</td>\n",
       "      <td>Metro Electrical Distributors</td>\n",
       "      <td>P248</td>\n",
       "      <td>NOR</td>\n",
       "      <td>AUD</td>\n",
       "      <td>2013-01-11</td>\n",
       "    </tr>\n",
       "    <tr>\n",
       "      <th>4</th>\n",
       "      <td>471150015</td>\n",
       "      <td>10364</td>\n",
       "      <td>COM</td>\n",
       "      <td>COM03002</td>\n",
       "      <td>Trade</td>\n",
       "      <td>C</td>\n",
       "      <td>NET_SALES</td>\n",
       "      <td>Continuing</td>\n",
       "      <td>Accessories</td>\n",
       "      <td>5N2</td>\n",
       "      <td>I</td>\n",
       "      <td>J</td>\n",
       "      <td>Metro Electrical Distributors</td>\n",
       "      <td>T612</td>\n",
       "      <td>NOR</td>\n",
       "      <td>AUD</td>\n",
       "      <td>2013-03-21</td>\n",
       "    </tr>\n",
       "    <tr>\n",
       "      <th>...</th>\n",
       "      <td>...</td>\n",
       "      <td>...</td>\n",
       "      <td>...</td>\n",
       "      <td>...</td>\n",
       "      <td>...</td>\n",
       "      <td>...</td>\n",
       "      <td>...</td>\n",
       "      <td>...</td>\n",
       "      <td>...</td>\n",
       "      <td>...</td>\n",
       "      <td>...</td>\n",
       "      <td>...</td>\n",
       "      <td>...</td>\n",
       "      <td>...</td>\n",
       "      <td>...</td>\n",
       "      <td>...</td>\n",
       "      <td>...</td>\n",
       "    </tr>\n",
       "    <tr>\n",
       "      <th>951172</th>\n",
       "      <td>299480704</td>\n",
       "      <td>TWG114/2005</td>\n",
       "      <td>SUR</td>\n",
       "      <td>SUR04001</td>\n",
       "      <td>Professional</td>\n",
       "      <td>P</td>\n",
       "      <td>NET_SALES</td>\n",
       "      <td>Discontinuing</td>\n",
       "      <td>Traditional</td>\n",
       "      <td>1N1</td>\n",
       "      <td>J</td>\n",
       "      <td>E</td>\n",
       "      <td>Metro Electrical Distributors</td>\n",
       "      <td>P248</td>\n",
       "      <td>PUP</td>\n",
       "      <td>AUD</td>\n",
       "      <td>2013-11-06</td>\n",
       "    </tr>\n",
       "    <tr>\n",
       "      <th>951173</th>\n",
       "      <td>500900630</td>\n",
       "      <td>SCRN236E2F4</td>\n",
       "      <td>TRO</td>\n",
       "      <td>TRO02002</td>\n",
       "      <td>Professional</td>\n",
       "      <td>P</td>\n",
       "      <td>NET_SALES</td>\n",
       "      <td>Discontinuing</td>\n",
       "      <td>Traditional</td>\n",
       "      <td>1N1</td>\n",
       "      <td>J</td>\n",
       "      <td>E</td>\n",
       "      <td>Metro Electrical Distributors</td>\n",
       "      <td>T504</td>\n",
       "      <td>PPO</td>\n",
       "      <td>AUD</td>\n",
       "      <td>2013-07-17</td>\n",
       "    </tr>\n",
       "    <tr>\n",
       "      <th>951174</th>\n",
       "      <td>552800304</td>\n",
       "      <td>DOT92STW</td>\n",
       "      <td>OTH</td>\n",
       "      <td>999</td>\n",
       "      <td>Trade</td>\n",
       "      <td>P</td>\n",
       "      <td>NET_SALES</td>\n",
       "      <td>Continuing</td>\n",
       "      <td>Accessories</td>\n",
       "      <td>Unk</td>\n",
       "      <td>U</td>\n",
       "      <td>U</td>\n",
       "      <td>Nationwide Lighting Group</td>\n",
       "      <td>T504</td>\n",
       "      <td>PPO</td>\n",
       "      <td>AUD</td>\n",
       "      <td>2013-10-21</td>\n",
       "    </tr>\n",
       "    <tr>\n",
       "      <th>951175</th>\n",
       "      <td>565540407</td>\n",
       "      <td>TWG114/2005</td>\n",
       "      <td>SUR</td>\n",
       "      <td>SUR04001</td>\n",
       "      <td>Professional</td>\n",
       "      <td>P</td>\n",
       "      <td>NET_SALES</td>\n",
       "      <td>Discontinuing</td>\n",
       "      <td>Traditional</td>\n",
       "      <td>1S0</td>\n",
       "      <td>C</td>\n",
       "      <td>J</td>\n",
       "      <td>Global Electric Wholesalers</td>\n",
       "      <td>T504</td>\n",
       "      <td>PPO</td>\n",
       "      <td>AUD</td>\n",
       "      <td>2013-11-01</td>\n",
       "    </tr>\n",
       "    <tr>\n",
       "      <th>951176</th>\n",
       "      <td>565540407</td>\n",
       "      <td>TWG114/2005</td>\n",
       "      <td>SUR</td>\n",
       "      <td>SUR04001</td>\n",
       "      <td>Professional</td>\n",
       "      <td>P</td>\n",
       "      <td>NET_SALES</td>\n",
       "      <td>Discontinuing</td>\n",
       "      <td>Traditional</td>\n",
       "      <td>1S0</td>\n",
       "      <td>C</td>\n",
       "      <td>J</td>\n",
       "      <td>Global Electric Wholesalers</td>\n",
       "      <td>T504</td>\n",
       "      <td>PPO</td>\n",
       "      <td>AUD</td>\n",
       "      <td>2013-09-25</td>\n",
       "    </tr>\n",
       "  </tbody>\n",
       "</table>\n",
       "<p>944493 rows × 17 columns</p>\n",
       "</div>"
      ],
      "text/plain": [
       "       customer_code                       item_code business_area_code  \\\n",
       "0          471150112                           10311                COM   \n",
       "1          277000801                           10311                COM   \n",
       "2          292314701                           10350                OTH   \n",
       "3          299480703                           10350                OTH   \n",
       "4          471150015                           10364                COM   \n",
       "...              ...                             ...                ...   \n",
       "951172     299480704  TWG114/2005                                   SUR   \n",
       "951173     500900630  SCRN236E2F4                                   TRO   \n",
       "951174     552800304  DOT92STW                                      OTH   \n",
       "951175     565540407  TWG114/2005                                   SUR   \n",
       "951176     565540407  TWG114/2005                                   SUR   \n",
       "\n",
       "                       item_group_code bonus_group_code  \\\n",
       "0       COM90001                                  Trade   \n",
       "1       COM90001                                  Trade   \n",
       "2                                  999            Trade   \n",
       "3                                  999            Trade   \n",
       "4       COM03002                                  Trade   \n",
       "...                                ...              ...   \n",
       "951172  SUR04001                           Professional   \n",
       "951173  TRO02002                           Professional   \n",
       "951174                             999            Trade   \n",
       "951175  SUR04001                           Professional   \n",
       "951176  SUR04001                           Professional   \n",
       "\n",
       "       environment_group_code commission_group_code reporting_classification  \\\n",
       "0                           C             NET_SALES               Continuing   \n",
       "1                           C             NET_SALES               Continuing   \n",
       "2                           C             NET_SALES               Continuing   \n",
       "3                           C             NET_SALES               Continuing   \n",
       "4                           C             NET_SALES               Continuing   \n",
       "...                       ...                   ...                      ...   \n",
       "951172                      P             NET_SALES            Discontinuing   \n",
       "951173                      P             NET_SALES            Discontinuing   \n",
       "951174                      P             NET_SALES               Continuing   \n",
       "951175                      P             NET_SALES            Discontinuing   \n",
       "951176                      P             NET_SALES            Discontinuing   \n",
       "\n",
       "       light_source warehouse_code abc_class_code abc_class_volume  \\\n",
       "0       Accessories            Unk              U                U   \n",
       "1       Accessories            5N2              J                J   \n",
       "2       Accessories            Unk              U                U   \n",
       "3       Accessories            Unk              U                U   \n",
       "4       Accessories            5N2              I                J   \n",
       "...             ...            ...            ...              ...   \n",
       "951172  Traditional            1N1              J                E   \n",
       "951173  Traditional            1N1              J                E   \n",
       "951174  Accessories            Unk              U                U   \n",
       "951175  Traditional            1S0              C                J   \n",
       "951176  Traditional            1S0              C                J   \n",
       "\n",
       "               business_chain_l1_name salesperson_code order_type_code  \\\n",
       "0       Metro Electrical Distributors             T432             CRR   \n",
       "1                 Aussie Energy Group             P237             NOR   \n",
       "2        NextGen Electrical Solutions             T203             NOR   \n",
       "3       Metro Electrical Distributors             P248             NOR   \n",
       "4       Metro Electrical Distributors             T612             NOR   \n",
       "...                               ...              ...             ...   \n",
       "951172  Metro Electrical Distributors             P248             PUP   \n",
       "951173  Metro Electrical Distributors             T504             PPO   \n",
       "951174      Nationwide Lighting Group             T504             PPO   \n",
       "951175    Global Electric Wholesalers             T504             PPO   \n",
       "951176    Global Electric Wholesalers             T504             PPO   \n",
       "\n",
       "       currency accounting_day  \n",
       "0           AUD     2013-01-25  \n",
       "1           AUD     2013-05-13  \n",
       "2           AUD     2013-06-11  \n",
       "3           AUD     2013-01-11  \n",
       "4           AUD     2013-03-21  \n",
       "...         ...            ...  \n",
       "951172      AUD     2013-11-06  \n",
       "951173      AUD     2013-07-17  \n",
       "951174      AUD     2013-10-21  \n",
       "951175      AUD     2013-11-01  \n",
       "951176      AUD     2013-09-25  \n",
       "\n",
       "[944493 rows x 17 columns]"
      ]
     },
     "execution_count": 496,
     "metadata": {},
     "output_type": "execute_result"
    }
   ],
   "source": [
    "data[cat_col]"
   ]
  },
  {
   "cell_type": "code",
   "execution_count": 497,
   "metadata": {},
   "outputs": [
    {
     "data": {
      "text/plain": [
       "array(['AUD', 'AUS', 'NZD', 'USD'], dtype=object)"
      ]
     },
     "execution_count": 497,
     "metadata": {},
     "output_type": "execute_result"
    }
   ],
   "source": [
    "data['currency'].unique()"
   ]
  },
  {
   "cell_type": "code",
   "execution_count": 498,
   "metadata": {},
   "outputs": [],
   "source": [
    "business_area_code=['COM', 'OTH', 'SUR', 'LMP', 'PEN', 'TRO', 'DLT', 'TAL', 'FLD','URB', 'IAE', 'LCP', 'IAI', 'SAE', 'EXL', 'HLB', 'RWY']\n",
    "bonus_group_code=['Trade', 'Professional']\n",
    "environment_group_code=['C', 'S', 'P', 'R', 'Z', 'I', 'D']\n",
    "commission_group_code=['NET_SALES', 'REBATE_EXEMPT_EOL', 'REBATE_EXEMPT_TP']\n",
    "reporting_classification=['Continuing', 'Discontinuing']\n",
    "light_source=['Accessories', 'Traditional', 'LED']\n",
    "warehouse_code=['Unk', '5N2', '5S0', '5Q0', '5V0', '5W0', '1N0', '1V0', '1Q0',\n",
    "       '1N1', '1S0', '1W0', '1Q1', '1S1', '5T0', '5S1', 'FA1', 'FWE',\n",
    "       'FA2', 'FW2', 'FWA', '5N1', '5Q1', '1T0', '1T1', 'EN0', 'BB1',\n",
    "       '1N2', '1N3']\n",
    "abc_class_code=['U', 'J', 'I', 'E', 'C', 'A', 'D', 'G', 'B', 'F']\n",
    "business_chain_l1_name=['Metro Electrical Distributors', 'Aussie Energy Group',\n",
    "       'NextGen Electrical Solutions',\n",
    "       'Independent Retailers Association', 'Nationwide Lighting Group',\n",
    "       'EndUser Solutions', 'ElectraCorp Ltd', 'ProLighting Specialists',\n",
    "       'BrightPower Solutions', 'General Suppliers Pty',\n",
    "       'InterGlobal Trading', 'Constructor Supplies',\n",
    "       'Builders Supply Network', 'Unified Electrical Suppliers',\n",
    "       'Global Electric Wholesalers', 'Corys Energy Systems',\n",
    "       'Russell & Partners Electric', 'Ideal Electrical Solutions',\n",
    "       'PowerHub Distribution', 'Independent Traders Ltd',\n",
    "       'Stewart Electrical Wholesalers', 'UtilityWorks Group',\n",
    "       'Beacon Lighting Supplies', 'Active Electric Solutions',\n",
    "       'CetraPro Distributors', 'PowerTools Direct', 'MitrePro Suppliers',\n",
    "       'Corporate Builders Consortium', 'Inlite NZ Ltd',\n",
    "       'Russell & Radcliffe Electric', 'DIY Supplies Network',\n",
    "       'Inlite Solutions', 'CraneCo Distribution',\n",
    "       'HeadOffice Electrical Group', 'Electical Vista',\n",
    "       'Corporate HQ Solutions', 'ITM Solutions Group',\n",
    "       'CraneCo Old Branch', 'Independent', 'Export',\n",
    "       'Electrical Active Supply', 'SalesPro Accounts']\n",
    "order_type_code=['CRR', 'NOR', 'CRD', 'PRO', 'CSH', 'PRD', 'PPO', 'EXP', 'PUP',\n",
    "       'CDG', 'EDI', 'ZCR', 'NOS', 'NOH', 'AES', 'CPR', 'ZCG', 'SPC',\n",
    "       'EDS', 'PMO', 'CRP', 'COP', 'PSA', 'SPL', 'MIN', 'COA', '5TN',\n",
    "       'WDC', 'PPD', 'OBS', 'CSO', 'PME']\n",
    "currency=['AUD', 'AUS', 'NZD', 'USD']"
   ]
  },
  {
   "cell_type": "code",
   "execution_count": 499,
   "metadata": {},
   "outputs": [],
   "source": [
    "cat_col=['business_area_code','bonus_group_code','environment_group_code','commission_group_code','reporting_classification','light_source','warehouse_code','abc_class_code','business_chain_l1_name','order_type_code','currency']\n",
    "num_col=['value_sales', 'value_cost']"
   ]
  },
  {
   "cell_type": "code",
   "execution_count": 500,
   "metadata": {},
   "outputs": [],
   "source": [
    "from sklearn.pipeline import Pipeline\n",
    "from sklearn.preprocessing import OrdinalEncoder\n",
    "from sklearn.compose import ColumnTransformer\n",
    "from sklearn.preprocessing import StandardScaler"
   ]
  },
  {
   "cell_type": "code",
   "execution_count": 501,
   "metadata": {},
   "outputs": [],
   "source": [
    "num_pipeline=Pipeline(\n",
    "    steps=[\n",
    "        (\"scaler\", StandardScaler())\n",
    "    ]\n",
    ")\n",
    "cat_pipeline=Pipeline(\n",
    "    steps=[\n",
    "        ('Ordinal', OrdinalEncoder(categories=[business_area_code,bonus_group_code,environment_group_code,commission_group_code,reporting_classification,light_source,warehouse_code,abc_class_code,business_chain_l1_name,order_type_code,currency]\n",
    "))\n",
    "    ]\n",
    ")\n",
    "preprocessor=ColumnTransformer([\n",
    "    (\"num_pipeline\",num_pipeline,num_col),\n",
    "    (\"cat_pipeline\",cat_pipeline,cat_col)\n",
    "])"
   ]
  },
  {
   "cell_type": "code",
   "execution_count": 502,
   "metadata": {},
   "outputs": [
    {
     "data": {
      "text/html": [
       "<style>#sk-container-id-4 {color: black;}#sk-container-id-4 pre{padding: 0;}#sk-container-id-4 div.sk-toggleable {background-color: white;}#sk-container-id-4 label.sk-toggleable__label {cursor: pointer;display: block;width: 100%;margin-bottom: 0;padding: 0.3em;box-sizing: border-box;text-align: center;}#sk-container-id-4 label.sk-toggleable__label-arrow:before {content: \"▸\";float: left;margin-right: 0.25em;color: #696969;}#sk-container-id-4 label.sk-toggleable__label-arrow:hover:before {color: black;}#sk-container-id-4 div.sk-estimator:hover label.sk-toggleable__label-arrow:before {color: black;}#sk-container-id-4 div.sk-toggleable__content {max-height: 0;max-width: 0;overflow: hidden;text-align: left;background-color: #f0f8ff;}#sk-container-id-4 div.sk-toggleable__content pre {margin: 0.2em;color: black;border-radius: 0.25em;background-color: #f0f8ff;}#sk-container-id-4 input.sk-toggleable__control:checked~div.sk-toggleable__content {max-height: 200px;max-width: 100%;overflow: auto;}#sk-container-id-4 input.sk-toggleable__control:checked~label.sk-toggleable__label-arrow:before {content: \"▾\";}#sk-container-id-4 div.sk-estimator input.sk-toggleable__control:checked~label.sk-toggleable__label {background-color: #d4ebff;}#sk-container-id-4 div.sk-label input.sk-toggleable__control:checked~label.sk-toggleable__label {background-color: #d4ebff;}#sk-container-id-4 input.sk-hidden--visually {border: 0;clip: rect(1px 1px 1px 1px);clip: rect(1px, 1px, 1px, 1px);height: 1px;margin: -1px;overflow: hidden;padding: 0;position: absolute;width: 1px;}#sk-container-id-4 div.sk-estimator {font-family: monospace;background-color: #f0f8ff;border: 1px dotted black;border-radius: 0.25em;box-sizing: border-box;margin-bottom: 0.5em;}#sk-container-id-4 div.sk-estimator:hover {background-color: #d4ebff;}#sk-container-id-4 div.sk-parallel-item::after {content: \"\";width: 100%;border-bottom: 1px solid gray;flex-grow: 1;}#sk-container-id-4 div.sk-label:hover label.sk-toggleable__label {background-color: #d4ebff;}#sk-container-id-4 div.sk-serial::before {content: \"\";position: absolute;border-left: 1px solid gray;box-sizing: border-box;top: 0;bottom: 0;left: 50%;z-index: 0;}#sk-container-id-4 div.sk-serial {display: flex;flex-direction: column;align-items: center;background-color: white;padding-right: 0.2em;padding-left: 0.2em;position: relative;}#sk-container-id-4 div.sk-item {position: relative;z-index: 1;}#sk-container-id-4 div.sk-parallel {display: flex;align-items: stretch;justify-content: center;background-color: white;position: relative;}#sk-container-id-4 div.sk-item::before, #sk-container-id-4 div.sk-parallel-item::before {content: \"\";position: absolute;border-left: 1px solid gray;box-sizing: border-box;top: 0;bottom: 0;left: 50%;z-index: -1;}#sk-container-id-4 div.sk-parallel-item {display: flex;flex-direction: column;z-index: 1;position: relative;background-color: white;}#sk-container-id-4 div.sk-parallel-item:first-child::after {align-self: flex-end;width: 50%;}#sk-container-id-4 div.sk-parallel-item:last-child::after {align-self: flex-start;width: 50%;}#sk-container-id-4 div.sk-parallel-item:only-child::after {width: 0;}#sk-container-id-4 div.sk-dashed-wrapped {border: 1px dashed gray;margin: 0 0.4em 0.5em 0.4em;box-sizing: border-box;padding-bottom: 0.4em;background-color: white;}#sk-container-id-4 div.sk-label label {font-family: monospace;font-weight: bold;display: inline-block;line-height: 1.2em;}#sk-container-id-4 div.sk-label-container {text-align: center;}#sk-container-id-4 div.sk-container {/* jupyter's `normalize.less` sets `[hidden] { display: none; }` but bootstrap.min.css set `[hidden] { display: none !important; }` so we also need the `!important` here to be able to override the default hidden behavior on the sphinx rendered scikit-learn.org. See: https://github.com/scikit-learn/scikit-learn/issues/21755 */display: inline-block !important;position: relative;}#sk-container-id-4 div.sk-text-repr-fallback {display: none;}</style><div id=\"sk-container-id-4\" class=\"sk-top-container\"><div class=\"sk-text-repr-fallback\"><pre>ColumnTransformer(transformers=[(&#x27;num_pipeline&#x27;,\n",
       "                                 Pipeline(steps=[(&#x27;scaler&#x27;, StandardScaler())]),\n",
       "                                 [&#x27;value_sales&#x27;, &#x27;value_cost&#x27;]),\n",
       "                                (&#x27;cat_pipeline&#x27;,\n",
       "                                 Pipeline(steps=[(&#x27;Ordinal&#x27;,\n",
       "                                                  OrdinalEncoder(categories=[[&#x27;COM&#x27;,\n",
       "                                                                              &#x27;OTH&#x27;,\n",
       "                                                                              &#x27;SUR&#x27;,\n",
       "                                                                              &#x27;LMP&#x27;,\n",
       "                                                                              &#x27;PEN&#x27;,\n",
       "                                                                              &#x27;TRO&#x27;,\n",
       "                                                                              &#x27;DLT&#x27;,\n",
       "                                                                              &#x27;TAL&#x27;,\n",
       "                                                                              &#x27;FLD&#x27;,\n",
       "                                                                              &#x27;URB&#x27;,\n",
       "                                                                              &#x27;IAE&#x27;,\n",
       "                                                                              &#x27;LCP&#x27;,\n",
       "                                                                              &#x27;IAI&#x27;,\n",
       "                                                                              &#x27;SAE&#x27;,\n",
       "                                                                              &#x27;EXL&#x27;,\n",
       "                                                                              &#x27;HLB&#x27;,\n",
       "                                                                              &#x27;RWY&#x27;],\n",
       "                                                                             [&#x27;Trade&#x27;,\n",
       "                                                                              &#x27;Professional&#x27;],\n",
       "                                                                             [&#x27;C&#x27;,\n",
       "                                                                              &#x27;S&#x27;,\n",
       "                                                                              &#x27;P&#x27;,\n",
       "                                                                              &#x27;R&#x27;,\n",
       "                                                                              &#x27;Z&#x27;,\n",
       "                                                                              &#x27;I&#x27;,\n",
       "                                                                              &#x27;D...\n",
       "                                                                              &#x27;AES&#x27;,\n",
       "                                                                              &#x27;CPR&#x27;,\n",
       "                                                                              &#x27;ZCG&#x27;,\n",
       "                                                                              &#x27;SPC&#x27;,\n",
       "                                                                              &#x27;EDS&#x27;,\n",
       "                                                                              &#x27;PMO&#x27;,\n",
       "                                                                              &#x27;CRP&#x27;,\n",
       "                                                                              &#x27;COP&#x27;,\n",
       "                                                                              &#x27;PSA&#x27;,\n",
       "                                                                              &#x27;SPL&#x27;,\n",
       "                                                                              &#x27;MIN&#x27;,\n",
       "                                                                              &#x27;COA&#x27;,\n",
       "                                                                              &#x27;5TN&#x27;,\n",
       "                                                                              &#x27;WDC&#x27;,\n",
       "                                                                              &#x27;PPD&#x27;,\n",
       "                                                                              &#x27;OBS&#x27;, ...],\n",
       "                                                                             [&#x27;AUD&#x27;,\n",
       "                                                                              &#x27;AUS&#x27;,\n",
       "                                                                              &#x27;NZD&#x27;,\n",
       "                                                                              &#x27;USD&#x27;]]))]),\n",
       "                                 [&#x27;business_area_code&#x27;, &#x27;bonus_group_code&#x27;,\n",
       "                                  &#x27;environment_group_code&#x27;,\n",
       "                                  &#x27;commission_group_code&#x27;,\n",
       "                                  &#x27;reporting_classification&#x27;, &#x27;light_source&#x27;,\n",
       "                                  &#x27;warehouse_code&#x27;, &#x27;abc_class_code&#x27;,\n",
       "                                  &#x27;business_chain_l1_name&#x27;, &#x27;order_type_code&#x27;,\n",
       "                                  &#x27;currency&#x27;])])</pre><b>In a Jupyter environment, please rerun this cell to show the HTML representation or trust the notebook. <br />On GitHub, the HTML representation is unable to render, please try loading this page with nbviewer.org.</b></div><div class=\"sk-container\" hidden><div class=\"sk-item sk-dashed-wrapped\"><div class=\"sk-label-container\"><div class=\"sk-label sk-toggleable\"><input class=\"sk-toggleable__control sk-hidden--visually\" id=\"sk-estimator-id-8\" type=\"checkbox\" ><label for=\"sk-estimator-id-8\" class=\"sk-toggleable__label sk-toggleable__label-arrow\">ColumnTransformer</label><div class=\"sk-toggleable__content\"><pre>ColumnTransformer(transformers=[(&#x27;num_pipeline&#x27;,\n",
       "                                 Pipeline(steps=[(&#x27;scaler&#x27;, StandardScaler())]),\n",
       "                                 [&#x27;value_sales&#x27;, &#x27;value_cost&#x27;]),\n",
       "                                (&#x27;cat_pipeline&#x27;,\n",
       "                                 Pipeline(steps=[(&#x27;Ordinal&#x27;,\n",
       "                                                  OrdinalEncoder(categories=[[&#x27;COM&#x27;,\n",
       "                                                                              &#x27;OTH&#x27;,\n",
       "                                                                              &#x27;SUR&#x27;,\n",
       "                                                                              &#x27;LMP&#x27;,\n",
       "                                                                              &#x27;PEN&#x27;,\n",
       "                                                                              &#x27;TRO&#x27;,\n",
       "                                                                              &#x27;DLT&#x27;,\n",
       "                                                                              &#x27;TAL&#x27;,\n",
       "                                                                              &#x27;FLD&#x27;,\n",
       "                                                                              &#x27;URB&#x27;,\n",
       "                                                                              &#x27;IAE&#x27;,\n",
       "                                                                              &#x27;LCP&#x27;,\n",
       "                                                                              &#x27;IAI&#x27;,\n",
       "                                                                              &#x27;SAE&#x27;,\n",
       "                                                                              &#x27;EXL&#x27;,\n",
       "                                                                              &#x27;HLB&#x27;,\n",
       "                                                                              &#x27;RWY&#x27;],\n",
       "                                                                             [&#x27;Trade&#x27;,\n",
       "                                                                              &#x27;Professional&#x27;],\n",
       "                                                                             [&#x27;C&#x27;,\n",
       "                                                                              &#x27;S&#x27;,\n",
       "                                                                              &#x27;P&#x27;,\n",
       "                                                                              &#x27;R&#x27;,\n",
       "                                                                              &#x27;Z&#x27;,\n",
       "                                                                              &#x27;I&#x27;,\n",
       "                                                                              &#x27;D...\n",
       "                                                                              &#x27;AES&#x27;,\n",
       "                                                                              &#x27;CPR&#x27;,\n",
       "                                                                              &#x27;ZCG&#x27;,\n",
       "                                                                              &#x27;SPC&#x27;,\n",
       "                                                                              &#x27;EDS&#x27;,\n",
       "                                                                              &#x27;PMO&#x27;,\n",
       "                                                                              &#x27;CRP&#x27;,\n",
       "                                                                              &#x27;COP&#x27;,\n",
       "                                                                              &#x27;PSA&#x27;,\n",
       "                                                                              &#x27;SPL&#x27;,\n",
       "                                                                              &#x27;MIN&#x27;,\n",
       "                                                                              &#x27;COA&#x27;,\n",
       "                                                                              &#x27;5TN&#x27;,\n",
       "                                                                              &#x27;WDC&#x27;,\n",
       "                                                                              &#x27;PPD&#x27;,\n",
       "                                                                              &#x27;OBS&#x27;, ...],\n",
       "                                                                             [&#x27;AUD&#x27;,\n",
       "                                                                              &#x27;AUS&#x27;,\n",
       "                                                                              &#x27;NZD&#x27;,\n",
       "                                                                              &#x27;USD&#x27;]]))]),\n",
       "                                 [&#x27;business_area_code&#x27;, &#x27;bonus_group_code&#x27;,\n",
       "                                  &#x27;environment_group_code&#x27;,\n",
       "                                  &#x27;commission_group_code&#x27;,\n",
       "                                  &#x27;reporting_classification&#x27;, &#x27;light_source&#x27;,\n",
       "                                  &#x27;warehouse_code&#x27;, &#x27;abc_class_code&#x27;,\n",
       "                                  &#x27;business_chain_l1_name&#x27;, &#x27;order_type_code&#x27;,\n",
       "                                  &#x27;currency&#x27;])])</pre></div></div></div><div class=\"sk-parallel\"><div class=\"sk-parallel-item\"><div class=\"sk-item\"><div class=\"sk-label-container\"><div class=\"sk-label sk-toggleable\"><input class=\"sk-toggleable__control sk-hidden--visually\" id=\"sk-estimator-id-9\" type=\"checkbox\" ><label for=\"sk-estimator-id-9\" class=\"sk-toggleable__label sk-toggleable__label-arrow\">num_pipeline</label><div class=\"sk-toggleable__content\"><pre>[&#x27;value_sales&#x27;, &#x27;value_cost&#x27;]</pre></div></div></div><div class=\"sk-serial\"><div class=\"sk-item\"><div class=\"sk-serial\"><div class=\"sk-item\"><div class=\"sk-estimator sk-toggleable\"><input class=\"sk-toggleable__control sk-hidden--visually\" id=\"sk-estimator-id-10\" type=\"checkbox\" ><label for=\"sk-estimator-id-10\" class=\"sk-toggleable__label sk-toggleable__label-arrow\">StandardScaler</label><div class=\"sk-toggleable__content\"><pre>StandardScaler()</pre></div></div></div></div></div></div></div></div><div class=\"sk-parallel-item\"><div class=\"sk-item\"><div class=\"sk-label-container\"><div class=\"sk-label sk-toggleable\"><input class=\"sk-toggleable__control sk-hidden--visually\" id=\"sk-estimator-id-11\" type=\"checkbox\" ><label for=\"sk-estimator-id-11\" class=\"sk-toggleable__label sk-toggleable__label-arrow\">cat_pipeline</label><div class=\"sk-toggleable__content\"><pre>[&#x27;business_area_code&#x27;, &#x27;bonus_group_code&#x27;, &#x27;environment_group_code&#x27;, &#x27;commission_group_code&#x27;, &#x27;reporting_classification&#x27;, &#x27;light_source&#x27;, &#x27;warehouse_code&#x27;, &#x27;abc_class_code&#x27;, &#x27;business_chain_l1_name&#x27;, &#x27;order_type_code&#x27;, &#x27;currency&#x27;]</pre></div></div></div><div class=\"sk-serial\"><div class=\"sk-item\"><div class=\"sk-serial\"><div class=\"sk-item\"><div class=\"sk-estimator sk-toggleable\"><input class=\"sk-toggleable__control sk-hidden--visually\" id=\"sk-estimator-id-12\" type=\"checkbox\" ><label for=\"sk-estimator-id-12\" class=\"sk-toggleable__label sk-toggleable__label-arrow\">OrdinalEncoder</label><div class=\"sk-toggleable__content\"><pre>OrdinalEncoder(categories=[[&#x27;COM&#x27;, &#x27;OTH&#x27;, &#x27;SUR&#x27;, &#x27;LMP&#x27;, &#x27;PEN&#x27;, &#x27;TRO&#x27;, &#x27;DLT&#x27;,\n",
       "                            &#x27;TAL&#x27;, &#x27;FLD&#x27;, &#x27;URB&#x27;, &#x27;IAE&#x27;, &#x27;LCP&#x27;, &#x27;IAI&#x27;, &#x27;SAE&#x27;,\n",
       "                            &#x27;EXL&#x27;, &#x27;HLB&#x27;, &#x27;RWY&#x27;],\n",
       "                           [&#x27;Trade&#x27;, &#x27;Professional&#x27;],\n",
       "                           [&#x27;C&#x27;, &#x27;S&#x27;, &#x27;P&#x27;, &#x27;R&#x27;, &#x27;Z&#x27;, &#x27;I&#x27;, &#x27;D&#x27;],\n",
       "                           [&#x27;NET_SALES&#x27;, &#x27;REBATE_EXEMPT_EOL&#x27;,\n",
       "                            &#x27;REBATE_EXEMPT_TP&#x27;],\n",
       "                           [&#x27;Continuing&#x27;, &#x27;Discontinuing&#x27;],\n",
       "                           [&#x27;Accessories&#x27;, &#x27;Traditional&#x27;, &#x27;LED&#x27;],\n",
       "                           [&#x27;Unk&#x27;, &#x27;5N2&#x27;, &#x27;5S0&#x27;, &#x27;5Q0&#x27;, &#x27;5V0&#x27;, &#x27;5W0&#x27;, &#x27;1N0&#x27;,\n",
       "                            &#x27;...\n",
       "                            &#x27;CetraPro Distributors&#x27;, &#x27;PowerTools Direct&#x27;,\n",
       "                            &#x27;MitrePro Suppliers&#x27;,\n",
       "                            &#x27;Corporate Builders Consortium&#x27;, &#x27;Inlite NZ Ltd&#x27;,\n",
       "                            &#x27;Russell &amp; Radcliffe Electric&#x27;, ...],\n",
       "                           [&#x27;CRR&#x27;, &#x27;NOR&#x27;, &#x27;CRD&#x27;, &#x27;PRO&#x27;, &#x27;CSH&#x27;, &#x27;PRD&#x27;, &#x27;PPO&#x27;,\n",
       "                            &#x27;EXP&#x27;, &#x27;PUP&#x27;, &#x27;CDG&#x27;, &#x27;EDI&#x27;, &#x27;ZCR&#x27;, &#x27;NOS&#x27;, &#x27;NOH&#x27;,\n",
       "                            &#x27;AES&#x27;, &#x27;CPR&#x27;, &#x27;ZCG&#x27;, &#x27;SPC&#x27;, &#x27;EDS&#x27;, &#x27;PMO&#x27;, &#x27;CRP&#x27;,\n",
       "                            &#x27;COP&#x27;, &#x27;PSA&#x27;, &#x27;SPL&#x27;, &#x27;MIN&#x27;, &#x27;COA&#x27;, &#x27;5TN&#x27;, &#x27;WDC&#x27;,\n",
       "                            &#x27;PPD&#x27;, &#x27;OBS&#x27;, ...],\n",
       "                           [&#x27;AUD&#x27;, &#x27;AUS&#x27;, &#x27;NZD&#x27;, &#x27;USD&#x27;]])</pre></div></div></div></div></div></div></div></div></div></div></div></div>"
      ],
      "text/plain": [
       "ColumnTransformer(transformers=[('num_pipeline',\n",
       "                                 Pipeline(steps=[('scaler', StandardScaler())]),\n",
       "                                 ['value_sales', 'value_cost']),\n",
       "                                ('cat_pipeline',\n",
       "                                 Pipeline(steps=[('Ordinal',\n",
       "                                                  OrdinalEncoder(categories=[['COM',\n",
       "                                                                              'OTH',\n",
       "                                                                              'SUR',\n",
       "                                                                              'LMP',\n",
       "                                                                              'PEN',\n",
       "                                                                              'TRO',\n",
       "                                                                              'DLT',\n",
       "                                                                              'TAL',\n",
       "                                                                              'FLD',\n",
       "                                                                              'URB',\n",
       "                                                                              'IAE',\n",
       "                                                                              'LCP',\n",
       "                                                                              'IAI',\n",
       "                                                                              'SAE',\n",
       "                                                                              'EXL',\n",
       "                                                                              'HLB',\n",
       "                                                                              'RWY'],\n",
       "                                                                             ['Trade',\n",
       "                                                                              'Professional'],\n",
       "                                                                             ['C',\n",
       "                                                                              'S',\n",
       "                                                                              'P',\n",
       "                                                                              'R',\n",
       "                                                                              'Z',\n",
       "                                                                              'I',\n",
       "                                                                              'D...\n",
       "                                                                              'AES',\n",
       "                                                                              'CPR',\n",
       "                                                                              'ZCG',\n",
       "                                                                              'SPC',\n",
       "                                                                              'EDS',\n",
       "                                                                              'PMO',\n",
       "                                                                              'CRP',\n",
       "                                                                              'COP',\n",
       "                                                                              'PSA',\n",
       "                                                                              'SPL',\n",
       "                                                                              'MIN',\n",
       "                                                                              'COA',\n",
       "                                                                              '5TN',\n",
       "                                                                              'WDC',\n",
       "                                                                              'PPD',\n",
       "                                                                              'OBS', ...],\n",
       "                                                                             ['AUD',\n",
       "                                                                              'AUS',\n",
       "                                                                              'NZD',\n",
       "                                                                              'USD']]))]),\n",
       "                                 ['business_area_code', 'bonus_group_code',\n",
       "                                  'environment_group_code',\n",
       "                                  'commission_group_code',\n",
       "                                  'reporting_classification', 'light_source',\n",
       "                                  'warehouse_code', 'abc_class_code',\n",
       "                                  'business_chain_l1_name', 'order_type_code',\n",
       "                                  'currency'])])"
      ]
     },
     "execution_count": 502,
     "metadata": {},
     "output_type": "execute_result"
    }
   ],
   "source": [
    "preprocessor"
   ]
  },
  {
   "cell_type": "code",
   "execution_count": 503,
   "metadata": {},
   "outputs": [
    {
     "data": {
      "text/html": [
       "<div>\n",
       "<style scoped>\n",
       "    .dataframe tbody tr th:only-of-type {\n",
       "        vertical-align: middle;\n",
       "    }\n",
       "\n",
       "    .dataframe tbody tr th {\n",
       "        vertical-align: top;\n",
       "    }\n",
       "\n",
       "    .dataframe thead th {\n",
       "        text-align: right;\n",
       "    }\n",
       "</style>\n",
       "<table border=\"1\" class=\"dataframe\">\n",
       "  <thead>\n",
       "    <tr style=\"text-align: right;\">\n",
       "      <th></th>\n",
       "      <th>num_pipeline__value_sales</th>\n",
       "      <th>num_pipeline__value_cost</th>\n",
       "      <th>cat_pipeline__business_area_code</th>\n",
       "      <th>cat_pipeline__bonus_group_code</th>\n",
       "      <th>cat_pipeline__environment_group_code</th>\n",
       "      <th>cat_pipeline__commission_group_code</th>\n",
       "      <th>cat_pipeline__reporting_classification</th>\n",
       "      <th>cat_pipeline__light_source</th>\n",
       "      <th>cat_pipeline__warehouse_code</th>\n",
       "      <th>cat_pipeline__abc_class_code</th>\n",
       "      <th>cat_pipeline__business_chain_l1_name</th>\n",
       "      <th>cat_pipeline__order_type_code</th>\n",
       "      <th>cat_pipeline__currency</th>\n",
       "    </tr>\n",
       "  </thead>\n",
       "  <tbody>\n",
       "    <tr>\n",
       "      <th>0</th>\n",
       "      <td>-0.134276</td>\n",
       "      <td>-0.119545</td>\n",
       "      <td>0.0</td>\n",
       "      <td>0.0</td>\n",
       "      <td>0.0</td>\n",
       "      <td>0.0</td>\n",
       "      <td>0.0</td>\n",
       "      <td>0.0</td>\n",
       "      <td>0.0</td>\n",
       "      <td>0.0</td>\n",
       "      <td>0.0</td>\n",
       "      <td>0.0</td>\n",
       "      <td>0.0</td>\n",
       "    </tr>\n",
       "    <tr>\n",
       "      <th>1</th>\n",
       "      <td>-0.132769</td>\n",
       "      <td>-0.118448</td>\n",
       "      <td>0.0</td>\n",
       "      <td>0.0</td>\n",
       "      <td>0.0</td>\n",
       "      <td>0.0</td>\n",
       "      <td>0.0</td>\n",
       "      <td>0.0</td>\n",
       "      <td>1.0</td>\n",
       "      <td>1.0</td>\n",
       "      <td>1.0</td>\n",
       "      <td>1.0</td>\n",
       "      <td>0.0</td>\n",
       "    </tr>\n",
       "    <tr>\n",
       "      <th>2</th>\n",
       "      <td>-0.116475</td>\n",
       "      <td>-0.109082</td>\n",
       "      <td>1.0</td>\n",
       "      <td>0.0</td>\n",
       "      <td>0.0</td>\n",
       "      <td>0.0</td>\n",
       "      <td>0.0</td>\n",
       "      <td>0.0</td>\n",
       "      <td>0.0</td>\n",
       "      <td>0.0</td>\n",
       "      <td>2.0</td>\n",
       "      <td>1.0</td>\n",
       "      <td>0.0</td>\n",
       "    </tr>\n",
       "    <tr>\n",
       "      <th>3</th>\n",
       "      <td>-0.125594</td>\n",
       "      <td>-0.114039</td>\n",
       "      <td>1.0</td>\n",
       "      <td>0.0</td>\n",
       "      <td>0.0</td>\n",
       "      <td>0.0</td>\n",
       "      <td>0.0</td>\n",
       "      <td>0.0</td>\n",
       "      <td>0.0</td>\n",
       "      <td>0.0</td>\n",
       "      <td>0.0</td>\n",
       "      <td>1.0</td>\n",
       "      <td>0.0</td>\n",
       "    </tr>\n",
       "    <tr>\n",
       "      <th>4</th>\n",
       "      <td>-0.119163</td>\n",
       "      <td>-0.106851</td>\n",
       "      <td>0.0</td>\n",
       "      <td>0.0</td>\n",
       "      <td>0.0</td>\n",
       "      <td>0.0</td>\n",
       "      <td>0.0</td>\n",
       "      <td>0.0</td>\n",
       "      <td>1.0</td>\n",
       "      <td>2.0</td>\n",
       "      <td>0.0</td>\n",
       "      <td>1.0</td>\n",
       "      <td>0.0</td>\n",
       "    </tr>\n",
       "  </tbody>\n",
       "</table>\n",
       "</div>"
      ],
      "text/plain": [
       "   num_pipeline__value_sales  num_pipeline__value_cost  \\\n",
       "0                  -0.134276                 -0.119545   \n",
       "1                  -0.132769                 -0.118448   \n",
       "2                  -0.116475                 -0.109082   \n",
       "3                  -0.125594                 -0.114039   \n",
       "4                  -0.119163                 -0.106851   \n",
       "\n",
       "   cat_pipeline__business_area_code  cat_pipeline__bonus_group_code  \\\n",
       "0                               0.0                             0.0   \n",
       "1                               0.0                             0.0   \n",
       "2                               1.0                             0.0   \n",
       "3                               1.0                             0.0   \n",
       "4                               0.0                             0.0   \n",
       "\n",
       "   cat_pipeline__environment_group_code  cat_pipeline__commission_group_code  \\\n",
       "0                                   0.0                                  0.0   \n",
       "1                                   0.0                                  0.0   \n",
       "2                                   0.0                                  0.0   \n",
       "3                                   0.0                                  0.0   \n",
       "4                                   0.0                                  0.0   \n",
       "\n",
       "   cat_pipeline__reporting_classification  cat_pipeline__light_source  \\\n",
       "0                                     0.0                         0.0   \n",
       "1                                     0.0                         0.0   \n",
       "2                                     0.0                         0.0   \n",
       "3                                     0.0                         0.0   \n",
       "4                                     0.0                         0.0   \n",
       "\n",
       "   cat_pipeline__warehouse_code  cat_pipeline__abc_class_code  \\\n",
       "0                           0.0                           0.0   \n",
       "1                           1.0                           1.0   \n",
       "2                           0.0                           0.0   \n",
       "3                           0.0                           0.0   \n",
       "4                           1.0                           2.0   \n",
       "\n",
       "   cat_pipeline__business_chain_l1_name  cat_pipeline__order_type_code  \\\n",
       "0                                   0.0                            0.0   \n",
       "1                                   1.0                            1.0   \n",
       "2                                   2.0                            1.0   \n",
       "3                                   0.0                            1.0   \n",
       "4                                   0.0                            1.0   \n",
       "\n",
       "   cat_pipeline__currency  \n",
       "0                     0.0  \n",
       "1                     0.0  \n",
       "2                     0.0  \n",
       "3                     0.0  \n",
       "4                     0.0  "
      ]
     },
     "execution_count": 503,
     "metadata": {},
     "output_type": "execute_result"
    }
   ],
   "source": [
    "scaled_data=pd.DataFrame(preprocessor.fit_transform(data), columns=preprocessor.get_feature_names_out())\n",
    "scaled_data.head()"
   ]
  },
  {
   "cell_type": "code",
   "execution_count": 504,
   "metadata": {},
   "outputs": [
    {
     "data": {
      "text/plain": [
       "cat_pipeline__business_chain_l1_name\n",
       "0.0     208300\n",
       "12.0    121504\n",
       "2.0      85235\n",
       "8.0      83691\n",
       "3.0      73886\n",
       "6.0      49627\n",
       "10.0     43063\n",
       "4.0      41483\n",
       "7.0      38173\n",
       "1.0      33669\n",
       "9.0      29332\n",
       "5.0      23460\n",
       "13.0     21960\n",
       "26.0     15262\n",
       "30.0     13975\n",
       "14.0     11984\n",
       "16.0     10107\n",
       "19.0      9140\n",
       "21.0      4661\n",
       "25.0      4065\n",
       "18.0      3376\n",
       "15.0      2862\n",
       "27.0      2452\n",
       "17.0      2396\n",
       "11.0      2380\n",
       "22.0      2373\n",
       "20.0      1579\n",
       "28.0      1354\n",
       "23.0      1137\n",
       "31.0       759\n",
       "33.0       410\n",
       "36.0       229\n",
       "39.0       185\n",
       "29.0       183\n",
       "32.0        99\n",
       "24.0        80\n",
       "35.0        22\n",
       "34.0        22\n",
       "41.0        12\n",
       "37.0         2\n",
       "38.0         2\n",
       "40.0         2\n",
       "Name: count, dtype: int64"
      ]
     },
     "execution_count": 504,
     "metadata": {},
     "output_type": "execute_result"
    }
   ],
   "source": [
    "scaled_data['cat_pipeline__business_chain_l1_name'].value_counts()"
   ]
  },
  {
   "cell_type": "code",
   "execution_count": 505,
   "metadata": {},
   "outputs": [
    {
     "data": {
      "text/plain": [
       "cat_pipeline__currency\n",
       "0.0    754460\n",
       "1.0    123977\n",
       "2.0     65683\n",
       "3.0       373\n",
       "Name: count, dtype: int64"
      ]
     },
     "execution_count": 505,
     "metadata": {},
     "output_type": "execute_result"
    }
   ],
   "source": [
    "scaled_data['cat_pipeline__currency'].value_counts()"
   ]
  },
  {
   "cell_type": "code",
   "execution_count": 120,
   "metadata": {},
   "outputs": [],
   "source": []
  },
  {
   "cell_type": "code",
   "execution_count": 506,
   "metadata": {},
   "outputs": [],
   "source": [
    "# data2.to_csv('to_test.csv', index=False)"
   ]
  },
  {
   "cell_type": "code",
   "execution_count": 507,
   "metadata": {},
   "outputs": [
    {
     "data": {
      "text/html": [
       "<div>\n",
       "<style scoped>\n",
       "    .dataframe tbody tr th:only-of-type {\n",
       "        vertical-align: middle;\n",
       "    }\n",
       "\n",
       "    .dataframe tbody tr th {\n",
       "        vertical-align: top;\n",
       "    }\n",
       "\n",
       "    .dataframe thead th {\n",
       "        text-align: right;\n",
       "    }\n",
       "</style>\n",
       "<table border=\"1\" class=\"dataframe\">\n",
       "  <thead>\n",
       "    <tr style=\"text-align: right;\">\n",
       "      <th></th>\n",
       "      <th>fiscal_year</th>\n",
       "      <th>fiscal_month</th>\n",
       "      <th>company_code</th>\n",
       "      <th>customer_code</th>\n",
       "      <th>customer_district_code</th>\n",
       "      <th>item_code</th>\n",
       "      <th>business_area_code</th>\n",
       "      <th>item_type</th>\n",
       "      <th>bonus_group_code</th>\n",
       "      <th>environment_group_code</th>\n",
       "      <th>...</th>\n",
       "      <th>currency</th>\n",
       "      <th>accounting_year</th>\n",
       "      <th>accounting_month</th>\n",
       "      <th>accounting_day</th>\n",
       "      <th>invoice_year</th>\n",
       "      <th>invoice_month</th>\n",
       "      <th>invoice_day</th>\n",
       "      <th>order_year</th>\n",
       "      <th>order_month</th>\n",
       "      <th>order_day</th>\n",
       "    </tr>\n",
       "  </thead>\n",
       "  <tbody>\n",
       "    <tr>\n",
       "      <th>0</th>\n",
       "      <td>2013</td>\n",
       "      <td>7</td>\n",
       "      <td>205</td>\n",
       "      <td>471150112</td>\n",
       "      <td>400</td>\n",
       "      <td>10311</td>\n",
       "      <td>COM</td>\n",
       "      <td>5</td>\n",
       "      <td>Trade</td>\n",
       "      <td>C</td>\n",
       "      <td>...</td>\n",
       "      <td>AUD</td>\n",
       "      <td>2013</td>\n",
       "      <td>1</td>\n",
       "      <td>2013-01-25</td>\n",
       "      <td>2013</td>\n",
       "      <td>1</td>\n",
       "      <td>25</td>\n",
       "      <td>2013</td>\n",
       "      <td>1</td>\n",
       "      <td>25</td>\n",
       "    </tr>\n",
       "    <tr>\n",
       "      <th>1</th>\n",
       "      <td>2013</td>\n",
       "      <td>11</td>\n",
       "      <td>205</td>\n",
       "      <td>277000801</td>\n",
       "      <td>200</td>\n",
       "      <td>10311</td>\n",
       "      <td>COM</td>\n",
       "      <td>5</td>\n",
       "      <td>Trade</td>\n",
       "      <td>C</td>\n",
       "      <td>...</td>\n",
       "      <td>AUD</td>\n",
       "      <td>2013</td>\n",
       "      <td>5</td>\n",
       "      <td>2013-05-13</td>\n",
       "      <td>2013</td>\n",
       "      <td>5</td>\n",
       "      <td>13</td>\n",
       "      <td>2013</td>\n",
       "      <td>5</td>\n",
       "      <td>10</td>\n",
       "    </tr>\n",
       "    <tr>\n",
       "      <th>2</th>\n",
       "      <td>2013</td>\n",
       "      <td>12</td>\n",
       "      <td>205</td>\n",
       "      <td>292314701</td>\n",
       "      <td>200</td>\n",
       "      <td>10350</td>\n",
       "      <td>OTH</td>\n",
       "      <td>5</td>\n",
       "      <td>Trade</td>\n",
       "      <td>C</td>\n",
       "      <td>...</td>\n",
       "      <td>AUD</td>\n",
       "      <td>2013</td>\n",
       "      <td>6</td>\n",
       "      <td>2013-06-11</td>\n",
       "      <td>2013</td>\n",
       "      <td>6</td>\n",
       "      <td>11</td>\n",
       "      <td>2013</td>\n",
       "      <td>6</td>\n",
       "      <td>11</td>\n",
       "    </tr>\n",
       "    <tr>\n",
       "      <th>3</th>\n",
       "      <td>2013</td>\n",
       "      <td>7</td>\n",
       "      <td>205</td>\n",
       "      <td>299480703</td>\n",
       "      <td>200</td>\n",
       "      <td>10350</td>\n",
       "      <td>OTH</td>\n",
       "      <td>5</td>\n",
       "      <td>Trade</td>\n",
       "      <td>C</td>\n",
       "      <td>...</td>\n",
       "      <td>AUD</td>\n",
       "      <td>2013</td>\n",
       "      <td>1</td>\n",
       "      <td>2013-01-11</td>\n",
       "      <td>2013</td>\n",
       "      <td>1</td>\n",
       "      <td>11</td>\n",
       "      <td>2013</td>\n",
       "      <td>1</td>\n",
       "      <td>11</td>\n",
       "    </tr>\n",
       "    <tr>\n",
       "      <th>4</th>\n",
       "      <td>2013</td>\n",
       "      <td>9</td>\n",
       "      <td>205</td>\n",
       "      <td>471150015</td>\n",
       "      <td>400</td>\n",
       "      <td>10364</td>\n",
       "      <td>COM</td>\n",
       "      <td>5</td>\n",
       "      <td>Trade</td>\n",
       "      <td>C</td>\n",
       "      <td>...</td>\n",
       "      <td>AUD</td>\n",
       "      <td>2013</td>\n",
       "      <td>3</td>\n",
       "      <td>2013-03-21</td>\n",
       "      <td>2013</td>\n",
       "      <td>3</td>\n",
       "      <td>21</td>\n",
       "      <td>2013</td>\n",
       "      <td>3</td>\n",
       "      <td>20</td>\n",
       "    </tr>\n",
       "  </tbody>\n",
       "</table>\n",
       "<p>5 rows × 32 columns</p>\n",
       "</div>"
      ],
      "text/plain": [
       "   fiscal_year  fiscal_month  company_code  customer_code  \\\n",
       "0         2013             7           205      471150112   \n",
       "1         2013            11           205      277000801   \n",
       "2         2013            12           205      292314701   \n",
       "3         2013             7           205      299480703   \n",
       "4         2013             9           205      471150015   \n",
       "\n",
       "   customer_district_code item_code business_area_code  item_type  \\\n",
       "0                     400     10311                COM          5   \n",
       "1                     200     10311                COM          5   \n",
       "2                     200     10350                OTH          5   \n",
       "3                     200     10350                OTH          5   \n",
       "4                     400     10364                COM          5   \n",
       "\n",
       "  bonus_group_code environment_group_code  ... currency accounting_year  \\\n",
       "0            Trade                      C  ...      AUD            2013   \n",
       "1            Trade                      C  ...      AUD            2013   \n",
       "2            Trade                      C  ...      AUD            2013   \n",
       "3            Trade                      C  ...      AUD            2013   \n",
       "4            Trade                      C  ...      AUD            2013   \n",
       "\n",
       "  accounting_month accounting_day invoice_year invoice_month invoice_day  \\\n",
       "0                1     2013-01-25         2013             1          25   \n",
       "1                5     2013-05-13         2013             5          13   \n",
       "2                6     2013-06-11         2013             6          11   \n",
       "3                1     2013-01-11         2013             1          11   \n",
       "4                3     2013-03-21         2013             3          21   \n",
       "\n",
       "  order_year  order_month  order_day  \n",
       "0       2013            1         25  \n",
       "1       2013            5         10  \n",
       "2       2013            6         11  \n",
       "3       2013            1         11  \n",
       "4       2013            3         20  \n",
       "\n",
       "[5 rows x 32 columns]"
      ]
     },
     "execution_count": 507,
     "metadata": {},
     "output_type": "execute_result"
    }
   ],
   "source": [
    "import pandas as pd\n",
    "data2=pd.read_csv('to_test.csv')\n",
    "data2.head()"
   ]
  },
  {
   "cell_type": "code",
   "execution_count": 508,
   "metadata": {},
   "outputs": [
    {
     "data": {
      "text/plain": [
       "fiscal_year\n",
       "2013    474237\n",
       "2014    470256\n",
       "Name: count, dtype: int64"
      ]
     },
     "execution_count": 508,
     "metadata": {},
     "output_type": "execute_result"
    }
   ],
   "source": [
    "data['fiscal_year'].value_counts()"
   ]
  },
  {
   "cell_type": "code",
   "execution_count": 509,
   "metadata": {},
   "outputs": [
    {
     "data": {
      "text/plain": [
       "dtype('int64')"
      ]
     },
     "execution_count": 509,
     "metadata": {},
     "output_type": "execute_result"
    }
   ],
   "source": [
    "data['fiscal_year'].dtype"
   ]
  },
  {
   "cell_type": "code",
   "execution_count": 510,
   "metadata": {},
   "outputs": [],
   "source": [
    "data_2013=data[data['fiscal_year']==2013]"
   ]
  },
  {
   "cell_type": "code",
   "execution_count": 511,
   "metadata": {},
   "outputs": [
    {
     "data": {
      "text/plain": [
       "(474237, 34)"
      ]
     },
     "execution_count": 511,
     "metadata": {},
     "output_type": "execute_result"
    }
   ],
   "source": [
    "data_2013.shape"
   ]
  },
  {
   "cell_type": "code",
   "execution_count": 512,
   "metadata": {},
   "outputs": [],
   "source": [
    "data_2013.to_csv('2013_data.csv', index=False)"
   ]
  },
  {
   "cell_type": "code",
   "execution_count": 513,
   "metadata": {},
   "outputs": [],
   "source": [
    "data_2013=data_2013.head(200)"
   ]
  },
  {
   "cell_type": "code",
   "execution_count": 514,
   "metadata": {},
   "outputs": [
    {
     "data": {
      "text/html": [
       "<div>\n",
       "<style scoped>\n",
       "    .dataframe tbody tr th:only-of-type {\n",
       "        vertical-align: middle;\n",
       "    }\n",
       "\n",
       "    .dataframe tbody tr th {\n",
       "        vertical-align: top;\n",
       "    }\n",
       "\n",
       "    .dataframe thead th {\n",
       "        text-align: right;\n",
       "    }\n",
       "</style>\n",
       "<table border=\"1\" class=\"dataframe\">\n",
       "  <thead>\n",
       "    <tr style=\"text-align: right;\">\n",
       "      <th></th>\n",
       "      <th>fiscal_year</th>\n",
       "      <th>fiscal_month</th>\n",
       "      <th>company_code</th>\n",
       "      <th>customer_code</th>\n",
       "      <th>customer_district_code</th>\n",
       "      <th>item_code</th>\n",
       "      <th>business_area_code</th>\n",
       "      <th>item_group_code</th>\n",
       "      <th>item_type</th>\n",
       "      <th>bonus_group_code</th>\n",
       "      <th>...</th>\n",
       "      <th>currency</th>\n",
       "      <th>accounting_year</th>\n",
       "      <th>accounting_month</th>\n",
       "      <th>accounting_day</th>\n",
       "      <th>invoice_year</th>\n",
       "      <th>invoice_month</th>\n",
       "      <th>invoice_day</th>\n",
       "      <th>order_year</th>\n",
       "      <th>order_month</th>\n",
       "      <th>order_day</th>\n",
       "    </tr>\n",
       "  </thead>\n",
       "  <tbody>\n",
       "    <tr>\n",
       "      <th>0</th>\n",
       "      <td>2013</td>\n",
       "      <td>7</td>\n",
       "      <td>205</td>\n",
       "      <td>471150112</td>\n",
       "      <td>400</td>\n",
       "      <td>10311</td>\n",
       "      <td>COM</td>\n",
       "      <td>COM90001</td>\n",
       "      <td>5</td>\n",
       "      <td>Trade</td>\n",
       "      <td>...</td>\n",
       "      <td>AUD</td>\n",
       "      <td>2013</td>\n",
       "      <td>1</td>\n",
       "      <td>2013-01-25</td>\n",
       "      <td>2013</td>\n",
       "      <td>1</td>\n",
       "      <td>25</td>\n",
       "      <td>2013</td>\n",
       "      <td>1</td>\n",
       "      <td>25</td>\n",
       "    </tr>\n",
       "    <tr>\n",
       "      <th>1</th>\n",
       "      <td>2013</td>\n",
       "      <td>11</td>\n",
       "      <td>205</td>\n",
       "      <td>277000801</td>\n",
       "      <td>200</td>\n",
       "      <td>10311</td>\n",
       "      <td>COM</td>\n",
       "      <td>COM90001</td>\n",
       "      <td>5</td>\n",
       "      <td>Trade</td>\n",
       "      <td>...</td>\n",
       "      <td>AUD</td>\n",
       "      <td>2013</td>\n",
       "      <td>5</td>\n",
       "      <td>2013-05-13</td>\n",
       "      <td>2013</td>\n",
       "      <td>5</td>\n",
       "      <td>13</td>\n",
       "      <td>2013</td>\n",
       "      <td>5</td>\n",
       "      <td>10</td>\n",
       "    </tr>\n",
       "    <tr>\n",
       "      <th>2</th>\n",
       "      <td>2013</td>\n",
       "      <td>12</td>\n",
       "      <td>205</td>\n",
       "      <td>292314701</td>\n",
       "      <td>200</td>\n",
       "      <td>10350</td>\n",
       "      <td>OTH</td>\n",
       "      <td>999</td>\n",
       "      <td>5</td>\n",
       "      <td>Trade</td>\n",
       "      <td>...</td>\n",
       "      <td>AUD</td>\n",
       "      <td>2013</td>\n",
       "      <td>6</td>\n",
       "      <td>2013-06-11</td>\n",
       "      <td>2013</td>\n",
       "      <td>6</td>\n",
       "      <td>11</td>\n",
       "      <td>2013</td>\n",
       "      <td>6</td>\n",
       "      <td>11</td>\n",
       "    </tr>\n",
       "    <tr>\n",
       "      <th>3</th>\n",
       "      <td>2013</td>\n",
       "      <td>7</td>\n",
       "      <td>205</td>\n",
       "      <td>299480703</td>\n",
       "      <td>200</td>\n",
       "      <td>10350</td>\n",
       "      <td>OTH</td>\n",
       "      <td>999</td>\n",
       "      <td>5</td>\n",
       "      <td>Trade</td>\n",
       "      <td>...</td>\n",
       "      <td>AUD</td>\n",
       "      <td>2013</td>\n",
       "      <td>1</td>\n",
       "      <td>2013-01-11</td>\n",
       "      <td>2013</td>\n",
       "      <td>1</td>\n",
       "      <td>11</td>\n",
       "      <td>2013</td>\n",
       "      <td>1</td>\n",
       "      <td>11</td>\n",
       "    </tr>\n",
       "    <tr>\n",
       "      <th>4</th>\n",
       "      <td>2013</td>\n",
       "      <td>9</td>\n",
       "      <td>205</td>\n",
       "      <td>471150015</td>\n",
       "      <td>400</td>\n",
       "      <td>10364</td>\n",
       "      <td>COM</td>\n",
       "      <td>COM03002</td>\n",
       "      <td>5</td>\n",
       "      <td>Trade</td>\n",
       "      <td>...</td>\n",
       "      <td>AUD</td>\n",
       "      <td>2013</td>\n",
       "      <td>3</td>\n",
       "      <td>2013-03-21</td>\n",
       "      <td>2013</td>\n",
       "      <td>3</td>\n",
       "      <td>21</td>\n",
       "      <td>2013</td>\n",
       "      <td>3</td>\n",
       "      <td>20</td>\n",
       "    </tr>\n",
       "    <tr>\n",
       "      <th>...</th>\n",
       "      <td>...</td>\n",
       "      <td>...</td>\n",
       "      <td>...</td>\n",
       "      <td>...</td>\n",
       "      <td>...</td>\n",
       "      <td>...</td>\n",
       "      <td>...</td>\n",
       "      <td>...</td>\n",
       "      <td>...</td>\n",
       "      <td>...</td>\n",
       "      <td>...</td>\n",
       "      <td>...</td>\n",
       "      <td>...</td>\n",
       "      <td>...</td>\n",
       "      <td>...</td>\n",
       "      <td>...</td>\n",
       "      <td>...</td>\n",
       "      <td>...</td>\n",
       "      <td>...</td>\n",
       "      <td>...</td>\n",
       "      <td>...</td>\n",
       "    </tr>\n",
       "    <tr>\n",
       "      <th>196</th>\n",
       "      <td>2013</td>\n",
       "      <td>10</td>\n",
       "      <td>205</td>\n",
       "      <td>220400400</td>\n",
       "      <td>200</td>\n",
       "      <td>10056</td>\n",
       "      <td>LMP</td>\n",
       "      <td>LMP05017</td>\n",
       "      <td>7</td>\n",
       "      <td>Trade</td>\n",
       "      <td>...</td>\n",
       "      <td>AUD</td>\n",
       "      <td>2013</td>\n",
       "      <td>4</td>\n",
       "      <td>2013-04-08</td>\n",
       "      <td>2013</td>\n",
       "      <td>4</td>\n",
       "      <td>8</td>\n",
       "      <td>2013</td>\n",
       "      <td>4</td>\n",
       "      <td>5</td>\n",
       "    </tr>\n",
       "    <tr>\n",
       "      <th>197</th>\n",
       "      <td>2013</td>\n",
       "      <td>7</td>\n",
       "      <td>205</td>\n",
       "      <td>204200200</td>\n",
       "      <td>200</td>\n",
       "      <td>10056</td>\n",
       "      <td>LMP</td>\n",
       "      <td>LMP05017</td>\n",
       "      <td>7</td>\n",
       "      <td>Trade</td>\n",
       "      <td>...</td>\n",
       "      <td>AUD</td>\n",
       "      <td>2013</td>\n",
       "      <td>1</td>\n",
       "      <td>2013-01-16</td>\n",
       "      <td>2013</td>\n",
       "      <td>1</td>\n",
       "      <td>16</td>\n",
       "      <td>2013</td>\n",
       "      <td>1</td>\n",
       "      <td>15</td>\n",
       "    </tr>\n",
       "    <tr>\n",
       "      <th>198</th>\n",
       "      <td>2013</td>\n",
       "      <td>7</td>\n",
       "      <td>205</td>\n",
       "      <td>245000200</td>\n",
       "      <td>200</td>\n",
       "      <td>10028</td>\n",
       "      <td>LMP</td>\n",
       "      <td>LMP05002</td>\n",
       "      <td>7</td>\n",
       "      <td>Trade</td>\n",
       "      <td>...</td>\n",
       "      <td>AUD</td>\n",
       "      <td>2013</td>\n",
       "      <td>1</td>\n",
       "      <td>2013-01-03</td>\n",
       "      <td>2013</td>\n",
       "      <td>1</td>\n",
       "      <td>3</td>\n",
       "      <td>2013</td>\n",
       "      <td>1</td>\n",
       "      <td>3</td>\n",
       "    </tr>\n",
       "    <tr>\n",
       "      <th>199</th>\n",
       "      <td>2013</td>\n",
       "      <td>10</td>\n",
       "      <td>205</td>\n",
       "      <td>244400100</td>\n",
       "      <td>200</td>\n",
       "      <td>10028</td>\n",
       "      <td>LMP</td>\n",
       "      <td>LMP05002</td>\n",
       "      <td>7</td>\n",
       "      <td>Trade</td>\n",
       "      <td>...</td>\n",
       "      <td>AUD</td>\n",
       "      <td>2013</td>\n",
       "      <td>4</td>\n",
       "      <td>2013-04-17</td>\n",
       "      <td>2013</td>\n",
       "      <td>4</td>\n",
       "      <td>17</td>\n",
       "      <td>2013</td>\n",
       "      <td>4</td>\n",
       "      <td>16</td>\n",
       "    </tr>\n",
       "    <tr>\n",
       "      <th>200</th>\n",
       "      <td>2013</td>\n",
       "      <td>11</td>\n",
       "      <td>205</td>\n",
       "      <td>465000100</td>\n",
       "      <td>400</td>\n",
       "      <td>10028</td>\n",
       "      <td>LMP</td>\n",
       "      <td>LMP05002</td>\n",
       "      <td>7</td>\n",
       "      <td>Trade</td>\n",
       "      <td>...</td>\n",
       "      <td>AUD</td>\n",
       "      <td>2013</td>\n",
       "      <td>5</td>\n",
       "      <td>2013-05-21</td>\n",
       "      <td>2013</td>\n",
       "      <td>5</td>\n",
       "      <td>21</td>\n",
       "      <td>2013</td>\n",
       "      <td>5</td>\n",
       "      <td>20</td>\n",
       "    </tr>\n",
       "  </tbody>\n",
       "</table>\n",
       "<p>200 rows × 34 columns</p>\n",
       "</div>"
      ],
      "text/plain": [
       "     fiscal_year  fiscal_month  company_code customer_code  \\\n",
       "0           2013             7           205     471150112   \n",
       "1           2013            11           205     277000801   \n",
       "2           2013            12           205     292314701   \n",
       "3           2013             7           205     299480703   \n",
       "4           2013             9           205     471150015   \n",
       "..           ...           ...           ...           ...   \n",
       "196         2013            10           205     220400400   \n",
       "197         2013             7           205     204200200   \n",
       "198         2013             7           205     245000200   \n",
       "199         2013            10           205     244400100   \n",
       "200         2013            11           205     465000100   \n",
       "\n",
       "     customer_district_code item_code business_area_code  \\\n",
       "0                       400     10311                COM   \n",
       "1                       200     10311                COM   \n",
       "2                       200     10350                OTH   \n",
       "3                       200     10350                OTH   \n",
       "4                       400     10364                COM   \n",
       "..                      ...       ...                ...   \n",
       "196                     200     10056                LMP   \n",
       "197                     200     10056                LMP   \n",
       "198                     200     10028                LMP   \n",
       "199                     200     10028                LMP   \n",
       "200                     400     10028                LMP   \n",
       "\n",
       "                    item_group_code  item_type bonus_group_code  ... currency  \\\n",
       "0    COM90001                                5            Trade  ...      AUD   \n",
       "1    COM90001                                5            Trade  ...      AUD   \n",
       "2                               999          5            Trade  ...      AUD   \n",
       "3                               999          5            Trade  ...      AUD   \n",
       "4    COM03002                                5            Trade  ...      AUD   \n",
       "..                              ...        ...              ...  ...      ...   \n",
       "196  LMP05017                                7            Trade  ...      AUD   \n",
       "197  LMP05017                                7            Trade  ...      AUD   \n",
       "198  LMP05002                                7            Trade  ...      AUD   \n",
       "199  LMP05002                                7            Trade  ...      AUD   \n",
       "200  LMP05002                                7            Trade  ...      AUD   \n",
       "\n",
       "    accounting_year accounting_month accounting_day invoice_year  \\\n",
       "0              2013                1     2013-01-25         2013   \n",
       "1              2013                5     2013-05-13         2013   \n",
       "2              2013                6     2013-06-11         2013   \n",
       "3              2013                1     2013-01-11         2013   \n",
       "4              2013                3     2013-03-21         2013   \n",
       "..              ...              ...            ...          ...   \n",
       "196            2013                4     2013-04-08         2013   \n",
       "197            2013                1     2013-01-16         2013   \n",
       "198            2013                1     2013-01-03         2013   \n",
       "199            2013                4     2013-04-17         2013   \n",
       "200            2013                5     2013-05-21         2013   \n",
       "\n",
       "    invoice_month invoice_day order_year order_month order_day  \n",
       "0               1          25       2013           1        25  \n",
       "1               5          13       2013           5        10  \n",
       "2               6          11       2013           6        11  \n",
       "3               1          11       2013           1        11  \n",
       "4               3          21       2013           3        20  \n",
       "..            ...         ...        ...         ...       ...  \n",
       "196             4           8       2013           4         5  \n",
       "197             1          16       2013           1        15  \n",
       "198             1           3       2013           1         3  \n",
       "199             4          17       2013           4        16  \n",
       "200             5          21       2013           5        20  \n",
       "\n",
       "[200 rows x 34 columns]"
      ]
     },
     "execution_count": 514,
     "metadata": {},
     "output_type": "execute_result"
    }
   ],
   "source": [
    "data_2013"
   ]
  },
  {
   "cell_type": "markdown",
   "metadata": {},
   "source": [
    "# Section 2: Exploratory Insights"
   ]
  },
  {
   "cell_type": "code",
   "execution_count": 515,
   "metadata": {},
   "outputs": [],
   "source": [
    "import matplotlib.pyplot as plt\n",
    "import seaborn as sns"
   ]
  },
  {
   "cell_type": "markdown",
   "metadata": {},
   "source": [
    "### 1. Time Gap Analysis Between Order Date and Invoice Date"
   ]
  },
  {
   "cell_type": "code",
   "execution_count": 516,
   "metadata": {},
   "outputs": [
    {
     "data": {
      "image/png": "[encoded data removed]",
      "text/plain": [
       "<Figure size 1000x600 with 1 Axes>"
      ]
     },
     "metadata": {},
     "output_type": "display_data"
    }
   ],
   "source": [
    "# Calculate time gap in days\n",
    "data['Time_Gap_(Days)'] = (data['invoice_day'] - data['order_day'])\n",
    "\n",
    "# Plotting the distribution of time gaps\n",
    "plt.figure(figsize=(10, 6))\n",
    "sns.histplot(data['Time_Gap_(Days)'], bins=30, kde=True)\n",
    "plt.title(\"Distribution of Time Gap Between Order Date and Invoice Date\")\n",
    "plt.xlabel(\"Time Gap (Days)\")\n",
    "plt.ylabel(\"Frequency\")\n",
    "plt.show()\n"
   ]
  },
  {
   "cell_type": "markdown",
   "metadata": {},
   "source": [
    "- Insight: Understanding the time taken between order placement and invoicing is crucial for optimizing cash flow and operational efficiency. As the result show most of orderd items are well manged with in 1 to 2 days. It is helpful for management can enhance operational efficiency, and increase the customer satifaction. "
   ]
  },
  {
   "cell_type": "markdown",
   "metadata": {},
   "source": [
    "### 2. Customer Retention Rate Analysis\n"
   ]
  },
  {
   "cell_type": "code",
   "execution_count": 517,
   "metadata": {},
   "outputs": [
    {
     "data": {
      "text/plain": [
       "customer_code\n",
       "234750001    28562\n",
       "525200100     6037\n",
       "471000829     4453\n",
       "138845501     4136\n",
       "901000100     4032\n",
       "             ...  \n",
       "158500100        1\n",
       "306500200        1\n",
       "253700100        1\n",
       "413100200        1\n",
       "455810100        1\n",
       "Name: count, Length: 3899, dtype: int64"
      ]
     },
     "execution_count": 517,
     "metadata": {},
     "output_type": "execute_result"
    }
   ],
   "source": [
    "# Show Customer count for Retention.\n",
    "customer_count=data['customer_code'].value_counts()\n",
    "customer_count"
   ]
  },
  {
   "cell_type": "code",
   "execution_count": 518,
   "metadata": {},
   "outputs": [
    {
     "data": {
      "text/plain": [
       "customer_code\n",
       "234750001    28562\n",
       "525200100     6037\n",
       "471000829     4453\n",
       "138845501     4136\n",
       "901000100     4032\n",
       "             ...  \n",
       "158500100        1\n",
       "306500200        1\n",
       "253700100        1\n",
       "413100200        1\n",
       "455810100        1\n",
       "Name: count, Length: 3899, dtype: int64"
      ]
     },
     "execution_count": 518,
     "metadata": {},
     "output_type": "execute_result"
    }
   ],
   "source": [
    "customer_count"
   ]
  },
  {
   "cell_type": "code",
   "execution_count": 519,
   "metadata": {},
   "outputs": [],
   "source": [
    "## Define different category based on the purchase number times. \n",
    "data['Rentation_customer']=data['customer_code'].map(lambda x: 'High_frequent'\n",
    "                                                      if customer_count[x] > 500\n",
    "                                                      else 'Moderate'if 2<= customer_count[x] <= 20 else 'Saldom' )"
   ]
  },
  {
   "cell_type": "code",
   "execution_count": 520,
   "metadata": {},
   "outputs": [
    {
     "data": {
      "text/plain": [
       "Rentation_customer\n",
       "High_frequent    545144\n",
       "Saldom           391092\n",
       "Moderate           8257\n",
       "Name: count, dtype: int64"
      ]
     },
     "execution_count": 520,
     "metadata": {},
     "output_type": "execute_result"
    }
   ],
   "source": [
    "data['Rentation_customer'].value_counts()"
   ]
  },
  {
   "cell_type": "code",
   "execution_count": 521,
   "metadata": {},
   "outputs": [
    {
     "data": {
      "image/png": "[encoded data removed]",
      "text/plain": [
       "<Figure size 800x500 with 1 Axes>"
      ]
     },
     "metadata": {},
     "output_type": "display_data"
    }
   ],
   "source": [
    "# Plot retention categories\n",
    "plt.figure(figsize=(8, 5))\n",
    "sns.countplot(x='Rentation_customer', data=data, palette=\"viridis\", hue='bonus_group_code')\n",
    "plt.title(\"Customer Retention Categories\")\n",
    "plt.xlabel(\"Retention Category\")\n",
    "plt.ylabel(\"Number of Customers\")\n",
    "plt.show()"
   ]
  },
  {
   "cell_type": "markdown",
   "metadata": {},
   "source": [
    "- Insights: Graph show that customer retention patterns is very strong in organization 545144 customer are highly relationship with company. It shows that retention patterns indicate a strong, positive relationship with company, while one-time customer might represent lost oppertunities. "
   ]
  },
  {
   "cell_type": "markdown",
   "metadata": {},
   "source": [
    "## 3. Sales Trends Analysis\n"
   ]
  },
  {
   "cell_type": "code",
   "execution_count": 522,
   "metadata": {},
   "outputs": [
    {
     "data": {
      "image/png": "[encoded data removed]",
      "text/plain": [
       "<Figure size 1200x600 with 1 Axes>"
      ]
     },
     "metadata": {},
     "output_type": "display_data"
    }
   ],
   "source": [
    "# Group the sales amount on the basis of month.\n",
    "monthly_sales=data.groupby('order_month')['value_sales'].sum()\n",
    "# Plotting the sales trend\n",
    "plt.figure(figsize=(12, 6))\n",
    "monthly_sales.plot(kind='line', marker='o')\n",
    "plt.title(\"Monthly Sales Trend\")\n",
    "plt.xlabel(\"Order Month\")\n",
    "plt.ylabel(\"Total Sales Amount\")\n",
    "plt.xticks(rotation=45)\n",
    "plt.show()"
   ]
  },
  {
   "cell_type": "code",
   "execution_count": 523,
   "metadata": {},
   "outputs": [
    {
     "data": {
      "text/plain": [
       "394225572.6399999"
      ]
     },
     "execution_count": 523,
     "metadata": {},
     "output_type": "execute_result"
    }
   ],
   "source": [
    "data['value_sales'].sum()"
   ]
  },
  {
   "cell_type": "markdown",
   "metadata": {},
   "source": [
    "- Insights: Graph shows that total sales amount high in mid-year where as low starting and ending of year. Tracking sales trends provides insights into seasonality and high-demand periods, helping management forcast invetory, and allocate resources effectively."
   ]
  },
  {
   "cell_type": "markdown",
   "metadata": {},
   "source": [
    "## 4. Sales Contribution by  level of the business chain."
   ]
  },
  {
   "cell_type": "code",
   "execution_count": 524,
   "metadata": {},
   "outputs": [
    {
     "data": {
      "text/plain": [
       "0           -2.23\n",
       "1            2.48\n",
       "2           53.40\n",
       "3           24.90\n",
       "4           45.00\n",
       "           ...   \n",
       "951172     244.00\n",
       "951173    1185.00\n",
       "951174     232.19\n",
       "951175      31.00\n",
       "951176      37.44\n",
       "Name: value_sales, Length: 944493, dtype: float64"
      ]
     },
     "execution_count": 524,
     "metadata": {},
     "output_type": "execute_result"
    }
   ],
   "source": [
    "data['value_sales']"
   ]
  },
  {
   "cell_type": "code",
   "execution_count": 525,
   "metadata": {},
   "outputs": [
    {
     "data": {
      "image/png": "[encoded data removed]",
      "text/plain": [
       "<Figure size 1200x600 with 1 Axes>"
      ]
     },
     "metadata": {},
     "output_type": "display_data"
    }
   ],
   "source": [
    "# Identify top 10 deal company by sales amount\n",
    "top_products = data.groupby('business_chain_l1_name')['value_sales'].sum().nlargest(10)\n",
    "\n",
    "plt.figure(figsize=(12, 6))\n",
    "top_products.plot(kind='bar', color='salmon')\n",
    "plt.title(\"Distributors by Sales Volume\")\n",
    "plt.xlabel(\"Distributors Name\")\n",
    "plt.ylabel(\"Quantity Sold\")\n",
    "plt.xticks(rotation=45, ha=\"right\")\n",
    "plt.show()\n"
   ]
  },
  {
   "cell_type": "markdown",
   "metadata": {},
   "source": [
    "- Insights: Indentify the top company and understand product demand. knowing which company. Hight return rate with outer company indicate strong realtionship where as low return indicate issues with product qualitu, customer expectation, or product description."
   ]
  },
  {
   "cell_type": "code",
   "execution_count": 526,
   "metadata": {},
   "outputs": [
    {
     "data": {
      "text/plain": [
       "Index(['fiscal_year', 'fiscal_month', 'company_code', 'customer_code',\n",
       "       'customer_district_code', 'item_code', 'business_area_code',\n",
       "       'item_group_code', 'item_type', 'bonus_group_code',\n",
       "       'environment_group_code', 'commission_group_code',\n",
       "       'reporting_classification', 'light_source', 'warehouse_code',\n",
       "       'abc_class_code', 'abc_class_volume', 'business_chain_l1_name',\n",
       "       'salesperson_code', 'order_type_code', 'value_sales', 'value_cost',\n",
       "       'value_quantity', 'value_price_adjustment', 'currency',\n",
       "       'accounting_year', 'accounting_month', 'accounting_day', 'invoice_year',\n",
       "       'invoice_month', 'invoice_day', 'order_year', 'order_month',\n",
       "       'order_day', 'Time_Gap_(Days)', 'Rentation_customer'],\n",
       "      dtype='object')"
      ]
     },
     "execution_count": 526,
     "metadata": {},
     "output_type": "execute_result"
    }
   ],
   "source": [
    "data.columns"
   ]
  },
  {
   "cell_type": "code",
   "execution_count": 527,
   "metadata": {},
   "outputs": [
    {
     "data": {
      "text/plain": [
       "dtype('int64')"
      ]
     },
     "execution_count": 527,
     "metadata": {},
     "output_type": "execute_result"
    }
   ],
   "source": [
    "data['customer_district_code'].dtype"
   ]
  },
  {
   "cell_type": "markdown",
   "metadata": {},
   "source": [
    "## 5. Impact of Currency on Profit Margins\n"
   ]
  },
  {
   "cell_type": "code",
   "execution_count": 528,
   "metadata": {},
   "outputs": [],
   "source": [
    "# Calculate profit margins\n",
    "data['Profit_margin'] = data['value_sales'] / data['value_cost']\n"
   ]
  },
  {
   "cell_type": "code",
   "execution_count": 529,
   "metadata": {},
   "outputs": [
    {
     "data": {
      "text/plain": [
       "0         1.755906\n",
       "1         1.952756\n",
       "2         2.324771\n",
       "3         2.168045\n",
       "4         1.599147\n",
       "            ...   \n",
       "951172    2.311482\n",
       "951173    1.738939\n",
       "951174    3.949380\n",
       "951175    2.349375\n",
       "951176    2.634764\n",
       "Name: Profit_margin, Length: 944493, dtype: float64"
      ]
     },
     "execution_count": 529,
     "metadata": {},
     "output_type": "execute_result"
    }
   ],
   "source": [
    "data['Profit_margin']"
   ]
  },
  {
   "cell_type": "code",
   "execution_count": 530,
   "metadata": {},
   "outputs": [
    {
     "data": {
      "image/png": "[encoded data removed]",
      "text/plain": [
       "<Figure size 1000x600 with 1 Axes>"
      ]
     },
     "metadata": {},
     "output_type": "display_data"
    }
   ],
   "source": [
    "# Calculate profit margins\n",
    "data['Profit_margin'] = data['value_sales'] / data['value_cost']\n",
    "\n",
    "# Box plot of profit margins by currency\n",
    "plt.figure(figsize=(10, 6))\n",
    "sns.boxplot(x='currency', y='Profit_margin', data=data)\n",
    "plt.title(\"Profit Margins by Currency\")\n",
    "plt.xlabel(\"Currency\")\n",
    "plt.ylabel(\"Profit Margin\")\n",
    "plt.show()\n"
   ]
  },
  {
   "cell_type": "markdown",
   "metadata": {},
   "source": [
    "- Insights: Analyzing profit margins by currency provides insights into how international transaction affect profitibilit. most of transcation done in Australin doller, few in AUS and USD. Currency fluctuations or additional transction fees may imact margin."
   ]
  },
  {
   "cell_type": "markdown",
   "metadata": {},
   "source": [
    "# Section 3: Test Sub Sample Differences\n",
    "- Develop two questions that require you to apply a two-sample test for each question and\n",
    "run these tests and derive insights from the data.\n",
    "For each question, provide a clear explanation of what is being tested, how it is being\n",
    "tested, the results obtained, and why these results would be valuable for the management\n",
    "team. (Not you may use the t-test even if using a larger sample than necessary)"
   ]
  },
  {
   "cell_type": "code",
   "execution_count": 531,
   "metadata": {},
   "outputs": [
    {
     "data": {
      "text/html": [
       "<div>\n",
       "<style scoped>\n",
       "    .dataframe tbody tr th:only-of-type {\n",
       "        vertical-align: middle;\n",
       "    }\n",
       "\n",
       "    .dataframe tbody tr th {\n",
       "        vertical-align: top;\n",
       "    }\n",
       "\n",
       "    .dataframe thead th {\n",
       "        text-align: right;\n",
       "    }\n",
       "</style>\n",
       "<table border=\"1\" class=\"dataframe\">\n",
       "  <thead>\n",
       "    <tr style=\"text-align: right;\">\n",
       "      <th></th>\n",
       "      <th>fiscal_year</th>\n",
       "      <th>fiscal_month</th>\n",
       "      <th>company_code</th>\n",
       "      <th>customer_code</th>\n",
       "      <th>customer_district_code</th>\n",
       "      <th>item_code</th>\n",
       "      <th>business_area_code</th>\n",
       "      <th>item_group_code</th>\n",
       "      <th>item_type</th>\n",
       "      <th>bonus_group_code</th>\n",
       "      <th>...</th>\n",
       "      <th>accounting_day</th>\n",
       "      <th>invoice_year</th>\n",
       "      <th>invoice_month</th>\n",
       "      <th>invoice_day</th>\n",
       "      <th>order_year</th>\n",
       "      <th>order_month</th>\n",
       "      <th>order_day</th>\n",
       "      <th>Time_Gap_(Days)</th>\n",
       "      <th>Rentation_customer</th>\n",
       "      <th>Profit_margin</th>\n",
       "    </tr>\n",
       "  </thead>\n",
       "  <tbody>\n",
       "    <tr>\n",
       "      <th>0</th>\n",
       "      <td>2013</td>\n",
       "      <td>7</td>\n",
       "      <td>205</td>\n",
       "      <td>471150112</td>\n",
       "      <td>400</td>\n",
       "      <td>10311</td>\n",
       "      <td>COM</td>\n",
       "      <td>COM90001</td>\n",
       "      <td>5</td>\n",
       "      <td>Trade</td>\n",
       "      <td>...</td>\n",
       "      <td>2013-01-25</td>\n",
       "      <td>2013</td>\n",
       "      <td>1</td>\n",
       "      <td>25</td>\n",
       "      <td>2013</td>\n",
       "      <td>1</td>\n",
       "      <td>25</td>\n",
       "      <td>0</td>\n",
       "      <td>High_frequent</td>\n",
       "      <td>1.755906</td>\n",
       "    </tr>\n",
       "    <tr>\n",
       "      <th>1</th>\n",
       "      <td>2013</td>\n",
       "      <td>11</td>\n",
       "      <td>205</td>\n",
       "      <td>277000801</td>\n",
       "      <td>200</td>\n",
       "      <td>10311</td>\n",
       "      <td>COM</td>\n",
       "      <td>COM90001</td>\n",
       "      <td>5</td>\n",
       "      <td>Trade</td>\n",
       "      <td>...</td>\n",
       "      <td>2013-05-13</td>\n",
       "      <td>2013</td>\n",
       "      <td>5</td>\n",
       "      <td>13</td>\n",
       "      <td>2013</td>\n",
       "      <td>5</td>\n",
       "      <td>10</td>\n",
       "      <td>3</td>\n",
       "      <td>High_frequent</td>\n",
       "      <td>1.952756</td>\n",
       "    </tr>\n",
       "    <tr>\n",
       "      <th>2</th>\n",
       "      <td>2013</td>\n",
       "      <td>12</td>\n",
       "      <td>205</td>\n",
       "      <td>292314701</td>\n",
       "      <td>200</td>\n",
       "      <td>10350</td>\n",
       "      <td>OTH</td>\n",
       "      <td>999</td>\n",
       "      <td>5</td>\n",
       "      <td>Trade</td>\n",
       "      <td>...</td>\n",
       "      <td>2013-06-11</td>\n",
       "      <td>2013</td>\n",
       "      <td>6</td>\n",
       "      <td>11</td>\n",
       "      <td>2013</td>\n",
       "      <td>6</td>\n",
       "      <td>11</td>\n",
       "      <td>0</td>\n",
       "      <td>High_frequent</td>\n",
       "      <td>2.324771</td>\n",
       "    </tr>\n",
       "    <tr>\n",
       "      <th>3</th>\n",
       "      <td>2013</td>\n",
       "      <td>7</td>\n",
       "      <td>205</td>\n",
       "      <td>299480703</td>\n",
       "      <td>200</td>\n",
       "      <td>10350</td>\n",
       "      <td>OTH</td>\n",
       "      <td>999</td>\n",
       "      <td>5</td>\n",
       "      <td>Trade</td>\n",
       "      <td>...</td>\n",
       "      <td>2013-01-11</td>\n",
       "      <td>2013</td>\n",
       "      <td>1</td>\n",
       "      <td>11</td>\n",
       "      <td>2013</td>\n",
       "      <td>1</td>\n",
       "      <td>11</td>\n",
       "      <td>0</td>\n",
       "      <td>High_frequent</td>\n",
       "      <td>2.168045</td>\n",
       "    </tr>\n",
       "    <tr>\n",
       "      <th>4</th>\n",
       "      <td>2013</td>\n",
       "      <td>9</td>\n",
       "      <td>205</td>\n",
       "      <td>471150015</td>\n",
       "      <td>400</td>\n",
       "      <td>10364</td>\n",
       "      <td>COM</td>\n",
       "      <td>COM03002</td>\n",
       "      <td>5</td>\n",
       "      <td>Trade</td>\n",
       "      <td>...</td>\n",
       "      <td>2013-03-21</td>\n",
       "      <td>2013</td>\n",
       "      <td>3</td>\n",
       "      <td>21</td>\n",
       "      <td>2013</td>\n",
       "      <td>3</td>\n",
       "      <td>20</td>\n",
       "      <td>1</td>\n",
       "      <td>High_frequent</td>\n",
       "      <td>1.599147</td>\n",
       "    </tr>\n",
       "  </tbody>\n",
       "</table>\n",
       "<p>5 rows × 37 columns</p>\n",
       "</div>"
      ],
      "text/plain": [
       "   fiscal_year  fiscal_month  company_code customer_code  \\\n",
       "0         2013             7           205     471150112   \n",
       "1         2013            11           205     277000801   \n",
       "2         2013            12           205     292314701   \n",
       "3         2013             7           205     299480703   \n",
       "4         2013             9           205     471150015   \n",
       "\n",
       "   customer_district_code item_code business_area_code  \\\n",
       "0                     400     10311                COM   \n",
       "1                     200     10311                COM   \n",
       "2                     200     10350                OTH   \n",
       "3                     200     10350                OTH   \n",
       "4                     400     10364                COM   \n",
       "\n",
       "                  item_group_code  item_type bonus_group_code  ...  \\\n",
       "0  COM90001                                5            Trade  ...   \n",
       "1  COM90001                                5            Trade  ...   \n",
       "2                             999          5            Trade  ...   \n",
       "3                             999          5            Trade  ...   \n",
       "4  COM03002                                5            Trade  ...   \n",
       "\n",
       "  accounting_day invoice_year invoice_month invoice_day order_year  \\\n",
       "0     2013-01-25         2013             1          25       2013   \n",
       "1     2013-05-13         2013             5          13       2013   \n",
       "2     2013-06-11         2013             6          11       2013   \n",
       "3     2013-01-11         2013             1          11       2013   \n",
       "4     2013-03-21         2013             3          21       2013   \n",
       "\n",
       "  order_month order_day Time_Gap_(Days) Rentation_customer Profit_margin  \n",
       "0           1        25               0      High_frequent      1.755906  \n",
       "1           5        10               3      High_frequent      1.952756  \n",
       "2           6        11               0      High_frequent      2.324771  \n",
       "3           1        11               0      High_frequent      2.168045  \n",
       "4           3        20               1      High_frequent      1.599147  \n",
       "\n",
       "[5 rows x 37 columns]"
      ]
     },
     "execution_count": 531,
     "metadata": {},
     "output_type": "execute_result"
    }
   ],
   "source": [
    "# Load cleaned data.\n",
    "data.head()"
   ]
  },
  {
   "cell_type": "code",
   "execution_count": 532,
   "metadata": {},
   "outputs": [
    {
     "data": {
      "text/html": [
       "<div>\n",
       "<style scoped>\n",
       "    .dataframe tbody tr th:only-of-type {\n",
       "        vertical-align: middle;\n",
       "    }\n",
       "\n",
       "    .dataframe tbody tr th {\n",
       "        vertical-align: top;\n",
       "    }\n",
       "\n",
       "    .dataframe thead th {\n",
       "        text-align: right;\n",
       "    }\n",
       "</style>\n",
       "<table border=\"1\" class=\"dataframe\">\n",
       "  <thead>\n",
       "    <tr style=\"text-align: right;\">\n",
       "      <th></th>\n",
       "      <th>business_area_code</th>\n",
       "    </tr>\n",
       "  </thead>\n",
       "  <tbody>\n",
       "    <tr>\n",
       "      <th>0</th>\n",
       "      <td>COM</td>\n",
       "    </tr>\n",
       "    <tr>\n",
       "      <th>1</th>\n",
       "      <td>COM</td>\n",
       "    </tr>\n",
       "    <tr>\n",
       "      <th>2</th>\n",
       "      <td>OTH</td>\n",
       "    </tr>\n",
       "    <tr>\n",
       "      <th>3</th>\n",
       "      <td>OTH</td>\n",
       "    </tr>\n",
       "    <tr>\n",
       "      <th>4</th>\n",
       "      <td>COM</td>\n",
       "    </tr>\n",
       "  </tbody>\n",
       "</table>\n",
       "</div>"
      ],
      "text/plain": [
       "  business_area_code\n",
       "0                COM\n",
       "1                COM\n",
       "2                OTH\n",
       "3                OTH\n",
       "4                COM"
      ]
     },
     "execution_count": 532,
     "metadata": {},
     "output_type": "execute_result"
    }
   ],
   "source": [
    "data[['business_area_code']][:5]"
   ]
  },
  {
   "cell_type": "markdown",
   "metadata": {},
   "source": [
    "### Question 1: Is there a significant difference in average sales values between two business area , such as \"COM\" and \"OTH\"?"
   ]
  },
  {
   "cell_type": "code",
   "execution_count": 533,
   "metadata": {},
   "outputs": [],
   "source": [
    "from  scipy.stats import ttest_ind"
   ]
  },
  {
   "cell_type": "code",
   "execution_count": 534,
   "metadata": {},
   "outputs": [],
   "source": [
    "# Sales values for bussiness area \"COM\" and \"OTH\"\n",
    "com_sales=data[data['business_area_code']=='COM']['value_sales']\n",
    "oth_sales=data[data['business_area_code']=='OTH']['value_sales']"
   ]
  },
  {
   "cell_type": "code",
   "execution_count": 535,
   "metadata": {},
   "outputs": [],
   "source": [
    "# Perform two-sample t-test for sales values\n",
    "t_stat_sales, p_val_sales = ttest_ind(com_sales, oth_sales, equal_var=False)"
   ]
  },
  {
   "cell_type": "code",
   "execution_count": 536,
   "metadata": {},
   "outputs": [
    {
     "data": {
      "text/plain": [
       "5.71375065737122"
      ]
     },
     "execution_count": 536,
     "metadata": {},
     "output_type": "execute_result"
    }
   ],
   "source": [
    "t_stat_sales"
   ]
  },
  {
   "cell_type": "code",
   "execution_count": 537,
   "metadata": {},
   "outputs": [
    {
     "data": {
      "text/plain": [
       "1.1075863798961674e-08"
      ]
     },
     "execution_count": 537,
     "metadata": {},
     "output_type": "execute_result"
    }
   ],
   "source": [
    "p_val_sales"
   ]
  },
  {
   "cell_type": "markdown",
   "metadata": {},
   "source": [
    "- Interpretation: With a p-value of 1.1075863798961674e-08, there is a statistically significant difference in average sales values between the \"COM\" and \"OTH\" business areas at the 5% significance level. This suggests that sales performance may vary notably between these areas."
   ]
  },
  {
   "cell_type": "markdown",
   "metadata": {},
   "source": [
    "- What is being tested: Aim to determine if the average sales value differ between the \"COM\"(commercial) and other bussiness area. It is essential as understanding whether one business are perfomes better than another in terms of sales. "
   ]
  },
  {
   "cell_type": "markdown",
   "metadata": {},
   "source": [
    "- Value for management: These results offer actionable insights into which business areas high revenue. Guiding management decisions.corrective actions be planned to boost sales. "
   ]
  },
  {
   "cell_type": "code",
   "execution_count": null,
   "metadata": {},
   "outputs": [],
   "source": []
  },
  {
   "cell_type": "markdown",
   "metadata": {},
   "source": [
    "### Question 2: Is there a significant difference in average quantity sold between \"CRR\" and \"NOR\" order types?"
   ]
  },
  {
   "cell_type": "code",
   "execution_count": 538,
   "metadata": {},
   "outputs": [
    {
     "data": {
      "text/plain": [
       "array(['CRR', 'NOR', 'CRD', 'PRO', 'CSH', 'PRD', 'PPO', 'EXP', 'PUP',\n",
       "       'CDG', 'EDI', 'ZCR', 'NOS', 'NOH', 'AES', 'CPR', 'ZCG', 'SPC',\n",
       "       'EDS', 'PMO', 'CRP', 'COP', 'PSA', 'SPL', 'MIN', 'COA', '5TN',\n",
       "       'WDC', 'PPD', 'OBS', 'CSO', 'PME'], dtype=object)"
      ]
     },
     "execution_count": 538,
     "metadata": {},
     "output_type": "execute_result"
    }
   ],
   "source": [
    "data['order_type_code'].unique()"
   ]
  },
  {
   "cell_type": "code",
   "execution_count": 539,
   "metadata": {},
   "outputs": [
    {
     "data": {
      "text/plain": [
       "(-35.036166654086855, 1.6277872090278858e-262)"
      ]
     },
     "execution_count": 539,
     "metadata": {},
     "output_type": "execute_result"
    }
   ],
   "source": [
    "# Question 2: # Filter data for the two order types\n",
    "standard_quantity = data[data['order_type_code'] == 'CRR']['value_quantity']\n",
    "express_quantity = data[data['order_type_code'] == 'NOR']['value_quantity']\n",
    "\n",
    "# Perform two-sample t-test for quantity sold\n",
    "t_stat_quantity, p_val_quantity = ttest_ind(standard_quantity, express_quantity, equal_var=False)\n",
    "\n",
    "(t_stat_quantity, p_val_quantity) "
   ]
  },
  {
   "cell_type": "markdown",
   "metadata": {},
   "source": [
    "- Interpretation: Statistically significant difference in average qualities slod CRR versus NOR orders. for instance. if the average quality is higher for two orders types. "
   ]
  },
  {
   "cell_type": "markdown",
   "metadata": {},
   "source": [
    "- Why it is being tested: By testing difference in quantities slod between CRR and NOR orders. management gains insights into customer purchasing bahaviour based on delivery options. for example if customer tend to buy in bulk CRR orders. "
   ]
  },
  {
   "cell_type": "markdown",
   "metadata": {},
   "source": [
    "- For Management team: Understanding customer preferences. inventory and deand foreasting and strategic adjustments. "
   ]
  },
  {
   "cell_type": "markdown",
   "metadata": {},
   "source": []
  },
  {
   "cell_type": "markdown",
   "metadata": {},
   "source": [
    "# Section 4: Inference\n",
    "- Develop two questions, with each question requiring you to apply multiple regression\n",
    "analysis to examine the correlation between independent variables and a dependent\n",
    "variable of your choice.\n",
    "For each question, explain the method used, present the results, robustness evidence and\n",
    "discuss why the insights are valuable for the management team."
   ]
  },
  {
   "cell_type": "markdown",
   "metadata": {},
   "source": [
    "### Question 1 How do fiscal_year, fiscal_month, item_type, customer district code and business area code impact value_sales?"
   ]
  },
  {
   "cell_type": "code",
   "execution_count": 540,
   "metadata": {},
   "outputs": [
    {
     "data": {
      "text/html": [
       "<div>\n",
       "<style scoped>\n",
       "    .dataframe tbody tr th:only-of-type {\n",
       "        vertical-align: middle;\n",
       "    }\n",
       "\n",
       "    .dataframe tbody tr th {\n",
       "        vertical-align: top;\n",
       "    }\n",
       "\n",
       "    .dataframe thead th {\n",
       "        text-align: right;\n",
       "    }\n",
       "</style>\n",
       "<table border=\"1\" class=\"dataframe\">\n",
       "  <thead>\n",
       "    <tr style=\"text-align: right;\">\n",
       "      <th></th>\n",
       "      <th>business_area_code</th>\n",
       "      <th>value_cost</th>\n",
       "      <th>item_type</th>\n",
       "      <th>customer_district_code</th>\n",
       "      <th>value_sales</th>\n",
       "    </tr>\n",
       "  </thead>\n",
       "  <tbody>\n",
       "    <tr>\n",
       "      <th>0</th>\n",
       "      <td>COM</td>\n",
       "      <td>-1.270</td>\n",
       "      <td>5</td>\n",
       "      <td>400</td>\n",
       "      <td>-2.23</td>\n",
       "    </tr>\n",
       "    <tr>\n",
       "      <th>1</th>\n",
       "      <td>COM</td>\n",
       "      <td>1.270</td>\n",
       "      <td>5</td>\n",
       "      <td>200</td>\n",
       "      <td>2.48</td>\n",
       "    </tr>\n",
       "    <tr>\n",
       "      <th>2</th>\n",
       "      <td>OTH</td>\n",
       "      <td>22.970</td>\n",
       "      <td>5</td>\n",
       "      <td>200</td>\n",
       "      <td>53.40</td>\n",
       "    </tr>\n",
       "    <tr>\n",
       "      <th>3</th>\n",
       "      <td>OTH</td>\n",
       "      <td>11.485</td>\n",
       "      <td>5</td>\n",
       "      <td>200</td>\n",
       "      <td>24.90</td>\n",
       "    </tr>\n",
       "    <tr>\n",
       "      <th>4</th>\n",
       "      <td>COM</td>\n",
       "      <td>28.140</td>\n",
       "      <td>5</td>\n",
       "      <td>400</td>\n",
       "      <td>45.00</td>\n",
       "    </tr>\n",
       "  </tbody>\n",
       "</table>\n",
       "</div>"
      ],
      "text/plain": [
       "  business_area_code  value_cost  item_type  customer_district_code  \\\n",
       "0                COM      -1.270          5                     400   \n",
       "1                COM       1.270          5                     200   \n",
       "2                OTH      22.970          5                     200   \n",
       "3                OTH      11.485          5                     200   \n",
       "4                COM      28.140          5                     400   \n",
       "\n",
       "   value_sales  \n",
       "0        -2.23  \n",
       "1         2.48  \n",
       "2        53.40  \n",
       "3        24.90  \n",
       "4        45.00  "
      ]
     },
     "execution_count": 540,
     "metadata": {},
     "output_type": "execute_result"
    }
   ],
   "source": [
    "df1=data[['business_area_code', 'value_cost','item_type', 'customer_district_code', 'value_sales']]\n",
    "df1.head()"
   ]
  },
  {
   "cell_type": "code",
   "execution_count": 541,
   "metadata": {},
   "outputs": [],
   "source": [
    "# Check if any categorical encoding is necessary by inspecting data types and unique values\n",
    "unique_values_q1 = {\n",
    "    'item_type': data['item_type'].unique(),\n",
    "    'customer_district_code': data['customer_district_code'].unique(),\n",
    "    'business_area_code': data['business_area_code'].unique()\n",
    "}"
   ]
  },
  {
   "cell_type": "code",
   "execution_count": 542,
   "metadata": {},
   "outputs": [
    {
     "data": {
      "text/plain": [
       "{'item_type': array([5, 7, 6, 4, 1, 9, 8, 2, 3]),\n",
       " 'customer_district_code': array([400, 200, 510, 500, 310, 300, 410, 210, 600, 720, 710, 535, 530,\n",
       "        540, 520, 545, 100]),\n",
       " 'business_area_code': array(['COM', 'OTH', 'SUR', 'LMP', 'PEN', 'TRO', 'DLT', 'TAL', 'FLD',\n",
       "        'URB', 'IAE', 'LCP', 'IAI', 'SAE', 'EXL', 'HLB', 'RWY'],\n",
       "       dtype=object)}"
      ]
     },
     "execution_count": 542,
     "metadata": {},
     "output_type": "execute_result"
    }
   ],
   "source": [
    "unique_values_q1"
   ]
  },
  {
   "cell_type": "code",
   "execution_count": 543,
   "metadata": {},
   "outputs": [],
   "source": [
    "from sklearn.preprocessing import LabelEncoder"
   ]
  },
  {
   "cell_type": "code",
   "execution_count": 544,
   "metadata": {},
   "outputs": [],
   "source": [
    "encoding=LabelEncoder()"
   ]
  },
  {
   "cell_type": "code",
   "execution_count": 545,
   "metadata": {},
   "outputs": [
    {
     "name": "stderr",
     "output_type": "stream",
     "text": [
      "/var/folders/4c/smh5_57j6lxd0dns3y7skny80000gn/T/ipykernel_72388/2704657724.py:1: SettingWithCopyWarning: \n",
      "A value is trying to be set on a copy of a slice from a DataFrame.\n",
      "Try using .loc[row_indexer,col_indexer] = value instead\n",
      "\n",
      "See the caveats in the documentation: https://pandas.pydata.org/pandas-docs/stable/user_guide/indexing.html#returning-a-view-versus-a-copy\n",
      "  df1['business_area_code']=encoding.fit_transform(df1['business_area_code'])\n"
     ]
    }
   ],
   "source": [
    "df1['business_area_code']=encoding.fit_transform(df1['business_area_code'])"
   ]
  },
  {
   "cell_type": "code",
   "execution_count": 546,
   "metadata": {},
   "outputs": [
    {
     "data": {
      "text/plain": [
       "business_area_code\n",
       "8     398958\n",
       "13    187901\n",
       "0      98745\n",
       "9      80814\n",
       "1      50689\n",
       "3      43976\n",
       "14     15308\n",
       "15     15305\n",
       "12     14687\n",
       "16     11762\n",
       "11      9414\n",
       "4       8164\n",
       "10      4334\n",
       "7       3113\n",
       "2       1140\n",
       "6        134\n",
       "5         49\n",
       "Name: count, dtype: int64"
      ]
     },
     "execution_count": 546,
     "metadata": {},
     "output_type": "execute_result"
    }
   ],
   "source": [
    "df1['business_area_code'].value_counts()"
   ]
  },
  {
   "cell_type": "markdown",
   "metadata": {},
   "source": [
    "- item_type and customer_district_code appear to be categorical with numeric codes.\n",
    "Since they are already in a numeric format, we can proceed without further encoding.\n"
   ]
  },
  {
   "cell_type": "code",
   "execution_count": 547,
   "metadata": {},
   "outputs": [
    {
     "data": {
      "text/plain": [
       "<Axes: >"
      ]
     },
     "execution_count": 547,
     "metadata": {},
     "output_type": "execute_result"
    },
    {
     "data": {
      "image/png": "[encoded data removed]",
      "text/plain": [
       "<Figure size 640x480 with 2 Axes>"
      ]
     },
     "metadata": {},
     "output_type": "display_data"
    }
   ],
   "source": [
    "sns.heatmap(df1.corr(),annot=True)"
   ]
  },
  {
   "cell_type": "markdown",
   "metadata": {},
   "source": [
    "- value_cost features have strong relationship values_sales, as the value cost of items increases the values of sales also increase. "
   ]
  },
  {
   "cell_type": "code",
   "execution_count": 548,
   "metadata": {},
   "outputs": [
    {
     "data": {
      "text/html": [
       "<div>\n",
       "<style scoped>\n",
       "    .dataframe tbody tr th:only-of-type {\n",
       "        vertical-align: middle;\n",
       "    }\n",
       "\n",
       "    .dataframe tbody tr th {\n",
       "        vertical-align: top;\n",
       "    }\n",
       "\n",
       "    .dataframe thead th {\n",
       "        text-align: right;\n",
       "    }\n",
       "</style>\n",
       "<table border=\"1\" class=\"dataframe\">\n",
       "  <thead>\n",
       "    <tr style=\"text-align: right;\">\n",
       "      <th></th>\n",
       "      <th>business_area_code</th>\n",
       "      <th>value_cost</th>\n",
       "      <th>item_type</th>\n",
       "      <th>customer_district_code</th>\n",
       "      <th>value_sales</th>\n",
       "    </tr>\n",
       "  </thead>\n",
       "  <tbody>\n",
       "    <tr>\n",
       "      <th>count</th>\n",
       "      <td>944493.000000</td>\n",
       "      <td>944493.000000</td>\n",
       "      <td>944493.000000</td>\n",
       "      <td>944493.000000</td>\n",
       "      <td>944493.000000</td>\n",
       "    </tr>\n",
       "    <tr>\n",
       "      <th>mean</th>\n",
       "      <td>8.001449</td>\n",
       "      <td>275.692239</td>\n",
       "      <td>5.895558</td>\n",
       "      <td>384.834663</td>\n",
       "      <td>417.393853</td>\n",
       "    </tr>\n",
       "    <tr>\n",
       "      <th>std</th>\n",
       "      <td>4.273341</td>\n",
       "      <td>2316.809948</td>\n",
       "      <td>1.835870</td>\n",
       "      <td>151.936615</td>\n",
       "      <td>3125.091302</td>\n",
       "    </tr>\n",
       "    <tr>\n",
       "      <th>min</th>\n",
       "      <td>0.000000</td>\n",
       "      <td>-85008.000000</td>\n",
       "      <td>1.000000</td>\n",
       "      <td>100.000000</td>\n",
       "      <td>-793541.980000</td>\n",
       "    </tr>\n",
       "    <tr>\n",
       "      <th>25%</th>\n",
       "      <td>8.000000</td>\n",
       "      <td>9.149000</td>\n",
       "      <td>5.000000</td>\n",
       "      <td>300.000000</td>\n",
       "      <td>23.400000</td>\n",
       "    </tr>\n",
       "    <tr>\n",
       "      <th>50%</th>\n",
       "      <td>8.000000</td>\n",
       "      <td>30.991200</td>\n",
       "      <td>7.000000</td>\n",
       "      <td>400.000000</td>\n",
       "      <td>68.000000</td>\n",
       "    </tr>\n",
       "    <tr>\n",
       "      <th>75%</th>\n",
       "      <td>12.000000</td>\n",
       "      <td>102.560000</td>\n",
       "      <td>7.000000</td>\n",
       "      <td>500.000000</td>\n",
       "      <td>198.440000</td>\n",
       "    </tr>\n",
       "    <tr>\n",
       "      <th>max</th>\n",
       "      <td>16.000000</td>\n",
       "      <td>777669.200000</td>\n",
       "      <td>9.000000</td>\n",
       "      <td>720.000000</td>\n",
       "      <td>793541.980000</td>\n",
       "    </tr>\n",
       "  </tbody>\n",
       "</table>\n",
       "</div>"
      ],
      "text/plain": [
       "       business_area_code     value_cost      item_type  \\\n",
       "count       944493.000000  944493.000000  944493.000000   \n",
       "mean             8.001449     275.692239       5.895558   \n",
       "std              4.273341    2316.809948       1.835870   \n",
       "min              0.000000  -85008.000000       1.000000   \n",
       "25%              8.000000       9.149000       5.000000   \n",
       "50%              8.000000      30.991200       7.000000   \n",
       "75%             12.000000     102.560000       7.000000   \n",
       "max             16.000000  777669.200000       9.000000   \n",
       "\n",
       "       customer_district_code    value_sales  \n",
       "count           944493.000000  944493.000000  \n",
       "mean               384.834663     417.393853  \n",
       "std                151.936615    3125.091302  \n",
       "min                100.000000 -793541.980000  \n",
       "25%                300.000000      23.400000  \n",
       "50%                400.000000      68.000000  \n",
       "75%                500.000000     198.440000  \n",
       "max                720.000000  793541.980000  "
      ]
     },
     "execution_count": 548,
     "metadata": {},
     "output_type": "execute_result"
    }
   ],
   "source": [
    "df1.describe()"
   ]
  },
  {
   "cell_type": "code",
   "execution_count": 549,
   "metadata": {},
   "outputs": [],
   "source": [
    "##  using the sklearn multilinear regression model \n",
    "from sklearn.linear_model import LinearRegression\n",
    "from sklearn.model_selection import train_test_split\n",
    "from sklearn.metrics import adjusted_rand_score\n"
   ]
  },
  {
   "cell_type": "code",
   "execution_count": 550,
   "metadata": {},
   "outputs": [],
   "source": [
    "# seprate dependent and independent features\n",
    "x=df1[['business_area_code','value_cost','item_type','customer_district_code']]\n",
    "y=df1['value_sales']"
   ]
  },
  {
   "cell_type": "code",
   "execution_count": 551,
   "metadata": {},
   "outputs": [],
   "source": [
    "# Spliting train test data\n",
    "x_train, x_test ,y_train, y_test=train_test_split(x, y, test_size=0.25, random_state=42)"
   ]
  },
  {
   "cell_type": "code",
   "execution_count": 552,
   "metadata": {},
   "outputs": [
    {
     "data": {
      "text/plain": [
       "((708369, 4), (236124, 4), (708369,), (236124,))"
      ]
     },
     "execution_count": 552,
     "metadata": {},
     "output_type": "execute_result"
    }
   ],
   "source": [
    "x_train.shape, x_test.shape ,y_train.shape, y_test.shape"
   ]
  },
  {
   "cell_type": "code",
   "execution_count": 553,
   "metadata": {},
   "outputs": [
    {
     "data": {
      "text/html": [
       "<style>#sk-container-id-5 {color: black;}#sk-container-id-5 pre{padding: 0;}#sk-container-id-5 div.sk-toggleable {background-color: white;}#sk-container-id-5 label.sk-toggleable__label {cursor: pointer;display: block;width: 100%;margin-bottom: 0;padding: 0.3em;box-sizing: border-box;text-align: center;}#sk-container-id-5 label.sk-toggleable__label-arrow:before {content: \"▸\";float: left;margin-right: 0.25em;color: #696969;}#sk-container-id-5 label.sk-toggleable__label-arrow:hover:before {color: black;}#sk-container-id-5 div.sk-estimator:hover label.sk-toggleable__label-arrow:before {color: black;}#sk-container-id-5 div.sk-toggleable__content {max-height: 0;max-width: 0;overflow: hidden;text-align: left;background-color: #f0f8ff;}#sk-container-id-5 div.sk-toggleable__content pre {margin: 0.2em;color: black;border-radius: 0.25em;background-color: #f0f8ff;}#sk-container-id-5 input.sk-toggleable__control:checked~div.sk-toggleable__content {max-height: 200px;max-width: 100%;overflow: auto;}#sk-container-id-5 input.sk-toggleable__control:checked~label.sk-toggleable__label-arrow:before {content: \"▾\";}#sk-container-id-5 div.sk-estimator input.sk-toggleable__control:checked~label.sk-toggleable__label {background-color: #d4ebff;}#sk-container-id-5 div.sk-label input.sk-toggleable__control:checked~label.sk-toggleable__label {background-color: #d4ebff;}#sk-container-id-5 input.sk-hidden--visually {border: 0;clip: rect(1px 1px 1px 1px);clip: rect(1px, 1px, 1px, 1px);height: 1px;margin: -1px;overflow: hidden;padding: 0;position: absolute;width: 1px;}#sk-container-id-5 div.sk-estimator {font-family: monospace;background-color: #f0f8ff;border: 1px dotted black;border-radius: 0.25em;box-sizing: border-box;margin-bottom: 0.5em;}#sk-container-id-5 div.sk-estimator:hover {background-color: #d4ebff;}#sk-container-id-5 div.sk-parallel-item::after {content: \"\";width: 100%;border-bottom: 1px solid gray;flex-grow: 1;}#sk-container-id-5 div.sk-label:hover label.sk-toggleable__label {background-color: #d4ebff;}#sk-container-id-5 div.sk-serial::before {content: \"\";position: absolute;border-left: 1px solid gray;box-sizing: border-box;top: 0;bottom: 0;left: 50%;z-index: 0;}#sk-container-id-5 div.sk-serial {display: flex;flex-direction: column;align-items: center;background-color: white;padding-right: 0.2em;padding-left: 0.2em;position: relative;}#sk-container-id-5 div.sk-item {position: relative;z-index: 1;}#sk-container-id-5 div.sk-parallel {display: flex;align-items: stretch;justify-content: center;background-color: white;position: relative;}#sk-container-id-5 div.sk-item::before, #sk-container-id-5 div.sk-parallel-item::before {content: \"\";position: absolute;border-left: 1px solid gray;box-sizing: border-box;top: 0;bottom: 0;left: 50%;z-index: -1;}#sk-container-id-5 div.sk-parallel-item {display: flex;flex-direction: column;z-index: 1;position: relative;background-color: white;}#sk-container-id-5 div.sk-parallel-item:first-child::after {align-self: flex-end;width: 50%;}#sk-container-id-5 div.sk-parallel-item:last-child::after {align-self: flex-start;width: 50%;}#sk-container-id-5 div.sk-parallel-item:only-child::after {width: 0;}#sk-container-id-5 div.sk-dashed-wrapped {border: 1px dashed gray;margin: 0 0.4em 0.5em 0.4em;box-sizing: border-box;padding-bottom: 0.4em;background-color: white;}#sk-container-id-5 div.sk-label label {font-family: monospace;font-weight: bold;display: inline-block;line-height: 1.2em;}#sk-container-id-5 div.sk-label-container {text-align: center;}#sk-container-id-5 div.sk-container {/* jupyter's `normalize.less` sets `[hidden] { display: none; }` but bootstrap.min.css set `[hidden] { display: none !important; }` so we also need the `!important` here to be able to override the default hidden behavior on the sphinx rendered scikit-learn.org. See: https://github.com/scikit-learn/scikit-learn/issues/21755 */display: inline-block !important;position: relative;}#sk-container-id-5 div.sk-text-repr-fallback {display: none;}</style><div id=\"sk-container-id-5\" class=\"sk-top-container\"><div class=\"sk-text-repr-fallback\"><pre>LinearRegression()</pre><b>In a Jupyter environment, please rerun this cell to show the HTML representation or trust the notebook. <br />On GitHub, the HTML representation is unable to render, please try loading this page with nbviewer.org.</b></div><div class=\"sk-container\" hidden><div class=\"sk-item\"><div class=\"sk-estimator sk-toggleable\"><input class=\"sk-toggleable__control sk-hidden--visually\" id=\"sk-estimator-id-13\" type=\"checkbox\" checked><label for=\"sk-estimator-id-13\" class=\"sk-toggleable__label sk-toggleable__label-arrow\">LinearRegression</label><div class=\"sk-toggleable__content\"><pre>LinearRegression()</pre></div></div></div></div></div>"
      ],
      "text/plain": [
       "LinearRegression()"
      ]
     },
     "execution_count": 553,
     "metadata": {},
     "output_type": "execute_result"
    }
   ],
   "source": [
    "# Initialize the regression model\n",
    "model=LinearRegression()\n",
    "model.fit(x_train, y_train)"
   ]
  },
  {
   "cell_type": "code",
   "execution_count": 554,
   "metadata": {},
   "outputs": [
    {
     "data": {
      "text/plain": [
       "array([  0.47728101,   1.23528894, -44.71060049,  -0.28323909])"
      ]
     },
     "execution_count": 554,
     "metadata": {},
     "output_type": "execute_result"
    }
   ],
   "source": [
    "# Coffecient of regression model.\n",
    "model.coef_"
   ]
  },
  {
   "cell_type": "code",
   "execution_count": 555,
   "metadata": {},
   "outputs": [
    {
     "data": {
      "text/plain": [
       "array([1714.19196605,  234.17651882,   75.29595902, ...,  216.17568279,\n",
       "       1031.32742734,  201.30847808])"
      ]
     },
     "execution_count": 555,
     "metadata": {},
     "output_type": "execute_result"
    }
   ],
   "source": [
    "pred=model.predict(x_test)\n",
    "pred"
   ]
  },
  {
   "cell_type": "markdown",
   "metadata": {},
   "source": [
    "### Question 2: What is the relationship between fiscal month, accounting month and item type on value_quantity?\n",
    "- These questions would allow us to explore how variations in time, item types, and customer details affect sales value and quantity."
   ]
  },
  {
   "cell_type": "markdown",
   "metadata": {},
   "source": [
    "- independent variable: value_quantity.\n",
    "- Dependent variable: fiscal month, accounting month, item type."
   ]
  },
  {
   "cell_type": "code",
   "execution_count": 598,
   "metadata": {},
   "outputs": [],
   "source": [
    "df2=data[['fiscal_month', 'accounting_month', 'item_type','value_quantity']]"
   ]
  },
  {
   "cell_type": "code",
   "execution_count": 599,
   "metadata": {},
   "outputs": [
    {
     "data": {
      "text/plain": [
       "<Axes: >"
      ]
     },
     "execution_count": 599,
     "metadata": {},
     "output_type": "execute_result"
    },
    {
     "data": {
      "image/png": "[encoded data removed]",
      "text/plain": [
       "<Figure size 640x480 with 2 Axes>"
      ]
     },
     "metadata": {},
     "output_type": "display_data"
    }
   ],
   "source": [
    "## Finding the correlation between dependent and independent variable\n",
    "sns.heatmap(df2.corr(), annot=True)"
   ]
  },
  {
   "cell_type": "code",
   "execution_count": 600,
   "metadata": {},
   "outputs": [],
   "source": [
    "# sepetating dependent and independent variable.\n",
    "x=data[['fiscal_month', 'accounting_month', 'item_type','value_quantity']]\n",
    "y=data['value_quantity']"
   ]
  },
  {
   "cell_type": "code",
   "execution_count": 601,
   "metadata": {},
   "outputs": [],
   "source": [
    "# Split into train and test data\n",
    "x_train, x_test ,y_train, y_test=train_test_split(x, y, test_size=0.25, random_state=42)"
   ]
  },
  {
   "cell_type": "code",
   "execution_count": 602,
   "metadata": {},
   "outputs": [
    {
     "data": {
      "text/plain": [
       "((708369, 4), (236124, 4), (708369,), (236124,))"
      ]
     },
     "execution_count": 602,
     "metadata": {},
     "output_type": "execute_result"
    }
   ],
   "source": [
    "x_train.shape, x_test.shape ,y_train.shape, y_test.shape"
   ]
  },
  {
   "cell_type": "code",
   "execution_count": 603,
   "metadata": {},
   "outputs": [
    {
     "data": {
      "text/html": [
       "<style>#sk-container-id-7 {color: black;}#sk-container-id-7 pre{padding: 0;}#sk-container-id-7 div.sk-toggleable {background-color: white;}#sk-container-id-7 label.sk-toggleable__label {cursor: pointer;display: block;width: 100%;margin-bottom: 0;padding: 0.3em;box-sizing: border-box;text-align: center;}#sk-container-id-7 label.sk-toggleable__label-arrow:before {content: \"▸\";float: left;margin-right: 0.25em;color: #696969;}#sk-container-id-7 label.sk-toggleable__label-arrow:hover:before {color: black;}#sk-container-id-7 div.sk-estimator:hover label.sk-toggleable__label-arrow:before {color: black;}#sk-container-id-7 div.sk-toggleable__content {max-height: 0;max-width: 0;overflow: hidden;text-align: left;background-color: #f0f8ff;}#sk-container-id-7 div.sk-toggleable__content pre {margin: 0.2em;color: black;border-radius: 0.25em;background-color: #f0f8ff;}#sk-container-id-7 input.sk-toggleable__control:checked~div.sk-toggleable__content {max-height: 200px;max-width: 100%;overflow: auto;}#sk-container-id-7 input.sk-toggleable__control:checked~label.sk-toggleable__label-arrow:before {content: \"▾\";}#sk-container-id-7 div.sk-estimator input.sk-toggleable__control:checked~label.sk-toggleable__label {background-color: #d4ebff;}#sk-container-id-7 div.sk-label input.sk-toggleable__control:checked~label.sk-toggleable__label {background-color: #d4ebff;}#sk-container-id-7 input.sk-hidden--visually {border: 0;clip: rect(1px 1px 1px 1px);clip: rect(1px, 1px, 1px, 1px);height: 1px;margin: -1px;overflow: hidden;padding: 0;position: absolute;width: 1px;}#sk-container-id-7 div.sk-estimator {font-family: monospace;background-color: #f0f8ff;border: 1px dotted black;border-radius: 0.25em;box-sizing: border-box;margin-bottom: 0.5em;}#sk-container-id-7 div.sk-estimator:hover {background-color: #d4ebff;}#sk-container-id-7 div.sk-parallel-item::after {content: \"\";width: 100%;border-bottom: 1px solid gray;flex-grow: 1;}#sk-container-id-7 div.sk-label:hover label.sk-toggleable__label {background-color: #d4ebff;}#sk-container-id-7 div.sk-serial::before {content: \"\";position: absolute;border-left: 1px solid gray;box-sizing: border-box;top: 0;bottom: 0;left: 50%;z-index: 0;}#sk-container-id-7 div.sk-serial {display: flex;flex-direction: column;align-items: center;background-color: white;padding-right: 0.2em;padding-left: 0.2em;position: relative;}#sk-container-id-7 div.sk-item {position: relative;z-index: 1;}#sk-container-id-7 div.sk-parallel {display: flex;align-items: stretch;justify-content: center;background-color: white;position: relative;}#sk-container-id-7 div.sk-item::before, #sk-container-id-7 div.sk-parallel-item::before {content: \"\";position: absolute;border-left: 1px solid gray;box-sizing: border-box;top: 0;bottom: 0;left: 50%;z-index: -1;}#sk-container-id-7 div.sk-parallel-item {display: flex;flex-direction: column;z-index: 1;position: relative;background-color: white;}#sk-container-id-7 div.sk-parallel-item:first-child::after {align-self: flex-end;width: 50%;}#sk-container-id-7 div.sk-parallel-item:last-child::after {align-self: flex-start;width: 50%;}#sk-container-id-7 div.sk-parallel-item:only-child::after {width: 0;}#sk-container-id-7 div.sk-dashed-wrapped {border: 1px dashed gray;margin: 0 0.4em 0.5em 0.4em;box-sizing: border-box;padding-bottom: 0.4em;background-color: white;}#sk-container-id-7 div.sk-label label {font-family: monospace;font-weight: bold;display: inline-block;line-height: 1.2em;}#sk-container-id-7 div.sk-label-container {text-align: center;}#sk-container-id-7 div.sk-container {/* jupyter's `normalize.less` sets `[hidden] { display: none; }` but bootstrap.min.css set `[hidden] { display: none !important; }` so we also need the `!important` here to be able to override the default hidden behavior on the sphinx rendered scikit-learn.org. See: https://github.com/scikit-learn/scikit-learn/issues/21755 */display: inline-block !important;position: relative;}#sk-container-id-7 div.sk-text-repr-fallback {display: none;}</style><div id=\"sk-container-id-7\" class=\"sk-top-container\"><div class=\"sk-text-repr-fallback\"><pre>LinearRegression()</pre><b>In a Jupyter environment, please rerun this cell to show the HTML representation or trust the notebook. <br />On GitHub, the HTML representation is unable to render, please try loading this page with nbviewer.org.</b></div><div class=\"sk-container\" hidden><div class=\"sk-item\"><div class=\"sk-estimator sk-toggleable\"><input class=\"sk-toggleable__control sk-hidden--visually\" id=\"sk-estimator-id-15\" type=\"checkbox\" checked><label for=\"sk-estimator-id-15\" class=\"sk-toggleable__label sk-toggleable__label-arrow\">LinearRegression</label><div class=\"sk-toggleable__content\"><pre>LinearRegression()</pre></div></div></div></div></div>"
      ],
      "text/plain": [
       "LinearRegression()"
      ]
     },
     "execution_count": 603,
     "metadata": {},
     "output_type": "execute_result"
    }
   ],
   "source": [
    "# Initialize the regression model\n",
    "model=LinearRegression()\n",
    "model.fit(x_train, y_train)"
   ]
  },
  {
   "cell_type": "code",
   "execution_count": 604,
   "metadata": {},
   "outputs": [
    {
     "data": {
      "text/plain": [
       "array([-7.40466168e-14,  1.00808251e-13, -1.77999168e-13,  1.00000000e+00])"
      ]
     },
     "execution_count": 604,
     "metadata": {},
     "output_type": "execute_result"
    }
   ],
   "source": [
    "# Coffecient of regression model.\n",
    "model.coef_"
   ]
  },
  {
   "cell_type": "code",
   "execution_count": null,
   "metadata": {},
   "outputs": [],
   "source": []
  },
  {
   "cell_type": "markdown",
   "metadata": {},
   "source": [
    "# Section 5: Prediction Model\n",
    "Develop a prediction model that predicts the sales price in 2014."
   ]
  },
  {
   "cell_type": "code",
   "execution_count": 556,
   "metadata": {},
   "outputs": [
    {
     "data": {
      "text/html": [
       "<div>\n",
       "<style scoped>\n",
       "    .dataframe tbody tr th:only-of-type {\n",
       "        vertical-align: middle;\n",
       "    }\n",
       "\n",
       "    .dataframe tbody tr th {\n",
       "        vertical-align: top;\n",
       "    }\n",
       "\n",
       "    .dataframe thead th {\n",
       "        text-align: right;\n",
       "    }\n",
       "</style>\n",
       "<table border=\"1\" class=\"dataframe\">\n",
       "  <thead>\n",
       "    <tr style=\"text-align: right;\">\n",
       "      <th></th>\n",
       "      <th>fiscal_year</th>\n",
       "      <th>fiscal_month</th>\n",
       "      <th>company_code</th>\n",
       "      <th>customer_code</th>\n",
       "      <th>customer_district_code</th>\n",
       "      <th>item_code</th>\n",
       "      <th>business_area_code</th>\n",
       "      <th>item_group_code</th>\n",
       "      <th>item_type</th>\n",
       "      <th>bonus_group_code</th>\n",
       "      <th>...</th>\n",
       "      <th>accounting_day</th>\n",
       "      <th>invoice_year</th>\n",
       "      <th>invoice_month</th>\n",
       "      <th>invoice_day</th>\n",
       "      <th>order_year</th>\n",
       "      <th>order_month</th>\n",
       "      <th>order_day</th>\n",
       "      <th>Time_Gap_(Days)</th>\n",
       "      <th>Rentation_customer</th>\n",
       "      <th>Profit_margin</th>\n",
       "    </tr>\n",
       "  </thead>\n",
       "  <tbody>\n",
       "    <tr>\n",
       "      <th>478027</th>\n",
       "      <td>2014</td>\n",
       "      <td>5</td>\n",
       "      <td>950</td>\n",
       "      <td>Z47000004</td>\n",
       "      <td>535</td>\n",
       "      <td>0.41150.73-906</td>\n",
       "      <td>COM</td>\n",
       "      <td>COM90001</td>\n",
       "      <td>6</td>\n",
       "      <td>Professional</td>\n",
       "      <td>...</td>\n",
       "      <td>2013-11-20</td>\n",
       "      <td>2013</td>\n",
       "      <td>11</td>\n",
       "      <td>20</td>\n",
       "      <td>2013</td>\n",
       "      <td>10</td>\n",
       "      <td>21</td>\n",
       "      <td>-1</td>\n",
       "      <td>Saldom</td>\n",
       "      <td>1.980591</td>\n",
       "    </tr>\n",
       "    <tr>\n",
       "      <th>478028</th>\n",
       "      <td>2014</td>\n",
       "      <td>3</td>\n",
       "      <td>101</td>\n",
       "      <td>234750001</td>\n",
       "      <td>720</td>\n",
       "      <td>0.79551.44-726</td>\n",
       "      <td>COM</td>\n",
       "      <td>COM90001</td>\n",
       "      <td>6</td>\n",
       "      <td>Professional</td>\n",
       "      <td>...</td>\n",
       "      <td>2013-09-02</td>\n",
       "      <td>2013</td>\n",
       "      <td>9</td>\n",
       "      <td>2</td>\n",
       "      <td>2013</td>\n",
       "      <td>9</td>\n",
       "      <td>2</td>\n",
       "      <td>0</td>\n",
       "      <td>High_frequent</td>\n",
       "      <td>1.028415</td>\n",
       "    </tr>\n",
       "    <tr>\n",
       "      <th>478029</th>\n",
       "      <td>2014</td>\n",
       "      <td>3</td>\n",
       "      <td>101</td>\n",
       "      <td>412300503</td>\n",
       "      <td>400</td>\n",
       "      <td>0.79551.44-726</td>\n",
       "      <td>COM</td>\n",
       "      <td>COM90001</td>\n",
       "      <td>6</td>\n",
       "      <td>Professional</td>\n",
       "      <td>...</td>\n",
       "      <td>2013-09-05</td>\n",
       "      <td>2013</td>\n",
       "      <td>9</td>\n",
       "      <td>5</td>\n",
       "      <td>2013</td>\n",
       "      <td>8</td>\n",
       "      <td>1</td>\n",
       "      <td>4</td>\n",
       "      <td>High_frequent</td>\n",
       "      <td>2.527941</td>\n",
       "    </tr>\n",
       "    <tr>\n",
       "      <th>478030</th>\n",
       "      <td>2014</td>\n",
       "      <td>5</td>\n",
       "      <td>101</td>\n",
       "      <td>234750001</td>\n",
       "      <td>720</td>\n",
       "      <td>1.1000.9.00721D</td>\n",
       "      <td>COM</td>\n",
       "      <td>COM90001</td>\n",
       "      <td>6</td>\n",
       "      <td>Professional</td>\n",
       "      <td>...</td>\n",
       "      <td>2013-11-19</td>\n",
       "      <td>2013</td>\n",
       "      <td>11</td>\n",
       "      <td>19</td>\n",
       "      <td>2013</td>\n",
       "      <td>11</td>\n",
       "      <td>19</td>\n",
       "      <td>0</td>\n",
       "      <td>High_frequent</td>\n",
       "      <td>1.010087</td>\n",
       "    </tr>\n",
       "    <tr>\n",
       "      <th>478031</th>\n",
       "      <td>2014</td>\n",
       "      <td>5</td>\n",
       "      <td>101</td>\n",
       "      <td>471000819</td>\n",
       "      <td>400</td>\n",
       "      <td>1.1000.9.00721D</td>\n",
       "      <td>COM</td>\n",
       "      <td>COM90001</td>\n",
       "      <td>6</td>\n",
       "      <td>Professional</td>\n",
       "      <td>...</td>\n",
       "      <td>2013-11-21</td>\n",
       "      <td>2013</td>\n",
       "      <td>11</td>\n",
       "      <td>21</td>\n",
       "      <td>2013</td>\n",
       "      <td>10</td>\n",
       "      <td>17</td>\n",
       "      <td>4</td>\n",
       "      <td>High_frequent</td>\n",
       "      <td>2.442833</td>\n",
       "    </tr>\n",
       "  </tbody>\n",
       "</table>\n",
       "<p>5 rows × 37 columns</p>\n",
       "</div>"
      ],
      "text/plain": [
       "        fiscal_year  fiscal_month  company_code customer_code  \\\n",
       "478027         2014             5           950    Z47000004    \n",
       "478028         2014             3           101     234750001   \n",
       "478029         2014             3           101     412300503   \n",
       "478030         2014             5           101     234750001   \n",
       "478031         2014             5           101     471000819   \n",
       "\n",
       "        customer_district_code                       item_code  \\\n",
       "478027                     535  0.41150.73-906                   \n",
       "478028                     720  0.79551.44-726                   \n",
       "478029                     400  0.79551.44-726                   \n",
       "478030                     720  1.1000.9.00721D                  \n",
       "478031                     400  1.1000.9.00721D                  \n",
       "\n",
       "       business_area_code                 item_group_code  item_type  \\\n",
       "478027                COM  COM90001                                6   \n",
       "478028                COM  COM90001                                6   \n",
       "478029                COM  COM90001                                6   \n",
       "478030                COM  COM90001                                6   \n",
       "478031                COM  COM90001                                6   \n",
       "\n",
       "       bonus_group_code  ... accounting_day invoice_year invoice_month  \\\n",
       "478027     Professional  ...     2013-11-20         2013            11   \n",
       "478028     Professional  ...     2013-09-02         2013             9   \n",
       "478029     Professional  ...     2013-09-05         2013             9   \n",
       "478030     Professional  ...     2013-11-19         2013            11   \n",
       "478031     Professional  ...     2013-11-21         2013            11   \n",
       "\n",
       "       invoice_day order_year order_month order_day Time_Gap_(Days)  \\\n",
       "478027          20       2013          10        21              -1   \n",
       "478028           2       2013           9         2               0   \n",
       "478029           5       2013           8         1               4   \n",
       "478030          19       2013          11        19               0   \n",
       "478031          21       2013          10        17               4   \n",
       "\n",
       "       Rentation_customer Profit_margin  \n",
       "478027             Saldom      1.980591  \n",
       "478028      High_frequent      1.028415  \n",
       "478029      High_frequent      2.527941  \n",
       "478030      High_frequent      1.010087  \n",
       "478031      High_frequent      2.442833  \n",
       "\n",
       "[5 rows x 37 columns]"
      ]
     },
     "execution_count": 556,
     "metadata": {},
     "output_type": "execute_result"
    }
   ],
   "source": [
    "## Data for sales price in 2014\n",
    "data_14=data[data['fiscal_year']==2014]\n",
    "data_14.head()"
   ]
  },
  {
   "cell_type": "code",
   "execution_count": 557,
   "metadata": {},
   "outputs": [
    {
     "data": {
      "text/plain": [
       "Index(['fiscal_year', 'fiscal_month', 'company_code', 'customer_code',\n",
       "       'customer_district_code', 'item_code', 'business_area_code',\n",
       "       'item_group_code', 'item_type', 'bonus_group_code',\n",
       "       'environment_group_code', 'commission_group_code',\n",
       "       'reporting_classification', 'light_source', 'warehouse_code',\n",
       "       'abc_class_code', 'abc_class_volume', 'business_chain_l1_name',\n",
       "       'salesperson_code', 'order_type_code', 'value_sales', 'value_cost',\n",
       "       'value_quantity', 'value_price_adjustment', 'currency',\n",
       "       'accounting_year', 'accounting_month', 'accounting_day', 'invoice_year',\n",
       "       'invoice_month', 'invoice_day', 'order_year', 'order_month',\n",
       "       'order_day', 'Time_Gap_(Days)', 'Rentation_customer', 'Profit_margin'],\n",
       "      dtype='object')"
      ]
     },
     "execution_count": 557,
     "metadata": {},
     "output_type": "execute_result"
    }
   ],
   "source": [
    "data_14.columns"
   ]
  },
  {
   "cell_type": "code",
   "execution_count": 558,
   "metadata": {},
   "outputs": [],
   "source": [
    "# Numerical column\n",
    "num_col=[col for col in data_14 if data[col].dtype!='O']"
   ]
  },
  {
   "cell_type": "code",
   "execution_count": 559,
   "metadata": {},
   "outputs": [
    {
     "data": {
      "text/plain": [
       "['fiscal_year',\n",
       " 'fiscal_month',\n",
       " 'company_code',\n",
       " 'customer_district_code',\n",
       " 'item_type',\n",
       " 'value_sales',\n",
       " 'value_cost',\n",
       " 'value_quantity',\n",
       " 'value_price_adjustment',\n",
       " 'accounting_year',\n",
       " 'accounting_month',\n",
       " 'invoice_year',\n",
       " 'invoice_month',\n",
       " 'invoice_day',\n",
       " 'order_year',\n",
       " 'order_month',\n",
       " 'order_day',\n",
       " 'Time_Gap_(Days)',\n",
       " 'Profit_margin']"
      ]
     },
     "execution_count": 559,
     "metadata": {},
     "output_type": "execute_result"
    }
   ],
   "source": [
    "num_col"
   ]
  },
  {
   "cell_type": "code",
   "execution_count": 560,
   "metadata": {},
   "outputs": [
    {
     "data": {
      "text/html": [
       "<div>\n",
       "<style scoped>\n",
       "    .dataframe tbody tr th:only-of-type {\n",
       "        vertical-align: middle;\n",
       "    }\n",
       "\n",
       "    .dataframe tbody tr th {\n",
       "        vertical-align: top;\n",
       "    }\n",
       "\n",
       "    .dataframe thead th {\n",
       "        text-align: right;\n",
       "    }\n",
       "</style>\n",
       "<table border=\"1\" class=\"dataframe\">\n",
       "  <thead>\n",
       "    <tr style=\"text-align: right;\">\n",
       "      <th></th>\n",
       "      <th>fiscal_year</th>\n",
       "      <th>fiscal_month</th>\n",
       "      <th>company_code</th>\n",
       "      <th>customer_district_code</th>\n",
       "      <th>item_type</th>\n",
       "      <th>value_sales</th>\n",
       "      <th>value_cost</th>\n",
       "      <th>value_quantity</th>\n",
       "      <th>value_price_adjustment</th>\n",
       "      <th>accounting_year</th>\n",
       "      <th>accounting_month</th>\n",
       "      <th>invoice_year</th>\n",
       "      <th>invoice_month</th>\n",
       "      <th>invoice_day</th>\n",
       "      <th>order_year</th>\n",
       "      <th>order_month</th>\n",
       "      <th>order_day</th>\n",
       "      <th>Time_Gap_(Days)</th>\n",
       "      <th>Profit_margin</th>\n",
       "    </tr>\n",
       "  </thead>\n",
       "  <tbody>\n",
       "    <tr>\n",
       "      <th>fiscal_year</th>\n",
       "      <td>1.000000</td>\n",
       "      <td>-0.890314</td>\n",
       "      <td>0.025914</td>\n",
       "      <td>0.030758</td>\n",
       "      <td>0.010545</td>\n",
       "      <td>0.004587</td>\n",
       "      <td>0.008088</td>\n",
       "      <td>0.008107</td>\n",
       "      <td>0.010302</td>\n",
       "      <td>NaN</td>\n",
       "      <td>0.855298</td>\n",
       "      <td>NaN</td>\n",
       "      <td>0.855298</td>\n",
       "      <td>-0.056412</td>\n",
       "      <td>0.076068</td>\n",
       "      <td>0.831198</td>\n",
       "      <td>-0.044783</td>\n",
       "      <td>-0.019977</td>\n",
       "      <td>0.003353</td>\n",
       "    </tr>\n",
       "    <tr>\n",
       "      <th>fiscal_month</th>\n",
       "      <td>-0.890314</td>\n",
       "      <td>1.000000</td>\n",
       "      <td>-0.016797</td>\n",
       "      <td>-0.025633</td>\n",
       "      <td>-0.004457</td>\n",
       "      <td>-0.002246</td>\n",
       "      <td>-0.005320</td>\n",
       "      <td>-0.007023</td>\n",
       "      <td>-0.019175</td>\n",
       "      <td>NaN</td>\n",
       "      <td>-0.525552</td>\n",
       "      <td>NaN</td>\n",
       "      <td>-0.525552</td>\n",
       "      <td>0.031158</td>\n",
       "      <td>-0.027919</td>\n",
       "      <td>-0.516621</td>\n",
       "      <td>0.021201</td>\n",
       "      <td>0.017023</td>\n",
       "      <td>-0.001497</td>\n",
       "    </tr>\n",
       "    <tr>\n",
       "      <th>company_code</th>\n",
       "      <td>0.025914</td>\n",
       "      <td>-0.016797</td>\n",
       "      <td>1.000000</td>\n",
       "      <td>0.231044</td>\n",
       "      <td>0.118677</td>\n",
       "      <td>-0.042103</td>\n",
       "      <td>-0.040693</td>\n",
       "      <td>-0.007749</td>\n",
       "      <td>-0.014686</td>\n",
       "      <td>NaN</td>\n",
       "      <td>0.029303</td>\n",
       "      <td>NaN</td>\n",
       "      <td>0.029303</td>\n",
       "      <td>0.020781</td>\n",
       "      <td>-0.000668</td>\n",
       "      <td>0.029429</td>\n",
       "      <td>0.006131</td>\n",
       "      <td>0.024927</td>\n",
       "      <td>0.002718</td>\n",
       "    </tr>\n",
       "    <tr>\n",
       "      <th>customer_district_code</th>\n",
       "      <td>0.030758</td>\n",
       "      <td>-0.025633</td>\n",
       "      <td>0.231044</td>\n",
       "      <td>1.000000</td>\n",
       "      <td>-0.158282</td>\n",
       "      <td>0.068519</td>\n",
       "      <td>0.084994</td>\n",
       "      <td>0.050983</td>\n",
       "      <td>-0.022478</td>\n",
       "      <td>NaN</td>\n",
       "      <td>0.028301</td>\n",
       "      <td>NaN</td>\n",
       "      <td>0.028301</td>\n",
       "      <td>0.016730</td>\n",
       "      <td>-0.015951</td>\n",
       "      <td>0.028904</td>\n",
       "      <td>0.012987</td>\n",
       "      <td>0.006422</td>\n",
       "      <td>-0.001950</td>\n",
       "    </tr>\n",
       "    <tr>\n",
       "      <th>item_type</th>\n",
       "      <td>0.010545</td>\n",
       "      <td>-0.004457</td>\n",
       "      <td>0.118677</td>\n",
       "      <td>-0.158282</td>\n",
       "      <td>1.000000</td>\n",
       "      <td>-0.130592</td>\n",
       "      <td>-0.116166</td>\n",
       "      <td>-0.005017</td>\n",
       "      <td>0.022859</td>\n",
       "      <td>NaN</td>\n",
       "      <td>0.014631</td>\n",
       "      <td>NaN</td>\n",
       "      <td>0.014631</td>\n",
       "      <td>-0.009276</td>\n",
       "      <td>0.072060</td>\n",
       "      <td>0.012437</td>\n",
       "      <td>-0.017559</td>\n",
       "      <td>0.013994</td>\n",
       "      <td>0.001263</td>\n",
       "    </tr>\n",
       "    <tr>\n",
       "      <th>value_sales</th>\n",
       "      <td>0.004587</td>\n",
       "      <td>-0.002246</td>\n",
       "      <td>-0.042103</td>\n",
       "      <td>0.068519</td>\n",
       "      <td>-0.130592</td>\n",
       "      <td>1.000000</td>\n",
       "      <td>0.908633</td>\n",
       "      <td>0.177061</td>\n",
       "      <td>-0.033130</td>\n",
       "      <td>NaN</td>\n",
       "      <td>0.006015</td>\n",
       "      <td>NaN</td>\n",
       "      <td>0.006015</td>\n",
       "      <td>0.019430</td>\n",
       "      <td>-0.044479</td>\n",
       "      <td>0.006571</td>\n",
       "      <td>0.018325</td>\n",
       "      <td>0.001965</td>\n",
       "      <td>-0.000185</td>\n",
       "    </tr>\n",
       "    <tr>\n",
       "      <th>value_cost</th>\n",
       "      <td>0.008088</td>\n",
       "      <td>-0.005320</td>\n",
       "      <td>-0.040693</td>\n",
       "      <td>0.084994</td>\n",
       "      <td>-0.116166</td>\n",
       "      <td>0.908633</td>\n",
       "      <td>1.000000</td>\n",
       "      <td>0.220227</td>\n",
       "      <td>-0.017689</td>\n",
       "      <td>NaN</td>\n",
       "      <td>0.009057</td>\n",
       "      <td>NaN</td>\n",
       "      <td>0.009057</td>\n",
       "      <td>0.019124</td>\n",
       "      <td>-0.036128</td>\n",
       "      <td>0.009211</td>\n",
       "      <td>0.018417</td>\n",
       "      <td>0.001289</td>\n",
       "      <td>-0.001029</td>\n",
       "    </tr>\n",
       "    <tr>\n",
       "      <th>value_quantity</th>\n",
       "      <td>0.008107</td>\n",
       "      <td>-0.007023</td>\n",
       "      <td>-0.007749</td>\n",
       "      <td>0.050983</td>\n",
       "      <td>-0.005017</td>\n",
       "      <td>0.177061</td>\n",
       "      <td>0.220227</td>\n",
       "      <td>1.000000</td>\n",
       "      <td>-0.011852</td>\n",
       "      <td>NaN</td>\n",
       "      <td>0.007155</td>\n",
       "      <td>NaN</td>\n",
       "      <td>0.007155</td>\n",
       "      <td>0.003339</td>\n",
       "      <td>0.000991</td>\n",
       "      <td>0.005213</td>\n",
       "      <td>-0.000299</td>\n",
       "      <td>0.006181</td>\n",
       "      <td>-0.000565</td>\n",
       "    </tr>\n",
       "    <tr>\n",
       "      <th>value_price_adjustment</th>\n",
       "      <td>0.010302</td>\n",
       "      <td>-0.019175</td>\n",
       "      <td>-0.014686</td>\n",
       "      <td>-0.022478</td>\n",
       "      <td>0.022859</td>\n",
       "      <td>-0.033130</td>\n",
       "      <td>-0.017689</td>\n",
       "      <td>-0.011852</td>\n",
       "      <td>1.000000</td>\n",
       "      <td>NaN</td>\n",
       "      <td>-0.002571</td>\n",
       "      <td>NaN</td>\n",
       "      <td>-0.002571</td>\n",
       "      <td>0.014894</td>\n",
       "      <td>0.012200</td>\n",
       "      <td>-0.001382</td>\n",
       "      <td>0.020717</td>\n",
       "      <td>-0.009798</td>\n",
       "      <td>NaN</td>\n",
       "    </tr>\n",
       "    <tr>\n",
       "      <th>accounting_year</th>\n",
       "      <td>NaN</td>\n",
       "      <td>NaN</td>\n",
       "      <td>NaN</td>\n",
       "      <td>NaN</td>\n",
       "      <td>NaN</td>\n",
       "      <td>NaN</td>\n",
       "      <td>NaN</td>\n",
       "      <td>NaN</td>\n",
       "      <td>NaN</td>\n",
       "      <td>NaN</td>\n",
       "      <td>NaN</td>\n",
       "      <td>NaN</td>\n",
       "      <td>NaN</td>\n",
       "      <td>NaN</td>\n",
       "      <td>NaN</td>\n",
       "      <td>NaN</td>\n",
       "      <td>NaN</td>\n",
       "      <td>NaN</td>\n",
       "      <td>NaN</td>\n",
       "    </tr>\n",
       "    <tr>\n",
       "      <th>accounting_month</th>\n",
       "      <td>0.855298</td>\n",
       "      <td>-0.525552</td>\n",
       "      <td>0.029303</td>\n",
       "      <td>0.028301</td>\n",
       "      <td>0.014631</td>\n",
       "      <td>0.006015</td>\n",
       "      <td>0.009057</td>\n",
       "      <td>0.007155</td>\n",
       "      <td>-0.002571</td>\n",
       "      <td>NaN</td>\n",
       "      <td>1.000000</td>\n",
       "      <td>NaN</td>\n",
       "      <td>1.000000</td>\n",
       "      <td>-0.069945</td>\n",
       "      <td>0.110355</td>\n",
       "      <td>0.965134</td>\n",
       "      <td>-0.059547</td>\n",
       "      <td>-0.017955</td>\n",
       "      <td>0.004556</td>\n",
       "    </tr>\n",
       "    <tr>\n",
       "      <th>invoice_year</th>\n",
       "      <td>NaN</td>\n",
       "      <td>NaN</td>\n",
       "      <td>NaN</td>\n",
       "      <td>NaN</td>\n",
       "      <td>NaN</td>\n",
       "      <td>NaN</td>\n",
       "      <td>NaN</td>\n",
       "      <td>NaN</td>\n",
       "      <td>NaN</td>\n",
       "      <td>NaN</td>\n",
       "      <td>NaN</td>\n",
       "      <td>NaN</td>\n",
       "      <td>NaN</td>\n",
       "      <td>NaN</td>\n",
       "      <td>NaN</td>\n",
       "      <td>NaN</td>\n",
       "      <td>NaN</td>\n",
       "      <td>NaN</td>\n",
       "      <td>NaN</td>\n",
       "    </tr>\n",
       "    <tr>\n",
       "      <th>invoice_month</th>\n",
       "      <td>0.855298</td>\n",
       "      <td>-0.525552</td>\n",
       "      <td>0.029303</td>\n",
       "      <td>0.028301</td>\n",
       "      <td>0.014631</td>\n",
       "      <td>0.006015</td>\n",
       "      <td>0.009057</td>\n",
       "      <td>0.007155</td>\n",
       "      <td>-0.002571</td>\n",
       "      <td>NaN</td>\n",
       "      <td>1.000000</td>\n",
       "      <td>NaN</td>\n",
       "      <td>1.000000</td>\n",
       "      <td>-0.069945</td>\n",
       "      <td>0.110355</td>\n",
       "      <td>0.965134</td>\n",
       "      <td>-0.059547</td>\n",
       "      <td>-0.017955</td>\n",
       "      <td>0.004556</td>\n",
       "    </tr>\n",
       "    <tr>\n",
       "      <th>invoice_day</th>\n",
       "      <td>-0.056412</td>\n",
       "      <td>0.031158</td>\n",
       "      <td>0.020781</td>\n",
       "      <td>0.016730</td>\n",
       "      <td>-0.009276</td>\n",
       "      <td>0.019430</td>\n",
       "      <td>0.019124</td>\n",
       "      <td>0.003339</td>\n",
       "      <td>0.014894</td>\n",
       "      <td>NaN</td>\n",
       "      <td>-0.069945</td>\n",
       "      <td>NaN</td>\n",
       "      <td>-0.069945</td>\n",
       "      <td>1.000000</td>\n",
       "      <td>-0.000112</td>\n",
       "      <td>-0.058685</td>\n",
       "      <td>0.826426</td>\n",
       "      <td>0.298908</td>\n",
       "      <td>0.000788</td>\n",
       "    </tr>\n",
       "    <tr>\n",
       "      <th>order_year</th>\n",
       "      <td>0.076068</td>\n",
       "      <td>-0.027919</td>\n",
       "      <td>-0.000668</td>\n",
       "      <td>-0.015951</td>\n",
       "      <td>0.072060</td>\n",
       "      <td>-0.044479</td>\n",
       "      <td>-0.036128</td>\n",
       "      <td>0.000991</td>\n",
       "      <td>0.012200</td>\n",
       "      <td>NaN</td>\n",
       "      <td>0.110355</td>\n",
       "      <td>NaN</td>\n",
       "      <td>0.110355</td>\n",
       "      <td>-0.000112</td>\n",
       "      <td>1.000000</td>\n",
       "      <td>-0.114030</td>\n",
       "      <td>-0.011373</td>\n",
       "      <td>0.019085</td>\n",
       "      <td>0.000501</td>\n",
       "    </tr>\n",
       "    <tr>\n",
       "      <th>order_month</th>\n",
       "      <td>0.831198</td>\n",
       "      <td>-0.516621</td>\n",
       "      <td>0.029429</td>\n",
       "      <td>0.028904</td>\n",
       "      <td>0.012437</td>\n",
       "      <td>0.006571</td>\n",
       "      <td>0.009211</td>\n",
       "      <td>0.005213</td>\n",
       "      <td>-0.001382</td>\n",
       "      <td>NaN</td>\n",
       "      <td>0.965134</td>\n",
       "      <td>NaN</td>\n",
       "      <td>0.965134</td>\n",
       "      <td>-0.058685</td>\n",
       "      <td>-0.114030</td>\n",
       "      <td>1.000000</td>\n",
       "      <td>-0.072642</td>\n",
       "      <td>0.023377</td>\n",
       "      <td>0.004166</td>\n",
       "    </tr>\n",
       "    <tr>\n",
       "      <th>order_day</th>\n",
       "      <td>-0.044783</td>\n",
       "      <td>0.021201</td>\n",
       "      <td>0.006131</td>\n",
       "      <td>0.012987</td>\n",
       "      <td>-0.017559</td>\n",
       "      <td>0.018325</td>\n",
       "      <td>0.018417</td>\n",
       "      <td>-0.000299</td>\n",
       "      <td>0.020717</td>\n",
       "      <td>NaN</td>\n",
       "      <td>-0.059547</td>\n",
       "      <td>NaN</td>\n",
       "      <td>-0.059547</td>\n",
       "      <td>0.826426</td>\n",
       "      <td>-0.011373</td>\n",
       "      <td>-0.072642</td>\n",
       "      <td>1.000000</td>\n",
       "      <td>-0.290278</td>\n",
       "      <td>0.000258</td>\n",
       "    </tr>\n",
       "    <tr>\n",
       "      <th>Time_Gap_(Days)</th>\n",
       "      <td>-0.019977</td>\n",
       "      <td>0.017023</td>\n",
       "      <td>0.024927</td>\n",
       "      <td>0.006422</td>\n",
       "      <td>0.013994</td>\n",
       "      <td>0.001965</td>\n",
       "      <td>0.001289</td>\n",
       "      <td>0.006181</td>\n",
       "      <td>-0.009798</td>\n",
       "      <td>NaN</td>\n",
       "      <td>-0.017955</td>\n",
       "      <td>NaN</td>\n",
       "      <td>-0.017955</td>\n",
       "      <td>0.298908</td>\n",
       "      <td>0.019085</td>\n",
       "      <td>0.023377</td>\n",
       "      <td>-0.290278</td>\n",
       "      <td>1.000000</td>\n",
       "      <td>0.000891</td>\n",
       "    </tr>\n",
       "    <tr>\n",
       "      <th>Profit_margin</th>\n",
       "      <td>0.003353</td>\n",
       "      <td>-0.001497</td>\n",
       "      <td>0.002718</td>\n",
       "      <td>-0.001950</td>\n",
       "      <td>0.001263</td>\n",
       "      <td>-0.000185</td>\n",
       "      <td>-0.001029</td>\n",
       "      <td>-0.000565</td>\n",
       "      <td>NaN</td>\n",
       "      <td>NaN</td>\n",
       "      <td>0.004556</td>\n",
       "      <td>NaN</td>\n",
       "      <td>0.004556</td>\n",
       "      <td>0.000788</td>\n",
       "      <td>0.000501</td>\n",
       "      <td>0.004166</td>\n",
       "      <td>0.000258</td>\n",
       "      <td>0.000891</td>\n",
       "      <td>1.000000</td>\n",
       "    </tr>\n",
       "  </tbody>\n",
       "</table>\n",
       "</div>"
      ],
      "text/plain": [
       "                        fiscal_year  fiscal_month  company_code  \\\n",
       "fiscal_year                1.000000     -0.890314      0.025914   \n",
       "fiscal_month              -0.890314      1.000000     -0.016797   \n",
       "company_code               0.025914     -0.016797      1.000000   \n",
       "customer_district_code     0.030758     -0.025633      0.231044   \n",
       "item_type                  0.010545     -0.004457      0.118677   \n",
       "value_sales                0.004587     -0.002246     -0.042103   \n",
       "value_cost                 0.008088     -0.005320     -0.040693   \n",
       "value_quantity             0.008107     -0.007023     -0.007749   \n",
       "value_price_adjustment     0.010302     -0.019175     -0.014686   \n",
       "accounting_year                 NaN           NaN           NaN   \n",
       "accounting_month           0.855298     -0.525552      0.029303   \n",
       "invoice_year                    NaN           NaN           NaN   \n",
       "invoice_month              0.855298     -0.525552      0.029303   \n",
       "invoice_day               -0.056412      0.031158      0.020781   \n",
       "order_year                 0.076068     -0.027919     -0.000668   \n",
       "order_month                0.831198     -0.516621      0.029429   \n",
       "order_day                 -0.044783      0.021201      0.006131   \n",
       "Time_Gap_(Days)           -0.019977      0.017023      0.024927   \n",
       "Profit_margin              0.003353     -0.001497      0.002718   \n",
       "\n",
       "                        customer_district_code  item_type  value_sales  \\\n",
       "fiscal_year                           0.030758   0.010545     0.004587   \n",
       "fiscal_month                         -0.025633  -0.004457    -0.002246   \n",
       "company_code                          0.231044   0.118677    -0.042103   \n",
       "customer_district_code                1.000000  -0.158282     0.068519   \n",
       "item_type                            -0.158282   1.000000    -0.130592   \n",
       "value_sales                           0.068519  -0.130592     1.000000   \n",
       "value_cost                            0.084994  -0.116166     0.908633   \n",
       "value_quantity                        0.050983  -0.005017     0.177061   \n",
       "value_price_adjustment               -0.022478   0.022859    -0.033130   \n",
       "accounting_year                            NaN        NaN          NaN   \n",
       "accounting_month                      0.028301   0.014631     0.006015   \n",
       "invoice_year                               NaN        NaN          NaN   \n",
       "invoice_month                         0.028301   0.014631     0.006015   \n",
       "invoice_day                           0.016730  -0.009276     0.019430   \n",
       "order_year                           -0.015951   0.072060    -0.044479   \n",
       "order_month                           0.028904   0.012437     0.006571   \n",
       "order_day                             0.012987  -0.017559     0.018325   \n",
       "Time_Gap_(Days)                       0.006422   0.013994     0.001965   \n",
       "Profit_margin                        -0.001950   0.001263    -0.000185   \n",
       "\n",
       "                        value_cost  value_quantity  value_price_adjustment  \\\n",
       "fiscal_year               0.008088        0.008107                0.010302   \n",
       "fiscal_month             -0.005320       -0.007023               -0.019175   \n",
       "company_code             -0.040693       -0.007749               -0.014686   \n",
       "customer_district_code    0.084994        0.050983               -0.022478   \n",
       "item_type                -0.116166       -0.005017                0.022859   \n",
       "value_sales               0.908633        0.177061               -0.033130   \n",
       "value_cost                1.000000        0.220227               -0.017689   \n",
       "value_quantity            0.220227        1.000000               -0.011852   \n",
       "value_price_adjustment   -0.017689       -0.011852                1.000000   \n",
       "accounting_year                NaN             NaN                     NaN   \n",
       "accounting_month          0.009057        0.007155               -0.002571   \n",
       "invoice_year                   NaN             NaN                     NaN   \n",
       "invoice_month             0.009057        0.007155               -0.002571   \n",
       "invoice_day               0.019124        0.003339                0.014894   \n",
       "order_year               -0.036128        0.000991                0.012200   \n",
       "order_month               0.009211        0.005213               -0.001382   \n",
       "order_day                 0.018417       -0.000299                0.020717   \n",
       "Time_Gap_(Days)           0.001289        0.006181               -0.009798   \n",
       "Profit_margin            -0.001029       -0.000565                     NaN   \n",
       "\n",
       "                        accounting_year  accounting_month  invoice_year  \\\n",
       "fiscal_year                         NaN          0.855298           NaN   \n",
       "fiscal_month                        NaN         -0.525552           NaN   \n",
       "company_code                        NaN          0.029303           NaN   \n",
       "customer_district_code              NaN          0.028301           NaN   \n",
       "item_type                           NaN          0.014631           NaN   \n",
       "value_sales                         NaN          0.006015           NaN   \n",
       "value_cost                          NaN          0.009057           NaN   \n",
       "value_quantity                      NaN          0.007155           NaN   \n",
       "value_price_adjustment              NaN         -0.002571           NaN   \n",
       "accounting_year                     NaN               NaN           NaN   \n",
       "accounting_month                    NaN          1.000000           NaN   \n",
       "invoice_year                        NaN               NaN           NaN   \n",
       "invoice_month                       NaN          1.000000           NaN   \n",
       "invoice_day                         NaN         -0.069945           NaN   \n",
       "order_year                          NaN          0.110355           NaN   \n",
       "order_month                         NaN          0.965134           NaN   \n",
       "order_day                           NaN         -0.059547           NaN   \n",
       "Time_Gap_(Days)                     NaN         -0.017955           NaN   \n",
       "Profit_margin                       NaN          0.004556           NaN   \n",
       "\n",
       "                        invoice_month  invoice_day  order_year  order_month  \\\n",
       "fiscal_year                  0.855298    -0.056412    0.076068     0.831198   \n",
       "fiscal_month                -0.525552     0.031158   -0.027919    -0.516621   \n",
       "company_code                 0.029303     0.020781   -0.000668     0.029429   \n",
       "customer_district_code       0.028301     0.016730   -0.015951     0.028904   \n",
       "item_type                    0.014631    -0.009276    0.072060     0.012437   \n",
       "value_sales                  0.006015     0.019430   -0.044479     0.006571   \n",
       "value_cost                   0.009057     0.019124   -0.036128     0.009211   \n",
       "value_quantity               0.007155     0.003339    0.000991     0.005213   \n",
       "value_price_adjustment      -0.002571     0.014894    0.012200    -0.001382   \n",
       "accounting_year                   NaN          NaN         NaN          NaN   \n",
       "accounting_month             1.000000    -0.069945    0.110355     0.965134   \n",
       "invoice_year                      NaN          NaN         NaN          NaN   \n",
       "invoice_month                1.000000    -0.069945    0.110355     0.965134   \n",
       "invoice_day                 -0.069945     1.000000   -0.000112    -0.058685   \n",
       "order_year                   0.110355    -0.000112    1.000000    -0.114030   \n",
       "order_month                  0.965134    -0.058685   -0.114030     1.000000   \n",
       "order_day                   -0.059547     0.826426   -0.011373    -0.072642   \n",
       "Time_Gap_(Days)             -0.017955     0.298908    0.019085     0.023377   \n",
       "Profit_margin                0.004556     0.000788    0.000501     0.004166   \n",
       "\n",
       "                        order_day  Time_Gap_(Days)  Profit_margin  \n",
       "fiscal_year             -0.044783        -0.019977       0.003353  \n",
       "fiscal_month             0.021201         0.017023      -0.001497  \n",
       "company_code             0.006131         0.024927       0.002718  \n",
       "customer_district_code   0.012987         0.006422      -0.001950  \n",
       "item_type               -0.017559         0.013994       0.001263  \n",
       "value_sales              0.018325         0.001965      -0.000185  \n",
       "value_cost               0.018417         0.001289      -0.001029  \n",
       "value_quantity          -0.000299         0.006181      -0.000565  \n",
       "value_price_adjustment   0.020717        -0.009798            NaN  \n",
       "accounting_year               NaN              NaN            NaN  \n",
       "accounting_month        -0.059547        -0.017955       0.004556  \n",
       "invoice_year                  NaN              NaN            NaN  \n",
       "invoice_month           -0.059547        -0.017955       0.004556  \n",
       "invoice_day              0.826426         0.298908       0.000788  \n",
       "order_year              -0.011373         0.019085       0.000501  \n",
       "order_month             -0.072642         0.023377       0.004166  \n",
       "order_day                1.000000        -0.290278       0.000258  \n",
       "Time_Gap_(Days)         -0.290278         1.000000       0.000891  \n",
       "Profit_margin            0.000258         0.000891       1.000000  "
      ]
     },
     "execution_count": 560,
     "metadata": {},
     "output_type": "execute_result"
    }
   ],
   "source": [
    "data[num_col].corr()"
   ]
  },
  {
   "cell_type": "code",
   "execution_count": 561,
   "metadata": {},
   "outputs": [],
   "source": [
    "## Column haveing high correlation with value_sales. \n",
    "# Value cost, Value_quantity, "
   ]
  },
  {
   "cell_type": "code",
   "execution_count": 562,
   "metadata": {},
   "outputs": [
    {
     "data": {
      "text/plain": [
       "['customer_code',\n",
       " 'item_code',\n",
       " 'business_area_code',\n",
       " 'item_group_code',\n",
       " 'bonus_group_code',\n",
       " 'environment_group_code',\n",
       " 'commission_group_code',\n",
       " 'reporting_classification',\n",
       " 'light_source',\n",
       " 'warehouse_code',\n",
       " 'abc_class_code',\n",
       " 'abc_class_volume',\n",
       " 'business_chain_l1_name',\n",
       " 'salesperson_code',\n",
       " 'order_type_code',\n",
       " 'currency',\n",
       " 'accounting_day',\n",
       " 'Rentation_customer']"
      ]
     },
     "execution_count": 562,
     "metadata": {},
     "output_type": "execute_result"
    }
   ],
   "source": [
    "[col for col in data_14 if data[col].dtype=='O']"
   ]
  },
  {
   "cell_type": "code",
   "execution_count": 563,
   "metadata": {},
   "outputs": [
    {
     "data": {
      "text/plain": [
       "array(['COM', 'LMP', 'DLT', 'OTH', 'SUR', 'TAL', 'URB', 'IAE', 'FLD',\n",
       "       'PEN', 'HLB', 'IAI', 'TRO', 'LCP', 'RWY', 'EXL', 'SAE'],\n",
       "      dtype=object)"
      ]
     },
     "execution_count": 563,
     "metadata": {},
     "output_type": "execute_result"
    }
   ],
   "source": [
    "data_14['business_area_code'].unique()"
   ]
  },
  {
   "cell_type": "code",
   "execution_count": 564,
   "metadata": {},
   "outputs": [
    {
     "data": {
      "text/plain": [
       "array(['Professional', 'Trade'], dtype=object)"
      ]
     },
     "execution_count": 564,
     "metadata": {},
     "output_type": "execute_result"
    }
   ],
   "source": [
    "data_14['bonus_group_code'].unique()"
   ]
  },
  {
   "cell_type": "code",
   "execution_count": 565,
   "metadata": {},
   "outputs": [
    {
     "data": {
      "text/plain": [
       "array(['P', 'C', 'S', 'R', 'Z', 'I', 'D'], dtype=object)"
      ]
     },
     "execution_count": 565,
     "metadata": {},
     "output_type": "execute_result"
    }
   ],
   "source": [
    "data_14['environment_group_code'].unique()"
   ]
  },
  {
   "cell_type": "code",
   "execution_count": 566,
   "metadata": {},
   "outputs": [
    {
     "data": {
      "text/plain": [
       "array(['NET_SALES', 'REBATE_EXEMPT_EOL', 'REBATE_EXEMPT_TP'], dtype=object)"
      ]
     },
     "execution_count": 566,
     "metadata": {},
     "output_type": "execute_result"
    }
   ],
   "source": [
    "data_14['commission_group_code'].unique()"
   ]
  },
  {
   "cell_type": "code",
   "execution_count": 567,
   "metadata": {},
   "outputs": [
    {
     "data": {
      "text/plain": [
       "array(['Continuing', 'Discontinuing'], dtype=object)"
      ]
     },
     "execution_count": 567,
     "metadata": {},
     "output_type": "execute_result"
    }
   ],
   "source": [
    "data_14['reporting_classification'].unique()"
   ]
  },
  {
   "cell_type": "code",
   "execution_count": 568,
   "metadata": {},
   "outputs": [
    {
     "data": {
      "text/plain": [
       "array(['Accessories', 'Traditional', 'LED'], dtype=object)"
      ]
     },
     "execution_count": 568,
     "metadata": {},
     "output_type": "execute_result"
    }
   ],
   "source": [
    "data_14['light_source'].unique()"
   ]
  },
  {
   "cell_type": "code",
   "execution_count": 569,
   "metadata": {},
   "outputs": [
    {
     "data": {
      "text/plain": [
       "array(['FA2', '1N0', '1Q0', '1N1', '5N2', 'Unk', '5W0', '1V0', '1W0',\n",
       "       '1S1', '1Q1', '1S0', '5S0', '5Q0', '5V0', 'FA1', 'FWE', '5S1',\n",
       "       '5N1', '5Q1', '5T0', 'FW2', 'FWA', '1T0', '1T1', 'EN0', 'BB1',\n",
       "       '1N2', '1N3'], dtype=object)"
      ]
     },
     "execution_count": 569,
     "metadata": {},
     "output_type": "execute_result"
    }
   ],
   "source": [
    "data_14['warehouse_code'].unique()"
   ]
  },
  {
   "cell_type": "code",
   "execution_count": 570,
   "metadata": {},
   "outputs": [
    {
     "data": {
      "text/plain": [
       "array(['NZD', 'AUD', 'AUS', 'USD'], dtype=object)"
      ]
     },
     "execution_count": 570,
     "metadata": {},
     "output_type": "execute_result"
    }
   ],
   "source": [
    "data_14['currency'].unique()"
   ]
  },
  {
   "cell_type": "code",
   "execution_count": 571,
   "metadata": {},
   "outputs": [],
   "source": [
    "from sklearn.preprocessing import LabelEncoder"
   ]
  },
  {
   "cell_type": "code",
   "execution_count": 572,
   "metadata": {},
   "outputs": [
    {
     "name": "stderr",
     "output_type": "stream",
     "text": [
      "/var/folders/4c/smh5_57j6lxd0dns3y7skny80000gn/T/ipykernel_72388/591381407.py:3: SettingWithCopyWarning: \n",
      "A value is trying to be set on a copy of a slice from a DataFrame.\n",
      "Try using .loc[row_indexer,col_indexer] = value instead\n",
      "\n",
      "See the caveats in the documentation: https://pandas.pydata.org/pandas-docs/stable/user_guide/indexing.html#returning-a-view-versus-a-copy\n",
      "  data_14['business_area_code']=encoding.fit_transform(data_14['business_area_code'])\n",
      "/var/folders/4c/smh5_57j6lxd0dns3y7skny80000gn/T/ipykernel_72388/591381407.py:4: SettingWithCopyWarning: \n",
      "A value is trying to be set on a copy of a slice from a DataFrame.\n",
      "Try using .loc[row_indexer,col_indexer] = value instead\n",
      "\n",
      "See the caveats in the documentation: https://pandas.pydata.org/pandas-docs/stable/user_guide/indexing.html#returning-a-view-versus-a-copy\n",
      "  data_14['bonus_group_code']=encoding.fit_transform(data_14['bonus_group_code'])\n",
      "/var/folders/4c/smh5_57j6lxd0dns3y7skny80000gn/T/ipykernel_72388/591381407.py:5: SettingWithCopyWarning: \n",
      "A value is trying to be set on a copy of a slice from a DataFrame.\n",
      "Try using .loc[row_indexer,col_indexer] = value instead\n",
      "\n",
      "See the caveats in the documentation: https://pandas.pydata.org/pandas-docs/stable/user_guide/indexing.html#returning-a-view-versus-a-copy\n",
      "  data_14['environment_group_code']=encoding.fit_transform(data_14['environment_group_code'])\n",
      "/var/folders/4c/smh5_57j6lxd0dns3y7skny80000gn/T/ipykernel_72388/591381407.py:6: SettingWithCopyWarning: \n",
      "A value is trying to be set on a copy of a slice from a DataFrame.\n",
      "Try using .loc[row_indexer,col_indexer] = value instead\n",
      "\n",
      "See the caveats in the documentation: https://pandas.pydata.org/pandas-docs/stable/user_guide/indexing.html#returning-a-view-versus-a-copy\n",
      "  data_14['commission_group_code']=encoding.fit_transform(data_14['commission_group_code'])\n",
      "/var/folders/4c/smh5_57j6lxd0dns3y7skny80000gn/T/ipykernel_72388/591381407.py:7: SettingWithCopyWarning: \n",
      "A value is trying to be set on a copy of a slice from a DataFrame.\n",
      "Try using .loc[row_indexer,col_indexer] = value instead\n",
      "\n",
      "See the caveats in the documentation: https://pandas.pydata.org/pandas-docs/stable/user_guide/indexing.html#returning-a-view-versus-a-copy\n",
      "  data_14['reporting_classification']=encoding.fit_transform(data_14['reporting_classification'])\n",
      "/var/folders/4c/smh5_57j6lxd0dns3y7skny80000gn/T/ipykernel_72388/591381407.py:8: SettingWithCopyWarning: \n",
      "A value is trying to be set on a copy of a slice from a DataFrame.\n",
      "Try using .loc[row_indexer,col_indexer] = value instead\n",
      "\n",
      "See the caveats in the documentation: https://pandas.pydata.org/pandas-docs/stable/user_guide/indexing.html#returning-a-view-versus-a-copy\n",
      "  data_14['light_source']=encoding.fit_transform(data_14['light_source'])\n",
      "/var/folders/4c/smh5_57j6lxd0dns3y7skny80000gn/T/ipykernel_72388/591381407.py:9: SettingWithCopyWarning: \n",
      "A value is trying to be set on a copy of a slice from a DataFrame.\n",
      "Try using .loc[row_indexer,col_indexer] = value instead\n",
      "\n",
      "See the caveats in the documentation: https://pandas.pydata.org/pandas-docs/stable/user_guide/indexing.html#returning-a-view-versus-a-copy\n",
      "  data_14['warehouse_code']=encoding.fit_transform(data_14['warehouse_code'])\n",
      "/var/folders/4c/smh5_57j6lxd0dns3y7skny80000gn/T/ipykernel_72388/591381407.py:10: SettingWithCopyWarning: \n",
      "A value is trying to be set on a copy of a slice from a DataFrame.\n",
      "Try using .loc[row_indexer,col_indexer] = value instead\n",
      "\n",
      "See the caveats in the documentation: https://pandas.pydata.org/pandas-docs/stable/user_guide/indexing.html#returning-a-view-versus-a-copy\n",
      "  data_14['currency']=encoding.fit_transform(data_14['currency'])\n"
     ]
    }
   ],
   "source": [
    "# Encoding technique to convert category data into numberical.\n",
    "encoding=LabelEncoder()\n",
    "data_14['business_area_code']=encoding.fit_transform(data_14['business_area_code'])\n",
    "data_14['bonus_group_code']=encoding.fit_transform(data_14['bonus_group_code'])\n",
    "data_14['environment_group_code']=encoding.fit_transform(data_14['environment_group_code'])\n",
    "data_14['commission_group_code']=encoding.fit_transform(data_14['commission_group_code'])\n",
    "data_14['reporting_classification']=encoding.fit_transform(data_14['reporting_classification'])\n",
    "data_14['light_source']=encoding.fit_transform(data_14['light_source'])\n",
    "data_14['warehouse_code']=encoding.fit_transform(data_14['warehouse_code'])\n",
    "data_14['currency']=encoding.fit_transform(data_14['currency'])"
   ]
  },
  {
   "cell_type": "code",
   "execution_count": 573,
   "metadata": {},
   "outputs": [
    {
     "data": {
      "text/plain": [
       "array([ 0,  8,  1,  9, 13, 14, 16,  5,  3, 10,  4,  6, 15,  7, 11,  2, 12])"
      ]
     },
     "execution_count": 573,
     "metadata": {},
     "output_type": "execute_result"
    }
   ],
   "source": [
    "data_14['business_area_code'].unique()"
   ]
  },
  {
   "cell_type": "code",
   "execution_count": 574,
   "metadata": {},
   "outputs": [
    {
     "data": {
      "text/plain": [
       "array([0, 2, 1])"
      ]
     },
     "execution_count": 574,
     "metadata": {},
     "output_type": "execute_result"
    }
   ],
   "source": [
    "data_14['light_source'].unique()"
   ]
  },
  {
   "cell_type": "code",
   "execution_count": 575,
   "metadata": {},
   "outputs": [],
   "source": [
    "cat_col=['value_sales','business_area_code','bonus_group_code','environment_group_code','commission_group_code','reporting_classification','light_source','warehouse_code','currency']"
   ]
  },
  {
   "cell_type": "code",
   "execution_count": 576,
   "metadata": {},
   "outputs": [
    {
     "data": {
      "text/html": [
       "<div>\n",
       "<style scoped>\n",
       "    .dataframe tbody tr th:only-of-type {\n",
       "        vertical-align: middle;\n",
       "    }\n",
       "\n",
       "    .dataframe tbody tr th {\n",
       "        vertical-align: top;\n",
       "    }\n",
       "\n",
       "    .dataframe thead th {\n",
       "        text-align: right;\n",
       "    }\n",
       "</style>\n",
       "<table border=\"1\" class=\"dataframe\">\n",
       "  <thead>\n",
       "    <tr style=\"text-align: right;\">\n",
       "      <th></th>\n",
       "      <th>value_sales</th>\n",
       "      <th>business_area_code</th>\n",
       "      <th>bonus_group_code</th>\n",
       "      <th>environment_group_code</th>\n",
       "      <th>commission_group_code</th>\n",
       "      <th>reporting_classification</th>\n",
       "      <th>light_source</th>\n",
       "      <th>warehouse_code</th>\n",
       "      <th>currency</th>\n",
       "    </tr>\n",
       "  </thead>\n",
       "  <tbody>\n",
       "    <tr>\n",
       "      <th>value_sales</th>\n",
       "      <td>1.000000</td>\n",
       "      <td>0.008414</td>\n",
       "      <td>-0.126089</td>\n",
       "      <td>0.053323</td>\n",
       "      <td>-0.007152</td>\n",
       "      <td>-0.019605</td>\n",
       "      <td>0.000475</td>\n",
       "      <td>-0.093309</td>\n",
       "      <td>0.023635</td>\n",
       "    </tr>\n",
       "    <tr>\n",
       "      <th>business_area_code</th>\n",
       "      <td>0.008414</td>\n",
       "      <td>1.000000</td>\n",
       "      <td>-0.043254</td>\n",
       "      <td>0.041290</td>\n",
       "      <td>0.038553</td>\n",
       "      <td>0.120505</td>\n",
       "      <td>0.095609</td>\n",
       "      <td>-0.013249</td>\n",
       "      <td>-0.015072</td>\n",
       "    </tr>\n",
       "    <tr>\n",
       "      <th>bonus_group_code</th>\n",
       "      <td>-0.126089</td>\n",
       "      <td>-0.043254</td>\n",
       "      <td>1.000000</td>\n",
       "      <td>-0.342361</td>\n",
       "      <td>0.007832</td>\n",
       "      <td>0.127357</td>\n",
       "      <td>0.121012</td>\n",
       "      <td>0.341331</td>\n",
       "      <td>-0.370175</td>\n",
       "    </tr>\n",
       "    <tr>\n",
       "      <th>environment_group_code</th>\n",
       "      <td>0.053323</td>\n",
       "      <td>0.041290</td>\n",
       "      <td>-0.342361</td>\n",
       "      <td>1.000000</td>\n",
       "      <td>-0.032759</td>\n",
       "      <td>0.027787</td>\n",
       "      <td>0.031590</td>\n",
       "      <td>0.209245</td>\n",
       "      <td>0.463480</td>\n",
       "    </tr>\n",
       "    <tr>\n",
       "      <th>commission_group_code</th>\n",
       "      <td>-0.007152</td>\n",
       "      <td>0.038553</td>\n",
       "      <td>0.007832</td>\n",
       "      <td>-0.032759</td>\n",
       "      <td>1.000000</td>\n",
       "      <td>-0.109940</td>\n",
       "      <td>-0.164763</td>\n",
       "      <td>-0.082790</td>\n",
       "      <td>-0.035514</td>\n",
       "    </tr>\n",
       "    <tr>\n",
       "      <th>reporting_classification</th>\n",
       "      <td>-0.019605</td>\n",
       "      <td>0.120505</td>\n",
       "      <td>0.127357</td>\n",
       "      <td>0.027787</td>\n",
       "      <td>-0.109940</td>\n",
       "      <td>1.000000</td>\n",
       "      <td>0.911984</td>\n",
       "      <td>0.042599</td>\n",
       "      <td>0.081297</td>\n",
       "    </tr>\n",
       "    <tr>\n",
       "      <th>light_source</th>\n",
       "      <td>0.000475</td>\n",
       "      <td>0.095609</td>\n",
       "      <td>0.121012</td>\n",
       "      <td>0.031590</td>\n",
       "      <td>-0.164763</td>\n",
       "      <td>0.911984</td>\n",
       "      <td>1.000000</td>\n",
       "      <td>0.032458</td>\n",
       "      <td>0.067143</td>\n",
       "    </tr>\n",
       "    <tr>\n",
       "      <th>warehouse_code</th>\n",
       "      <td>-0.093309</td>\n",
       "      <td>-0.013249</td>\n",
       "      <td>0.341331</td>\n",
       "      <td>0.209245</td>\n",
       "      <td>-0.082790</td>\n",
       "      <td>0.042599</td>\n",
       "      <td>0.032458</td>\n",
       "      <td>1.000000</td>\n",
       "      <td>0.192304</td>\n",
       "    </tr>\n",
       "    <tr>\n",
       "      <th>currency</th>\n",
       "      <td>0.023635</td>\n",
       "      <td>-0.015072</td>\n",
       "      <td>-0.370175</td>\n",
       "      <td>0.463480</td>\n",
       "      <td>-0.035514</td>\n",
       "      <td>0.081297</td>\n",
       "      <td>0.067143</td>\n",
       "      <td>0.192304</td>\n",
       "      <td>1.000000</td>\n",
       "    </tr>\n",
       "  </tbody>\n",
       "</table>\n",
       "</div>"
      ],
      "text/plain": [
       "                          value_sales  business_area_code  bonus_group_code  \\\n",
       "value_sales                  1.000000            0.008414         -0.126089   \n",
       "business_area_code           0.008414            1.000000         -0.043254   \n",
       "bonus_group_code            -0.126089           -0.043254          1.000000   \n",
       "environment_group_code       0.053323            0.041290         -0.342361   \n",
       "commission_group_code       -0.007152            0.038553          0.007832   \n",
       "reporting_classification    -0.019605            0.120505          0.127357   \n",
       "light_source                 0.000475            0.095609          0.121012   \n",
       "warehouse_code              -0.093309           -0.013249          0.341331   \n",
       "currency                     0.023635           -0.015072         -0.370175   \n",
       "\n",
       "                          environment_group_code  commission_group_code  \\\n",
       "value_sales                             0.053323              -0.007152   \n",
       "business_area_code                      0.041290               0.038553   \n",
       "bonus_group_code                       -0.342361               0.007832   \n",
       "environment_group_code                  1.000000              -0.032759   \n",
       "commission_group_code                  -0.032759               1.000000   \n",
       "reporting_classification                0.027787              -0.109940   \n",
       "light_source                            0.031590              -0.164763   \n",
       "warehouse_code                          0.209245              -0.082790   \n",
       "currency                                0.463480              -0.035514   \n",
       "\n",
       "                          reporting_classification  light_source  \\\n",
       "value_sales                              -0.019605      0.000475   \n",
       "business_area_code                        0.120505      0.095609   \n",
       "bonus_group_code                          0.127357      0.121012   \n",
       "environment_group_code                    0.027787      0.031590   \n",
       "commission_group_code                    -0.109940     -0.164763   \n",
       "reporting_classification                  1.000000      0.911984   \n",
       "light_source                              0.911984      1.000000   \n",
       "warehouse_code                            0.042599      0.032458   \n",
       "currency                                  0.081297      0.067143   \n",
       "\n",
       "                          warehouse_code  currency  \n",
       "value_sales                    -0.093309  0.023635  \n",
       "business_area_code             -0.013249 -0.015072  \n",
       "bonus_group_code                0.341331 -0.370175  \n",
       "environment_group_code          0.209245  0.463480  \n",
       "commission_group_code          -0.082790 -0.035514  \n",
       "reporting_classification        0.042599  0.081297  \n",
       "light_source                    0.032458  0.067143  \n",
       "warehouse_code                  1.000000  0.192304  \n",
       "currency                        0.192304  1.000000  "
      ]
     },
     "execution_count": 576,
     "metadata": {},
     "output_type": "execute_result"
    }
   ],
   "source": [
    "data_14[cat_col].corr()"
   ]
  },
  {
   "cell_type": "markdown",
   "metadata": {},
   "source": [
    "- environment_group_code, currency,Value cost, Value_quantity features have high correation with value of sales. "
   ]
  },
  {
   "cell_type": "code",
   "execution_count": 577,
   "metadata": {},
   "outputs": [],
   "source": [
    "# Seprating dependent and independent variable\n",
    "x=data_14[['environment_group_code','currency','value_cost','value_quantity']]\n",
    "y=data_14['value_sales']"
   ]
  },
  {
   "cell_type": "code",
   "execution_count": 578,
   "metadata": {},
   "outputs": [],
   "source": [
    "# Split into train and test\n",
    "x_train, x_test,y_train, y_test=train_test_split(x, y, test_size=0.25, random_state=42)"
   ]
  },
  {
   "cell_type": "code",
   "execution_count": 579,
   "metadata": {},
   "outputs": [
    {
     "data": {
      "text/plain": [
       "((352692, 4), (117564, 4), (352692,), (117564,))"
      ]
     },
     "execution_count": 579,
     "metadata": {},
     "output_type": "execute_result"
    }
   ],
   "source": [
    "x_train.shape, x_test.shape, y_train.shape, y_test.shape"
   ]
  },
  {
   "cell_type": "code",
   "execution_count": 580,
   "metadata": {},
   "outputs": [],
   "source": [
    "# Decision Tree for Prediction model \n",
    "from sklearn.tree import DecisionTreeRegressor"
   ]
  },
  {
   "cell_type": "code",
   "execution_count": 581,
   "metadata": {},
   "outputs": [],
   "source": [
    "# initialize the model\n",
    "model=DecisionTreeRegressor()"
   ]
  },
  {
   "cell_type": "code",
   "execution_count": 582,
   "metadata": {},
   "outputs": [
    {
     "data": {
      "text/html": [
       "<style>#sk-container-id-6 {color: black;}#sk-container-id-6 pre{padding: 0;}#sk-container-id-6 div.sk-toggleable {background-color: white;}#sk-container-id-6 label.sk-toggleable__label {cursor: pointer;display: block;width: 100%;margin-bottom: 0;padding: 0.3em;box-sizing: border-box;text-align: center;}#sk-container-id-6 label.sk-toggleable__label-arrow:before {content: \"▸\";float: left;margin-right: 0.25em;color: #696969;}#sk-container-id-6 label.sk-toggleable__label-arrow:hover:before {color: black;}#sk-container-id-6 div.sk-estimator:hover label.sk-toggleable__label-arrow:before {color: black;}#sk-container-id-6 div.sk-toggleable__content {max-height: 0;max-width: 0;overflow: hidden;text-align: left;background-color: #f0f8ff;}#sk-container-id-6 div.sk-toggleable__content pre {margin: 0.2em;color: black;border-radius: 0.25em;background-color: #f0f8ff;}#sk-container-id-6 input.sk-toggleable__control:checked~div.sk-toggleable__content {max-height: 200px;max-width: 100%;overflow: auto;}#sk-container-id-6 input.sk-toggleable__control:checked~label.sk-toggleable__label-arrow:before {content: \"▾\";}#sk-container-id-6 div.sk-estimator input.sk-toggleable__control:checked~label.sk-toggleable__label {background-color: #d4ebff;}#sk-container-id-6 div.sk-label input.sk-toggleable__control:checked~label.sk-toggleable__label {background-color: #d4ebff;}#sk-container-id-6 input.sk-hidden--visually {border: 0;clip: rect(1px 1px 1px 1px);clip: rect(1px, 1px, 1px, 1px);height: 1px;margin: -1px;overflow: hidden;padding: 0;position: absolute;width: 1px;}#sk-container-id-6 div.sk-estimator {font-family: monospace;background-color: #f0f8ff;border: 1px dotted black;border-radius: 0.25em;box-sizing: border-box;margin-bottom: 0.5em;}#sk-container-id-6 div.sk-estimator:hover {background-color: #d4ebff;}#sk-container-id-6 div.sk-parallel-item::after {content: \"\";width: 100%;border-bottom: 1px solid gray;flex-grow: 1;}#sk-container-id-6 div.sk-label:hover label.sk-toggleable__label {background-color: #d4ebff;}#sk-container-id-6 div.sk-serial::before {content: \"\";position: absolute;border-left: 1px solid gray;box-sizing: border-box;top: 0;bottom: 0;left: 50%;z-index: 0;}#sk-container-id-6 div.sk-serial {display: flex;flex-direction: column;align-items: center;background-color: white;padding-right: 0.2em;padding-left: 0.2em;position: relative;}#sk-container-id-6 div.sk-item {position: relative;z-index: 1;}#sk-container-id-6 div.sk-parallel {display: flex;align-items: stretch;justify-content: center;background-color: white;position: relative;}#sk-container-id-6 div.sk-item::before, #sk-container-id-6 div.sk-parallel-item::before {content: \"\";position: absolute;border-left: 1px solid gray;box-sizing: border-box;top: 0;bottom: 0;left: 50%;z-index: -1;}#sk-container-id-6 div.sk-parallel-item {display: flex;flex-direction: column;z-index: 1;position: relative;background-color: white;}#sk-container-id-6 div.sk-parallel-item:first-child::after {align-self: flex-end;width: 50%;}#sk-container-id-6 div.sk-parallel-item:last-child::after {align-self: flex-start;width: 50%;}#sk-container-id-6 div.sk-parallel-item:only-child::after {width: 0;}#sk-container-id-6 div.sk-dashed-wrapped {border: 1px dashed gray;margin: 0 0.4em 0.5em 0.4em;box-sizing: border-box;padding-bottom: 0.4em;background-color: white;}#sk-container-id-6 div.sk-label label {font-family: monospace;font-weight: bold;display: inline-block;line-height: 1.2em;}#sk-container-id-6 div.sk-label-container {text-align: center;}#sk-container-id-6 div.sk-container {/* jupyter's `normalize.less` sets `[hidden] { display: none; }` but bootstrap.min.css set `[hidden] { display: none !important; }` so we also need the `!important` here to be able to override the default hidden behavior on the sphinx rendered scikit-learn.org. See: https://github.com/scikit-learn/scikit-learn/issues/21755 */display: inline-block !important;position: relative;}#sk-container-id-6 div.sk-text-repr-fallback {display: none;}</style><div id=\"sk-container-id-6\" class=\"sk-top-container\"><div class=\"sk-text-repr-fallback\"><pre>DecisionTreeRegressor()</pre><b>In a Jupyter environment, please rerun this cell to show the HTML representation or trust the notebook. <br />On GitHub, the HTML representation is unable to render, please try loading this page with nbviewer.org.</b></div><div class=\"sk-container\" hidden><div class=\"sk-item\"><div class=\"sk-estimator sk-toggleable\"><input class=\"sk-toggleable__control sk-hidden--visually\" id=\"sk-estimator-id-14\" type=\"checkbox\" checked><label for=\"sk-estimator-id-14\" class=\"sk-toggleable__label sk-toggleable__label-arrow\">DecisionTreeRegressor</label><div class=\"sk-toggleable__content\"><pre>DecisionTreeRegressor()</pre></div></div></div></div></div>"
      ],
      "text/plain": [
       "DecisionTreeRegressor()"
      ]
     },
     "execution_count": 582,
     "metadata": {},
     "output_type": "execute_result"
    }
   ],
   "source": [
    "model.fit(x_train, y_train)"
   ]
  },
  {
   "cell_type": "code",
   "execution_count": 583,
   "metadata": {},
   "outputs": [],
   "source": [
    "y_pred=model.predict(x_test)"
   ]
  },
  {
   "cell_type": "code",
   "execution_count": 584,
   "metadata": {},
   "outputs": [
    {
     "data": {
      "text/plain": [
       "879828      45.60\n",
       "711320     110.00\n",
       "581406      40.16\n",
       "575021       6.90\n",
       "536798     360.00\n",
       "           ...   \n",
       "663450    1266.00\n",
       "823751    3318.00\n",
       "924576      59.00\n",
       "691432      44.80\n",
       "899939       0.00\n",
       "Name: value_sales, Length: 117564, dtype: float64"
      ]
     },
     "execution_count": 584,
     "metadata": {},
     "output_type": "execute_result"
    }
   ],
   "source": [
    "y_test"
   ]
  },
  {
   "cell_type": "code",
   "execution_count": 585,
   "metadata": {},
   "outputs": [],
   "source": [
    "from sklearn.metrics import mean_absolute_error, mean_squared_error"
   ]
  },
  {
   "cell_type": "code",
   "execution_count": 586,
   "metadata": {},
   "outputs": [
    {
     "data": {
      "text/plain": [
       "1159152.5649441425"
      ]
     },
     "execution_count": 586,
     "metadata": {},
     "output_type": "execute_result"
    }
   ],
   "source": [
    "mse=mean_squared_error(y_test, y_pred)\n",
    "mse"
   ]
  },
  {
   "cell_type": "code",
   "execution_count": 587,
   "metadata": {},
   "outputs": [
    {
     "data": {
      "text/plain": [
       "112.45368060418947"
      ]
     },
     "execution_count": 587,
     "metadata": {},
     "output_type": "execute_result"
    }
   ],
   "source": [
    "mae=mean_absolute_error(y_test, y_pred)\n",
    "mae"
   ]
  },
  {
   "cell_type": "markdown",
   "metadata": {},
   "source": [
    "# Section 6: Higher Likelihood of Losing Customers\n",
    "- Identify features that result in a higher likelihood of losing customers (also known as\n",
    "customer churn analysis)."
   ]
  },
  {
   "cell_type": "code",
   "execution_count": null,
   "metadata": {},
   "outputs": [],
   "source": []
  },
  {
   "cell_type": "markdown",
   "metadata": {},
   "source": [
    "#### To identify factor that may lead to customer churn, we can start by examining potential key features, such as: \n",
    "- Sales and cost Values: trends in sales and cost over time can reveal declining purchases or profitability. \n",
    "- Order and Invoice Dates: A gap decline in ordering frequency might indicate chrin rick.\n",
    "- Customer and product codes : Identifying patterns by specific customers or products may hightlight common churn characteristics. \n",
    "- Customer Sagment and Geography: Columnns like customer_district_code colud helo in demographuc analysis of curn-porn segments."
   ]
  },
  {
   "cell_type": "code",
   "execution_count": 588,
   "metadata": {},
   "outputs": [],
   "source": [
    "# Convert data-related columns to datetime for analysis.\n",
    "data['accounting_day']=pd.to_datetime(data['accounting_day'])\n",
    "data['invoice_date'] = pd.to_datetime(data[['invoice_year', 'invoice_month', 'invoice_day']].astype(str).agg('-'.join, axis=1))\n",
    "data['order_date'] = pd.to_datetime(data[['order_year', 'order_month', 'order_day']].astype(str).agg('-'.join, axis=1))\n"
   ]
  },
  {
   "cell_type": "code",
   "execution_count": 589,
   "metadata": {},
   "outputs": [],
   "source": [
    "# Calculate summary statistics on sales trends by customer to understand purchasing behavior over time.\n",
    "customer_sales_trends=data.groupby('customer_code').agg({\n",
    "    'value_sales':['sum','mean','std'],\n",
    "    'order_date':['min','max','nunique']\n",
    "}).reset_index()"
   ]
  },
  {
   "cell_type": "code",
   "execution_count": 590,
   "metadata": {},
   "outputs": [
    {
     "data": {
      "text/html": [
       "<div>\n",
       "<style scoped>\n",
       "    .dataframe tbody tr th:only-of-type {\n",
       "        vertical-align: middle;\n",
       "    }\n",
       "\n",
       "    .dataframe tbody tr th {\n",
       "        vertical-align: top;\n",
       "    }\n",
       "\n",
       "    .dataframe thead tr th {\n",
       "        text-align: left;\n",
       "    }\n",
       "</style>\n",
       "<table border=\"1\" class=\"dataframe\">\n",
       "  <thead>\n",
       "    <tr>\n",
       "      <th></th>\n",
       "      <th>customer_code</th>\n",
       "      <th colspan=\"3\" halign=\"left\">value_sales</th>\n",
       "      <th colspan=\"3\" halign=\"left\">order_date</th>\n",
       "    </tr>\n",
       "    <tr>\n",
       "      <th></th>\n",
       "      <th></th>\n",
       "      <th>sum</th>\n",
       "      <th>mean</th>\n",
       "      <th>std</th>\n",
       "      <th>min</th>\n",
       "      <th>max</th>\n",
       "      <th>nunique</th>\n",
       "    </tr>\n",
       "  </thead>\n",
       "  <tbody>\n",
       "    <tr>\n",
       "      <th>0</th>\n",
       "      <td>100050100</td>\n",
       "      <td>4800609.68</td>\n",
       "      <td>20170.628908</td>\n",
       "      <td>26341.557956</td>\n",
       "      <td>2013-04-22</td>\n",
       "      <td>2013-12-19</td>\n",
       "      <td>30</td>\n",
       "    </tr>\n",
       "    <tr>\n",
       "      <th>1</th>\n",
       "      <td>100210100</td>\n",
       "      <td>7041.62</td>\n",
       "      <td>782.402222</td>\n",
       "      <td>906.605395</td>\n",
       "      <td>2013-01-22</td>\n",
       "      <td>2013-11-21</td>\n",
       "      <td>6</td>\n",
       "    </tr>\n",
       "    <tr>\n",
       "      <th>2</th>\n",
       "      <td>100230100</td>\n",
       "      <td>448.92</td>\n",
       "      <td>448.920000</td>\n",
       "      <td>NaN</td>\n",
       "      <td>2013-04-09</td>\n",
       "      <td>2013-04-09</td>\n",
       "      <td>1</td>\n",
       "    </tr>\n",
       "    <tr>\n",
       "      <th>3</th>\n",
       "      <td>100250200</td>\n",
       "      <td>11514.85</td>\n",
       "      <td>2302.970000</td>\n",
       "      <td>2095.548297</td>\n",
       "      <td>2013-11-05</td>\n",
       "      <td>2013-11-21</td>\n",
       "      <td>2</td>\n",
       "    </tr>\n",
       "    <tr>\n",
       "      <th>4</th>\n",
       "      <td>100270100</td>\n",
       "      <td>90493.45</td>\n",
       "      <td>1064.628824</td>\n",
       "      <td>3543.885646</td>\n",
       "      <td>2013-03-12</td>\n",
       "      <td>2013-11-19</td>\n",
       "      <td>17</td>\n",
       "    </tr>\n",
       "    <tr>\n",
       "      <th>...</th>\n",
       "      <td>...</td>\n",
       "      <td>...</td>\n",
       "      <td>...</td>\n",
       "      <td>...</td>\n",
       "      <td>...</td>\n",
       "      <td>...</td>\n",
       "      <td>...</td>\n",
       "    </tr>\n",
       "    <tr>\n",
       "      <th>3894</th>\n",
       "      <td>ZI8009301</td>\n",
       "      <td>5470.00</td>\n",
       "      <td>1823.333333</td>\n",
       "      <td>2436.069238</td>\n",
       "      <td>2013-11-29</td>\n",
       "      <td>2013-11-29</td>\n",
       "      <td>1</td>\n",
       "    </tr>\n",
       "    <tr>\n",
       "      <th>3895</th>\n",
       "      <td>ZI8009401</td>\n",
       "      <td>3609.44</td>\n",
       "      <td>721.888000</td>\n",
       "      <td>1147.687162</td>\n",
       "      <td>2013-12-09</td>\n",
       "      <td>2013-12-09</td>\n",
       "      <td>1</td>\n",
       "    </tr>\n",
       "    <tr>\n",
       "      <th>3896</th>\n",
       "      <td>ZI9000101</td>\n",
       "      <td>228007.80</td>\n",
       "      <td>786.233793</td>\n",
       "      <td>1964.862751</td>\n",
       "      <td>2012-10-08</td>\n",
       "      <td>2013-12-09</td>\n",
       "      <td>69</td>\n",
       "    </tr>\n",
       "    <tr>\n",
       "      <th>3897</th>\n",
       "      <td>ZI9000102</td>\n",
       "      <td>833854.26</td>\n",
       "      <td>785.173503</td>\n",
       "      <td>2396.062825</td>\n",
       "      <td>2012-05-30</td>\n",
       "      <td>2013-12-19</td>\n",
       "      <td>110</td>\n",
       "    </tr>\n",
       "    <tr>\n",
       "      <th>3898</th>\n",
       "      <td>ZI9000103</td>\n",
       "      <td>803.25</td>\n",
       "      <td>401.625000</td>\n",
       "      <td>567.983522</td>\n",
       "      <td>2013-01-25</td>\n",
       "      <td>2013-01-25</td>\n",
       "      <td>1</td>\n",
       "    </tr>\n",
       "  </tbody>\n",
       "</table>\n",
       "<p>3899 rows × 7 columns</p>\n",
       "</div>"
      ],
      "text/plain": [
       "     customer_code value_sales                             order_date  \\\n",
       "                           sum          mean           std        min   \n",
       "0        100050100  4800609.68  20170.628908  26341.557956 2013-04-22   \n",
       "1        100210100     7041.62    782.402222    906.605395 2013-01-22   \n",
       "2        100230100      448.92    448.920000           NaN 2013-04-09   \n",
       "3        100250200    11514.85   2302.970000   2095.548297 2013-11-05   \n",
       "4        100270100    90493.45   1064.628824   3543.885646 2013-03-12   \n",
       "...            ...         ...           ...           ...        ...   \n",
       "3894    ZI8009301      5470.00   1823.333333   2436.069238 2013-11-29   \n",
       "3895    ZI8009401      3609.44    721.888000   1147.687162 2013-12-09   \n",
       "3896    ZI9000101    228007.80    786.233793   1964.862751 2012-10-08   \n",
       "3897    ZI9000102    833854.26    785.173503   2396.062825 2012-05-30   \n",
       "3898    ZI9000103       803.25    401.625000    567.983522 2013-01-25   \n",
       "\n",
       "                         \n",
       "            max nunique  \n",
       "0    2013-12-19      30  \n",
       "1    2013-11-21       6  \n",
       "2    2013-04-09       1  \n",
       "3    2013-11-21       2  \n",
       "4    2013-11-19      17  \n",
       "...         ...     ...  \n",
       "3894 2013-11-29       1  \n",
       "3895 2013-12-09       1  \n",
       "3896 2013-12-09      69  \n",
       "3897 2013-12-19     110  \n",
       "3898 2013-01-25       1  \n",
       "\n",
       "[3899 rows x 7 columns]"
      ]
     },
     "execution_count": 590,
     "metadata": {},
     "output_type": "execute_result"
    }
   ],
   "source": [
    "customer_sales_trends"
   ]
  },
  {
   "cell_type": "markdown",
   "metadata": {},
   "source": [
    "## This analysis gives us the following insights for each customer. \n",
    "- Total Sales, Average Sales, and Sales Standard Deviation: we can use these metrics to sport customers with declining or highly variable sepending, which may indicate churn risk. \n",
    "\n",
    "- First and Last Order Dates: These date provides insights into customer activity and can help identify those who have no made recent purchases.\n",
    "- Order Frequency: Lower order frequencies may indicate that a customer is becoming less engaged."
   ]
  }
 ],
 "metadata": {
  "kernelspec": {
   "display_name": "Python 3",
   "language": "python",
   "name": "python3"
  },
  "language_info": {
   "codemirror_mode": {
    "name": "ipython",
    "version": 3
   },
   "file_extension": ".py",
   "mimetype": "text/x-python",
   "name": "python",
   "nbconvert_exporter": "python",
   "pygments_lexer": "ipython3",
   "version": "3.8.18"
  }
 },
 "nbformat": 4,
 "nbformat_minor": 2
}
